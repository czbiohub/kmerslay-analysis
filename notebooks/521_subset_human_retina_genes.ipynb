{
 "cells": [
  {
   "cell_type": "code",
   "execution_count": 1,
   "metadata": {},
   "outputs": [],
   "source": [
    "import glob\n",
    "\n",
    "import pandas as pd\n",
    "import screed"
   ]
  },
  {
   "cell_type": "markdown",
   "metadata": {},
   "source": [
    "# Change to Quest for Orthologs 2019 data directory"
   ]
  },
  {
   "cell_type": "code",
   "execution_count": null,
   "metadata": {},
   "outputs": [],
   "source": [
    "cd ~/data_sm/kmer-hashing/quest-for-orthologs/data/2019/"
   ]
  },
  {
   "cell_type": "code",
   "execution_count": 14,
   "metadata": {},
   "outputs": [
    {
     "name": "stdout",
     "output_type": "stream",
     "text": [
      "total 2.6G\n",
      "drwxr-xr-x 5 olga root 4.0K Jan 10 08:02 \u001b[0m\u001b[01;34m.\u001b[0m/\n",
      "drwxr-xr-x 3 olga root 4.0K Dec 25 17:48 \u001b[01;34m..\u001b[0m/\n",
      "drwxr-xr-x 5 olga czb  4.0K Dec 26 19:44 \u001b[01;34mArchaea\u001b[0m/\n",
      "drwxr-xr-x 5 olga czb   16K Dec 26 19:44 \u001b[01;34mBacteria\u001b[0m/\n",
      "drwxr-xr-x 8 olga czb   32K Jan  8 08:13 \u001b[01;34mEukaryota\u001b[0m/\n",
      "-rw-r--r-- 1 olga czb  754K Jan 10 07:50 human_transcription_factors_with_uniprot_ids.csv\n",
      "-rw-r--r-- 1 olga czb   68K Jan 10 07:50 \u001b[01;31mhuman_transcription_factors_with_uniprot_ids.csv.gz\u001b[0m\n",
      "-rw-r--r-- 1 olga czb  133K Jan 10 07:50 human_transcription_factors_with_uniprot_ids.parquet\n",
      "-rw-r--r-- 1 olga czb   64M Jan 10 07:43 opisthokont_not_human_transcription_factors_ensembl_compara.csv\n",
      "-rw-r--r-- 1 olga czb  1.8M Jan 10 08:02 \u001b[01;31mopisthokont_not_human_transcription_factors_ensembl_compara_merged_uniprot.csv.gz\u001b[0m\u001b[K\n",
      "-rw-r--r-- 1 olga czb  2.2M Jan 10 08:02 opisthokont_not_human_transcription_factors_ensembl_compara_merged_uniprot.parquet\n",
      "-rw-r--r-- 1 olga czb   12M Jan 10 07:43 opisthokont_not_human_transcription_factors_ensembl_compara.parquet\n",
      "-rw-r--r-- 1 olga czb   661 Jan  8 17:33 qfo_human_vs_opisthokont_tfs.sh\n",
      "-rw-r--r-- 1 olga czb  2.6G Dec 25 18:46 \u001b[01;31mQfO_release_2019_04.tar.gz\u001b[0m\n",
      "-rw-r--r-- 1 olga czb   18K May 10  2019 README\n",
      "-rw-r--r-- 1 olga czb   12K Jan  8 07:47 species_metadata.csv\n"
     ]
    }
   ],
   "source": [
    "ls -lha"
   ]
  },
  {
   "cell_type": "markdown",
   "metadata": {},
   "source": [
    "# Get Retinal gene names from "
   ]
  },
  {
   "cell_type": "code",
   "execution_count": 15,
   "metadata": {},
   "outputs": [
    {
     "data": {
      "text/plain": [
       "['RHO',\n",
       " 'GNAT1',\n",
       " 'GNB1',\n",
       " 'GNGT1',\n",
       " 'OPN1SW',\n",
       " 'OPN1MW',\n",
       " 'GNAT2',\n",
       " 'GNB3',\n",
       " 'GNGT2',\n",
       " 'PDE6A',\n",
       " 'PDE6B',\n",
       " 'PDE6G',\n",
       " 'PDE6C',\n",
       " 'PDE6H',\n",
       " 'SAG',\n",
       " 'ARR3',\n",
       " 'RGS9',\n",
       " 'CNGA1',\n",
       " 'CNGA3',\n",
       " 'CNGB1',\n",
       " 'CNGB3',\n",
       " 'GRK1',\n",
       " 'GRK7',\n",
       " 'RCVRN',\n",
       " 'GUCA1A',\n",
       " 'GUCA1B',\n",
       " 'GUCY2D',\n",
       " 'GUCY2F']"
      ]
     },
     "execution_count": 15,
     "metadata": {},
     "output_type": "execute_result"
    }
   ],
   "source": [
    "s = 'RHO\tGNAT1\tGNB1\tGNGT1\tOPN1SW\tOPN1MW\tGNAT2\tGNB3\tGNGT2 PDE6A\tPDE6B\tPDE6G PDE6C\tPDE6H SAG\tARR3\tRGS9 CNGA1\tCNGA3\tCNGB1\tCNGB3 GRK1\tGRK7\tRCVRN\tGUCA1A\t\tGUCA1B\tGUCY2D\tGUCY2F'\n",
    "genes = s.split()\n",
    "genes"
   ]
  },
  {
   "cell_type": "code",
   "execution_count": 3,
   "metadata": {},
   "outputs": [
    {
     "data": {
      "text/plain": [
       "28"
      ]
     },
     "execution_count": 3,
     "metadata": {},
     "output_type": "execute_result"
    }
   ],
   "source": [
    "len(genes)"
   ]
  },
  {
   "cell_type": "code",
   "execution_count": 6,
   "metadata": {},
   "outputs": [
    {
     "data": {
      "text/plain": [
       "'Content-Type application/json had a problem with your request.\\r\\n***ERROR***\\r\\nJSON text must be an object or array (but found number, string, true, false or null, use allow_nonref to allow this) at /nfs/public/release/ensweb/live/rest/www_98/.plenv/versions/5.26.1/lib/perl5/site_perl/5.26.1/Catalyst/Action/Deserialize/JSON.pm line 35, <$fh> line 1.\\n'"
      ]
     },
     "execution_count": 6,
     "metadata": {},
     "output_type": "execute_result"
    }
   ],
   "source": [
    "ensembl_rest.lookup_post(genes[0])"
   ]
  },
  {
   "cell_type": "code",
   "execution_count": 9,
   "metadata": {},
   "outputs": [
    {
     "data": {
      "text/plain": [
       "['P08100',\n",
       " 'P11488',\n",
       " 'P62873',\n",
       " 'P63211',\n",
       " 'P03999',\n",
       " 'P04001',\n",
       " 'P19087',\n",
       " 'P16520',\n",
       " 'O14610',\n",
       " 'PDE6A',\n",
       " 'PDE6B',\n",
       " 'PDE6G',\n",
       " 'PDE6C',\n",
       " 'PDE6H',\n",
       " 'P10523',\n",
       " 'P36575',\n",
       " 'O75916',\n",
       " 'P29973',\n",
       " 'Q16281',\n",
       " 'Q14028',\n",
       " 'B9EK43',\n",
       " 'Q15835',\n",
       " 'Q8WTQ7',\n",
       " 'P35243',\n",
       " 'P43080',\n",
       " 'Q9UMX6',\n",
       " 'Q02846',\n",
       " 'P51841']"
      ]
     },
     "execution_count": 9,
     "metadata": {},
     "output_type": "execute_result"
    }
   ],
   "source": [
    "s = 'P08100\tP11488\tP62873\tP63211\tP03999\tP04001\tP19087\tP16520\tO14610 PDE6A\tPDE6B\tPDE6G PDE6C\tPDE6H P10523\tP36575\tO75916\t\t\tP29973\tQ16281\tQ14028\tB9EK43 Q15835\tQ8WTQ7\tP35243\tP43080\t\tQ9UMX6\tQ02846\tP51841'\n",
    "uniprot_ids = [x for x in s.split() if x]\n",
    "uniprot_ids"
   ]
  },
  {
   "cell_type": "code",
   "execution_count": 16,
   "metadata": {},
   "outputs": [
    {
     "name": "stdout",
     "output_type": "stream",
     "text": [
      "(28, 2)\n"
     ]
    },
    {
     "data": {
      "text/html": [
       "<div>\n",
       "<style scoped>\n",
       "    .dataframe tbody tr th:only-of-type {\n",
       "        vertical-align: middle;\n",
       "    }\n",
       "\n",
       "    .dataframe tbody tr th {\n",
       "        vertical-align: top;\n",
       "    }\n",
       "\n",
       "    .dataframe thead th {\n",
       "        text-align: right;\n",
       "    }\n",
       "</style>\n",
       "<table border=\"1\" class=\"dataframe\">\n",
       "  <thead>\n",
       "    <tr style=\"text-align: right;\">\n",
       "      <th></th>\n",
       "      <th>symbol</th>\n",
       "      <th>uniprot_id</th>\n",
       "    </tr>\n",
       "  </thead>\n",
       "  <tbody>\n",
       "    <tr>\n",
       "      <th>0</th>\n",
       "      <td>RHO</td>\n",
       "      <td>P08100</td>\n",
       "    </tr>\n",
       "    <tr>\n",
       "      <th>1</th>\n",
       "      <td>GNAT1</td>\n",
       "      <td>P11488</td>\n",
       "    </tr>\n",
       "    <tr>\n",
       "      <th>2</th>\n",
       "      <td>GNB1</td>\n",
       "      <td>P62873</td>\n",
       "    </tr>\n",
       "    <tr>\n",
       "      <th>3</th>\n",
       "      <td>GNGT1</td>\n",
       "      <td>P63211</td>\n",
       "    </tr>\n",
       "    <tr>\n",
       "      <th>4</th>\n",
       "      <td>OPN1SW</td>\n",
       "      <td>P03999</td>\n",
       "    </tr>\n",
       "  </tbody>\n",
       "</table>\n",
       "</div>"
      ],
      "text/plain": [
       "   symbol uniprot_id\n",
       "0     RHO     P08100\n",
       "1   GNAT1     P11488\n",
       "2    GNB1     P62873\n",
       "3   GNGT1     P63211\n",
       "4  OPN1SW     P03999"
      ]
     },
     "execution_count": 16,
     "metadata": {},
     "output_type": "execute_result"
    }
   ],
   "source": [
    "genes_to_ids = pd.DataFrame({'symbol': genes, 'uniprot_id': uniprot_ids})\n",
    "print(genes_to_ids.shape)\n",
    "genes_to_ids.head()"
   ]
  },
  {
   "cell_type": "code",
   "execution_count": 17,
   "metadata": {},
   "outputs": [
    {
     "data": {
      "text/html": [
       "<div>\n",
       "<style scoped>\n",
       "    .dataframe tbody tr th:only-of-type {\n",
       "        vertical-align: middle;\n",
       "    }\n",
       "\n",
       "    .dataframe tbody tr th {\n",
       "        vertical-align: top;\n",
       "    }\n",
       "\n",
       "    .dataframe thead th {\n",
       "        text-align: right;\n",
       "    }\n",
       "</style>\n",
       "<table border=\"1\" class=\"dataframe\">\n",
       "  <thead>\n",
       "    <tr style=\"text-align: right;\">\n",
       "      <th></th>\n",
       "      <th>symbol</th>\n",
       "      <th>uniprot_id</th>\n",
       "    </tr>\n",
       "  </thead>\n",
       "  <tbody>\n",
       "    <tr>\n",
       "      <th>23</th>\n",
       "      <td>RCVRN</td>\n",
       "      <td>P35243</td>\n",
       "    </tr>\n",
       "    <tr>\n",
       "      <th>24</th>\n",
       "      <td>GUCA1A</td>\n",
       "      <td>P43080</td>\n",
       "    </tr>\n",
       "    <tr>\n",
       "      <th>25</th>\n",
       "      <td>GUCA1B</td>\n",
       "      <td>Q9UMX6</td>\n",
       "    </tr>\n",
       "    <tr>\n",
       "      <th>26</th>\n",
       "      <td>GUCY2D</td>\n",
       "      <td>Q02846</td>\n",
       "    </tr>\n",
       "    <tr>\n",
       "      <th>27</th>\n",
       "      <td>GUCY2F</td>\n",
       "      <td>P51841</td>\n",
       "    </tr>\n",
       "  </tbody>\n",
       "</table>\n",
       "</div>"
      ],
      "text/plain": [
       "    symbol uniprot_id\n",
       "23   RCVRN     P35243\n",
       "24  GUCA1A     P43080\n",
       "25  GUCA1B     Q9UMX6\n",
       "26  GUCY2D     Q02846\n",
       "27  GUCY2F     P51841"
      ]
     },
     "execution_count": 17,
     "metadata": {},
     "output_type": "execute_result"
    }
   ],
   "source": [
    "genes_to_ids.tail()"
   ]
  },
  {
   "cell_type": "code",
   "execution_count": 10,
   "metadata": {},
   "outputs": [
    {
     "data": {
      "text/plain": [
       "28"
      ]
     },
     "execution_count": 10,
     "metadata": {},
     "output_type": "execute_result"
    }
   ],
   "source": [
    "len(uniprot_ids)"
   ]
  },
  {
   "cell_type": "markdown",
   "metadata": {},
   "source": [
    "# Read Human ID mapping"
   ]
  },
  {
   "cell_type": "code",
   "execution_count": 21,
   "metadata": {},
   "outputs": [
    {
     "name": "stdout",
     "output_type": "stream",
     "text": [
      "(2668934, 3)\n"
     ]
    },
    {
     "data": {
      "text/html": [
       "<div>\n",
       "<style scoped>\n",
       "    .dataframe tbody tr th:only-of-type {\n",
       "        vertical-align: middle;\n",
       "    }\n",
       "\n",
       "    .dataframe tbody tr th {\n",
       "        vertical-align: top;\n",
       "    }\n",
       "\n",
       "    .dataframe thead th {\n",
       "        text-align: right;\n",
       "    }\n",
       "</style>\n",
       "<table border=\"1\" class=\"dataframe\">\n",
       "  <thead>\n",
       "    <tr style=\"text-align: right;\">\n",
       "      <th></th>\n",
       "      <th>source__uniprot_id</th>\n",
       "      <th>source__id_type</th>\n",
       "      <th>source__db_id</th>\n",
       "    </tr>\n",
       "  </thead>\n",
       "  <tbody>\n",
       "    <tr>\n",
       "      <th>0</th>\n",
       "      <td>P62258-2</td>\n",
       "      <td>UniParc</td>\n",
       "      <td>UPI00001E6021</td>\n",
       "    </tr>\n",
       "    <tr>\n",
       "      <th>1</th>\n",
       "      <td>P62258-2</td>\n",
       "      <td>Ensembl_TRS</td>\n",
       "      <td>ENST00000571732</td>\n",
       "    </tr>\n",
       "    <tr>\n",
       "      <th>2</th>\n",
       "      <td>P62258-2</td>\n",
       "      <td>Ensembl_PRO</td>\n",
       "      <td>ENSP00000461762</td>\n",
       "    </tr>\n",
       "    <tr>\n",
       "      <th>3</th>\n",
       "      <td>P62258-2</td>\n",
       "      <td>Ensembl_TRS</td>\n",
       "      <td>ENST00000616643</td>\n",
       "    </tr>\n",
       "    <tr>\n",
       "      <th>4</th>\n",
       "      <td>P62258-2</td>\n",
       "      <td>Ensembl_PRO</td>\n",
       "      <td>ENSP00000481059</td>\n",
       "    </tr>\n",
       "  </tbody>\n",
       "</table>\n",
       "</div>"
      ],
      "text/plain": [
       "  source__uniprot_id source__id_type    source__db_id\n",
       "0           P62258-2         UniParc    UPI00001E6021\n",
       "1           P62258-2     Ensembl_TRS  ENST00000571732\n",
       "2           P62258-2     Ensembl_PRO  ENSP00000461762\n",
       "3           P62258-2     Ensembl_TRS  ENST00000616643\n",
       "4           P62258-2     Ensembl_PRO  ENSP00000481059"
      ]
     },
     "execution_count": 21,
     "metadata": {},
     "output_type": "execute_result"
    }
   ],
   "source": [
    "human_id_mapping = pd.read_csv('Eukaryota/UP000005640_9606.idmapping', sep='\\t', header=None, names=['uniprot_id', 'id_type', 'db_id'])\n",
    "human_id_mapping.columns = 'source__' + human_id_mapping.columns\n",
    "print(human_id_mapping.shape)\n",
    "human_id_mapping.head()"
   ]
  },
  {
   "cell_type": "markdown",
   "metadata": {},
   "source": [
    "## Extract with gene symbsls"
   ]
  },
  {
   "cell_type": "code",
   "execution_count": 23,
   "metadata": {},
   "outputs": [
    {
     "name": "stdout",
     "output_type": "stream",
     "text": [
      "(194, 3)\n"
     ]
    },
    {
     "data": {
      "text/html": [
       "<div>\n",
       "<style scoped>\n",
       "    .dataframe tbody tr th:only-of-type {\n",
       "        vertical-align: middle;\n",
       "    }\n",
       "\n",
       "    .dataframe tbody tr th {\n",
       "        vertical-align: top;\n",
       "    }\n",
       "\n",
       "    .dataframe thead th {\n",
       "        text-align: right;\n",
       "    }\n",
       "</style>\n",
       "<table border=\"1\" class=\"dataframe\">\n",
       "  <thead>\n",
       "    <tr style=\"text-align: right;\">\n",
       "      <th></th>\n",
       "      <th>source__uniprot_id</th>\n",
       "      <th>source__id_type</th>\n",
       "      <th>source__db_id</th>\n",
       "    </tr>\n",
       "  </thead>\n",
       "  <tbody>\n",
       "    <tr>\n",
       "      <th>73832</th>\n",
       "      <td>P29973</td>\n",
       "      <td>Gene_Name</td>\n",
       "      <td>CNGA1</td>\n",
       "    </tr>\n",
       "    <tr>\n",
       "      <th>73873</th>\n",
       "      <td>P29973</td>\n",
       "      <td>BioMuta</td>\n",
       "      <td>CNGA1</td>\n",
       "    </tr>\n",
       "    <tr>\n",
       "      <th>73884</th>\n",
       "      <td>P29973</td>\n",
       "      <td>GeneCards</td>\n",
       "      <td>CNGA1</td>\n",
       "    </tr>\n",
       "    <tr>\n",
       "      <th>73885</th>\n",
       "      <td>P29973</td>\n",
       "      <td>GeneReviews</td>\n",
       "      <td>CNGA1</td>\n",
       "    </tr>\n",
       "    <tr>\n",
       "      <th>73904</th>\n",
       "      <td>P29973</td>\n",
       "      <td>ChiTaRS</td>\n",
       "      <td>CNGA1</td>\n",
       "    </tr>\n",
       "  </tbody>\n",
       "</table>\n",
       "</div>"
      ],
      "text/plain": [
       "      source__uniprot_id source__id_type source__db_id\n",
       "73832             P29973       Gene_Name         CNGA1\n",
       "73873             P29973         BioMuta         CNGA1\n",
       "73884             P29973       GeneCards         CNGA1\n",
       "73885             P29973     GeneReviews         CNGA1\n",
       "73904             P29973         ChiTaRS         CNGA1"
      ]
     },
     "execution_count": 23,
     "metadata": {},
     "output_type": "execute_result"
    }
   ],
   "source": [
    "human_id_mapping_symbols = human_id_mapping.query('source__db_id in @genes_to_ids.symbol')\n",
    "print(human_id_mapping_symbols.shape)\n",
    "human_id_mapping_symbols.head()"
   ]
  },
  {
   "cell_type": "code",
   "execution_count": 25,
   "metadata": {},
   "outputs": [
    {
     "data": {
      "text/plain": [
       "28"
      ]
     },
     "execution_count": 25,
     "metadata": {},
     "output_type": "execute_result"
    }
   ],
   "source": [
    "human_id_mapping_symbols.source__db_id.nunique()"
   ]
  },
  {
   "cell_type": "markdown",
   "metadata": {},
   "source": [
    "## Extract with uniprot ids"
   ]
  },
  {
   "cell_type": "code",
   "execution_count": 24,
   "metadata": {},
   "outputs": [
    {
     "name": "stdout",
     "output_type": "stream",
     "text": [
      "(47, 3)\n"
     ]
    },
    {
     "data": {
      "text/html": [
       "<div>\n",
       "<style scoped>\n",
       "    .dataframe tbody tr th:only-of-type {\n",
       "        vertical-align: middle;\n",
       "    }\n",
       "\n",
       "    .dataframe tbody tr th {\n",
       "        vertical-align: top;\n",
       "    }\n",
       "\n",
       "    .dataframe thead th {\n",
       "        text-align: right;\n",
       "    }\n",
       "</style>\n",
       "<table border=\"1\" class=\"dataframe\">\n",
       "  <thead>\n",
       "    <tr style=\"text-align: right;\">\n",
       "      <th></th>\n",
       "      <th>source__uniprot_id</th>\n",
       "      <th>source__id_type</th>\n",
       "      <th>source__db_id</th>\n",
       "    </tr>\n",
       "  </thead>\n",
       "  <tbody>\n",
       "    <tr>\n",
       "      <th>73869</th>\n",
       "      <td>P29973</td>\n",
       "      <td>MINT</td>\n",
       "      <td>P29973</td>\n",
       "    </tr>\n",
       "    <tr>\n",
       "      <th>137203</th>\n",
       "      <td>P16520</td>\n",
       "      <td>MINT</td>\n",
       "      <td>P16520</td>\n",
       "    </tr>\n",
       "    <tr>\n",
       "      <th>143374</th>\n",
       "      <td>P11488</td>\n",
       "      <td>MINT</td>\n",
       "      <td>P11488</td>\n",
       "    </tr>\n",
       "    <tr>\n",
       "      <th>260029</th>\n",
       "      <td>P35913</td>\n",
       "      <td>Gene_Name</td>\n",
       "      <td>PDE6B</td>\n",
       "    </tr>\n",
       "    <tr>\n",
       "      <th>260088</th>\n",
       "      <td>P35913</td>\n",
       "      <td>BioMuta</td>\n",
       "      <td>PDE6B</td>\n",
       "    </tr>\n",
       "  </tbody>\n",
       "</table>\n",
       "</div>"
      ],
      "text/plain": [
       "       source__uniprot_id source__id_type source__db_id\n",
       "73869              P29973            MINT        P29973\n",
       "137203             P16520            MINT        P16520\n",
       "143374             P11488            MINT        P11488\n",
       "260029             P35913       Gene_Name         PDE6B\n",
       "260088             P35913         BioMuta         PDE6B"
      ]
     },
     "execution_count": 24,
     "metadata": {},
     "output_type": "execute_result"
    }
   ],
   "source": [
    "human_id_mapping_uniprot = human_id_mapping.query('source__db_id in @genes_to_ids.uniprot_id')\n",
    "print(human_id_mapping_uniprot.shape)\n",
    "human_id_mapping_uniprot.head()"
   ]
  },
  {
   "cell_type": "code",
   "execution_count": 20,
   "metadata": {},
   "outputs": [
    {
     "data": {
      "text/plain": [
       "True"
      ]
     },
     "execution_count": 20,
     "metadata": {},
     "output_type": "execute_result"
    }
   ],
   "source": [
    "\"RHO\" in human_id_mapping.source__db_id.values"
   ]
  },
  {
   "cell_type": "markdown",
   "metadata": {},
   "source": [
    "## Get ENSMBL ids"
   ]
  },
  {
   "cell_type": "code",
   "execution_count": 43,
   "metadata": {},
   "outputs": [
    {
     "data": {
      "text/plain": [
       "67"
      ]
     },
     "execution_count": 43,
     "metadata": {},
     "output_type": "execute_result"
    }
   ],
   "source": [
    "visual_uniprot_ids = set(human_id_mapping_uniprot.source__uniprot_id) | set(human_id_mapping_symbols.source__uniprot_id)\n",
    "len(visual_uniprot_ids)"
   ]
  },
  {
   "cell_type": "code",
   "execution_count": 44,
   "metadata": {},
   "outputs": [
    {
     "data": {
      "text/html": [
       "<div>\n",
       "<style scoped>\n",
       "    .dataframe tbody tr th:only-of-type {\n",
       "        vertical-align: middle;\n",
       "    }\n",
       "\n",
       "    .dataframe tbody tr th {\n",
       "        vertical-align: top;\n",
       "    }\n",
       "\n",
       "    .dataframe thead th {\n",
       "        text-align: right;\n",
       "    }\n",
       "</style>\n",
       "<table border=\"1\" class=\"dataframe\">\n",
       "  <thead>\n",
       "    <tr style=\"text-align: right;\">\n",
       "      <th></th>\n",
       "      <th>source__uniprot_id</th>\n",
       "      <th>source__id_type</th>\n",
       "      <th>source__db_id</th>\n",
       "    </tr>\n",
       "  </thead>\n",
       "  <tbody>\n",
       "    <tr>\n",
       "      <th>73831</th>\n",
       "      <td>P29973</td>\n",
       "      <td>UniProtKB-ID</td>\n",
       "      <td>CNGA1_HUMAN</td>\n",
       "    </tr>\n",
       "    <tr>\n",
       "      <th>73832</th>\n",
       "      <td>P29973</td>\n",
       "      <td>Gene_Name</td>\n",
       "      <td>CNGA1</td>\n",
       "    </tr>\n",
       "    <tr>\n",
       "      <th>73833</th>\n",
       "      <td>P29973</td>\n",
       "      <td>Gene_Synonym</td>\n",
       "      <td>CNCG</td>\n",
       "    </tr>\n",
       "    <tr>\n",
       "      <th>73834</th>\n",
       "      <td>P29973</td>\n",
       "      <td>Gene_Synonym</td>\n",
       "      <td>CNCG1</td>\n",
       "    </tr>\n",
       "    <tr>\n",
       "      <th>73835</th>\n",
       "      <td>P29973</td>\n",
       "      <td>GI</td>\n",
       "      <td>2506302</td>\n",
       "    </tr>\n",
       "  </tbody>\n",
       "</table>\n",
       "</div>"
      ],
      "text/plain": [
       "      source__uniprot_id source__id_type source__db_id\n",
       "73831             P29973    UniProtKB-ID   CNGA1_HUMAN\n",
       "73832             P29973       Gene_Name         CNGA1\n",
       "73833             P29973    Gene_Synonym          CNCG\n",
       "73834             P29973    Gene_Synonym         CNCG1\n",
       "73835             P29973              GI       2506302"
      ]
     },
     "execution_count": 44,
     "metadata": {},
     "output_type": "execute_result"
    }
   ],
   "source": [
    "human_id_mapping_visual_system = human_id_mapping.query('source__uniprot_id in @visual_uniprot_ids')\n",
    "human_id_mapping_visual_system.head()"
   ]
  },
  {
   "cell_type": "markdown",
   "metadata": {},
   "source": [
    "# Concatenate all human mappings"
   ]
  },
  {
   "cell_type": "code",
   "execution_count": 27,
   "metadata": {},
   "outputs": [
    {
     "name": "stdout",
     "output_type": "stream",
     "text": [
      "(202, 3)\n"
     ]
    },
    {
     "data": {
      "text/html": [
       "<div>\n",
       "<style scoped>\n",
       "    .dataframe tbody tr th:only-of-type {\n",
       "        vertical-align: middle;\n",
       "    }\n",
       "\n",
       "    .dataframe tbody tr th {\n",
       "        vertical-align: top;\n",
       "    }\n",
       "\n",
       "    .dataframe thead th {\n",
       "        text-align: right;\n",
       "    }\n",
       "</style>\n",
       "<table border=\"1\" class=\"dataframe\">\n",
       "  <thead>\n",
       "    <tr style=\"text-align: right;\">\n",
       "      <th></th>\n",
       "      <th>source__uniprot_id</th>\n",
       "      <th>source__id_type</th>\n",
       "      <th>source__db_id</th>\n",
       "    </tr>\n",
       "  </thead>\n",
       "  <tbody>\n",
       "    <tr>\n",
       "      <th>0</th>\n",
       "      <td>P29973</td>\n",
       "      <td>Gene_Name</td>\n",
       "      <td>CNGA1</td>\n",
       "    </tr>\n",
       "    <tr>\n",
       "      <th>1</th>\n",
       "      <td>P29973</td>\n",
       "      <td>BioMuta</td>\n",
       "      <td>CNGA1</td>\n",
       "    </tr>\n",
       "    <tr>\n",
       "      <th>2</th>\n",
       "      <td>P29973</td>\n",
       "      <td>GeneCards</td>\n",
       "      <td>CNGA1</td>\n",
       "    </tr>\n",
       "    <tr>\n",
       "      <th>3</th>\n",
       "      <td>P29973</td>\n",
       "      <td>GeneReviews</td>\n",
       "      <td>CNGA1</td>\n",
       "    </tr>\n",
       "    <tr>\n",
       "      <th>4</th>\n",
       "      <td>P29973</td>\n",
       "      <td>ChiTaRS</td>\n",
       "      <td>CNGA1</td>\n",
       "    </tr>\n",
       "  </tbody>\n",
       "</table>\n",
       "</div>"
      ],
      "text/plain": [
       "  source__uniprot_id source__id_type source__db_id\n",
       "0             P29973       Gene_Name         CNGA1\n",
       "1             P29973         BioMuta         CNGA1\n",
       "2             P29973       GeneCards         CNGA1\n",
       "3             P29973     GeneReviews         CNGA1\n",
       "4             P29973         ChiTaRS         CNGA1"
      ]
     },
     "execution_count": 27,
     "metadata": {},
     "output_type": "execute_result"
    }
   ],
   "source": [
    "human_retina_ids = pd.concat([human_id_mapping_symbols, human_id_mapping_uniprot], ignore_index=True)\n",
    "human_retina_ids = human_retina_ids.drop_duplicates()\n",
    "print(human_retina_ids.shape)\n",
    "human_retina_ids.head()"
   ]
  },
  {
   "cell_type": "markdown",
   "metadata": {},
   "source": [
    "## Write human retinal genes with uniprot IDs to disk"
   ]
  },
  {
   "cell_type": "code",
   "execution_count": 28,
   "metadata": {},
   "outputs": [
    {
     "data": {
      "text/plain": [
       "'/mnt/data_sm/olga/kmer-hashing/quest-for-orthologs/data/2019'"
      ]
     },
     "execution_count": 28,
     "metadata": {},
     "output_type": "execute_result"
    }
   ],
   "source": [
    "pwd"
   ]
  },
  {
   "cell_type": "code",
   "execution_count": 45,
   "metadata": {},
   "outputs": [],
   "source": [
    "human_id_mapping_visual_system.to_csv(\"human_visual_transduction_with_uniprot_ids.csv\", index=False)\n",
    "human_id_mapping_visual_system.to_csv(\"human_visual_transduction_with_uniprot_ids.csv.gz\", index=False)\n",
    "human_id_mapping_visual_system.to_parquet(\"human_visual_transduction_with_uniprot_ids.parquet\", index=False)"
   ]
  },
  {
   "cell_type": "markdown",
   "metadata": {},
   "source": [
    "# Read human proteins and subset to human tfs"
   ]
  },
  {
   "cell_type": "code",
   "execution_count": 46,
   "metadata": {},
   "outputs": [
    {
     "data": {
      "text/plain": [
       "67"
      ]
     },
     "execution_count": 46,
     "metadata": {},
     "output_type": "execute_result"
    }
   ],
   "source": [
    "retinal_uniprot = set(human_retina_ids.source__uniprot_id)\n",
    "len(retinal_uniprot)"
   ]
  },
  {
   "cell_type": "code",
   "execution_count": 47,
   "metadata": {},
   "outputs": [
    {
     "name": "stdout",
     "output_type": "stream",
     "text": [
      "67\n"
     ]
    }
   ],
   "source": [
    "tf_records = []\n",
    "\n",
    "\n",
    "for filename in glob.iglob('Eukaryota/human-protein-fastas/*.fasta'):\n",
    "    with screed.open(filename) as records:\n",
    "        for record in records:\n",
    "            name = record['name']\n",
    "            record_id = name.split()[0]\n",
    "            uniprot_id = record_id.split('|')[1]\n",
    "            if uniprot_id in retinal_uniprot:\n",
    "                tf_records.append(record)\n",
    "print(len(tf_records))\n"
   ]
  },
  {
   "cell_type": "code",
   "execution_count": 48,
   "metadata": {},
   "outputs": [
    {
     "data": {
      "text/plain": [
       "[{'name': 'sp|O14610|GBGT2_HUMAN Guanine nucleotide-binding protein G(I)/G(S)/G(O) subunit gamma-T2 OS=Homo sapiens OX=9606 GN=GNGT2 PE=2 SV=1', 'sequence': 'MAQDLSEKDLLKMEVEQLKKEVKNTRIPISKAGKEIKEYVEAQAGNDPFLKGIPEDKNPFKEKGGCLIS', 'description': ''},\n",
       " {'name': 'sp|O75916|RGS9_HUMAN Regulator of G-protein signaling 9 OS=Homo sapiens OX=9606 GN=RGS9 PE=1 SV=1', 'sequence': 'MTIRHQGQQYRPRMAFLQKIEALVKDMQNPETGVRMQNQRVLVTSVPHAMTGSDVLQWIVQRLWISSLEAQNLGNFIVRYGYIYPLQDPKNLILKPDGSLYRFQTPYFWPTQQWPAEDTDYAIYLAKRNIKKKGILEEYEKENYNFLNQKMNYKWDFVIMQAKEQYRAGKERNKADRYALDCQEKAYWLVHRCPPGMDNVLDYGLDRVTNPNEVKVNQKQTVVAVKKEIMYYQQALMRSTVKSSVSLGGIVKYSEQFSSNDAIMSGCLPSNPWITDDTQFWDLNAKLVEIPTKMRVERWAFNFSELIRDPKGRQSFQYFLKKEFSGENLGFWEACEDLKYGDQSKVKEKAEEIYKLFLAPGARRWINIDGKTMDITVKGLKHPHRYVLDAAQTHIYMLMKKDSYARYLKSPIYKDMLAKAIEPQETTKKSSTLPFMRRHLRSSPSPVILRQLEEEAKAREAANTVDITQPGQHMAPSPHLTVYTGTCMPPSPSSPFSSSCRSPRKPFASPSRFIRRPSTTICPSPIRVALESSSGLEQKGECSGSMAPRGPSVTESSEASLDTSWPRSRPRAPPKARMALSFSRFLRRGCLASPVFARLSPKCPAVSHGRVQPLGDVGQQLPRLKSKRVANFFQIKMDVPTGSGTCLMDSEDAGTGESGDRATEKEVICPWESL', 'description': ''},\n",
       " {'name': 'sp|P03999|OPSB_HUMAN Short-wave-sensitive opsin 1 OS=Homo sapiens OX=9606 GN=OPN1SW PE=1 SV=1', 'sequence': 'MRKMSEEEFYLFKNISSVGPWDGPQYHIAPVWAFYLQAAFMGTVFLIGFPLNAMVLVATLRYKKLRQPLNYILVNVSFGGFLLCIFSVFPVFVASCNGYFVFGRHVCALEGFLGTVAGLVTGWSLAFLAFERYIVICKPFGNFRFSSKHALTVVLATWTIGIGVSIPPFFGWSRFIPEGLQCSCGPDWYTVGTKYRSESYTWFLFIFCFIVPLSLICFSYTQLLRALKAVAAQQQESATTQKAEREVSRMVVVMVGSFCVCYVPYAAFAMYMVNNRNHGLDLRLVTIPSFFSKSACIYNPIIYCFMNKQFQACIMKMVCGKAMTDESDTCSSQKTEVSTVSSTQVGPN', 'description': ''}]"
      ]
     },
     "execution_count": 48,
     "metadata": {},
     "output_type": "execute_result"
    }
   ],
   "source": [
    "tf_records[:3]"
   ]
  },
  {
   "cell_type": "markdown",
   "metadata": {},
   "source": [
    "## Write output"
   ]
  },
  {
   "cell_type": "code",
   "execution_count": 49,
   "metadata": {},
   "outputs": [
    {
     "name": "stdout",
     "output_type": "stream",
     "text": [
      "mkdir: cannot create directory ‘Eukaryota/human-visual-transduction-fastas/’: File exists\n"
     ]
    }
   ],
   "source": [
    "human_outdir = 'Eukaryota/human-visual-transduction-fastas/'\n",
    "! mkdir $human_outdir\n",
    "\n",
    "\n",
    "with open(f'{human_outdir}/human_visual_transduction_proteins.fasta', 'w') as f:\n",
    "    for record in tf_records:\n",
    "        f.write(\">{name}\\n{sequence}\\n\".format(**record))"
   ]
  },
  {
   "cell_type": "code",
   "execution_count": null,
   "metadata": {},
   "outputs": [],
   "source": []
  }
 ],
 "metadata": {
  "kernelspec": {
   "display_name": "Python [conda env:kmer-hashing]",
   "language": "python",
   "name": "conda-env-kmer-hashing-py"
  },
  "language_info": {
   "codemirror_mode": {
    "name": "ipython",
    "version": 3
   },
   "file_extension": ".py",
   "mimetype": "text/x-python",
   "name": "python",
   "nbconvert_exporter": "python",
   "pygments_lexer": "ipython3",
   "version": "3.6.8"
  }
 },
 "nbformat": 4,
 "nbformat_minor": 4
}
