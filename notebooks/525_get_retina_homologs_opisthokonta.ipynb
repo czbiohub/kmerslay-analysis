{
 "cells": [
  {
   "cell_type": "code",
   "execution_count": 3,
   "metadata": {},
   "outputs": [],
   "source": [
    "from glob import iglob\n",
    "import os\n",
    "from time import sleep\n",
    "\n",
    "import ensembl_rest\n",
    "from joblib import Parallel, delayed\n",
    "import pandas as pd\n",
    "import screed\n",
    "import seaborn as sns\n",
    "from tqdm import tqdm"
   ]
  },
  {
   "cell_type": "code",
   "execution_count": 4,
   "metadata": {},
   "outputs": [
    {
     "name": "stdout",
     "output_type": "stream",
     "text": [
      "/mnt/data_sm/olga/kmer-hashing/quest-for-orthologs/data/2019\n"
     ]
    }
   ],
   "source": [
    "cd /mnt/data_sm/olga/kmer-hashing/quest-for-orthologs/data/2019"
   ]
  },
  {
   "cell_type": "code",
   "execution_count": 5,
   "metadata": {},
   "outputs": [
    {
     "name": "stdout",
     "output_type": "stream",
     "text": [
      "total 2.8G\n",
      "drwxr-xr-x  5 olga root 4.0K Jan 17 08:01 \u001b[0m\u001b[01;34m.\u001b[0m/\n",
      "drwxr-xr-x  3 olga root 4.0K Dec 25 17:48 \u001b[01;34m..\u001b[0m/\n",
      "drwxr-xr-x  5 olga czb  4.0K Dec 26 19:44 \u001b[01;34mArchaea\u001b[0m/\n",
      "drwxr-xr-x  5 olga czb   16K Dec 26 19:44 \u001b[01;34mBacteria\u001b[0m/\n",
      "drwxr-xr-x 12 olga czb   32K Jan 17 08:01 \u001b[01;34mEukaryota\u001b[0m/\n",
      "-rw-r--r--  1 olga czb  754K Jan 10 07:50 human_transcription_factors_with_uniprot_ids.csv\n",
      "-rw-r--r--  1 olga czb   68K Jan 10 07:50 \u001b[01;31mhuman_transcription_factors_with_uniprot_ids.csv.gz\u001b[0m\n",
      "-rw-r--r--  1 olga czb  133K Jan 10 07:50 human_transcription_factors_with_uniprot_ids.parquet\n",
      "-rw-r--r--  1 olga czb   14K Jan 17 07:54 human_transcription_factors_with_uniprot_ids_random_subset100.csv\n",
      "-rw-r--r--  1 olga czb  3.5K Jan 17 07:54 \u001b[01;31mhuman_transcription_factors_with_uniprot_ids_random_subset100.csv.gz\u001b[0m\u001b[K\n",
      "-rw-r--r--  1 olga czb   12K Jan 17 07:54 human_transcription_factors_with_uniprot_ids_random_subset100.parquet\n",
      "-rw-r--r--  1 olga czb   76K Jan 15 10:57 human_visual_transduction_with_uniprot_ids.csv\n",
      "-rw-r--r--  1 olga czb   19K Jan 15 10:57 \u001b[01;31mhuman_visual_transduction_with_uniprot_ids.csv.gz\u001b[0m\n",
      "-rw-r--r--  1 olga czb   28K Jan 15 10:57 human_visual_transduction_with_uniprot_ids.parquet\n",
      "-rw-r--r--  1 olga czb   64M Jan 10 07:43 opisthokont_not_human_transcription_factors_ensembl_compara.csv\n",
      "-rw-r--r--  1 olga czb   19M Jan 15 18:51 \u001b[01;31mopisthokont_not_human_transcription_factors_ensembl_compara_merged_uniprot.csv.gz\u001b[0m\u001b[K\n",
      "-rw-r--r--  1 olga czb   23M Jan 15 18:51 opisthokont_not_human_transcription_factors_ensembl_compara_merged_uniprot.parquet\n",
      "-rw-r--r--  1 olga czb   17M Jan 17 08:01 \u001b[01;31mopisthokont_not_human_transcription_factors_ensembl_compara_merged_uniprot_random_subset100.csv.gz\u001b[0m\u001b[K\n",
      "-rw-r--r--  1 olga czb   21M Jan 17 08:01 opisthokont_not_human_transcription_factors_ensembl_compara_merged_uniprot_random_subset100.parquet\n",
      "-rw-r--r--  1 olga czb   12M Jan 10 07:43 opisthokont_not_human_transcription_factors_ensembl_compara.parquet\n",
      "-rw-r--r--  1 olga czb  3.4M Jan 15 18:10 opisthokont_not_human_visual_system_ensembl_compara.csv\n",
      "-rw-r--r--  1 olga czb  431K Jan 15 18:10 opisthokont_not_human_visual_system_ensembl_compara.parquet\n",
      "-rw-r--r--  1 olga czb   17M Jan 15 18:49 \u001b[01;31mopisthokont_not_human_visual_transduction_ensembl_compara_merged_uniprot.csv.gz\u001b[0m\u001b[K\n",
      "-rw-r--r--  1 olga czb   21M Jan 15 18:50 opisthokont_not_human_visual_transduction_ensembl_compara_merged_uniprot.parquet\n",
      "-rw-r--r--  1 olga czb   661 Jan  8 17:33 qfo_human_vs_opisthokont_tfs.sh\n",
      "-rw-r--r--  1 olga czb  2.6G Dec 25 18:46 \u001b[01;31mQfO_release_2019_04.tar.gz\u001b[0m\n",
      "-rw-r--r--  1 olga czb   18K May 10  2019 README\n",
      "-rw-r--r--  1 olga czb   12K Jan  8 07:47 species_metadata.csv\n"
     ]
    }
   ],
   "source": [
    "ls -lha"
   ]
  },
  {
   "cell_type": "markdown",
   "metadata": {},
   "source": [
    "# Read human visual transduction genes"
   ]
  },
  {
   "cell_type": "code",
   "execution_count": 6,
   "metadata": {},
   "outputs": [
    {
     "name": "stdout",
     "output_type": "stream",
     "text": [
      "(3053, 3)\n"
     ]
    },
    {
     "data": {
      "text/html": [
       "<div>\n",
       "<style scoped>\n",
       "    .dataframe tbody tr th:only-of-type {\n",
       "        vertical-align: middle;\n",
       "    }\n",
       "\n",
       "    .dataframe tbody tr th {\n",
       "        vertical-align: top;\n",
       "    }\n",
       "\n",
       "    .dataframe thead th {\n",
       "        text-align: right;\n",
       "    }\n",
       "</style>\n",
       "<table border=\"1\" class=\"dataframe\">\n",
       "  <thead>\n",
       "    <tr style=\"text-align: right;\">\n",
       "      <th></th>\n",
       "      <th>source__uniprot_id</th>\n",
       "      <th>source__id_type</th>\n",
       "      <th>source__db_id</th>\n",
       "    </tr>\n",
       "  </thead>\n",
       "  <tbody>\n",
       "    <tr>\n",
       "      <th>0</th>\n",
       "      <td>P29973</td>\n",
       "      <td>UniProtKB-ID</td>\n",
       "      <td>CNGA1_HUMAN</td>\n",
       "    </tr>\n",
       "    <tr>\n",
       "      <th>1</th>\n",
       "      <td>P29973</td>\n",
       "      <td>Gene_Name</td>\n",
       "      <td>CNGA1</td>\n",
       "    </tr>\n",
       "    <tr>\n",
       "      <th>2</th>\n",
       "      <td>P29973</td>\n",
       "      <td>Gene_Synonym</td>\n",
       "      <td>CNCG</td>\n",
       "    </tr>\n",
       "    <tr>\n",
       "      <th>3</th>\n",
       "      <td>P29973</td>\n",
       "      <td>Gene_Synonym</td>\n",
       "      <td>CNCG1</td>\n",
       "    </tr>\n",
       "    <tr>\n",
       "      <th>4</th>\n",
       "      <td>P29973</td>\n",
       "      <td>GI</td>\n",
       "      <td>2506302</td>\n",
       "    </tr>\n",
       "  </tbody>\n",
       "</table>\n",
       "</div>"
      ],
      "text/plain": [
       "  source__uniprot_id source__id_type source__db_id\n",
       "0             P29973    UniProtKB-ID   CNGA1_HUMAN\n",
       "1             P29973       Gene_Name         CNGA1\n",
       "2             P29973    Gene_Synonym          CNCG\n",
       "3             P29973    Gene_Synonym         CNCG1\n",
       "4             P29973              GI       2506302"
      ]
     },
     "execution_count": 6,
     "metadata": {},
     "output_type": "execute_result"
    }
   ],
   "source": [
    "visual = pd.read_csv(\"human_visual_transduction_with_uniprot_ids.csv\")\n",
    "print(visual.shape)\n",
    "visual.head()"
   ]
  },
  {
   "cell_type": "markdown",
   "metadata": {},
   "source": [
    "## [Opisthokonta](https://www.ncbi.nlm.nih.gov/Taxonomy/Browser/wwwtax.cgi?lvl=0&amp;id=33154) taxonomy ID"
   ]
  },
  {
   "cell_type": "code",
   "execution_count": 7,
   "metadata": {},
   "outputs": [],
   "source": [
    "opisthokonta_taxonomy_id = '33154'"
   ]
  },
  {
   "cell_type": "code",
   "execution_count": 8,
   "metadata": {},
   "outputs": [
    {
     "name": "stdout",
     "output_type": "stream",
     "text": [
      "/mnt/data_sm/olga/kmer-hashing/quest-for-orthologs/data/2019\n"
     ]
    }
   ],
   "source": [
    "cd /home/olga/data_sm/kmer-hashing/quest-for-orthologs/data/2019"
   ]
  },
  {
   "cell_type": "markdown",
   "metadata": {},
   "source": [
    "# Use ENSEMBL Rest API to get homologous genes"
   ]
  },
  {
   "cell_type": "markdown",
   "metadata": {},
   "source": [
    "### Separate out samples with ensg ids and not"
   ]
  },
  {
   "cell_type": "code",
   "execution_count": 9,
   "metadata": {},
   "outputs": [
    {
     "name": "stdout",
     "output_type": "stream",
     "text": [
      "(2981, 3)\n"
     ]
    },
    {
     "data": {
      "text/html": [
       "<div>\n",
       "<style scoped>\n",
       "    .dataframe tbody tr th:only-of-type {\n",
       "        vertical-align: middle;\n",
       "    }\n",
       "\n",
       "    .dataframe tbody tr th {\n",
       "        vertical-align: top;\n",
       "    }\n",
       "\n",
       "    .dataframe thead th {\n",
       "        text-align: right;\n",
       "    }\n",
       "</style>\n",
       "<table border=\"1\" class=\"dataframe\">\n",
       "  <thead>\n",
       "    <tr style=\"text-align: right;\">\n",
       "      <th></th>\n",
       "      <th>source__uniprot_id</th>\n",
       "      <th>source__id_type</th>\n",
       "      <th>source__db_id</th>\n",
       "    </tr>\n",
       "  </thead>\n",
       "  <tbody>\n",
       "    <tr>\n",
       "      <th>0</th>\n",
       "      <td>P29973</td>\n",
       "      <td>UniProtKB-ID</td>\n",
       "      <td>CNGA1_HUMAN</td>\n",
       "    </tr>\n",
       "    <tr>\n",
       "      <th>1</th>\n",
       "      <td>P29973</td>\n",
       "      <td>Gene_Name</td>\n",
       "      <td>CNGA1</td>\n",
       "    </tr>\n",
       "    <tr>\n",
       "      <th>2</th>\n",
       "      <td>P29973</td>\n",
       "      <td>Gene_Synonym</td>\n",
       "      <td>CNCG</td>\n",
       "    </tr>\n",
       "    <tr>\n",
       "      <th>3</th>\n",
       "      <td>P29973</td>\n",
       "      <td>Gene_Synonym</td>\n",
       "      <td>CNCG1</td>\n",
       "    </tr>\n",
       "    <tr>\n",
       "      <th>4</th>\n",
       "      <td>P29973</td>\n",
       "      <td>GI</td>\n",
       "      <td>2506302</td>\n",
       "    </tr>\n",
       "  </tbody>\n",
       "</table>\n",
       "</div>"
      ],
      "text/plain": [
       "  source__uniprot_id source__id_type source__db_id\n",
       "0             P29973    UniProtKB-ID   CNGA1_HUMAN\n",
       "1             P29973       Gene_Name         CNGA1\n",
       "2             P29973    Gene_Synonym          CNCG\n",
       "3             P29973    Gene_Synonym         CNCG1\n",
       "4             P29973              GI       2506302"
      ]
     },
     "execution_count": 9,
     "metadata": {},
     "output_type": "execute_result"
    }
   ],
   "source": [
    "ensg_rows = visual.source__db_id.str.startswith(\"ENSG0\")\n",
    "visual_non_ensg = visual.loc[~ensg_rows]\n",
    "print(visual_non_ensg.shape)\n",
    "visual_non_ensg.head()"
   ]
  },
  {
   "cell_type": "code",
   "execution_count": 10,
   "metadata": {},
   "outputs": [
    {
     "name": "stdout",
     "output_type": "stream",
     "text": [
      "(72, 3)\n"
     ]
    },
    {
     "data": {
      "text/html": [
       "<div>\n",
       "<style scoped>\n",
       "    .dataframe tbody tr th:only-of-type {\n",
       "        vertical-align: middle;\n",
       "    }\n",
       "\n",
       "    .dataframe tbody tr th {\n",
       "        vertical-align: top;\n",
       "    }\n",
       "\n",
       "    .dataframe thead th {\n",
       "        text-align: right;\n",
       "    }\n",
       "</style>\n",
       "<table border=\"1\" class=\"dataframe\">\n",
       "  <thead>\n",
       "    <tr style=\"text-align: right;\">\n",
       "      <th></th>\n",
       "      <th>source__uniprot_id</th>\n",
       "      <th>source__id_type</th>\n",
       "      <th>source__db_id</th>\n",
       "    </tr>\n",
       "  </thead>\n",
       "  <tbody>\n",
       "    <tr>\n",
       "      <th>42</th>\n",
       "      <td>P29973</td>\n",
       "      <td>Ensembl</td>\n",
       "      <td>ENSG00000198515</td>\n",
       "    </tr>\n",
       "    <tr>\n",
       "      <th>119</th>\n",
       "      <td>P16520</td>\n",
       "      <td>Ensembl</td>\n",
       "      <td>ENSG00000111664</td>\n",
       "    </tr>\n",
       "    <tr>\n",
       "      <th>212</th>\n",
       "      <td>P11488</td>\n",
       "      <td>Ensembl</td>\n",
       "      <td>ENSG00000114349</td>\n",
       "    </tr>\n",
       "    <tr>\n",
       "      <th>283</th>\n",
       "      <td>Q02846</td>\n",
       "      <td>Ensembl</td>\n",
       "      <td>ENSG00000132518</td>\n",
       "    </tr>\n",
       "    <tr>\n",
       "      <th>370</th>\n",
       "      <td>P35913</td>\n",
       "      <td>Ensembl</td>\n",
       "      <td>ENSG00000133256</td>\n",
       "    </tr>\n",
       "  </tbody>\n",
       "</table>\n",
       "</div>"
      ],
      "text/plain": [
       "    source__uniprot_id source__id_type    source__db_id\n",
       "42              P29973         Ensembl  ENSG00000198515\n",
       "119             P16520         Ensembl  ENSG00000111664\n",
       "212             P11488         Ensembl  ENSG00000114349\n",
       "283             Q02846         Ensembl  ENSG00000132518\n",
       "370             P35913         Ensembl  ENSG00000133256"
      ]
     },
     "execution_count": 10,
     "metadata": {},
     "output_type": "execute_result"
    }
   ],
   "source": [
    "visual_ensg = visual.loc[ensg_rows]\n",
    "print(visual_ensg.shape)\n",
    "visual_ensg.head()"
   ]
  },
  {
   "cell_type": "code",
   "execution_count": 11,
   "metadata": {},
   "outputs": [],
   "source": [
    "from urllib.error import HTTPError"
   ]
  },
  {
   "cell_type": "code",
   "execution_count": 12,
   "metadata": {},
   "outputs": [],
   "source": [
    "ensembl_id = 'ENSG00000198515'"
   ]
  },
  {
   "cell_type": "code",
   "execution_count": 14,
   "metadata": {},
   "outputs": [],
   "source": [
    "response = ensembl_rest.homology_ensemblgene(ensembl_id, target_taxon=opisthokonta_taxonomy_id, cigar_line=False, sequence=None)"
   ]
  },
  {
   "cell_type": "code",
   "execution_count": null,
   "metadata": {},
   "outputs": [],
   "source": []
  },
  {
   "cell_type": "code",
   "execution_count": 18,
   "metadata": {},
   "outputs": [],
   "source": [
    "response = ensembl_rest.homology_ensemblgene(ensembl_id, target_taxon=opisthokonta_taxonomy_id, cigar_line=False, \n",
    "                                                     sequence='protein', aligned=False,\n",
    "                                                     type='orthologs')"
   ]
  },
  {
   "cell_type": "code",
   "execution_count": 27,
   "metadata": {},
   "outputs": [],
   "source": [
    "import requests\n",
    "\n",
    "def get_orthologues(ensembl_id, target_taxon, verbose=False, type='orthologues', cigar_line=False, sequence='protein', aligned=False):\n",
    "    server = \"https://rest.ensembl.org\"\n",
    "    ext = f\"/homology/id/{ensembl_id}?\" \\\n",
    "        f\";type={type};cigar_line={int(cigar_line)};sequence={sequence};target_taxon={target_taxon};aligned={int(aligned)}\"\n",
    "\n",
    "    r = requests.get(server + ext,\n",
    "                     headers={\"Content-Type\": \"application/json\"})\n",
    "\n",
    "    if not r.ok:\n",
    "        r.raise_for_status()\n",
    "        sys.exit()\n",
    "\n",
    "    decoded = r.json()\n",
    "    # print(repr(decoded))\n",
    "    if verbose:\n",
    "        pprint(decoded)\n",
    "    return decoded\n",
    "response = get_orthologues(ensembl_id, opisthokonta_taxonomy_id)"
   ]
  },
  {
   "cell_type": "code",
   "execution_count": 28,
   "metadata": {},
   "outputs": [
    {
     "data": {
      "text/plain": [
       "{'source': {'id': 'ENSG00000198515',\n",
       "  'species': 'homo_sapiens',\n",
       "  'seq': 'MESRSSPRLECSGAISAHCSLHLPDSSDFQLIFVFLVEMGFHHVGQAGLELLISSDLPTSASQSAGITDMKLSMKNNIINTQQSFVTMPNVIVPDIEKEIRRMENGACSSFSEDDDSASTSEESENENPHARGSFSYKSLRKGGPSQREQYLPGAIALFNVNNSSNKDQEPEEKKKKKKEKKSKSDDKNENKNDPEKKKKKKDKEKKKKEEKSKDKKEEEKKEVVVIDPSGNTYYNWLFCITLPVMYNWTMVIARACFDELQSDYLEYWLILDYVSDIVYLIDMFVRTRTGYLEQGLLVKEELKLINKYKSNLQFKLDVLSLIPTDLLYFKLGWNYPEIRLNRLLRFSRMFEFFQRTETRTNYPNIFRISNLVMYIVIIIHWNACVFYSISKAIGFGNDTWVYPDINDPEFGRLARKYVYSLYWSTLTLTTIGETPPPVRDSEYVFVVVDFLIGVLIFATIVGNIGSMISNMNAARAEFQARIDAIKQYMHFRNVSKDMEKRVIKWFDYLWTNKKTVDEKEVLKYLPDKLRAEIAINVHLDTLKKVRIFADCEAGLLVELVLKLQPQVYSPGDYICKKGDIGREMYIIKEGKLAVVADDGVTQFVVLSDGSYFGEISILNIKGSKAGNRRTANIKSIGYSDLFCLSKDDLMEALTEYPDAKTMLEEKGKQILMKDGLLDLNIANAGSDPKDLEEKVTRMEGSVDLLQTRFARILAEYESMQQKLKQRLTKVEKFLKPLIDTEFSSIEGPGAESGPIDST',\n",
       "  'taxon_id': 9606,\n",
       "  'perc_pos': 95.5204,\n",
       "  'perc_id': 95.2569,\n",
       "  'protein_id': 'ENSP00000384264'},\n",
       " 'method_link_type': 'ENSEMBL_ORTHOLOGUES',\n",
       " 'type': 'ortholog_one2one',\n",
       " 'target': {'protein_id': 'ENSGGOP00000013502',\n",
       "  'perc_id': 99.3132,\n",
       "  'taxon_id': 9595,\n",
       "  'perc_pos': 99.5879,\n",
       "  'seq': 'TESRSLPRLECSGAISAHCSLHLPDSSDFQLIFVFLVDMKLSMKNNIINTRQSFVTMPNVIVPDIEKEIRRMENGACSSFSEDDDSASISEESENENPHARGSFSYKSLRKGGPSQREQYLPGAIALFNVNNSSNKDQEPEEKKKKKKEKKSKSDDKNENKNDPEKKKKKKDKEKKKKEEKNKDKKEEEKKEVVVIDPSGNTYYNWLFCITLPVMYNWTMVIARACFDELQSDYLEYWLILDYVSDIVYLIDMFVRTRTGYLEQGLLVKEELKLINKYKSNLQFKLDVLSLIPTDLLYFKLGWNYPEIRLNRLLRFSRMFEFFQRTETRTNYPNIFRISNLVMYIVIIIHWNACVFYSISKAIGFGNDTWVYPDINDPEFGRLARKYVYSLYWSTLTLTTIGETPPPVRDSEYVFVVVDFLIGVLIFATIVGNIGSMISNMNAARAEFQARIDAIKQYMHFRNVSKDMEKRVIKWFDYLWTNKKTVDEKEVLKYLPDKLRAEIAINVHLDTLKKVRIFADCEAGLLVELVLKLQPQVYSPGDYICKKGDIGREMYIIKEGKLAVVADDGVTQFVVLSDGSYFGEISILNIKGSKAGNRRTANIKSIGYSDLFCLSKDDLMEALTEYPDAKTMLEEKGKQILMKDGLLDLNIANAGSDPKDLEEKVTRMEGSVDLLQTRFARILAEYESMQQKLKQRLTKVEKFLKPLIDTEFSSIEGPGAESGPIDST',\n",
       "  'species': 'gorilla_gorilla',\n",
       "  'id': 'ENSGGOG00000013840'},\n",
       " 'taxonomy_level': 'Homininae',\n",
       " 'dn_ds': 0.35714}"
      ]
     },
     "execution_count": 28,
     "metadata": {},
     "output_type": "execute_result"
    }
   ],
   "source": [
    "data = response['data']\n",
    "homologies = data[0]['homologies']\n",
    "homologies[0]"
   ]
  },
  {
   "cell_type": "code",
   "execution_count": 29,
   "metadata": {},
   "outputs": [
    {
     "data": {
      "text/plain": [
       "'ENSP00000384264'"
      ]
     },
     "execution_count": 29,
     "metadata": {},
     "output_type": "execute_result"
    }
   ],
   "source": [
    "homologies[0]['source']['protein_id']"
   ]
  },
  {
   "cell_type": "code",
   "execution_count": 30,
   "metadata": {},
   "outputs": [
    {
     "data": {
      "text/plain": [
       "'MESRSSPRLECSGAISAHCSLHLPDSSDFQLIFVFLVEMGFHHVGQAGLELLISSDLPTSASQSAGITDMKLSMKNNIINTQQSFVTMPNVIVPDIEKEIRRMENGACSSFSEDDDSASTSEESENENPHARGSFSYKSLRKGGPSQREQYLPGAIALFNVNNSSNKDQEPEEKKKKKKEKKSKSDDKNENKNDPEKKKKKKDKEKKKKEEKSKDKKEEEKKEVVVIDPSGNTYYNWLFCITLPVMYNWTMVIARACFDELQSDYLEYWLILDYVSDIVYLIDMFVRTRTGYLEQGLLVKEELKLINKYKSNLQFKLDVLSLIPTDLLYFKLGWNYPEIRLNRLLRFSRMFEFFQRTETRTNYPNIFRISNLVMYIVIIIHWNACVFYSISKAIGFGNDTWVYPDINDPEFGRLARKYVYSLYWSTLTLTTIGETPPPVRDSEYVFVVVDFLIGVLIFATIVGNIGSMISNMNAARAEFQARIDAIKQYMHFRNVSKDMEKRVIKWFDYLWTNKKTVDEKEVLKYLPDKLRAEIAINVHLDTLKKVRIFADCEAGLLVELVLKLQPQVYSPGDYICKKGDIGREMYIIKEGKLAVVADDGVTQFVVLSDGSYFGEISILNIKGSKAGNRRTANIKSIGYSDLFCLSKDDLMEALTEYPDAKTMLEEKGKQILMKDGLLDLNIANAGSDPKDLEEKVTRMEGSVDLLQTRFARILAEYESMQQKLKQRLTKVEKFLKPLIDTEFSSIEGPGAESGPIDST'"
      ]
     },
     "execution_count": 30,
     "metadata": {},
     "output_type": "execute_result"
    }
   ],
   "source": [
    "homologies[0]['source']['seq']"
   ]
  },
  {
   "cell_type": "code",
   "execution_count": null,
   "metadata": {},
   "outputs": [],
   "source": []
  },
  {
   "cell_type": "code",
   "execution_count": null,
   "metadata": {},
   "outputs": [],
   "source": [
    "\n",
    "dfs = []\n",
    "\n",
    "\n",
    "human_records = {}\n",
    "nonhuman_records = {}\n",
    "\n",
    "def single_homology_to_series(homology, ignore_fields=['align_seq', 'cigar_line', 'target', 'source']):\n",
    "\n",
    "    homology_for_series = {}\n",
    "    for key, value in homology.items():\n",
    "        if not key in ignore_fields:\n",
    "            homology_for_series[key] = value\n",
    "        if key in ('target', 'source'):\n",
    "            for k, v in value.items():\n",
    "                if not k in ignore_fields:\n",
    "                    homology_for_series[f\"{key}__{k}\"] = v\n",
    "\n",
    "    series = pd.Series(homology_for_series)\n",
    "    return series\n",
    "\n",
    "\n",
    "for ensembl_id in tqdm(visual_ensg.source__db_id):\n",
    "    sleep(1)\n",
    "    try:\n",
    "        response = get_orthologues(ensembl_id, opisthokonta_taxonomy_id)\n",
    "    except HTTPError:\n",
    "        # Probably a 503 error, meaning server is busy, so wait 2 seconds and try again\n",
    "        sleep(2)\n",
    "        response = get_orthologues(ensembl_id, opisthokonta_taxonomy_id)\n",
    "\n",
    "    data = response['data']\n",
    "    homologies = data[0]['homologies']\n",
    "    df = pd.DataFrame(map(single_homology_to_series, homologies))\n",
    "    dfs.append(df)\n",
    "    for homology in homologies:\n",
    "        human_id = homology['source']['protein_id']\n",
    "        human_seq = homology['source']['seq']\n",
    "        human_records[human_id] = human_seq\n",
    "\n",
    "        nonhuman_id = homology['target']['protein_id']\n",
    "        nonhuman_seq = homology['target']['seq']\n",
    "        nonhuman_records[nonhuman_id] = nonhuman_seq\n",
    "    \n",
    "visual_opsithokonts_ensembl = pd.concat(dfs, ignore_index=True)\n",
    "print(visual_opsithokonts_ensembl.shape)\n",
    "visual_opsithokonts_ensembl.head()"
   ]
  },
  {
   "cell_type": "code",
   "execution_count": null,
   "metadata": {},
   "outputs": [],
   "source": []
  },
  {
   "cell_type": "code",
   "execution_count": 40,
   "metadata": {},
   "outputs": [
    {
     "data": {
      "text/plain": [
       "30"
      ]
     },
     "execution_count": 40,
     "metadata": {},
     "output_type": "execute_result"
    }
   ],
   "source": [
    "len(human_records)"
   ]
  },
  {
   "cell_type": "code",
   "execution_count": 41,
   "metadata": {},
   "outputs": [
    {
     "data": {
      "text/plain": [
       "7068"
      ]
     },
     "execution_count": 41,
     "metadata": {},
     "output_type": "execute_result"
    }
   ],
   "source": [
    "len(nonhuman_records)"
   ]
  },
  {
   "cell_type": "code",
   "execution_count": 42,
   "metadata": {},
   "outputs": [],
   "source": [
    "def write_fasta(records, fasta):\n",
    "    with open(fasta, 'w') as f:\n",
    "        for key, value in records.items():\n",
    "            f.write(f\">{key}\\n{value}\\n\")"
   ]
  },
  {
   "cell_type": "code",
   "execution_count": 50,
   "metadata": {},
   "outputs": [
    {
     "data": {
      "text/plain": [
       "'/mnt/data_sm/olga/kmer-hashing/visual-transduction-ensembl/'"
      ]
     },
     "execution_count": 50,
     "metadata": {},
     "output_type": "execute_result"
    }
   ],
   "source": [
    "outdir\n",
    "# ! mkdir $outdir"
   ]
  },
  {
   "cell_type": "code",
   "execution_count": 55,
   "metadata": {},
   "outputs": [
    {
     "data": {
      "text/html": [
       "<div>\n",
       "<style scoped>\n",
       "    .dataframe tbody tr th:only-of-type {\n",
       "        vertical-align: middle;\n",
       "    }\n",
       "\n",
       "    .dataframe tbody tr th {\n",
       "        vertical-align: top;\n",
       "    }\n",
       "\n",
       "    .dataframe thead th {\n",
       "        text-align: right;\n",
       "    }\n",
       "</style>\n",
       "<table border=\"1\" class=\"dataframe\">\n",
       "  <thead>\n",
       "    <tr style=\"text-align: right;\">\n",
       "      <th></th>\n",
       "      <th>dn_ds</th>\n",
       "      <th>method_link_type</th>\n",
       "      <th>source__id</th>\n",
       "      <th>source__perc_id</th>\n",
       "      <th>source__perc_pos</th>\n",
       "      <th>source__protein_id</th>\n",
       "      <th>source__seq</th>\n",
       "      <th>source__species</th>\n",
       "      <th>source__taxon_id</th>\n",
       "      <th>target__id</th>\n",
       "      <th>target__perc_id</th>\n",
       "      <th>target__perc_pos</th>\n",
       "      <th>target__protein_id</th>\n",
       "      <th>target__seq</th>\n",
       "      <th>target__species</th>\n",
       "      <th>target__taxon_id</th>\n",
       "      <th>taxonomy_level</th>\n",
       "      <th>type</th>\n",
       "    </tr>\n",
       "  </thead>\n",
       "  <tbody>\n",
       "    <tr>\n",
       "      <th>0</th>\n",
       "      <td>0.35714</td>\n",
       "      <td>ENSEMBL_ORTHOLOGUES</td>\n",
       "      <td>ENSG00000198515</td>\n",
       "      <td>95.2569</td>\n",
       "      <td>95.5204</td>\n",
       "      <td>ENSP00000384264</td>\n",
       "      <td>MESRSSPRLECSGAISAHCSLHLPDSSDFQLIFVFLVEMGFHHVGQ...</td>\n",
       "      <td>homo_sapiens</td>\n",
       "      <td>9606</td>\n",
       "      <td>ENSGGOG00000013840</td>\n",
       "      <td>99.3132</td>\n",
       "      <td>99.5879</td>\n",
       "      <td>ENSGGOP00000013502</td>\n",
       "      <td>TESRSLPRLECSGAISAHCSLHLPDSSDFQLIFVFLVDMKLSMKNN...</td>\n",
       "      <td>gorilla_gorilla</td>\n",
       "      <td>9595</td>\n",
       "      <td>Homininae</td>\n",
       "      <td>ortholog_one2one</td>\n",
       "    </tr>\n",
       "    <tr>\n",
       "      <th>1</th>\n",
       "      <td>0.13376</td>\n",
       "      <td>ENSEMBL_ORTHOLOGUES</td>\n",
       "      <td>ENSG00000198515</td>\n",
       "      <td>88.1423</td>\n",
       "      <td>88.1423</td>\n",
       "      <td>ENSP00000384264</td>\n",
       "      <td>MESRSSPRLECSGAISAHCSLHLPDSSDFQLIFVFLVEMGFHHVGQ...</td>\n",
       "      <td>homo_sapiens</td>\n",
       "      <td>9606</td>\n",
       "      <td>ENSPTRG00000046448</td>\n",
       "      <td>99.5536</td>\n",
       "      <td>99.5536</td>\n",
       "      <td>ENSPTRP00000088384</td>\n",
       "      <td>MKNNIINTQQSFVTMPNVIVPDIEKEIRRMENGACSSFSEDDDSAS...</td>\n",
       "      <td>pan_troglodytes</td>\n",
       "      <td>9598</td>\n",
       "      <td>Homininae</td>\n",
       "      <td>ortholog_one2many</td>\n",
       "    </tr>\n",
       "    <tr>\n",
       "      <th>2</th>\n",
       "      <td>0.17450</td>\n",
       "      <td>ENSEMBL_ORTHOLOGUES</td>\n",
       "      <td>ENSG00000198515</td>\n",
       "      <td>99.4730</td>\n",
       "      <td>99.4730</td>\n",
       "      <td>ENSP00000384264</td>\n",
       "      <td>MESRSSPRLECSGAISAHCSLHLPDSSDFQLIFVFLVEMGFHHVGQ...</td>\n",
       "      <td>homo_sapiens</td>\n",
       "      <td>9606</td>\n",
       "      <td>ENSPPAG00000021167</td>\n",
       "      <td>99.4730</td>\n",
       "      <td>99.4730</td>\n",
       "      <td>ENSPPAP00000005085</td>\n",
       "      <td>MESRSSPRLECSGAISAHCSLHLPDSSDFQLIFVFLVEMGFHHVGQ...</td>\n",
       "      <td>pan_paniscus</td>\n",
       "      <td>9597</td>\n",
       "      <td>Homininae</td>\n",
       "      <td>ortholog_one2one</td>\n",
       "    </tr>\n",
       "    <tr>\n",
       "      <th>3</th>\n",
       "      <td>0.08387</td>\n",
       "      <td>ENSEMBL_ORTHOLOGUES</td>\n",
       "      <td>ENSG00000198515</td>\n",
       "      <td>99.7365</td>\n",
       "      <td>99.7365</td>\n",
       "      <td>ENSP00000384264</td>\n",
       "      <td>MESRSSPRLECSGAISAHCSLHLPDSSDFQLIFVFLVEMGFHHVGQ...</td>\n",
       "      <td>homo_sapiens</td>\n",
       "      <td>9606</td>\n",
       "      <td>ENSPTRG00000016036</td>\n",
       "      <td>99.7365</td>\n",
       "      <td>99.7365</td>\n",
       "      <td>ENSPTRP00000027592</td>\n",
       "      <td>MESRSSPRLECSGAISAHCSLHLPDSSDFQLIFVFLVEMGFHHVGQ...</td>\n",
       "      <td>pan_troglodytes</td>\n",
       "      <td>9598</td>\n",
       "      <td>Homininae</td>\n",
       "      <td>ortholog_one2many</td>\n",
       "    </tr>\n",
       "    <tr>\n",
       "      <th>4</th>\n",
       "      <td>0.17989</td>\n",
       "      <td>ENSEMBL_ORTHOLOGUES</td>\n",
       "      <td>ENSG00000198515</td>\n",
       "      <td>90.2503</td>\n",
       "      <td>90.5138</td>\n",
       "      <td>ENSP00000384264</td>\n",
       "      <td>MESRSSPRLECSGAISAHCSLHLPDSSDFQLIFVFLVEMGFHHVGQ...</td>\n",
       "      <td>homo_sapiens</td>\n",
       "      <td>9606</td>\n",
       "      <td>ENSPPYG00000014712</td>\n",
       "      <td>99.2754</td>\n",
       "      <td>99.5652</td>\n",
       "      <td>ENSPPYP00000016435</td>\n",
       "      <td>MKLSMKKNIINTQQSFVTMPNVIVPDIEKEIRRMENGACSSFSEDD...</td>\n",
       "      <td>pongo_abelii</td>\n",
       "      <td>9601</td>\n",
       "      <td>Hominidae</td>\n",
       "      <td>ortholog_one2one</td>\n",
       "    </tr>\n",
       "  </tbody>\n",
       "</table>\n",
       "</div>"
      ],
      "text/plain": [
       "     dn_ds     method_link_type       source__id  source__perc_id  \\\n",
       "0  0.35714  ENSEMBL_ORTHOLOGUES  ENSG00000198515          95.2569   \n",
       "1  0.13376  ENSEMBL_ORTHOLOGUES  ENSG00000198515          88.1423   \n",
       "2  0.17450  ENSEMBL_ORTHOLOGUES  ENSG00000198515          99.4730   \n",
       "3  0.08387  ENSEMBL_ORTHOLOGUES  ENSG00000198515          99.7365   \n",
       "4  0.17989  ENSEMBL_ORTHOLOGUES  ENSG00000198515          90.2503   \n",
       "\n",
       "   source__perc_pos source__protein_id  \\\n",
       "0           95.5204    ENSP00000384264   \n",
       "1           88.1423    ENSP00000384264   \n",
       "2           99.4730    ENSP00000384264   \n",
       "3           99.7365    ENSP00000384264   \n",
       "4           90.5138    ENSP00000384264   \n",
       "\n",
       "                                         source__seq source__species  \\\n",
       "0  MESRSSPRLECSGAISAHCSLHLPDSSDFQLIFVFLVEMGFHHVGQ...    homo_sapiens   \n",
       "1  MESRSSPRLECSGAISAHCSLHLPDSSDFQLIFVFLVEMGFHHVGQ...    homo_sapiens   \n",
       "2  MESRSSPRLECSGAISAHCSLHLPDSSDFQLIFVFLVEMGFHHVGQ...    homo_sapiens   \n",
       "3  MESRSSPRLECSGAISAHCSLHLPDSSDFQLIFVFLVEMGFHHVGQ...    homo_sapiens   \n",
       "4  MESRSSPRLECSGAISAHCSLHLPDSSDFQLIFVFLVEMGFHHVGQ...    homo_sapiens   \n",
       "\n",
       "   source__taxon_id          target__id  target__perc_id  target__perc_pos  \\\n",
       "0              9606  ENSGGOG00000013840          99.3132           99.5879   \n",
       "1              9606  ENSPTRG00000046448          99.5536           99.5536   \n",
       "2              9606  ENSPPAG00000021167          99.4730           99.4730   \n",
       "3              9606  ENSPTRG00000016036          99.7365           99.7365   \n",
       "4              9606  ENSPPYG00000014712          99.2754           99.5652   \n",
       "\n",
       "   target__protein_id                                        target__seq  \\\n",
       "0  ENSGGOP00000013502  TESRSLPRLECSGAISAHCSLHLPDSSDFQLIFVFLVDMKLSMKNN...   \n",
       "1  ENSPTRP00000088384  MKNNIINTQQSFVTMPNVIVPDIEKEIRRMENGACSSFSEDDDSAS...   \n",
       "2  ENSPPAP00000005085  MESRSSPRLECSGAISAHCSLHLPDSSDFQLIFVFLVEMGFHHVGQ...   \n",
       "3  ENSPTRP00000027592  MESRSSPRLECSGAISAHCSLHLPDSSDFQLIFVFLVEMGFHHVGQ...   \n",
       "4  ENSPPYP00000016435  MKLSMKKNIINTQQSFVTMPNVIVPDIEKEIRRMENGACSSFSEDD...   \n",
       "\n",
       "   target__species  target__taxon_id taxonomy_level               type  \n",
       "0  gorilla_gorilla              9595      Homininae   ortholog_one2one  \n",
       "1  pan_troglodytes              9598      Homininae  ortholog_one2many  \n",
       "2     pan_paniscus              9597      Homininae   ortholog_one2one  \n",
       "3  pan_troglodytes              9598      Homininae  ortholog_one2many  \n",
       "4     pongo_abelii              9601      Hominidae   ortholog_one2one  "
      ]
     },
     "execution_count": 55,
     "metadata": {},
     "output_type": "execute_result"
    }
   ],
   "source": [
    "visual_opsithokonts_ensembl.head()"
   ]
  },
  {
   "cell_type": "code",
   "execution_count": 57,
   "metadata": {},
   "outputs": [
    {
     "data": {
      "text/plain": [
       "(17013, 18)"
      ]
     },
     "execution_count": 57,
     "metadata": {},
     "output_type": "execute_result"
    }
   ],
   "source": [
    "visual_opsithokonts_ensembl.shape"
   ]
  },
  {
   "cell_type": "code",
   "execution_count": 59,
   "metadata": {},
   "outputs": [],
   "source": [
    "visual_opsithokonts_ensembl.to_parquet(f'{outdir}/visual_transduction_protein_ensembl_orthology.parquet')\n",
    "visual_opsithokonts_ensembl.to_csv(f'{outdir}/visual_transduction_protein_ensembl_orthology.csv', index=False)"
   ]
  },
  {
   "cell_type": "code",
   "execution_count": 51,
   "metadata": {},
   "outputs": [],
   "source": [
    "write_fasta(human_records, f'{outdir}/human_visual_transduction_proteins_ensembl.fasta')\n",
    "write_fasta(nonhuman_records, f'{outdir}/nonhuman_visual_transduction_proteins_ensembl.fasta')"
   ]
  },
  {
   "cell_type": "code",
   "execution_count": 52,
   "metadata": {},
   "outputs": [
    {
     "data": {
      "text/plain": [
       "'/mnt/data_sm/olga/kmer-hashing/quest-for-orthologs/data/2019'"
      ]
     },
     "execution_count": 52,
     "metadata": {},
     "output_type": "execute_result"
    }
   ],
   "source": [
    "pwd"
   ]
  },
  {
   "cell_type": "code",
   "execution_count": 54,
   "metadata": {},
   "outputs": [
    {
     "name": "stdout",
     "output_type": "stream",
     "text": [
      "total 3.1M\n",
      "drwxr-xr-x 2 olga root 4.0K Jan 17 19:02 \u001b[0m\u001b[01;34m.\u001b[0m/\n",
      "drwxrwxr-x 9 1004 1004 4.0K Jan 17 19:02 \u001b[01;34m..\u001b[0m/\n",
      "-rw-r--r-- 1 olga czb   15K Jan 17 19:02 human_visual_transduction_proteins_ensembl.fasta\n",
      "-rw-r--r-- 1 olga czb  3.0M Jan 17 19:02 nonhuman_visual_transduction_proteins_ensembl.fasta\n"
     ]
    }
   ],
   "source": [
    "ls -lha $outdir"
   ]
  },
  {
   "cell_type": "markdown",
   "metadata": {},
   "source": [
    "# Script to run"
   ]
  },
  {
   "cell_type": "code",
   "execution_count": null,
   "metadata": {},
   "outputs": [],
   "source": [
    "%%file qfo_human_vs_opisthokont_visual_ensembl.sh\n",
    "#!/bin/bash\n",
    "OUTDIR=/mnt/data_sm/olga/kmer-hashing/visual-transduction-ensembl/\n",
    "mkdir -p $OUTDIR/intermediates\n",
    "cd $OUTDIR/intermediates\n",
    "\n",
    "PARQUET=$OUTDIR/visual-transduction-proteins-ensembl.parquet\n",
    "\n",
    "HUMAN=$OUTDIR/human_visual_transduction_proteins_ensembl.fasta\n",
    "NOT_HUMAN=$OUTDIR/nonhuman_visual_transduction_proteins_ensembl.fasta\n",
    "\n",
    "conda activate khtools--encodings--compare-cli\n",
    "\n",
    "\n",
    "time khtools compare-kmers \\\n",
    "    --processes 120 \\\n",
    "    --ksize-min 3 \\\n",
    "    --ksize-max 45 \\\n",
    "    --parquet $PARQUET \\\n",
    "    --fastas2 $HUMAN \\\n",
    "    --no-csv \\\n",
    "    $NOT_HUMAN | tee khtools_compare-kmers.log"
   ]
  }
 ],
 "metadata": {
  "kernelspec": {
   "display_name": "Python [conda env:khtools--encodings--compare-cli]",
   "language": "python",
   "name": "conda-env-khtools--encodings--compare-cli-py"
  },
  "language_info": {
   "codemirror_mode": {
    "name": "ipython",
    "version": 3
   },
   "file_extension": ".py",
   "mimetype": "text/x-python",
   "name": "python",
   "nbconvert_exporter": "python",
   "pygments_lexer": "ipython3",
   "version": "3.8.0"
  }
 },
 "nbformat": 4,
 "nbformat_minor": 4
}
