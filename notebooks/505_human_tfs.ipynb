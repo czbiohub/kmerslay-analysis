{
 "cells": [
  {
   "cell_type": "code",
   "execution_count": 1,
   "metadata": {},
   "outputs": [],
   "source": [
    "from glob import iglob\n",
    "import os\n",
    "\n",
    "import pandas as pd\n",
    "import screed\n",
    "import seaborn as sns\n",
    "import tqdm"
   ]
  },
  {
   "cell_type": "code",
   "execution_count": 2,
   "metadata": {},
   "outputs": [
    {
     "name": "stdout",
     "output_type": "stream",
     "text": [
      "/mnt/data_sm/olga/kmer-hashing/quest-for-orthologs/analysis/2019\n"
     ]
    }
   ],
   "source": [
    "cd ~/data_sm/kmer-hashing/quest-for-orthologs/analysis/2019/"
   ]
  },
  {
   "cell_type": "code",
   "execution_count": 3,
   "metadata": {},
   "outputs": [
    {
     "name": "stdout",
     "output_type": "stream",
     "text": [
      "total 6.3M\n",
      "drwxr-xr-x 4 olga czb 4.0K Jan  8 17:34 \u001b[0m\u001b[01;34m.\u001b[0m/\n",
      "drwxr-xr-x 3 olga czb 4.0K Dec 25 19:12 \u001b[01;34m..\u001b[0m/\n",
      "-rw-r--r-- 1 olga czb 6.2M Sep  6  2018 \u001b[01;31mGO.83ebff415cfec35b9ae1888e.tsv.gz\u001b[0m\n",
      "drwxr-xr-x 2 olga czb 128K Jan  8 07:42 \u001b[01;34mintermediates\u001b[0m/\n",
      "drwxr-xr-x 3 olga czb 4.0K Jan  8 17:38 \u001b[01;34mtranscription-factors\u001b[0m/\n"
     ]
    }
   ],
   "source": [
    "ls -lha"
   ]
  },
  {
   "cell_type": "markdown",
   "metadata": {},
   "source": [
    "# Read transcription factors "
   ]
  },
  {
   "cell_type": "code",
   "execution_count": 4,
   "metadata": {},
   "outputs": [
    {
     "name": "stdout",
     "output_type": "stream",
     "text": [
      "(1639, 5)\n"
     ]
    },
    {
     "data": {
      "text/html": [
       "<div>\n",
       "<style scoped>\n",
       "    .dataframe tbody tr th:only-of-type {\n",
       "        vertical-align: middle;\n",
       "    }\n",
       "\n",
       "    .dataframe tbody tr th {\n",
       "        vertical-align: top;\n",
       "    }\n",
       "\n",
       "    .dataframe thead th {\n",
       "        text-align: right;\n",
       "    }\n",
       "</style>\n",
       "<table border=\"1\" class=\"dataframe\">\n",
       "  <thead>\n",
       "    <tr style=\"text-align: right;\">\n",
       "      <th></th>\n",
       "      <th>Gene</th>\n",
       "      <th>ID</th>\n",
       "      <th>DBD</th>\n",
       "      <th>Motif status (Feb 2018)(Link to human TFs annotation)</th>\n",
       "      <th>IUPAC consensus (from selected PWM)</th>\n",
       "    </tr>\n",
       "  </thead>\n",
       "  <tbody>\n",
       "    <tr>\n",
       "      <th>0</th>\n",
       "      <td>AC008770.3</td>\n",
       "      <td>ENSG00000267179</td>\n",
       "      <td>C2H2 ZF</td>\n",
       "      <td>Likely sequence specific TF according to liter...</td>\n",
       "      <td>NaN</td>\n",
       "    </tr>\n",
       "    <tr>\n",
       "      <th>1</th>\n",
       "      <td>AC023509.3</td>\n",
       "      <td>ENSG00000267281</td>\n",
       "      <td>bZIP</td>\n",
       "      <td>Known motif – from protein with 100% identical...</td>\n",
       "      <td>RTGACGTCAY</td>\n",
       "    </tr>\n",
       "    <tr>\n",
       "      <th>2</th>\n",
       "      <td>AC092835.1</td>\n",
       "      <td>ENSG00000233757</td>\n",
       "      <td>C2H2 ZF</td>\n",
       "      <td>Likely sequence specific TF according to liter...</td>\n",
       "      <td>NaN</td>\n",
       "    </tr>\n",
       "    <tr>\n",
       "      <th>3</th>\n",
       "      <td>AC138696.1</td>\n",
       "      <td>ENSG00000264668</td>\n",
       "      <td>C2H2 ZF</td>\n",
       "      <td>Known motif – from protein with 100% identical...</td>\n",
       "      <td>RYGGAGAGTTAGC</td>\n",
       "    </tr>\n",
       "    <tr>\n",
       "      <th>4</th>\n",
       "      <td>ADNP</td>\n",
       "      <td>ENSG00000101126</td>\n",
       "      <td>Homeodomain</td>\n",
       "      <td>Likely sequence specific TF according to liter...</td>\n",
       "      <td>NaN</td>\n",
       "    </tr>\n",
       "  </tbody>\n",
       "</table>\n",
       "</div>"
      ],
      "text/plain": [
       "         Gene               ID          DBD  \\\n",
       "0  AC008770.3  ENSG00000267179      C2H2 ZF   \n",
       "1  AC023509.3  ENSG00000267281         bZIP   \n",
       "2  AC092835.1  ENSG00000233757      C2H2 ZF   \n",
       "3  AC138696.1  ENSG00000264668      C2H2 ZF   \n",
       "4        ADNP  ENSG00000101126  Homeodomain   \n",
       "\n",
       "  Motif status (Feb 2018)(Link to human TFs annotation)  \\\n",
       "0  Likely sequence specific TF according to liter...      \n",
       "1  Known motif – from protein with 100% identical...      \n",
       "2  Likely sequence specific TF according to liter...      \n",
       "3  Known motif – from protein with 100% identical...      \n",
       "4  Likely sequence specific TF according to liter...      \n",
       "\n",
       "  IUPAC consensus (from selected PWM)  \n",
       "0                                 NaN  \n",
       "1                          RTGACGTCAY  \n",
       "2                                 NaN  \n",
       "3                       RYGGAGAGTTAGC  \n",
       "4                                 NaN  "
      ]
     },
     "execution_count": 4,
     "metadata": {},
     "output_type": "execute_result"
    }
   ],
   "source": [
    "tf_df = pd.read_html('https://en.wikipedia.org/wiki/List_of_human_transcription_factors')[0]\n",
    "print(tf_df.shape)\n",
    "tf_df.head()"
   ]
  },
  {
   "cell_type": "markdown",
   "metadata": {},
   "source": [
    "# Go to Quest for Orthologs fastas"
   ]
  },
  {
   "cell_type": "code",
   "execution_count": 5,
   "metadata": {},
   "outputs": [
    {
     "name": "stdout",
     "output_type": "stream",
     "text": [
      "/mnt/data_sm/olga/kmer-hashing/quest-for-orthologs/data/2019\n"
     ]
    }
   ],
   "source": [
    "cd /home/olga/data_sm/kmer-hashing/quest-for-orthologs/data/2019"
   ]
  },
  {
   "cell_type": "code",
   "execution_count": 6,
   "metadata": {},
   "outputs": [
    {
     "name": "stdout",
     "output_type": "stream",
     "text": [
      "total 2.6G\n",
      "drwxr-xr-x 5 olga root 4.0K Jan 10 07:42 \u001b[0m\u001b[01;34m.\u001b[0m/\n",
      "drwxr-xr-x 3 olga root 4.0K Dec 25 17:48 \u001b[01;34m..\u001b[0m/\n",
      "drwxr-xr-x 5 olga czb  4.0K Dec 26 19:44 \u001b[01;34mArchaea\u001b[0m/\n",
      "drwxr-xr-x 5 olga czb   16K Dec 26 19:44 \u001b[01;34mBacteria\u001b[0m/\n",
      "drwxr-xr-x 8 olga czb   32K Jan  8 08:13 \u001b[01;34mEukaryota\u001b[0m/\n",
      "-rw-r--r-- 1 olga czb   64M Jan 10 07:43 opisthokont_not_human_transcription_factors_ensembl_compara.csv\n",
      "-rw-r--r-- 1 olga czb  4.0M Jan 10 07:43 opisthokont_not_human_transcription_factors_ensembl_compara_merged_uniprot.parquet\n",
      "-rw-r--r-- 1 olga czb   12M Jan 10 07:43 opisthokont_not_human_transcription_factors_ensembl_compara.parquet\n",
      "-rw-r--r-- 1 olga czb   661 Jan  8 17:33 qfo_human_vs_opisthokont_tfs.sh\n",
      "-rw-r--r-- 1 olga czb  2.6G Dec 25 18:46 \u001b[01;31mQfO_release_2019_04.tar.gz\u001b[0m\n",
      "-rw-r--r-- 1 olga czb   18K May 10  2019 README\n",
      "-rw-r--r-- 1 olga czb   12K Jan  8 07:47 species_metadata.csv\n"
     ]
    }
   ],
   "source": [
    "ls -lha"
   ]
  },
  {
   "cell_type": "markdown",
   "metadata": {},
   "source": [
    "## Read species metadata"
   ]
  },
  {
   "cell_type": "code",
   "execution_count": 7,
   "metadata": {},
   "outputs": [
    {
     "name": "stdout",
     "output_type": "stream",
     "text": [
      "(78, 10)\n"
     ]
    },
    {
     "data": {
      "text/html": [
       "<div>\n",
       "<style scoped>\n",
       "    .dataframe tbody tr th:only-of-type {\n",
       "        vertical-align: middle;\n",
       "    }\n",
       "\n",
       "    .dataframe tbody tr th {\n",
       "        vertical-align: top;\n",
       "    }\n",
       "\n",
       "    .dataframe thead th {\n",
       "        text-align: right;\n",
       "    }\n",
       "</style>\n",
       "<table border=\"1\" class=\"dataframe\">\n",
       "  <thead>\n",
       "    <tr style=\"text-align: right;\">\n",
       "      <th></th>\n",
       "      <th>proteome_id</th>\n",
       "      <th>tax_id</th>\n",
       "      <th>oscode</th>\n",
       "      <th>n_main_fasta_canonical</th>\n",
       "      <th>n_additional_fasta_isoforms</th>\n",
       "      <th>n_gene2acc</th>\n",
       "      <th>species_name</th>\n",
       "      <th>divergence_from_human_mya</th>\n",
       "      <th>scientific_name</th>\n",
       "      <th>common_name_or_strain</th>\n",
       "    </tr>\n",
       "  </thead>\n",
       "  <tbody>\n",
       "    <tr>\n",
       "      <th>0</th>\n",
       "      <td>UP000007062</td>\n",
       "      <td>7165</td>\n",
       "      <td>ANOGA</td>\n",
       "      <td>12553</td>\n",
       "      <td>971</td>\n",
       "      <td>13619</td>\n",
       "      <td>Anopheles gambiae (African malaria mosquito)</td>\n",
       "      <td>797.0</td>\n",
       "      <td>Anopheles gambiae</td>\n",
       "      <td>African malaria mosquito</td>\n",
       "    </tr>\n",
       "    <tr>\n",
       "      <th>1</th>\n",
       "      <td>UP000000798</td>\n",
       "      <td>224324</td>\n",
       "      <td>AQUAE</td>\n",
       "      <td>1553</td>\n",
       "      <td>0</td>\n",
       "      <td>1557</td>\n",
       "      <td>Aquifex aeolicus (strain VF5)</td>\n",
       "      <td>4290.0</td>\n",
       "      <td>Aquifex aeolicus</td>\n",
       "      <td>strain VF5</td>\n",
       "    </tr>\n",
       "    <tr>\n",
       "      <th>2</th>\n",
       "      <td>UP000006548</td>\n",
       "      <td>3702</td>\n",
       "      <td>ARATH</td>\n",
       "      <td>27475</td>\n",
       "      <td>14123</td>\n",
       "      <td>41920</td>\n",
       "      <td>Arabidopsis thaliana (Mouse-ear cress)</td>\n",
       "      <td>1496.0</td>\n",
       "      <td>Arabidopsis thaliana</td>\n",
       "      <td>Mouse-ear cress</td>\n",
       "    </tr>\n",
       "    <tr>\n",
       "      <th>3</th>\n",
       "      <td>UP000001570</td>\n",
       "      <td>224308</td>\n",
       "      <td>BACSU</td>\n",
       "      <td>4260</td>\n",
       "      <td>7</td>\n",
       "      <td>4268</td>\n",
       "      <td>Bacillus subtilis (strain 168)</td>\n",
       "      <td>4290.0</td>\n",
       "      <td>Bacillus subtilis</td>\n",
       "      <td>strain 168</td>\n",
       "    </tr>\n",
       "    <tr>\n",
       "      <th>4</th>\n",
       "      <td>UP000001414</td>\n",
       "      <td>226186</td>\n",
       "      <td>BACTN</td>\n",
       "      <td>4782</td>\n",
       "      <td>0</td>\n",
       "      <td>4823</td>\n",
       "      <td>Bacteroides thetaiotaomicron (strain ATCC 2914...</td>\n",
       "      <td>4290.0</td>\n",
       "      <td>Bacteroides thetaiotaomicron</td>\n",
       "      <td>strain ATCC 29148 / DSM 2079 / NCTC 10582 / E5...</td>\n",
       "    </tr>\n",
       "  </tbody>\n",
       "</table>\n",
       "</div>"
      ],
      "text/plain": [
       "   proteome_id  tax_id oscode  n_main_fasta_canonical  \\\n",
       "0  UP000007062    7165  ANOGA                   12553   \n",
       "1  UP000000798  224324  AQUAE                    1553   \n",
       "2  UP000006548    3702  ARATH                   27475   \n",
       "3  UP000001570  224308  BACSU                    4260   \n",
       "4  UP000001414  226186  BACTN                    4782   \n",
       "\n",
       "   n_additional_fasta_isoforms  n_gene2acc  \\\n",
       "0                          971       13619   \n",
       "1                            0        1557   \n",
       "2                        14123       41920   \n",
       "3                            7        4268   \n",
       "4                            0        4823   \n",
       "\n",
       "                                        species_name  \\\n",
       "0       Anopheles gambiae (African malaria mosquito)   \n",
       "1                      Aquifex aeolicus (strain VF5)   \n",
       "2             Arabidopsis thaliana (Mouse-ear cress)   \n",
       "3                     Bacillus subtilis (strain 168)   \n",
       "4  Bacteroides thetaiotaomicron (strain ATCC 2914...   \n",
       "\n",
       "   divergence_from_human_mya               scientific_name  \\\n",
       "0                      797.0             Anopheles gambiae   \n",
       "1                     4290.0              Aquifex aeolicus   \n",
       "2                     1496.0          Arabidopsis thaliana   \n",
       "3                     4290.0             Bacillus subtilis   \n",
       "4                     4290.0  Bacteroides thetaiotaomicron   \n",
       "\n",
       "                               common_name_or_strain  \n",
       "0                           African malaria mosquito  \n",
       "1                                         strain VF5  \n",
       "2                                    Mouse-ear cress  \n",
       "3                                         strain 168  \n",
       "4  strain ATCC 29148 / DSM 2079 / NCTC 10582 / E5...  "
      ]
     },
     "execution_count": 7,
     "metadata": {},
     "output_type": "execute_result"
    }
   ],
   "source": [
    "species_metadata = pd.read_csv(\"species_metadata.csv\")\n",
    "print(species_metadata.shape)\n",
    "species_metadata.head()"
   ]
  },
  {
   "cell_type": "markdown",
   "metadata": {},
   "source": [
    "### Subset to opisthokonts"
   ]
  },
  {
   "cell_type": "code",
   "execution_count": 8,
   "metadata": {},
   "outputs": [
    {
     "name": "stdout",
     "output_type": "stream",
     "text": [
      "(35, 10)\n"
     ]
    },
    {
     "data": {
      "text/html": [
       "<div>\n",
       "<style scoped>\n",
       "    .dataframe tbody tr th:only-of-type {\n",
       "        vertical-align: middle;\n",
       "    }\n",
       "\n",
       "    .dataframe tbody tr th {\n",
       "        vertical-align: top;\n",
       "    }\n",
       "\n",
       "    .dataframe thead th {\n",
       "        text-align: right;\n",
       "    }\n",
       "</style>\n",
       "<table border=\"1\" class=\"dataframe\">\n",
       "  <thead>\n",
       "    <tr style=\"text-align: right;\">\n",
       "      <th></th>\n",
       "      <th>proteome_id</th>\n",
       "      <th>tax_id</th>\n",
       "      <th>oscode</th>\n",
       "      <th>n_main_fasta_canonical</th>\n",
       "      <th>n_additional_fasta_isoforms</th>\n",
       "      <th>n_gene2acc</th>\n",
       "      <th>species_name</th>\n",
       "      <th>divergence_from_human_mya</th>\n",
       "      <th>scientific_name</th>\n",
       "      <th>common_name_or_strain</th>\n",
       "    </tr>\n",
       "  </thead>\n",
       "  <tbody>\n",
       "    <tr>\n",
       "      <th>0</th>\n",
       "      <td>UP000007062</td>\n",
       "      <td>7165</td>\n",
       "      <td>ANOGA</td>\n",
       "      <td>12553</td>\n",
       "      <td>971</td>\n",
       "      <td>13619</td>\n",
       "      <td>Anopheles gambiae (African malaria mosquito)</td>\n",
       "      <td>797.0</td>\n",
       "      <td>Anopheles gambiae</td>\n",
       "      <td>African malaria mosquito</td>\n",
       "    </tr>\n",
       "    <tr>\n",
       "      <th>5</th>\n",
       "      <td>UP000007241</td>\n",
       "      <td>684364</td>\n",
       "      <td>BATDJ</td>\n",
       "      <td>8610</td>\n",
       "      <td>0</td>\n",
       "      <td>8685</td>\n",
       "      <td>Batrachochytrium dendrobatidis (strain JAM81 /...</td>\n",
       "      <td>1105.0</td>\n",
       "      <td>Batrachochytrium dendrobatidis</td>\n",
       "      <td>strain JAM81 / FGSC 10211</td>\n",
       "    </tr>\n",
       "    <tr>\n",
       "      <th>6</th>\n",
       "      <td>UP000009136</td>\n",
       "      <td>9913</td>\n",
       "      <td>BOVIN</td>\n",
       "      <td>23774</td>\n",
       "      <td>14534</td>\n",
       "      <td>38438</td>\n",
       "      <td>Bos taurus (Bovine)</td>\n",
       "      <td>96.0</td>\n",
       "      <td>Bos taurus</td>\n",
       "      <td>Bovine</td>\n",
       "    </tr>\n",
       "    <tr>\n",
       "      <th>8</th>\n",
       "      <td>UP000001554</td>\n",
       "      <td>7739</td>\n",
       "      <td>BRAFL</td>\n",
       "      <td>28542</td>\n",
       "      <td>2</td>\n",
       "      <td>28608</td>\n",
       "      <td>Branchiostoma floridae (Florida lancelet) (Amp...</td>\n",
       "      <td>684.0</td>\n",
       "      <td>Branchiostoma floridae</td>\n",
       "      <td>Florida lancelet</td>\n",
       "    </tr>\n",
       "    <tr>\n",
       "      <th>9</th>\n",
       "      <td>UP000001940</td>\n",
       "      <td>6239</td>\n",
       "      <td>CAEEL</td>\n",
       "      <td>19986</td>\n",
       "      <td>8309</td>\n",
       "      <td>28507</td>\n",
       "      <td>Caenorhabditis elegans</td>\n",
       "      <td>797.0</td>\n",
       "      <td>Caenorhabditis elegans</td>\n",
       "      <td>NaN</td>\n",
       "    </tr>\n",
       "  </tbody>\n",
       "</table>\n",
       "</div>"
      ],
      "text/plain": [
       "   proteome_id  tax_id oscode  n_main_fasta_canonical  \\\n",
       "0  UP000007062    7165  ANOGA                   12553   \n",
       "5  UP000007241  684364  BATDJ                    8610   \n",
       "6  UP000009136    9913  BOVIN                   23774   \n",
       "8  UP000001554    7739  BRAFL                   28542   \n",
       "9  UP000001940    6239  CAEEL                   19986   \n",
       "\n",
       "   n_additional_fasta_isoforms  n_gene2acc  \\\n",
       "0                          971       13619   \n",
       "5                            0        8685   \n",
       "6                        14534       38438   \n",
       "8                            2       28608   \n",
       "9                         8309       28507   \n",
       "\n",
       "                                        species_name  \\\n",
       "0       Anopheles gambiae (African malaria mosquito)   \n",
       "5  Batrachochytrium dendrobatidis (strain JAM81 /...   \n",
       "6                                Bos taurus (Bovine)   \n",
       "8  Branchiostoma floridae (Florida lancelet) (Amp...   \n",
       "9                             Caenorhabditis elegans   \n",
       "\n",
       "   divergence_from_human_mya                 scientific_name  \\\n",
       "0                      797.0               Anopheles gambiae   \n",
       "5                     1105.0  Batrachochytrium dendrobatidis   \n",
       "6                       96.0                      Bos taurus   \n",
       "8                      684.0          Branchiostoma floridae   \n",
       "9                      797.0          Caenorhabditis elegans   \n",
       "\n",
       "       common_name_or_strain  \n",
       "0   African malaria mosquito  \n",
       "5  strain JAM81 / FGSC 10211  \n",
       "6                     Bovine  \n",
       "8           Florida lancelet  \n",
       "9                        NaN  "
      ]
     },
     "execution_count": 8,
     "metadata": {},
     "output_type": "execute_result"
    }
   ],
   "source": [
    "# Estimated opisthokonta divergence time from http://timetree.org/\n",
    "t = 1105\n",
    "opisthokonts = species_metadata.query('divergence_from_human_mya <= @t')\n",
    "print(opisthokonts.shape)\n",
    "opisthokonts.head()"
   ]
  },
  {
   "cell_type": "code",
   "execution_count": 9,
   "metadata": {},
   "outputs": [
    {
     "data": {
      "text/html": [
       "<div>\n",
       "<style scoped>\n",
       "    .dataframe tbody tr th:only-of-type {\n",
       "        vertical-align: middle;\n",
       "    }\n",
       "\n",
       "    .dataframe tbody tr th {\n",
       "        vertical-align: top;\n",
       "    }\n",
       "\n",
       "    .dataframe thead th {\n",
       "        text-align: right;\n",
       "    }\n",
       "</style>\n",
       "<table border=\"1\" class=\"dataframe\">\n",
       "  <thead>\n",
       "    <tr style=\"text-align: right;\">\n",
       "      <th></th>\n",
       "      <th>proteome_id</th>\n",
       "      <th>tax_id</th>\n",
       "      <th>oscode</th>\n",
       "      <th>n_main_fasta_canonical</th>\n",
       "      <th>n_additional_fasta_isoforms</th>\n",
       "      <th>n_gene2acc</th>\n",
       "      <th>species_name</th>\n",
       "      <th>divergence_from_human_mya</th>\n",
       "      <th>scientific_name</th>\n",
       "      <th>common_name_or_strain</th>\n",
       "    </tr>\n",
       "  </thead>\n",
       "  <tbody>\n",
       "    <tr>\n",
       "      <th>32</th>\n",
       "      <td>UP000005640</td>\n",
       "      <td>9606</td>\n",
       "      <td>HUMAN</td>\n",
       "      <td>21146</td>\n",
       "      <td>74769</td>\n",
       "      <td>96332</td>\n",
       "      <td>Homo sapiens (Human)</td>\n",
       "      <td>0.0</td>\n",
       "      <td>Homo sapiens</td>\n",
       "      <td>Human</td>\n",
       "    </tr>\n",
       "  </tbody>\n",
       "</table>\n",
       "</div>"
      ],
      "text/plain": [
       "    proteome_id  tax_id oscode  n_main_fasta_canonical  \\\n",
       "32  UP000005640    9606  HUMAN                   21146   \n",
       "\n",
       "    n_additional_fasta_isoforms  n_gene2acc          species_name  \\\n",
       "32                        74769       96332  Homo sapiens (Human)   \n",
       "\n",
       "    divergence_from_human_mya scientific_name common_name_or_strain  \n",
       "32                        0.0    Homo sapiens                 Human  "
      ]
     },
     "execution_count": 9,
     "metadata": {},
     "output_type": "execute_result"
    }
   ],
   "source": [
    "opisthokonts.query('scientific_name == \"Homo sapiens\"')"
   ]
  },
  {
   "cell_type": "markdown",
   "metadata": {},
   "source": [
    "## Subset human proteins to TFs"
   ]
  },
  {
   "cell_type": "code",
   "execution_count": 10,
   "metadata": {},
   "outputs": [],
   "source": [
    "human_proteome_id = 'UP000005640'"
   ]
  },
  {
   "cell_type": "code",
   "execution_count": 11,
   "metadata": {},
   "outputs": [
    {
     "name": "stdout",
     "output_type": "stream",
     "text": [
      "total 1\n",
      "lrwxrwxrwx 1 olga 104 Dec 26 19:44 \u001b[0m\u001b[01;36mUP000005640_9606_additional.fasta\u001b[0m -> /mnt/data_sm/olga/kmer-hashing/quest-for-orthologs/data/2019/Eukaryota/UP000005640_9606_additional.fasta\n",
      "lrwxrwxrwx 1 olga  93 Dec 26 19:44 \u001b[01;36mUP000005640_9606.fasta\u001b[0m -> /mnt/data_sm/olga/kmer-hashing/quest-for-orthologs/data/2019/Eukaryota/UP000005640_9606.fasta\n"
     ]
    }
   ],
   "source": [
    "ll Eukaryota/human-protein-fastas/"
   ]
  },
  {
   "cell_type": "code",
   "execution_count": 12,
   "metadata": {},
   "outputs": [
    {
     "name": "stdout",
     "output_type": "stream",
     "text": [
      "==> Eukaryota/human-protein-fastas/UP000005640_9606.fasta <==\n",
      ">tr|A0A024R1R8|A0A024R1R8_HUMAN HCG2014768, isoform CRA_a OS=Homo sapiens OX=9606 GN=hCG_2014768 PE=4 SV=1\n",
      "MSSHEGGKKKALKQPKKQAKEMDEEEKAFKQKQKEEQKKLEVLKAKVVGKGPLATGGIKK\n",
      "SGKK\n",
      ">sp|A0A024RBG1|NUD4B_HUMAN Diphosphoinositol polyphosphate phosphohydrolase NUDT4B OS=Homo sapiens OX=9606 GN=NUDT4B PE=3 SV=1\n",
      "MMKFKPNQTRTYDREGFKKRAACLCFRSEQEDEVLLVSSSRYPDQWIVPGGGMEPEEEPG\n",
      "GAAVREVYEEAGVKGKLGRLLGIFEQNQDRKHRTYVYVLTVTEILEDWEDSVNIGRKREW\n",
      "FKVEDAIKVLQCHKPVHAEYLEKLKLGCSPANGNSTVPSLPDNNALFVTAAQTSGLPSSV\n",
      "R\n",
      ">tr|A0A075B6H5|A0A075B6H5_HUMAN T cell receptor beta variable 20/OR9-2 (non-functional) (Fragment) OS=Homo sapiens OX=9606 GN=TRBV20OR9-2 PE=4 SV=1\n",
      "METVVTTLPREGGVGPSRKMLLLLLLLGPGSGLSAVVSQHPSRVICKSGTSVNIECRSLD\n",
      "\n",
      "==> Eukaryota/human-protein-fastas/UP000005640_9606_additional.fasta <==\n",
      ">tr|A0A024QYW1|A0A024QYW1_HUMAN Isoform of A6NGB0, Transmembrane protein 191C OS=Homo sapiens OX=9606 GN=TMEM191C PE=4 SV=1\n",
      "MVNNTDFLMLNNLWNKLCLVSMDFCFPLDFVSNVFWIFASKFIIVTGQIKADFKRTSWEA\n",
      "KAEGSLEPGRLKLQLASIVPLYSSLVTAGPASKIIILKRTSLPTVSPSNERAYLPPVSFT\n",
      "DLAHVFYLSYFSINAKSNSFSLDIIIALGIPHNTQAHFNH\n",
      ">tr|A0A024QZ18|A0A024QZ18_HUMAN Isoform of Q9H6Y5, PDZ domain containing, X chromosome, isoform CRA_a OS=Homo sapiens OX=9606 GN=MAGIX PE=1 SV=1\n",
      "MPLLWITGPRYHLILLSEASCLRANYVHLCPLFQHRWLETCNAPPQLIQGKARSAPKPSQ\n",
      "ASGHFSVELVRGYAGFGLTLGGGRDVAGDTPLAVRGLLKDGPAQRCGRLEVGDLVLHING\n",
      "ESTQGLTHAQAVERIRAGGPQLHLVIRRPLETHPGKPRGVGEPRKGVVPSWPDRSPDPGG\n",
      "PEVTGSRSSSTSLVQHPPSRTTLKKTRGSPEPSPEAAADGPTVSPPERRAEDPNDQIPGS\n",
      "PGPWLVPSEERLSRALGVRGAAQLAQEMAAGRRRH\n"
     ]
    }
   ],
   "source": [
    "!head Eukaryota/human-protein-fastas/*"
   ]
  },
  {
   "cell_type": "code",
   "execution_count": 13,
   "metadata": {},
   "outputs": [
    {
     "name": "stdout",
     "output_type": "stream",
     "text": [
      "-rw-r--r-- 1 olga   36918952 Apr 12  2019 Eukaryota/UP000005640_9606_additional.fasta\n",
      "-rw-r--r-- 1 olga   34929850 Apr 13  2019 Eukaryota/UP000005640_9606_DNA.fasta\n",
      "-rw-r--r-- 1 olga      20163 Apr 13  2019 Eukaryota/UP000005640_9606_DNA.miss\n",
      "-rw-r--r-- 1 olga   13737946 Apr 12  2019 Eukaryota/UP000005640_9606.fasta\n",
      "-rw-r--r-- 1 olga      50862 May  6  2019 Eukaryota/UP000005640_9606_gcoord.miss\n",
      "-rw-r--r-- 1 olga 1010405266 May  6  2019 Eukaryota/UP000005640_9606_gcoord.xml\n",
      "-rw-r--r-- 1 olga    2805864 Apr 12  2019 Eukaryota/UP000005640_9606.gene2acc\n",
      "-rw-r--r-- 1 olga   69939964 May  3  2019 Eukaryota/UP000005640_9606.idmapping\n",
      "-rw-r--r-- 1 olga  122397065 May 10  2019 Eukaryota/UP000005640_9606.xml\n"
     ]
    }
   ],
   "source": [
    "ll Eukaryota/UP000005640*"
   ]
  },
  {
   "cell_type": "code",
   "execution_count": 14,
   "metadata": {},
   "outputs": [
    {
     "name": "stdout",
     "output_type": "stream",
     "text": [
      "Eukaryota/UP000005640_9606.gene2acc:ENSG00000267179\tF5H0A9\tENSG00000267179\n",
      "Eukaryota/UP000005640_9606.gene2acc:ENSG00000267179\tK7EJH5\tENSG00000267179\n",
      "Eukaryota/UP000005640_9606.gene2acc:ENSG00000267179\tK7EPL6\tENSG00000267179\n",
      "Eukaryota/UP000005640_9606.idmapping:K7EJH5\tBioMuta\tENSG00000267179\n",
      "Eukaryota/UP000005640_9606.idmapping:K7EJH5\tEnsembl\tENSG00000267179\n",
      "Eukaryota/UP000005640_9606.idmapping:K7EJH5\tGeneCards\tENSG00000267179\n",
      "Eukaryota/UP000005640_9606.idmapping:K7EPL6\tBioMuta\tENSG00000267179\n",
      "Eukaryota/UP000005640_9606.idmapping:K7EPL6\tEnsembl\tENSG00000267179\n",
      "Eukaryota/UP000005640_9606.idmapping:K7EPL6\tGeneCards\tENSG00000267179\n",
      "Eukaryota/UP000005640_9606.idmapping:F5H0A9\tBioMuta\tENSG00000267179\n",
      "Eukaryota/UP000005640_9606.idmapping:F5H0A9\tEnsembl\tENSG00000267179\n",
      "Eukaryota/UP000005640_9606.idmapping:F5H0A9\tGeneCards\tENSG00000267179\n",
      "Eukaryota/UP000005640_9606_gcoord.xml:    <gnCoordinate ensembl_gene_id=\"ENSG00000267179\" ensembl_transcript_id=\"ENST00000591944\" ensembl_translation_id=\"ENSP00000465172\">\n",
      "Eukaryota/UP000005640_9606_gcoord.xml:    <gnCoordinate ensembl_gene_id=\"ENSG00000267179\" ensembl_transcript_id=\"ENST00000591441\" ensembl_translation_id=\"ENSP00000467438\">\n",
      "Eukaryota/UP000005640_9606_gcoord.xml:    <gnCoordinate ensembl_gene_id=\"ENSG00000267179\" ensembl_transcript_id=\"ENST00000590798\" ensembl_translation_id=\"ENSP00000467286\">\n"
     ]
    }
   ],
   "source": [
    "!grep 'ENSG00000267179' Eukaryota/UP000005640*"
   ]
  },
  {
   "cell_type": "markdown",
   "metadata": {},
   "source": [
    "## Read Gene Accession file\n",
    "\n",
    "```\n",
    "Gene mapping files (*.gene2acc)\n",
    "===============================\n",
    "\n",
    "Column 1 is a unique gene symbol that is chosen with the following order of\n",
    "preference from the annotation found in:\n",
    "1) Model Organism Database (MOD)\n",
    "2) Ensembl or Ensembl Genomes database\n",
    "3) UniProt Ordered Locus Name (OLN)\n",
    "4) UniProt Open Reading Frame (ORF)\n",
    "5) UniProt Gene Name\n",
    "A dash symbol ('-') is used when the gene encoding a protein is unknown.\n",
    "\n",
    "Column 2 is the UniProtKB accession or isoform identifier for the given gene\n",
    "symbol. This column may have redundancy when two or more genes have identical\n",
    "translations.\n",
    "\n",
    "Column 3 is the gene symbol of the canonical accession used to represent the\n",
    "respective gene group and the first row of the sequence is the canonical one.\n",
    "```"
   ]
  },
  {
   "cell_type": "code",
   "execution_count": 15,
   "metadata": {},
   "outputs": [
    {
     "name": "stdout",
     "output_type": "stream",
     "text": [
      "(96332, 3)\n"
     ]
    },
    {
     "data": {
      "text/html": [
       "<div>\n",
       "<style scoped>\n",
       "    .dataframe tbody tr th:only-of-type {\n",
       "        vertical-align: middle;\n",
       "    }\n",
       "\n",
       "    .dataframe tbody tr th {\n",
       "        vertical-align: top;\n",
       "    }\n",
       "\n",
       "    .dataframe thead th {\n",
       "        text-align: right;\n",
       "    }\n",
       "</style>\n",
       "<table border=\"1\" class=\"dataframe\">\n",
       "  <thead>\n",
       "    <tr style=\"text-align: right;\">\n",
       "      <th></th>\n",
       "      <th>maybe_ensembl_id</th>\n",
       "      <th>uniprot_id</th>\n",
       "      <th>canonical_accession</th>\n",
       "    </tr>\n",
       "  </thead>\n",
       "  <tbody>\n",
       "    <tr>\n",
       "      <th>0</th>\n",
       "      <td>NaN</td>\n",
       "      <td>A0A075B7B6</td>\n",
       "      <td>NaN</td>\n",
       "    </tr>\n",
       "    <tr>\n",
       "      <th>1</th>\n",
       "      <td>NaN</td>\n",
       "      <td>A0A075B714</td>\n",
       "      <td>NaN</td>\n",
       "    </tr>\n",
       "    <tr>\n",
       "      <th>2</th>\n",
       "      <td>NaN</td>\n",
       "      <td>A0A075B713</td>\n",
       "      <td>NaN</td>\n",
       "    </tr>\n",
       "    <tr>\n",
       "      <th>3</th>\n",
       "      <td>NaN</td>\n",
       "      <td>A0A075B712</td>\n",
       "      <td>NaN</td>\n",
       "    </tr>\n",
       "    <tr>\n",
       "      <th>4</th>\n",
       "      <td>NaN</td>\n",
       "      <td>A0A075B711</td>\n",
       "      <td>NaN</td>\n",
       "    </tr>\n",
       "  </tbody>\n",
       "</table>\n",
       "</div>"
      ],
      "text/plain": [
       "  maybe_ensembl_id  uniprot_id canonical_accession\n",
       "0              NaN  A0A075B7B6                 NaN\n",
       "1              NaN  A0A075B714                 NaN\n",
       "2              NaN  A0A075B713                 NaN\n",
       "3              NaN  A0A075B712                 NaN\n",
       "4              NaN  A0A075B711                 NaN"
      ]
     },
     "execution_count": 15,
     "metadata": {},
     "output_type": "execute_result"
    }
   ],
   "source": [
    "\n",
    "def read_gene2acc(gene2acc, names=['maybe_ensembl_id', 'uniprot_id', 'canonical_accession']):\n",
    "    df = pd.read_csv(gene2acc, sep='\\t', header=None, na_values='-', names=names)\n",
    "    return df\n",
    "\n",
    "gene2acc = read_gene2acc('Eukaryota/UP000005640_9606.gene2acc')\n",
    "# gene2acc = pd.read_csv('Eukaryota/UP000005640_9606.gene2acc', sep='\\t', header=None, na_values='-', names=columns)\n",
    "print(gene2acc.shape)\n",
    "gene2acc.head()"
   ]
  },
  {
   "cell_type": "code",
   "execution_count": 16,
   "metadata": {},
   "outputs": [
    {
     "data": {
      "text/html": [
       "<div>\n",
       "<style scoped>\n",
       "    .dataframe tbody tr th:only-of-type {\n",
       "        vertical-align: middle;\n",
       "    }\n",
       "\n",
       "    .dataframe tbody tr th {\n",
       "        vertical-align: top;\n",
       "    }\n",
       "\n",
       "    .dataframe thead th {\n",
       "        text-align: right;\n",
       "    }\n",
       "</style>\n",
       "<table border=\"1\" class=\"dataframe\">\n",
       "  <thead>\n",
       "    <tr style=\"text-align: right;\">\n",
       "      <th></th>\n",
       "      <th>maybe_ensembl_id</th>\n",
       "      <th>uniprot_id</th>\n",
       "      <th>canonical_accession</th>\n",
       "    </tr>\n",
       "  </thead>\n",
       "  <tbody>\n",
       "    <tr>\n",
       "      <th>600</th>\n",
       "      <td>ACOT7L</td>\n",
       "      <td>Q6ZUV0</td>\n",
       "      <td>ACOT7L</td>\n",
       "    </tr>\n",
       "    <tr>\n",
       "      <th>601</th>\n",
       "      <td>BARGIN</td>\n",
       "      <td>Q6ZT62</td>\n",
       "      <td>BARGIN</td>\n",
       "    </tr>\n",
       "    <tr>\n",
       "      <th>602</th>\n",
       "      <td>BARGIN</td>\n",
       "      <td>Q6ZT62-2</td>\n",
       "      <td>BARGIN</td>\n",
       "    </tr>\n",
       "    <tr>\n",
       "      <th>603</th>\n",
       "      <td>BCE1</td>\n",
       "      <td>O60756</td>\n",
       "      <td>BCE1</td>\n",
       "    </tr>\n",
       "    <tr>\n",
       "      <th>604</th>\n",
       "      <td>C1orf140</td>\n",
       "      <td>Q5VVS0</td>\n",
       "      <td>C1orf140</td>\n",
       "    </tr>\n",
       "    <tr>\n",
       "      <th>...</th>\n",
       "      <td>...</td>\n",
       "      <td>...</td>\n",
       "      <td>...</td>\n",
       "    </tr>\n",
       "    <tr>\n",
       "      <th>96327</th>\n",
       "      <td>UNQ6190/PRO20217</td>\n",
       "      <td>Q6UXQ8</td>\n",
       "      <td>UNQ6190/PRO20217</td>\n",
       "    </tr>\n",
       "    <tr>\n",
       "      <th>96328</th>\n",
       "      <td>UNQ6493/PRO21345</td>\n",
       "      <td>Q6UXR8</td>\n",
       "      <td>UNQ6493/PRO21345</td>\n",
       "    </tr>\n",
       "    <tr>\n",
       "      <th>96329</th>\n",
       "      <td>UNQ6494/PRO21346</td>\n",
       "      <td>Q6UXR6</td>\n",
       "      <td>UNQ6494/PRO21346</td>\n",
       "    </tr>\n",
       "    <tr>\n",
       "      <th>96330</th>\n",
       "      <td>UNQ9165/PRO28630</td>\n",
       "      <td>Q6UXU0</td>\n",
       "      <td>UNQ9165/PRO28630</td>\n",
       "    </tr>\n",
       "    <tr>\n",
       "      <th>96331</th>\n",
       "      <td>UNQ9370/PRO34162</td>\n",
       "      <td>Q6UXP9</td>\n",
       "      <td>UNQ9370/PRO34162</td>\n",
       "    </tr>\n",
       "  </tbody>\n",
       "</table>\n",
       "<p>95732 rows × 3 columns</p>\n",
       "</div>"
      ],
      "text/plain": [
       "       maybe_ensembl_id uniprot_id canonical_accession\n",
       "600              ACOT7L     Q6ZUV0              ACOT7L\n",
       "601              BARGIN     Q6ZT62              BARGIN\n",
       "602              BARGIN   Q6ZT62-2              BARGIN\n",
       "603                BCE1     O60756                BCE1\n",
       "604            C1orf140     Q5VVS0            C1orf140\n",
       "...                 ...        ...                 ...\n",
       "96327  UNQ6190/PRO20217     Q6UXQ8    UNQ6190/PRO20217\n",
       "96328  UNQ6493/PRO21345     Q6UXR8    UNQ6493/PRO21345\n",
       "96329  UNQ6494/PRO21346     Q6UXR6    UNQ6494/PRO21346\n",
       "96330  UNQ9165/PRO28630     Q6UXU0    UNQ9165/PRO28630\n",
       "96331  UNQ9370/PRO34162     Q6UXP9    UNQ9370/PRO34162\n",
       "\n",
       "[95732 rows x 3 columns]"
      ]
     },
     "execution_count": 16,
     "metadata": {},
     "output_type": "execute_result"
    }
   ],
   "source": [
    "gene2acc.dropna()"
   ]
  },
  {
   "cell_type": "markdown",
   "metadata": {},
   "source": [
    "## Read ID mapping file\n",
    "\n",
    "```\n",
    "Database mapping files (*.idmapping)\n",
    "====================================\n",
    "\n",
    "These files contain mappings from UniProtKB to other databases for each\n",
    "reference proteome.\n",
    "The format consists of three tab-separated columns:\n",
    "\n",
    "1. UniProtKB accession\n",
    "2. ID_type:\n",
    "   Database name as shown in UniProtKB cross-references and supported by the ID\n",
    "   mapping tool on the UniProt web site (http://www.uniprot.org/mapping)\n",
    "3. ID:\n",
    "   Identifier in the cross-referenced database.\n",
    "\n",
    "```"
   ]
  },
  {
   "cell_type": "code",
   "execution_count": 17,
   "metadata": {},
   "outputs": [
    {
     "name": "stdout",
     "output_type": "stream",
     "text": [
      "(2668934, 3)\n"
     ]
    },
    {
     "data": {
      "text/html": [
       "<div>\n",
       "<style scoped>\n",
       "    .dataframe tbody tr th:only-of-type {\n",
       "        vertical-align: middle;\n",
       "    }\n",
       "\n",
       "    .dataframe tbody tr th {\n",
       "        vertical-align: top;\n",
       "    }\n",
       "\n",
       "    .dataframe thead th {\n",
       "        text-align: right;\n",
       "    }\n",
       "</style>\n",
       "<table border=\"1\" class=\"dataframe\">\n",
       "  <thead>\n",
       "    <tr style=\"text-align: right;\">\n",
       "      <th></th>\n",
       "      <th>uniprot_id</th>\n",
       "      <th>id_type</th>\n",
       "      <th>db_id</th>\n",
       "    </tr>\n",
       "  </thead>\n",
       "  <tbody>\n",
       "    <tr>\n",
       "      <th>0</th>\n",
       "      <td>P62258-2</td>\n",
       "      <td>UniParc</td>\n",
       "      <td>UPI00001E6021</td>\n",
       "    </tr>\n",
       "    <tr>\n",
       "      <th>1</th>\n",
       "      <td>P62258-2</td>\n",
       "      <td>Ensembl_TRS</td>\n",
       "      <td>ENST00000571732</td>\n",
       "    </tr>\n",
       "    <tr>\n",
       "      <th>2</th>\n",
       "      <td>P62258-2</td>\n",
       "      <td>Ensembl_PRO</td>\n",
       "      <td>ENSP00000461762</td>\n",
       "    </tr>\n",
       "    <tr>\n",
       "      <th>3</th>\n",
       "      <td>P62258-2</td>\n",
       "      <td>Ensembl_TRS</td>\n",
       "      <td>ENST00000616643</td>\n",
       "    </tr>\n",
       "    <tr>\n",
       "      <th>4</th>\n",
       "      <td>P62258-2</td>\n",
       "      <td>Ensembl_PRO</td>\n",
       "      <td>ENSP00000481059</td>\n",
       "    </tr>\n",
       "  </tbody>\n",
       "</table>\n",
       "</div>"
      ],
      "text/plain": [
       "  uniprot_id      id_type            db_id\n",
       "0   P62258-2      UniParc    UPI00001E6021\n",
       "1   P62258-2  Ensembl_TRS  ENST00000571732\n",
       "2   P62258-2  Ensembl_PRO  ENSP00000461762\n",
       "3   P62258-2  Ensembl_TRS  ENST00000616643\n",
       "4   P62258-2  Ensembl_PRO  ENSP00000481059"
      ]
     },
     "execution_count": 17,
     "metadata": {},
     "output_type": "execute_result"
    }
   ],
   "source": [
    "id_mapping = pd.read_csv('Eukaryota/UP000005640_9606.idmapping', sep='\\t', header=None, names=['uniprot_id', 'id_type', 'db_id'])\n",
    "print(id_mapping.shape)\n",
    "id_mapping.head()"
   ]
  },
  {
   "cell_type": "code",
   "execution_count": 18,
   "metadata": {},
   "outputs": [
    {
     "data": {
      "text/plain": [
       "EMBL          273867\n",
       "GI            270441\n",
       "EMBL-CDS      198723\n",
       "eggNOG        110646\n",
       "UniParc        95965\n",
       "               ...  \n",
       "Allergome         77\n",
       "PeroxiBase        33\n",
       "REBASE             5\n",
       "GeneDB             2\n",
       "PATRIC             1\n",
       "Name: id_type, Length: 68, dtype: int64"
      ]
     },
     "execution_count": 18,
     "metadata": {},
     "output_type": "execute_result"
    }
   ],
   "source": [
    "id_mapping.id_type.value_counts()"
   ]
  },
  {
   "cell_type": "code",
   "execution_count": 19,
   "metadata": {},
   "outputs": [
    {
     "data": {
      "text/plain": [
       "68"
      ]
     },
     "execution_count": 19,
     "metadata": {},
     "output_type": "execute_result"
    }
   ],
   "source": [
    "id_mapping.id_type.nunique()"
   ]
  },
  {
   "cell_type": "markdown",
   "metadata": {},
   "source": [
    "### Get ENSEMBL id mapping"
   ]
  },
  {
   "cell_type": "code",
   "execution_count": 20,
   "metadata": {},
   "outputs": [
    {
     "name": "stdout",
     "output_type": "stream",
     "text": [
      "(78145, 3)\n"
     ]
    },
    {
     "data": {
      "text/html": [
       "<div>\n",
       "<style scoped>\n",
       "    .dataframe tbody tr th:only-of-type {\n",
       "        vertical-align: middle;\n",
       "    }\n",
       "\n",
       "    .dataframe tbody tr th {\n",
       "        vertical-align: top;\n",
       "    }\n",
       "\n",
       "    .dataframe thead th {\n",
       "        text-align: right;\n",
       "    }\n",
       "</style>\n",
       "<table border=\"1\" class=\"dataframe\">\n",
       "  <thead>\n",
       "    <tr style=\"text-align: right;\">\n",
       "      <th></th>\n",
       "      <th>uniprot_id</th>\n",
       "      <th>id_type</th>\n",
       "      <th>db_id</th>\n",
       "    </tr>\n",
       "  </thead>\n",
       "  <tbody>\n",
       "    <tr>\n",
       "      <th>80</th>\n",
       "      <td>P61981</td>\n",
       "      <td>Ensembl</td>\n",
       "      <td>ENSG00000170027</td>\n",
       "    </tr>\n",
       "    <tr>\n",
       "      <th>178</th>\n",
       "      <td>P27348</td>\n",
       "      <td>Ensembl</td>\n",
       "      <td>ENSG00000134308</td>\n",
       "    </tr>\n",
       "    <tr>\n",
       "      <th>279</th>\n",
       "      <td>P30443</td>\n",
       "      <td>Ensembl</td>\n",
       "      <td>ENSG00000229215</td>\n",
       "    </tr>\n",
       "    <tr>\n",
       "      <th>282</th>\n",
       "      <td>P30443</td>\n",
       "      <td>Ensembl</td>\n",
       "      <td>ENSG00000224320</td>\n",
       "    </tr>\n",
       "    <tr>\n",
       "      <th>342</th>\n",
       "      <td>Q96QU6</td>\n",
       "      <td>Ensembl</td>\n",
       "      <td>ENSG00000110455</td>\n",
       "    </tr>\n",
       "  </tbody>\n",
       "</table>\n",
       "</div>"
      ],
      "text/plain": [
       "    uniprot_id  id_type            db_id\n",
       "80      P61981  Ensembl  ENSG00000170027\n",
       "178     P27348  Ensembl  ENSG00000134308\n",
       "279     P30443  Ensembl  ENSG00000229215\n",
       "282     P30443  Ensembl  ENSG00000224320\n",
       "342     Q96QU6  Ensembl  ENSG00000110455"
      ]
     },
     "execution_count": 20,
     "metadata": {},
     "output_type": "execute_result"
    }
   ],
   "source": [
    "ensembl_mapping = id_mapping.query('id_type == \"Ensembl\"')\n",
    "print(ensembl_mapping.shape)\n",
    "ensembl_mapping.head()"
   ]
  },
  {
   "cell_type": "markdown",
   "metadata": {},
   "source": [
    "### Get ENSEMBL TF ID mapping"
   ]
  },
  {
   "cell_type": "code",
   "execution_count": 21,
   "metadata": {},
   "outputs": [
    {
     "name": "stdout",
     "output_type": "stream",
     "text": [
      "(5753, 3)\n"
     ]
    },
    {
     "data": {
      "text/html": [
       "<div>\n",
       "<style scoped>\n",
       "    .dataframe tbody tr th:only-of-type {\n",
       "        vertical-align: middle;\n",
       "    }\n",
       "\n",
       "    .dataframe tbody tr th {\n",
       "        vertical-align: top;\n",
       "    }\n",
       "\n",
       "    .dataframe thead th {\n",
       "        text-align: right;\n",
       "    }\n",
       "</style>\n",
       "<table border=\"1\" class=\"dataframe\">\n",
       "  <thead>\n",
       "    <tr style=\"text-align: right;\">\n",
       "      <th></th>\n",
       "      <th>uniprot_id</th>\n",
       "      <th>id_type</th>\n",
       "      <th>db_id</th>\n",
       "    </tr>\n",
       "  </thead>\n",
       "  <tbody>\n",
       "    <tr>\n",
       "      <th>11056</th>\n",
       "      <td>Q6IQ32</td>\n",
       "      <td>Ensembl</td>\n",
       "      <td>ENSG00000101544</td>\n",
       "    </tr>\n",
       "    <tr>\n",
       "      <th>13379</th>\n",
       "      <td>P35869</td>\n",
       "      <td>Ensembl</td>\n",
       "      <td>ENSG00000106546</td>\n",
       "    </tr>\n",
       "    <tr>\n",
       "      <th>13744</th>\n",
       "      <td>O43918</td>\n",
       "      <td>Ensembl</td>\n",
       "      <td>ENSG00000160224</td>\n",
       "    </tr>\n",
       "    <tr>\n",
       "      <th>16547</th>\n",
       "      <td>O95076</td>\n",
       "      <td>Ensembl</td>\n",
       "      <td>ENSG00000156150</td>\n",
       "    </tr>\n",
       "    <tr>\n",
       "      <th>24705</th>\n",
       "      <td>Q14865</td>\n",
       "      <td>Ensembl</td>\n",
       "      <td>ENSG00000150347</td>\n",
       "    </tr>\n",
       "  </tbody>\n",
       "</table>\n",
       "</div>"
      ],
      "text/plain": [
       "      uniprot_id  id_type            db_id\n",
       "11056     Q6IQ32  Ensembl  ENSG00000101544\n",
       "13379     P35869  Ensembl  ENSG00000106546\n",
       "13744     O43918  Ensembl  ENSG00000160224\n",
       "16547     O95076  Ensembl  ENSG00000156150\n",
       "24705     Q14865  Ensembl  ENSG00000150347"
      ]
     },
     "execution_count": 21,
     "metadata": {},
     "output_type": "execute_result"
    }
   ],
   "source": [
    "ensembl_mapping_tfs = ensembl_mapping.query('db_id in @tf_df.ID')\n",
    "print(ensembl_mapping_tfs.shape)\n",
    "ensembl_mapping_tfs.head()"
   ]
  },
  {
   "cell_type": "code",
   "execution_count": 22,
   "metadata": {},
   "outputs": [
    {
     "name": "stdout",
     "output_type": "stream",
     "text": [
      "(5753, 8)\n"
     ]
    },
    {
     "data": {
      "text/html": [
       "<div>\n",
       "<style scoped>\n",
       "    .dataframe tbody tr th:only-of-type {\n",
       "        vertical-align: middle;\n",
       "    }\n",
       "\n",
       "    .dataframe tbody tr th {\n",
       "        vertical-align: top;\n",
       "    }\n",
       "\n",
       "    .dataframe thead th {\n",
       "        text-align: right;\n",
       "    }\n",
       "</style>\n",
       "<table border=\"1\" class=\"dataframe\">\n",
       "  <thead>\n",
       "    <tr style=\"text-align: right;\">\n",
       "      <th></th>\n",
       "      <th>Gene</th>\n",
       "      <th>ID</th>\n",
       "      <th>DBD</th>\n",
       "      <th>Motif status (Feb 2018)(Link to human TFs annotation)</th>\n",
       "      <th>IUPAC consensus (from selected PWM)</th>\n",
       "      <th>uniprot_id</th>\n",
       "      <th>id_type</th>\n",
       "      <th>db_id</th>\n",
       "    </tr>\n",
       "  </thead>\n",
       "  <tbody>\n",
       "    <tr>\n",
       "      <th>0</th>\n",
       "      <td>AC008770.3</td>\n",
       "      <td>ENSG00000267179</td>\n",
       "      <td>C2H2 ZF</td>\n",
       "      <td>Likely sequence specific TF according to liter...</td>\n",
       "      <td>NaN</td>\n",
       "      <td>K7EJH5</td>\n",
       "      <td>Ensembl</td>\n",
       "      <td>ENSG00000267179</td>\n",
       "    </tr>\n",
       "    <tr>\n",
       "      <th>1</th>\n",
       "      <td>AC008770.3</td>\n",
       "      <td>ENSG00000267179</td>\n",
       "      <td>C2H2 ZF</td>\n",
       "      <td>Likely sequence specific TF according to liter...</td>\n",
       "      <td>NaN</td>\n",
       "      <td>K7EPL6</td>\n",
       "      <td>Ensembl</td>\n",
       "      <td>ENSG00000267179</td>\n",
       "    </tr>\n",
       "    <tr>\n",
       "      <th>2</th>\n",
       "      <td>AC008770.3</td>\n",
       "      <td>ENSG00000267179</td>\n",
       "      <td>C2H2 ZF</td>\n",
       "      <td>Likely sequence specific TF according to liter...</td>\n",
       "      <td>NaN</td>\n",
       "      <td>F5H0A9</td>\n",
       "      <td>Ensembl</td>\n",
       "      <td>ENSG00000267179</td>\n",
       "    </tr>\n",
       "    <tr>\n",
       "      <th>3</th>\n",
       "      <td>AC023509.3</td>\n",
       "      <td>ENSG00000267281</td>\n",
       "      <td>bZIP</td>\n",
       "      <td>Known motif – from protein with 100% identical...</td>\n",
       "      <td>RTGACGTCAY</td>\n",
       "      <td>K7ELQ4</td>\n",
       "      <td>Ensembl</td>\n",
       "      <td>ENSG00000267281</td>\n",
       "    </tr>\n",
       "    <tr>\n",
       "      <th>4</th>\n",
       "      <td>AC092835.1</td>\n",
       "      <td>ENSG00000233757</td>\n",
       "      <td>C2H2 ZF</td>\n",
       "      <td>Likely sequence specific TF according to liter...</td>\n",
       "      <td>NaN</td>\n",
       "      <td>A0A087WUV0</td>\n",
       "      <td>Ensembl</td>\n",
       "      <td>ENSG00000233757</td>\n",
       "    </tr>\n",
       "  </tbody>\n",
       "</table>\n",
       "</div>"
      ],
      "text/plain": [
       "         Gene               ID      DBD  \\\n",
       "0  AC008770.3  ENSG00000267179  C2H2 ZF   \n",
       "1  AC008770.3  ENSG00000267179  C2H2 ZF   \n",
       "2  AC008770.3  ENSG00000267179  C2H2 ZF   \n",
       "3  AC023509.3  ENSG00000267281     bZIP   \n",
       "4  AC092835.1  ENSG00000233757  C2H2 ZF   \n",
       "\n",
       "  Motif status (Feb 2018)(Link to human TFs annotation)  \\\n",
       "0  Likely sequence specific TF according to liter...      \n",
       "1  Likely sequence specific TF according to liter...      \n",
       "2  Likely sequence specific TF according to liter...      \n",
       "3  Known motif – from protein with 100% identical...      \n",
       "4  Likely sequence specific TF according to liter...      \n",
       "\n",
       "  IUPAC consensus (from selected PWM)  uniprot_id  id_type            db_id  \n",
       "0                                 NaN      K7EJH5  Ensembl  ENSG00000267179  \n",
       "1                                 NaN      K7EPL6  Ensembl  ENSG00000267179  \n",
       "2                                 NaN      F5H0A9  Ensembl  ENSG00000267179  \n",
       "3                          RTGACGTCAY      K7ELQ4  Ensembl  ENSG00000267281  \n",
       "4                                 NaN  A0A087WUV0  Ensembl  ENSG00000233757  "
      ]
     },
     "execution_count": 22,
     "metadata": {},
     "output_type": "execute_result"
    }
   ],
   "source": [
    "tf_df_uniprot = tf_df.merge(ensembl_mapping, left_on='ID', right_on='db_id')\n",
    "print(tf_df_uniprot.shape)\n",
    "tf_df_uniprot.head()"
   ]
  },
  {
   "cell_type": "code",
   "execution_count": 23,
   "metadata": {},
   "outputs": [
    {
     "data": {
      "text/plain": [
       "5749"
      ]
     },
     "execution_count": 23,
     "metadata": {},
     "output_type": "execute_result"
    }
   ],
   "source": [
    "ensembl_mapping_tfs.uniprot_id.nunique()"
   ]
  },
  {
   "cell_type": "code",
   "execution_count": 24,
   "metadata": {},
   "outputs": [
    {
     "data": {
      "text/plain": [
       "1633"
      ]
     },
     "execution_count": 24,
     "metadata": {},
     "output_type": "execute_result"
    }
   ],
   "source": [
    "ensembl_mapping_tfs.db_id.nunique()"
   ]
  },
  {
   "cell_type": "code",
   "execution_count": 26,
   "metadata": {},
   "outputs": [],
   "source": [
    "# !grep ENSG Eukaryota/human-protein-fastas/* "
   ]
  },
  {
   "cell_type": "code",
   "execution_count": 27,
   "metadata": {},
   "outputs": [
    {
     "name": "stdout",
     "output_type": "stream",
     "text": [
      "mkdir: cannot create directory ‘Eukaryota/human-transcription-factor-fastas/’: File exists\n"
     ]
    }
   ],
   "source": [
    "human_outdir = 'Eukaryota/human-transcription-factor-fastas/'\n",
    "! mkdir $human_outdir"
   ]
  },
  {
   "cell_type": "markdown",
   "metadata": {},
   "source": [
    "# Write tfs with uniprot IDs to disk"
   ]
  },
  {
   "cell_type": "code",
   "execution_count": 28,
   "metadata": {},
   "outputs": [
    {
     "data": {
      "text/plain": [
       "'/mnt/data_sm/olga/kmer-hashing/quest-for-orthologs/data/2019'"
      ]
     },
     "execution_count": 28,
     "metadata": {},
     "output_type": "execute_result"
    }
   ],
   "source": [
    "pwd"
   ]
  },
  {
   "cell_type": "code",
   "execution_count": 29,
   "metadata": {},
   "outputs": [],
   "source": [
    "tf_df_uniprot.to_csv(\"human_transcription_factors_with_uniprot_ids.csv\", index=False)\n",
    "tf_df_uniprot.to_csv(\"human_transcription_factors_with_uniprot_ids.csv.gz\", index=False)\n",
    "tf_df_uniprot.to_parquet(\"human_transcription_factors_with_uniprot_ids.parquet\", index=False)"
   ]
  },
  {
   "cell_type": "markdown",
   "metadata": {},
   "source": [
    "# Read human proteins and subset to human tfs"
   ]
  },
  {
   "cell_type": "code",
   "execution_count": 45,
   "metadata": {},
   "outputs": [
    {
     "name": "stdout",
     "output_type": "stream",
     "text": [
      "5749\n"
     ]
    }
   ],
   "source": [
    "tf_records = []\n",
    "\n",
    "\n",
    "for filename in iglob('Eukaryota/human-protein-fastas/*.fasta'):\n",
    "    with screed.open(filename) as records:\n",
    "        for record in records:\n",
    "            name = record['name']\n",
    "            record_id = name.split()[0]\n",
    "            uniprot_id = record_id.split('|')[1]\n",
    "            if uniprot_id in ensembl_mapping_tfs.uniprot_id.values:\n",
    "                tf_records.append(record)\n",
    "print(len(tf_records))\n"
   ]
  },
  {
   "cell_type": "code",
   "execution_count": 46,
   "metadata": {},
   "outputs": [
    {
     "data": {
      "text/plain": [
       "[{'name': 'tr|A0A087WUV0|A0A087WUV0_HUMAN Uncharacterized protein OS=Homo sapiens OX=9606 PE=1 SV=1', 'sequence': 'MEPEGRGSLFEDSDLLHAGNPKENDVTAVLLTPGSQELMIRDMAEALTQWRQLNSPQGDVPEKPRNLVLLGLPISTPDVISQLEHEEELEREVSKAASQKHWETIPESKELTPEKDISEEESAPGVLIVRFSKESSSECEDSLESQQENHEKHLIQEAVTEKSSRERSYQSDEFRRNCTQRSLLVQQQGERLHHCDSFKNNLKQNSDIIRHERICAGKKPWKCNECEKAFSYYSAFVLHQRIHTGEKPYECNECGKAFSQSIHLTLHQRIHTGEKPYECHECGKAFSHRSALIRHHIIHTGEKPYECNECGKAFNQSSYLTQHQRIHTGEKPYECNECGKAFSQSTFLTQHQVIHTGEKPYKCNECGKAFSDRSGLIQHQRTHTGERPYECNECGKAFGYCSALTQHQRTHTGEKPYKCNDCAKAFSDRSALIRHQRTHTGEKPYKCKDCGKAFSQSSSLTKHQKTHTGEKPYKCKECGKAFSQSSSLSQHQKTHAGVKTKKYVQALSEHLTFGQHKRIHTG', 'description': ''},\n",
       " {'name': 'sp|A0AVK6|E2F8_HUMAN Transcription factor E2F8 OS=Homo sapiens OX=9606 GN=E2F8 PE=1 SV=1', 'sequence': 'MENEKENLFCEPHKRGLMKTPLKESTTANIVLAEIQPDFGPLTTPTKPKEGSQGEPWTPTANLKMLISAVSPEIRNRDQKRGLFDNRSGLPEAKDCIHEHLSGDEFEKSQPSRKEKSLGLLCHKFLARYPNYPNPAVNNDICLDEVAEELNVERRRIYDIVNVLESLHMVSRLAKNRYTWHGRHNLNKTLGTLKSIGEENKYAEQIMMIKKKEYEQEFDFIKSYSIEDHIIKSNTGPNGHPDMCFVELPGVEFRAASVNSRKDKSLRVMSQKFVMLFLVSTPQIVSLEVAAKILIGEDHVEDLDKSKFKTKIRRLYDIANVLSSLDLIKKVHVTEERGRKPAFKWTGPEISPNTSGSSPVIHFTPSDLEVRRSSKENCAKNLFSTRGKPNFTRHPSLIKLVKSIESDRRKINSAPSSPIKTNKAESSQNSAPFPSKMAQLAAICKMQLEEQSSESRQKVKVQLARSGPCKPVAPLDPPVNAEMELTAPSLIQPLGMVPLIPSPLSSAVPLILPQAPSGPSYAIYLQPTQAHQSVTPPQGLSPTVCTTHSSKATGSKDSTDATTEKAANDTSKASASTRPGSLLPAPERQGAKSRTREPAGERGSKRASMLEDSGSKKKFKEDLKGLENVSATLFPSGYLIPLTQCSSLGAESILSGKENSSALSPNHRIYSSPIAGVIPVTSSELTAVNFPSFHVTPLKLMVSPTSVAAVPVGNSPALASSHPVPIQNPSSAIVNFTLQHLGLISPNVQLSASPGSGIVPVSPRIESVNVAPENAGTQQGRATNYDSPVPGQSQPNGQSVAVTGAQQPVPVTPKGSQLVAESFFRTPGGPTKPTSSSCMDFEGANKTSLGTLFVPQRKLEVSTEDVH', 'description': ''},\n",
       " {'name': 'sp|A0PJY2|FEZF1_HUMAN Fez family zinc finger protein 1 OS=Homo sapiens OX=9606 GN=FEZF1 PE=1 SV=1', 'sequence': 'MDSSCHNATTKMLATAPARGNMMSTSKPLAFSIERIMARTPEPKALPVPHFLQGALPKGEPKHSLHLNSSIPCMIPFVPVAYDTSPKAGVTGSEPRKASLEAPAAPAAVPSAPAFSCSDLLNCALSLKGDLARDALPLQQYKLVRPRVVNHSSFHAMGALCYLNRGDGPCHPAAGVNIHPVASYFLSSPLHPQPKTYLAERNKLVVPAVEKYPSGVAFKDLSQAQLQHYMKESAQLLSEKIAFKTSDFSRGSPNAKPKVFTCEVCGKVFNAHYNLTRHMPVHTGARPFVCKVCGKGFRQASTLCRHKIIHTQEKPHKCNQCGKAFNRSSTLNTHTRIHAGYKPFVCEFCGKGFHQKGNYKNHKLTHSGEKQFKCNICNKAFHQVYNLTFHMHTHNDKKPFTCPTCGKGFCRNFDLKKHVRKLHDSSLGLARTPAGEPGTEPPPPLPQQPPMTLPPLQPPLPTPGPLQPGLHQGHQ', 'description': ''}]"
      ]
     },
     "execution_count": 46,
     "metadata": {},
     "output_type": "execute_result"
    }
   ],
   "source": [
    "tf_records[:3]"
   ]
  },
  {
   "cell_type": "markdown",
   "metadata": {},
   "source": [
    "## Write output"
   ]
  },
  {
   "cell_type": "code",
   "execution_count": 47,
   "metadata": {},
   "outputs": [],
   "source": [
    "\n",
    "with open(f'{human_outdir}/human_transcription_factor_proteins.fasta', 'w') as f:\n",
    "    for record in tf_records:\n",
    "        f.write(\">{name}\\n{sequence}\\n\".format(**record))"
   ]
  },
  {
   "cell_type": "markdown",
   "metadata": {},
   "source": [
    "# Randomly subset TFs"
   ]
  },
  {
   "cell_type": "code",
   "execution_count": 32,
   "metadata": {},
   "outputs": [
    {
     "name": "stdout",
     "output_type": "stream",
     "text": [
      "(100, 8)\n"
     ]
    },
    {
     "data": {
      "text/html": [
       "<div>\n",
       "<style scoped>\n",
       "    .dataframe tbody tr th:only-of-type {\n",
       "        vertical-align: middle;\n",
       "    }\n",
       "\n",
       "    .dataframe tbody tr th {\n",
       "        vertical-align: top;\n",
       "    }\n",
       "\n",
       "    .dataframe thead th {\n",
       "        text-align: right;\n",
       "    }\n",
       "</style>\n",
       "<table border=\"1\" class=\"dataframe\">\n",
       "  <thead>\n",
       "    <tr style=\"text-align: right;\">\n",
       "      <th></th>\n",
       "      <th>Gene</th>\n",
       "      <th>ID</th>\n",
       "      <th>DBD</th>\n",
       "      <th>Motif status (Feb 2018)(Link to human TFs annotation)</th>\n",
       "      <th>IUPAC consensus (from selected PWM)</th>\n",
       "      <th>uniprot_id</th>\n",
       "      <th>id_type</th>\n",
       "      <th>db_id</th>\n",
       "    </tr>\n",
       "  </thead>\n",
       "  <tbody>\n",
       "    <tr>\n",
       "      <th>3229</th>\n",
       "      <td>TFCP2L1</td>\n",
       "      <td>ENSG00000115112</td>\n",
       "      <td>Grainyhead</td>\n",
       "      <td>Known motif – High-throughput in vitro [942]</td>\n",
       "      <td>DCYRGHNNNDDCYRGH</td>\n",
       "      <td>Q9NZI6</td>\n",
       "      <td>Ensembl</td>\n",
       "      <td>ENSG00000115112</td>\n",
       "    </tr>\n",
       "    <tr>\n",
       "      <th>2493</th>\n",
       "      <td>PREB</td>\n",
       "      <td>ENSG00000138073</td>\n",
       "      <td>Unknown</td>\n",
       "      <td>Likely sequence specific TF according to liter...</td>\n",
       "      <td>NaN</td>\n",
       "      <td>H7C0W3</td>\n",
       "      <td>Ensembl</td>\n",
       "      <td>ENSG00000138073</td>\n",
       "    </tr>\n",
       "    <tr>\n",
       "      <th>257</th>\n",
       "      <td>BPTF</td>\n",
       "      <td>ENSG00000171634</td>\n",
       "      <td>Unknown</td>\n",
       "      <td>Known motif – In vivo/Misc source [79]</td>\n",
       "      <td>KKKNTTGTKKNV</td>\n",
       "      <td>J3KSY0</td>\n",
       "      <td>Ensembl</td>\n",
       "      <td>ENSG00000171634</td>\n",
       "    </tr>\n",
       "    <tr>\n",
       "      <th>1789</th>\n",
       "      <td>MXI1</td>\n",
       "      <td>ENSG00000119950</td>\n",
       "      <td>bHLH</td>\n",
       "      <td>Known motif – In vivo/Misc source [553]</td>\n",
       "      <td>CCACGTGG</td>\n",
       "      <td>P50539</td>\n",
       "      <td>Ensembl</td>\n",
       "      <td>ENSG00000119950</td>\n",
       "    </tr>\n",
       "    <tr>\n",
       "      <th>1185</th>\n",
       "      <td>HNF4A</td>\n",
       "      <td>ENSG00000101076</td>\n",
       "      <td>Nuclear receptor</td>\n",
       "      <td>Known motif – High-throughput in vitro [369]</td>\n",
       "      <td>VRGGTCAAAGTCCA</td>\n",
       "      <td>F8WBS7</td>\n",
       "      <td>Ensembl</td>\n",
       "      <td>ENSG00000101076</td>\n",
       "    </tr>\n",
       "  </tbody>\n",
       "</table>\n",
       "</div>"
      ],
      "text/plain": [
       "         Gene               ID               DBD  \\\n",
       "3229  TFCP2L1  ENSG00000115112        Grainyhead   \n",
       "2493     PREB  ENSG00000138073           Unknown   \n",
       "257      BPTF  ENSG00000171634           Unknown   \n",
       "1789     MXI1  ENSG00000119950              bHLH   \n",
       "1185    HNF4A  ENSG00000101076  Nuclear receptor   \n",
       "\n",
       "     Motif status (Feb 2018)(Link to human TFs annotation)  \\\n",
       "3229       Known motif – High-throughput in vitro [942]      \n",
       "2493  Likely sequence specific TF according to liter...      \n",
       "257              Known motif – In vivo/Misc source [79]      \n",
       "1789            Known motif – In vivo/Misc source [553]      \n",
       "1185       Known motif – High-throughput in vitro [369]      \n",
       "\n",
       "     IUPAC consensus (from selected PWM) uniprot_id  id_type            db_id  \n",
       "3229                    DCYRGHNNNDDCYRGH     Q9NZI6  Ensembl  ENSG00000115112  \n",
       "2493                                 NaN     H7C0W3  Ensembl  ENSG00000138073  \n",
       "257                         KKKNTTGTKKNV     J3KSY0  Ensembl  ENSG00000171634  \n",
       "1789                            CCACGTGG     P50539  Ensembl  ENSG00000119950  \n",
       "1185                      VRGGTCAAAGTCCA     F8WBS7  Ensembl  ENSG00000101076  "
      ]
     },
     "execution_count": 32,
     "metadata": {},
     "output_type": "execute_result"
    }
   ],
   "source": [
    "tf_df_uniprot_subsampled = tf_df_uniprot.sample(100, random_state=0)\n",
    "print(tf_df_uniprot_subsampled.shape)\n",
    "tf_df_uniprot_subsampled.head()"
   ]
  },
  {
   "cell_type": "markdown",
   "metadata": {},
   "source": [
    "## Write CSV of random subset to disk"
   ]
  },
  {
   "cell_type": "code",
   "execution_count": 41,
   "metadata": {},
   "outputs": [],
   "source": [
    "tf_df_uniprot_subsampled.to_csv(\"human_transcription_factors_with_uniprot_ids_random_subset100.csv\", index=False)\n",
    "tf_df_uniprot_subsampled.to_csv(\"human_transcription_factors_with_uniprot_ids_random_subset100.csv.gz\", index=False)\n",
    "tf_df_uniprot_subsampled.to_parquet(\"human_transcription_factors_with_uniprot_ids_random_subset100.parquet\", index=False)"
   ]
  },
  {
   "cell_type": "markdown",
   "metadata": {},
   "source": [
    "## Read human proteins and subset to human tfs"
   ]
  },
  {
   "cell_type": "code",
   "execution_count": 37,
   "metadata": {},
   "outputs": [
    {
     "name": "stdout",
     "output_type": "stream",
     "text": [
      "100\n"
     ]
    }
   ],
   "source": [
    "tfs_uniprot_ids_subset = set(tf_df_uniprot_subsampled.uniprot_id)\n",
    "\n",
    "tf_records_subset = []\n",
    "\n",
    "for filename in iglob('Eukaryota/human-protein-fastas/*.fasta'):\n",
    "    with screed.open(filename) as records:\n",
    "        for record in records:\n",
    "            name = record['name']\n",
    "            record_id = name.split()[0]\n",
    "            uniprot_id = record_id.split('|')[1]\n",
    "            if uniprot_id in tfs_uniprot_ids_subset:\n",
    "                tf_records_subset.append(record)\n",
    "print(len(tf_records_subset))\n"
   ]
  },
  {
   "cell_type": "code",
   "execution_count": 38,
   "metadata": {},
   "outputs": [
    {
     "data": {
      "text/plain": [
       "[{'name': 'sp|A1A519|F170A_HUMAN Protein FAM170A OS=Homo sapiens OX=9606 GN=FAM170A PE=2 SV=1', 'sequence': 'MKRRQKRKHLENEESQETAEKGGGMSKSQEDALQPGSTRVAKGWSQGVGEVTSTSEYCSCVSSSRKLIHSGIQRIHRDSPQPQSPLAQVQERGETPPRSQHVSLSSYSSYKTCVSSLCVNKEERGMKIYYMQVQMNKGVAVSWETEETLESLEKQPRMEEVTLSEVVRVGTPPSDVSTRNLLSDSEPSGEEKEHEERTESDSLPGSPTVEDTPRAKTPDWLVTMENGFRCMACCRVFTTMEALQEHVQFGIREGFSCHVFHLTMAQLTGNMESESTQDEQEEENGNEKEEEEKPEAKEEEGQPTEEDLGLRRSWSQCPGCVFHSPKDRNS', 'description': ''},\n",
       " {'name': 'sp|A6NJ46|NKX63_HUMAN Homeobox protein Nkx-6.3 OS=Homo sapiens OX=9606 GN=NKX6-3 PE=2 SV=1', 'sequence': 'MESNLQGTFLLNNTPLAQFPEMKAPVCQYSVQNSFYKLSPPGLGPQLAAGTPHGITDILSRPVAAPNNSLLSGYPHVAGFGGLSSQGVYYSPQVGNFSKAGNEYPTRTRNCWADTGQDWRGGRQCSNTPDPLSDSIHKKKHTRPTFTGHQIFALEKTFEQTKYLAGPERARLAYSLGMTESQVKVWFQNRRTKWRKKSALEPSSSTPRAPGGAGAGAGGDRAPSENEDDEYNKPLDPDSDDEKIRLLLRKHRAAFSVLSLGAHSV', 'description': ''},\n",
       " {'name': 'sp|A8MWA4|Z705E_HUMAN Putative zinc finger protein 705E OS=Homo sapiens OX=9606 GN=ZNF705E PE=3 SV=2', 'sequence': 'MHSLKKVTFEDVAIDFTQEEWAMMDTSKRKLYRDVMLENISHLVSLGYQISKSYIILQLEQGKELWQEGREFLQDQNPDRESALKKTHMISMHPIIRKDAPTSMTMENSLILEDPFECNDSGEDCTHSSTIIQCLLTHSGKKPYVSKQCGKSLSNLLSPKPHKQIHTKGKSYQCNLCEKAYTNCFHLRRPKMTHTGERPYTCHLCRKAFTQCSHLRRHEKTHTGERPYKCHQCGKAFIQSFNLRRHERTHLGEKWYECDNSGKAFSQSSGFRGNKIIHTGEKPHACLLCGKAFSLSSDLR', 'description': ''}]"
      ]
     },
     "execution_count": 38,
     "metadata": {},
     "output_type": "execute_result"
    }
   ],
   "source": [
    "tf_records_subset[:3]"
   ]
  },
  {
   "cell_type": "markdown",
   "metadata": {},
   "source": [
    "## Write output"
   ]
  },
  {
   "cell_type": "code",
   "execution_count": 44,
   "metadata": {},
   "outputs": [
    {
     "name": "stdout",
     "output_type": "stream",
     "text": [
      "mkdir: cannot create directory ‘Eukaryota/human-transcription-factor-fastas-random-subset100/’: File exists\n"
     ]
    }
   ],
   "source": [
    "human_outdir_subset = 'Eukaryota/human-transcription-factor-fastas-random-subset100/'\n",
    "! mkdir $human_outdir_subset\n",
    "\n",
    "with open(f'{human_outdir_subset}/human_transcription_factor_proteins.fasta', 'w') as f:\n",
    "    for record in tf_records_subset:\n",
    "        f.write(\">{name}\\n{sequence}\\n\".format(**record))"
   ]
  },
  {
   "cell_type": "code",
   "execution_count": 43,
   "metadata": {},
   "outputs": [
    {
     "name": "stdout",
     "output_type": "stream",
     "text": [
      "total 33K\n",
      "drwxr-xr-x  2 olga czb 4.0K Jan 17 07:52 \u001b[0m\u001b[01;34m.\u001b[0m/\n",
      "drwxr-xr-x 12 olga czb  32K Jan 17 08:01 \u001b[01;34m..\u001b[0m/\n"
     ]
    }
   ],
   "source": [
    "ls -lha $human_outdir_subset"
   ]
  },
  {
   "cell_type": "code",
   "execution_count": null,
   "metadata": {},
   "outputs": [],
   "source": []
  }
 ],
 "metadata": {
  "kernelspec": {
   "display_name": "Python [conda env:khtools--encodings--compare-cli]",
   "language": "python",
   "name": "conda-env-khtools--encodings--compare-cli-py"
  },
  "language_info": {
   "codemirror_mode": {
    "name": "ipython",
    "version": 3
   },
   "file_extension": ".py",
   "mimetype": "text/x-python",
   "name": "python",
   "nbconvert_exporter": "python",
   "pygments_lexer": "ipython3",
   "version": "3.8.0"
  }
 },
 "nbformat": 4,
 "nbformat_minor": 4
}
