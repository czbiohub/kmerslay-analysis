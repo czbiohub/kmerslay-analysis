{
 "cells": [
  {
   "cell_type": "code",
   "execution_count": 8,
   "metadata": {},
   "outputs": [],
   "source": [
    "folder = '/home/olga/data_sm/kmer-hashing/quest-for-orthologs/data/2019'"
   ]
  },
  {
   "cell_type": "code",
   "execution_count": 9,
   "metadata": {},
   "outputs": [
    {
     "name": "stdout",
     "output_type": "stream",
     "text": [
      "/mnt/data_sm/olga/kmer-hashing/quest-for-orthologs/data/2019/Eukaryota/protein-fastas\n"
     ]
    }
   ],
   "source": [
    "cd $folder/Eukaryota/protein-fastas"
   ]
  },
  {
   "cell_type": "code",
   "execution_count": 2,
   "metadata": {},
   "outputs": [
    {
     "name": "stdout",
     "output_type": "stream",
     "text": [
      "Usage: khtools compare-kmers [OPTIONS] [FASTAS]...\n",
      "\n",
      "  Compute k-mer similarity of all pairwise sequences\n",
      "\n",
      "Options:\n",
      "  --alphabets TEXT         Which protein-coding alphabet to use for\n",
      "                           comparisons\n",
      "  --ksize-min INTEGER      k-mer sizes to use for comparison\n",
      "  --ksize-max INTEGER      k-mer sizes to use for comparison\n",
      "  --ksize-step INTEGER     k-mer sizes to use for comparison\n",
      "  --parquet TEXT           If provided, save table to a space-efficient and\n",
      "                           fast-IO Apache Parquet format file of this name.\n",
      "                           This format is compatible with Python/Pandas and R.\n",
      "  --no-csv                 Don't output csv to stdout\n",
      "  -p, --processes INTEGER  Number of processes to use for parallelization\n",
      "  -h, --help               Show this message and exit.\n"
     ]
    }
   ],
   "source": [
    "!khtools compare-kmers --help"
   ]
  },
  {
   "cell_type": "code",
   "execution_count": 4,
   "metadata": {},
   "outputs": [],
   "source": [
    "mkdir -p /home/olga/data_sm/kmer-hashing/quest-for-orthologs/analysis/2019"
   ]
  },
  {
   "cell_type": "code",
   "execution_count": 11,
   "metadata": {},
   "outputs": [],
   "source": [
    "parquet = '/home/olga/data_sm/kmer-hashing/quest-for-orthologs/analysis/2019/qfo-eukaryota-protein.parquet'"
   ]
  },
  {
   "cell_type": "code",
   "execution_count": null,
   "metadata": {},
   "outputs": [
    {
     "name": "stdout",
     "output_type": "stream",
     "text": [
      "\u001b[KCreated similarity func\n",
      "\u001b[KCalculated chunk size for multiprocessing\n",
      "\u001b[KInitialized multiprocessing pool.imap\n",
      "\u001b[Kcomparison for index 1232007 done in 1094.85567 seconds\r"
     ]
    }
   ],
   "source": [
    "!time khtools compare-kmers --processes 120 --ksize-min 3 --ksize-max 45 --no-csv --parquet $parquet *"
   ]
  },
  {
   "cell_type": "code",
   "execution_count": 13,
   "metadata": {},
   "outputs": [
    {
     "name": "stdout",
     "output_type": "stream",
     "text": [
      "Writing qfo_human_vs_all.sh\n"
     ]
    }
   ],
   "source": [
    "%%file qfo_human_vs_all.sh\n",
    "\n",
    "#!/bin/bash\n",
    "cd ~/data_sm/kmer-hashing/quest-for-orthologs/analysis/2019/intermediates\n",
    "\n",
    "PARQUET=/home/olga/data_sm/kmer-hashing/quest-for-orthologs/analysis/2019/qfo-eukaryota-protein.parquet\n",
    "HUMAN=/mnt/data_sm/olga/kmer-hashing/quest-for-orthologs/data/2019/Eukaryota/human-protein-fastas-concatenated/UP000005640.fasta\n",
    "NOT_HUMAN=/mnt/data_sm/olga/kmer-hashing/quest-for-orthologs/data/2019/Eukaryota/not-human-protein-fastas/\n",
    "\n",
    "conda activate khtools--encodings--compare-cli\n",
    "\n",
    "\n",
    "time khtools compare-kmers \\\n",
    "    --processes 120 \\\n",
    "    --ksize-min 3 \\\n",
    "    --ksize-max 45 \\\n",
    "    --no-csv \\\n",
    "    --parquet $PARQUET \\\n",
    "    --intermediate-parquet \\\n",
    "    --fastas2 $HUMAN \\\n",
    "    $NOT_HUMAN/*"
   ]
  },
  {
   "cell_type": "code",
   "execution_count": null,
   "metadata": {},
   "outputs": [],
   "source": []
  }
 ],
 "metadata": {
  "kernelspec": {
   "display_name": "Python [conda env:khtools--compare-kmers--encodings]",
   "language": "python",
   "name": "conda-env-khtools--compare-kmers--encodings-py"
  },
  "language_info": {
   "codemirror_mode": {
    "name": "ipython",
    "version": 3
   },
   "file_extension": ".py",
   "mimetype": "text/x-python",
   "name": "python",
   "nbconvert_exporter": "python",
   "pygments_lexer": "ipython3",
   "version": "3.8.0"
  }
 },
 "nbformat": 4,
 "nbformat_minor": 4
}
