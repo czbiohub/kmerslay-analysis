{
 "cells": [
  {
   "cell_type": "code",
   "execution_count": 23,
   "metadata": {},
   "outputs": [],
   "source": [
    "from glob import iglob\n",
    "import os\n",
    "\n",
    "import pandas as pd\n",
    "import screed\n",
    "import seaborn as sns\n",
    "from tqdm import tqdm"
   ]
  },
  {
   "cell_type": "markdown",
   "metadata": {},
   "source": [
    "# Change to Quest for Orthologs 2019 data directory"
   ]
  },
  {
   "cell_type": "code",
   "execution_count": 4,
   "metadata": {},
   "outputs": [
    {
     "name": "stdout",
     "output_type": "stream",
     "text": [
      "/mnt/data_sm/olga/kmer-hashing/quest-for-orthologs/data/2019\n"
     ]
    }
   ],
   "source": [
    "cd ~/data_sm/kmer-hashing/quest-for-orthologs/data/2019/"
   ]
  },
  {
   "cell_type": "code",
   "execution_count": 5,
   "metadata": {},
   "outputs": [
    {
     "name": "stdout",
     "output_type": "stream",
     "text": [
      "total 2.6G\n",
      "drwxr-xr-x 5 olga root 4.0K Jan  8 16:08 \u001b[0m\u001b[01;34m.\u001b[0m/\n",
      "drwxr-xr-x 3 olga root 4.0K Dec 25 17:48 \u001b[01;34m..\u001b[0m/\n",
      "drwxr-xr-x 5 olga czb  4.0K Dec 26 19:44 \u001b[01;34mArchaea\u001b[0m/\n",
      "drwxr-xr-x 5 olga czb   16K Dec 26 19:44 \u001b[01;34mBacteria\u001b[0m/\n",
      "drwxr-xr-x 8 olga czb   32K Jan  8 08:13 \u001b[01;34mEukaryota\u001b[0m/\n",
      "-rw-r--r-- 1 olga czb   64M Jan  8 16:08 opisthokont_not_human_transcription_factors_ensembl_compara.csv\n",
      "-rw-r--r-- 1 olga czb  2.6G Dec 25 18:46 \u001b[01;31mQfO_release_2019_04.tar.gz\u001b[0m\n",
      "-rw-r--r-- 1 olga czb   18K May 10  2019 README\n",
      "-rw-r--r-- 1 olga czb   12K Jan  8 07:47 species_metadata.csv\n"
     ]
    }
   ],
   "source": [
    "ls -lha"
   ]
  },
  {
   "cell_type": "markdown",
   "metadata": {},
   "source": [
    "# Download orthology and transcription factor data"
   ]
  },
  {
   "cell_type": "markdown",
   "metadata": {},
   "source": [
    "## Read orthologous transcription factors "
   ]
  },
  {
   "cell_type": "code",
   "execution_count": 107,
   "metadata": {},
   "outputs": [
    {
     "name": "stdout",
     "output_type": "stream",
     "text": [
      "(343153, 16)\n"
     ]
    },
    {
     "data": {
      "text/html": [
       "<div>\n",
       "<style scoped>\n",
       "    .dataframe tbody tr th:only-of-type {\n",
       "        vertical-align: middle;\n",
       "    }\n",
       "\n",
       "    .dataframe tbody tr th {\n",
       "        vertical-align: top;\n",
       "    }\n",
       "\n",
       "    .dataframe thead th {\n",
       "        text-align: right;\n",
       "    }\n",
       "</style>\n",
       "<table border=\"1\" class=\"dataframe\">\n",
       "  <thead>\n",
       "    <tr style=\"text-align: right;\">\n",
       "      <th></th>\n",
       "      <th>dn_ds</th>\n",
       "      <th>method_link_type</th>\n",
       "      <th>source__id</th>\n",
       "      <th>source__perc_id</th>\n",
       "      <th>source__perc_pos</th>\n",
       "      <th>source__protein_id</th>\n",
       "      <th>source__species</th>\n",
       "      <th>source__taxon_id</th>\n",
       "      <th>target__id</th>\n",
       "      <th>target__perc_id</th>\n",
       "      <th>target__perc_pos</th>\n",
       "      <th>target__protein_id</th>\n",
       "      <th>target__species</th>\n",
       "      <th>target__taxon_id</th>\n",
       "      <th>taxonomy_level</th>\n",
       "      <th>type</th>\n",
       "    </tr>\n",
       "  </thead>\n",
       "  <tbody>\n",
       "    <tr>\n",
       "      <th>0</th>\n",
       "      <td>NaN</td>\n",
       "      <td>ENSEMBL_PARALOGUES</td>\n",
       "      <td>ENSG00000267179</td>\n",
       "      <td>24.8792</td>\n",
       "      <td>37.1981</td>\n",
       "      <td>ENSP00000467286</td>\n",
       "      <td>homo_sapiens</td>\n",
       "      <td>9606</td>\n",
       "      <td>ENSG00000175787</td>\n",
       "      <td>17.0813</td>\n",
       "      <td>25.5390</td>\n",
       "      <td>ENSP00000378792</td>\n",
       "      <td>homo_sapiens</td>\n",
       "      <td>9606</td>\n",
       "      <td>Bilateria</td>\n",
       "      <td>other_paralog</td>\n",
       "    </tr>\n",
       "    <tr>\n",
       "      <th>1</th>\n",
       "      <td>NaN</td>\n",
       "      <td>ENSEMBL_PARALOGUES</td>\n",
       "      <td>ENSG00000267179</td>\n",
       "      <td>25.6039</td>\n",
       "      <td>37.1981</td>\n",
       "      <td>ENSP00000467286</td>\n",
       "      <td>homo_sapiens</td>\n",
       "      <td>9606</td>\n",
       "      <td>ENSG00000187815</td>\n",
       "      <td>20.1521</td>\n",
       "      <td>29.2776</td>\n",
       "      <td>ENSP00000361791</td>\n",
       "      <td>homo_sapiens</td>\n",
       "      <td>9606</td>\n",
       "      <td>Bilateria</td>\n",
       "      <td>other_paralog</td>\n",
       "    </tr>\n",
       "    <tr>\n",
       "      <th>2</th>\n",
       "      <td>0.35552</td>\n",
       "      <td>ENSEMBL_PARALOGUES</td>\n",
       "      <td>ENSG00000267179</td>\n",
       "      <td>26.3285</td>\n",
       "      <td>38.1642</td>\n",
       "      <td>ENSP00000467286</td>\n",
       "      <td>homo_sapiens</td>\n",
       "      <td>9606</td>\n",
       "      <td>ENSG00000172006</td>\n",
       "      <td>20.2602</td>\n",
       "      <td>29.3680</td>\n",
       "      <td>ENSP00000321132</td>\n",
       "      <td>homo_sapiens</td>\n",
       "      <td>9606</td>\n",
       "      <td>Bilateria</td>\n",
       "      <td>other_paralog</td>\n",
       "    </tr>\n",
       "    <tr>\n",
       "      <th>3</th>\n",
       "      <td>0.33996</td>\n",
       "      <td>ENSEMBL_PARALOGUES</td>\n",
       "      <td>ENSG00000267179</td>\n",
       "      <td>27.2947</td>\n",
       "      <td>38.8889</td>\n",
       "      <td>ENSP00000467286</td>\n",
       "      <td>homo_sapiens</td>\n",
       "      <td>9606</td>\n",
       "      <td>ENSG00000188629</td>\n",
       "      <td>23.4927</td>\n",
       "      <td>33.4719</td>\n",
       "      <td>ENSP00000415070</td>\n",
       "      <td>homo_sapiens</td>\n",
       "      <td>9606</td>\n",
       "      <td>Bilateria</td>\n",
       "      <td>other_paralog</td>\n",
       "    </tr>\n",
       "    <tr>\n",
       "      <th>4</th>\n",
       "      <td>0.18553</td>\n",
       "      <td>ENSEMBL_PARALOGUES</td>\n",
       "      <td>ENSG00000267179</td>\n",
       "      <td>20.2899</td>\n",
       "      <td>25.8454</td>\n",
       "      <td>ENSP00000467286</td>\n",
       "      <td>homo_sapiens</td>\n",
       "      <td>9606</td>\n",
       "      <td>ENSG00000270011</td>\n",
       "      <td>26.1682</td>\n",
       "      <td>33.3333</td>\n",
       "      <td>ENSP00000445323</td>\n",
       "      <td>homo_sapiens</td>\n",
       "      <td>9606</td>\n",
       "      <td>Bilateria</td>\n",
       "      <td>other_paralog</td>\n",
       "    </tr>\n",
       "  </tbody>\n",
       "</table>\n",
       "</div>"
      ],
      "text/plain": [
       "     dn_ds    method_link_type       source__id  source__perc_id  \\\n",
       "0      NaN  ENSEMBL_PARALOGUES  ENSG00000267179          24.8792   \n",
       "1      NaN  ENSEMBL_PARALOGUES  ENSG00000267179          25.6039   \n",
       "2  0.35552  ENSEMBL_PARALOGUES  ENSG00000267179          26.3285   \n",
       "3  0.33996  ENSEMBL_PARALOGUES  ENSG00000267179          27.2947   \n",
       "4  0.18553  ENSEMBL_PARALOGUES  ENSG00000267179          20.2899   \n",
       "\n",
       "   source__perc_pos source__protein_id source__species  source__taxon_id  \\\n",
       "0           37.1981    ENSP00000467286    homo_sapiens              9606   \n",
       "1           37.1981    ENSP00000467286    homo_sapiens              9606   \n",
       "2           38.1642    ENSP00000467286    homo_sapiens              9606   \n",
       "3           38.8889    ENSP00000467286    homo_sapiens              9606   \n",
       "4           25.8454    ENSP00000467286    homo_sapiens              9606   \n",
       "\n",
       "        target__id  target__perc_id  target__perc_pos target__protein_id  \\\n",
       "0  ENSG00000175787          17.0813           25.5390    ENSP00000378792   \n",
       "1  ENSG00000187815          20.1521           29.2776    ENSP00000361791   \n",
       "2  ENSG00000172006          20.2602           29.3680    ENSP00000321132   \n",
       "3  ENSG00000188629          23.4927           33.4719    ENSP00000415070   \n",
       "4  ENSG00000270011          26.1682           33.3333    ENSP00000445323   \n",
       "\n",
       "  target__species  target__taxon_id taxonomy_level           type  \n",
       "0    homo_sapiens              9606      Bilateria  other_paralog  \n",
       "1    homo_sapiens              9606      Bilateria  other_paralog  \n",
       "2    homo_sapiens              9606      Bilateria  other_paralog  \n",
       "3    homo_sapiens              9606      Bilateria  other_paralog  \n",
       "4    homo_sapiens              9606      Bilateria  other_paralog  "
      ]
     },
     "execution_count": 107,
     "metadata": {},
     "output_type": "execute_result"
    }
   ],
   "source": [
    "tfs_original = pd.read_csv('opisthokont_not_human_transcription_factors_ensembl_compara.csv')\n",
    "print(tfs_original.shape)\n",
    "tfs_original.head()"
   ]
  },
  {
   "cell_type": "markdown",
   "metadata": {},
   "source": [
    "## Read random subset of TFs"
   ]
  },
  {
   "cell_type": "code",
   "execution_count": 106,
   "metadata": {},
   "outputs": [
    {
     "name": "stdout",
     "output_type": "stream",
     "text": [
      "(100, 8)\n"
     ]
    },
    {
     "data": {
      "text/html": [
       "<div>\n",
       "<style scoped>\n",
       "    .dataframe tbody tr th:only-of-type {\n",
       "        vertical-align: middle;\n",
       "    }\n",
       "\n",
       "    .dataframe tbody tr th {\n",
       "        vertical-align: top;\n",
       "    }\n",
       "\n",
       "    .dataframe thead th {\n",
       "        text-align: right;\n",
       "    }\n",
       "</style>\n",
       "<table border=\"1\" class=\"dataframe\">\n",
       "  <thead>\n",
       "    <tr style=\"text-align: right;\">\n",
       "      <th></th>\n",
       "      <th>Gene</th>\n",
       "      <th>ID</th>\n",
       "      <th>DBD</th>\n",
       "      <th>Motif status (Feb 2018)(Link to human TFs annotation)</th>\n",
       "      <th>IUPAC consensus (from selected PWM)</th>\n",
       "      <th>uniprot_id</th>\n",
       "      <th>id_type</th>\n",
       "      <th>db_id</th>\n",
       "    </tr>\n",
       "  </thead>\n",
       "  <tbody>\n",
       "    <tr>\n",
       "      <th>0</th>\n",
       "      <td>TFCP2L1</td>\n",
       "      <td>ENSG00000115112</td>\n",
       "      <td>Grainyhead</td>\n",
       "      <td>Known motif – High-throughput in vitro [942]</td>\n",
       "      <td>DCYRGHNNNDDCYRGH</td>\n",
       "      <td>Q9NZI6</td>\n",
       "      <td>Ensembl</td>\n",
       "      <td>ENSG00000115112</td>\n",
       "    </tr>\n",
       "    <tr>\n",
       "      <th>1</th>\n",
       "      <td>PREB</td>\n",
       "      <td>ENSG00000138073</td>\n",
       "      <td>Unknown</td>\n",
       "      <td>Likely sequence specific TF according to liter...</td>\n",
       "      <td>NaN</td>\n",
       "      <td>H7C0W3</td>\n",
       "      <td>Ensembl</td>\n",
       "      <td>ENSG00000138073</td>\n",
       "    </tr>\n",
       "    <tr>\n",
       "      <th>2</th>\n",
       "      <td>BPTF</td>\n",
       "      <td>ENSG00000171634</td>\n",
       "      <td>Unknown</td>\n",
       "      <td>Known motif – In vivo/Misc source [79]</td>\n",
       "      <td>KKKNTTGTKKNV</td>\n",
       "      <td>J3KSY0</td>\n",
       "      <td>Ensembl</td>\n",
       "      <td>ENSG00000171634</td>\n",
       "    </tr>\n",
       "    <tr>\n",
       "      <th>3</th>\n",
       "      <td>MXI1</td>\n",
       "      <td>ENSG00000119950</td>\n",
       "      <td>bHLH</td>\n",
       "      <td>Known motif – In vivo/Misc source [553]</td>\n",
       "      <td>CCACGTGG</td>\n",
       "      <td>P50539</td>\n",
       "      <td>Ensembl</td>\n",
       "      <td>ENSG00000119950</td>\n",
       "    </tr>\n",
       "    <tr>\n",
       "      <th>4</th>\n",
       "      <td>HNF4A</td>\n",
       "      <td>ENSG00000101076</td>\n",
       "      <td>Nuclear receptor</td>\n",
       "      <td>Known motif – High-throughput in vitro [369]</td>\n",
       "      <td>VRGGTCAAAGTCCA</td>\n",
       "      <td>F8WBS7</td>\n",
       "      <td>Ensembl</td>\n",
       "      <td>ENSG00000101076</td>\n",
       "    </tr>\n",
       "  </tbody>\n",
       "</table>\n",
       "</div>"
      ],
      "text/plain": [
       "      Gene               ID               DBD  \\\n",
       "0  TFCP2L1  ENSG00000115112        Grainyhead   \n",
       "1     PREB  ENSG00000138073           Unknown   \n",
       "2     BPTF  ENSG00000171634           Unknown   \n",
       "3     MXI1  ENSG00000119950              bHLH   \n",
       "4    HNF4A  ENSG00000101076  Nuclear receptor   \n",
       "\n",
       "  Motif status (Feb 2018)(Link to human TFs annotation)  \\\n",
       "0       Known motif – High-throughput in vitro [942]      \n",
       "1  Likely sequence specific TF according to liter...      \n",
       "2             Known motif – In vivo/Misc source [79]      \n",
       "3            Known motif – In vivo/Misc source [553]      \n",
       "4       Known motif – High-throughput in vitro [369]      \n",
       "\n",
       "  IUPAC consensus (from selected PWM) uniprot_id  id_type            db_id  \n",
       "0                    DCYRGHNNNDDCYRGH     Q9NZI6  Ensembl  ENSG00000115112  \n",
       "1                                 NaN     H7C0W3  Ensembl  ENSG00000138073  \n",
       "2                        KKKNTTGTKKNV     J3KSY0  Ensembl  ENSG00000171634  \n",
       "3                            CCACGTGG     P50539  Ensembl  ENSG00000119950  \n",
       "4                      VRGGTCAAAGTCCA     F8WBS7  Ensembl  ENSG00000101076  "
      ]
     },
     "execution_count": 106,
     "metadata": {},
     "output_type": "execute_result"
    }
   ],
   "source": [
    "tfs_random_subset = pd.read_csv('human_transcription_factors_with_uniprot_ids_random_subset100.csv')\n",
    "print(tfs_random_subset.shape)\n",
    "tfs_random_subset.head()"
   ]
  },
  {
   "cell_type": "markdown",
   "metadata": {},
   "source": [
    "## Subset TF orthology to the random subset"
   ]
  },
  {
   "cell_type": "code",
   "execution_count": 108,
   "metadata": {},
   "outputs": [
    {
     "ename": "UndefinedVariableError",
     "evalue": "name 'source_id' is not defined",
     "output_type": "error",
     "traceback": [
      "\u001b[0;31m---------------------------------------------------------------------------\u001b[0m",
      "\u001b[0;31mKeyError\u001b[0m                                  Traceback (most recent call last)",
      "\u001b[0;32m~/miniconda3/envs/khtools--compare-kmers--encodings/lib/python3.8/site-packages/pandas/core/computation/scope.py\u001b[0m in \u001b[0;36mresolve\u001b[0;34m(self, key, is_local)\u001b[0m\n\u001b[1;32m    187\u001b[0m             \u001b[0;32mif\u001b[0m \u001b[0mself\u001b[0m\u001b[0;34m.\u001b[0m\u001b[0mhas_resolvers\u001b[0m\u001b[0;34m:\u001b[0m\u001b[0;34m\u001b[0m\u001b[0;34m\u001b[0m\u001b[0m\n\u001b[0;32m--> 188\u001b[0;31m                 \u001b[0;32mreturn\u001b[0m \u001b[0mself\u001b[0m\u001b[0;34m.\u001b[0m\u001b[0mresolvers\u001b[0m\u001b[0;34m[\u001b[0m\u001b[0mkey\u001b[0m\u001b[0;34m]\u001b[0m\u001b[0;34m\u001b[0m\u001b[0;34m\u001b[0m\u001b[0m\n\u001b[0m\u001b[1;32m    189\u001b[0m \u001b[0;34m\u001b[0m\u001b[0m\n",
      "\u001b[0;32m~/miniconda3/envs/khtools--compare-kmers--encodings/lib/python3.8/collections/__init__.py\u001b[0m in \u001b[0;36m__getitem__\u001b[0;34m(self, key)\u001b[0m\n\u001b[1;32m    890\u001b[0m                 \u001b[0;32mpass\u001b[0m\u001b[0;34m\u001b[0m\u001b[0;34m\u001b[0m\u001b[0m\n\u001b[0;32m--> 891\u001b[0;31m         \u001b[0;32mreturn\u001b[0m \u001b[0mself\u001b[0m\u001b[0;34m.\u001b[0m\u001b[0m__missing__\u001b[0m\u001b[0;34m(\u001b[0m\u001b[0mkey\u001b[0m\u001b[0;34m)\u001b[0m            \u001b[0;31m# support subclasses that define __missing__\u001b[0m\u001b[0;34m\u001b[0m\u001b[0;34m\u001b[0m\u001b[0m\n\u001b[0m\u001b[1;32m    892\u001b[0m \u001b[0;34m\u001b[0m\u001b[0m\n",
      "\u001b[0;32m~/miniconda3/envs/khtools--compare-kmers--encodings/lib/python3.8/collections/__init__.py\u001b[0m in \u001b[0;36m__missing__\u001b[0;34m(self, key)\u001b[0m\n\u001b[1;32m    882\u001b[0m     \u001b[0;32mdef\u001b[0m \u001b[0m__missing__\u001b[0m\u001b[0;34m(\u001b[0m\u001b[0mself\u001b[0m\u001b[0;34m,\u001b[0m \u001b[0mkey\u001b[0m\u001b[0;34m)\u001b[0m\u001b[0;34m:\u001b[0m\u001b[0;34m\u001b[0m\u001b[0;34m\u001b[0m\u001b[0m\n\u001b[0;32m--> 883\u001b[0;31m         \u001b[0;32mraise\u001b[0m \u001b[0mKeyError\u001b[0m\u001b[0;34m(\u001b[0m\u001b[0mkey\u001b[0m\u001b[0;34m)\u001b[0m\u001b[0;34m\u001b[0m\u001b[0;34m\u001b[0m\u001b[0m\n\u001b[0m\u001b[1;32m    884\u001b[0m \u001b[0;34m\u001b[0m\u001b[0m\n",
      "\u001b[0;31mKeyError\u001b[0m: 'source_id'",
      "\nDuring handling of the above exception, another exception occurred:\n",
      "\u001b[0;31mKeyError\u001b[0m                                  Traceback (most recent call last)",
      "\u001b[0;32m~/miniconda3/envs/khtools--compare-kmers--encodings/lib/python3.8/site-packages/pandas/core/computation/scope.py\u001b[0m in \u001b[0;36mresolve\u001b[0;34m(self, key, is_local)\u001b[0m\n\u001b[1;32m    198\u001b[0m                 \u001b[0;31m# e.g., df[df > 0]\u001b[0m\u001b[0;34m\u001b[0m\u001b[0;34m\u001b[0m\u001b[0;34m\u001b[0m\u001b[0m\n\u001b[0;32m--> 199\u001b[0;31m                 \u001b[0;32mreturn\u001b[0m \u001b[0mself\u001b[0m\u001b[0;34m.\u001b[0m\u001b[0mtemps\u001b[0m\u001b[0;34m[\u001b[0m\u001b[0mkey\u001b[0m\u001b[0;34m]\u001b[0m\u001b[0;34m\u001b[0m\u001b[0;34m\u001b[0m\u001b[0m\n\u001b[0m\u001b[1;32m    200\u001b[0m             \u001b[0;32mexcept\u001b[0m \u001b[0mKeyError\u001b[0m\u001b[0;34m:\u001b[0m\u001b[0;34m\u001b[0m\u001b[0;34m\u001b[0m\u001b[0m\n",
      "\u001b[0;31mKeyError\u001b[0m: 'source_id'",
      "\nDuring handling of the above exception, another exception occurred:\n",
      "\u001b[0;31mUndefinedVariableError\u001b[0m                    Traceback (most recent call last)",
      "\u001b[0;32m<ipython-input-108-379b14514963>\u001b[0m in \u001b[0;36m<module>\u001b[0;34m\u001b[0m\n\u001b[0;32m----> 1\u001b[0;31m \u001b[0mtfs\u001b[0m \u001b[0;34m=\u001b[0m \u001b[0mtfs_original\u001b[0m\u001b[0;34m.\u001b[0m\u001b[0mquery\u001b[0m\u001b[0;34m(\u001b[0m\u001b[0;34m'source_id in @tfs_random_subset.db_id'\u001b[0m\u001b[0;34m)\u001b[0m\u001b[0;34m\u001b[0m\u001b[0;34m\u001b[0m\u001b[0m\n\u001b[0m\u001b[1;32m      2\u001b[0m \u001b[0mprint\u001b[0m\u001b[0;34m(\u001b[0m\u001b[0mtfs\u001b[0m\u001b[0;34m.\u001b[0m\u001b[0mshape\u001b[0m\u001b[0;34m)\u001b[0m\u001b[0;34m\u001b[0m\u001b[0;34m\u001b[0m\u001b[0m\n\u001b[1;32m      3\u001b[0m \u001b[0mtfs\u001b[0m\u001b[0;34m.\u001b[0m\u001b[0mhead\u001b[0m\u001b[0;34m(\u001b[0m\u001b[0;34m)\u001b[0m\u001b[0;34m\u001b[0m\u001b[0;34m\u001b[0m\u001b[0m\n",
      "\u001b[0;32m~/miniconda3/envs/khtools--compare-kmers--encodings/lib/python3.8/site-packages/pandas/core/frame.py\u001b[0m in \u001b[0;36mquery\u001b[0;34m(self, expr, inplace, **kwargs)\u001b[0m\n\u001b[1;32m   3197\u001b[0m         \u001b[0mkwargs\u001b[0m\u001b[0;34m[\u001b[0m\u001b[0;34m\"level\"\u001b[0m\u001b[0;34m]\u001b[0m \u001b[0;34m=\u001b[0m \u001b[0mkwargs\u001b[0m\u001b[0;34m.\u001b[0m\u001b[0mpop\u001b[0m\u001b[0;34m(\u001b[0m\u001b[0;34m\"level\"\u001b[0m\u001b[0;34m,\u001b[0m \u001b[0;36m0\u001b[0m\u001b[0;34m)\u001b[0m \u001b[0;34m+\u001b[0m \u001b[0;36m1\u001b[0m\u001b[0;34m\u001b[0m\u001b[0;34m\u001b[0m\u001b[0m\n\u001b[1;32m   3198\u001b[0m         \u001b[0mkwargs\u001b[0m\u001b[0;34m[\u001b[0m\u001b[0;34m\"target\"\u001b[0m\u001b[0;34m]\u001b[0m \u001b[0;34m=\u001b[0m \u001b[0;32mNone\u001b[0m\u001b[0;34m\u001b[0m\u001b[0;34m\u001b[0m\u001b[0m\n\u001b[0;32m-> 3199\u001b[0;31m         \u001b[0mres\u001b[0m \u001b[0;34m=\u001b[0m \u001b[0mself\u001b[0m\u001b[0;34m.\u001b[0m\u001b[0meval\u001b[0m\u001b[0;34m(\u001b[0m\u001b[0mexpr\u001b[0m\u001b[0;34m,\u001b[0m \u001b[0;34m**\u001b[0m\u001b[0mkwargs\u001b[0m\u001b[0;34m)\u001b[0m\u001b[0;34m\u001b[0m\u001b[0;34m\u001b[0m\u001b[0m\n\u001b[0m\u001b[1;32m   3200\u001b[0m \u001b[0;34m\u001b[0m\u001b[0m\n\u001b[1;32m   3201\u001b[0m         \u001b[0;32mtry\u001b[0m\u001b[0;34m:\u001b[0m\u001b[0;34m\u001b[0m\u001b[0;34m\u001b[0m\u001b[0m\n",
      "\u001b[0;32m~/miniconda3/envs/khtools--compare-kmers--encodings/lib/python3.8/site-packages/pandas/core/frame.py\u001b[0m in \u001b[0;36meval\u001b[0;34m(self, expr, inplace, **kwargs)\u001b[0m\n\u001b[1;32m   3313\u001b[0m             \u001b[0mkwargs\u001b[0m\u001b[0;34m[\u001b[0m\u001b[0;34m\"target\"\u001b[0m\u001b[0;34m]\u001b[0m \u001b[0;34m=\u001b[0m \u001b[0mself\u001b[0m\u001b[0;34m\u001b[0m\u001b[0;34m\u001b[0m\u001b[0m\n\u001b[1;32m   3314\u001b[0m         \u001b[0mkwargs\u001b[0m\u001b[0;34m[\u001b[0m\u001b[0;34m\"resolvers\"\u001b[0m\u001b[0;34m]\u001b[0m \u001b[0;34m=\u001b[0m \u001b[0mkwargs\u001b[0m\u001b[0;34m.\u001b[0m\u001b[0mget\u001b[0m\u001b[0;34m(\u001b[0m\u001b[0;34m\"resolvers\"\u001b[0m\u001b[0;34m,\u001b[0m \u001b[0;34m(\u001b[0m\u001b[0;34m)\u001b[0m\u001b[0;34m)\u001b[0m \u001b[0;34m+\u001b[0m \u001b[0mtuple\u001b[0m\u001b[0;34m(\u001b[0m\u001b[0mresolvers\u001b[0m\u001b[0;34m)\u001b[0m\u001b[0;34m\u001b[0m\u001b[0;34m\u001b[0m\u001b[0m\n\u001b[0;32m-> 3315\u001b[0;31m         \u001b[0;32mreturn\u001b[0m \u001b[0m_eval\u001b[0m\u001b[0;34m(\u001b[0m\u001b[0mexpr\u001b[0m\u001b[0;34m,\u001b[0m \u001b[0minplace\u001b[0m\u001b[0;34m=\u001b[0m\u001b[0minplace\u001b[0m\u001b[0;34m,\u001b[0m \u001b[0;34m**\u001b[0m\u001b[0mkwargs\u001b[0m\u001b[0;34m)\u001b[0m\u001b[0;34m\u001b[0m\u001b[0;34m\u001b[0m\u001b[0m\n\u001b[0m\u001b[1;32m   3316\u001b[0m \u001b[0;34m\u001b[0m\u001b[0m\n\u001b[1;32m   3317\u001b[0m     \u001b[0;32mdef\u001b[0m \u001b[0mselect_dtypes\u001b[0m\u001b[0;34m(\u001b[0m\u001b[0mself\u001b[0m\u001b[0;34m,\u001b[0m \u001b[0minclude\u001b[0m\u001b[0;34m=\u001b[0m\u001b[0;32mNone\u001b[0m\u001b[0;34m,\u001b[0m \u001b[0mexclude\u001b[0m\u001b[0;34m=\u001b[0m\u001b[0;32mNone\u001b[0m\u001b[0;34m)\u001b[0m\u001b[0;34m:\u001b[0m\u001b[0;34m\u001b[0m\u001b[0;34m\u001b[0m\u001b[0m\n",
      "\u001b[0;32m~/miniconda3/envs/khtools--compare-kmers--encodings/lib/python3.8/site-packages/pandas/core/computation/eval.py\u001b[0m in \u001b[0;36meval\u001b[0;34m(expr, parser, engine, truediv, local_dict, global_dict, resolvers, level, target, inplace)\u001b[0m\n\u001b[1;32m    320\u001b[0m         )\n\u001b[1;32m    321\u001b[0m \u001b[0;34m\u001b[0m\u001b[0m\n\u001b[0;32m--> 322\u001b[0;31m         \u001b[0mparsed_expr\u001b[0m \u001b[0;34m=\u001b[0m \u001b[0mExpr\u001b[0m\u001b[0;34m(\u001b[0m\u001b[0mexpr\u001b[0m\u001b[0;34m,\u001b[0m \u001b[0mengine\u001b[0m\u001b[0;34m=\u001b[0m\u001b[0mengine\u001b[0m\u001b[0;34m,\u001b[0m \u001b[0mparser\u001b[0m\u001b[0;34m=\u001b[0m\u001b[0mparser\u001b[0m\u001b[0;34m,\u001b[0m \u001b[0menv\u001b[0m\u001b[0;34m=\u001b[0m\u001b[0menv\u001b[0m\u001b[0;34m,\u001b[0m \u001b[0mtruediv\u001b[0m\u001b[0;34m=\u001b[0m\u001b[0mtruediv\u001b[0m\u001b[0;34m)\u001b[0m\u001b[0;34m\u001b[0m\u001b[0;34m\u001b[0m\u001b[0m\n\u001b[0m\u001b[1;32m    323\u001b[0m \u001b[0;34m\u001b[0m\u001b[0m\n\u001b[1;32m    324\u001b[0m         \u001b[0;31m# construct the engine and evaluate the parsed expression\u001b[0m\u001b[0;34m\u001b[0m\u001b[0;34m\u001b[0m\u001b[0;34m\u001b[0m\u001b[0m\n",
      "\u001b[0;32m~/miniconda3/envs/khtools--compare-kmers--encodings/lib/python3.8/site-packages/pandas/core/computation/expr.py\u001b[0m in \u001b[0;36m__init__\u001b[0;34m(self, expr, engine, parser, env, truediv, level)\u001b[0m\n\u001b[1;32m    828\u001b[0m         \u001b[0mself\u001b[0m\u001b[0;34m.\u001b[0m\u001b[0menv\u001b[0m\u001b[0;34m.\u001b[0m\u001b[0mscope\u001b[0m\u001b[0;34m[\u001b[0m\u001b[0;34m\"truediv\"\u001b[0m\u001b[0;34m]\u001b[0m \u001b[0;34m=\u001b[0m \u001b[0mtruediv\u001b[0m\u001b[0;34m\u001b[0m\u001b[0;34m\u001b[0m\u001b[0m\n\u001b[1;32m    829\u001b[0m         \u001b[0mself\u001b[0m\u001b[0;34m.\u001b[0m\u001b[0m_visitor\u001b[0m \u001b[0;34m=\u001b[0m \u001b[0m_parsers\u001b[0m\u001b[0;34m[\u001b[0m\u001b[0mparser\u001b[0m\u001b[0;34m]\u001b[0m\u001b[0;34m(\u001b[0m\u001b[0mself\u001b[0m\u001b[0;34m.\u001b[0m\u001b[0menv\u001b[0m\u001b[0;34m,\u001b[0m \u001b[0mself\u001b[0m\u001b[0;34m.\u001b[0m\u001b[0mengine\u001b[0m\u001b[0;34m,\u001b[0m \u001b[0mself\u001b[0m\u001b[0;34m.\u001b[0m\u001b[0mparser\u001b[0m\u001b[0;34m)\u001b[0m\u001b[0;34m\u001b[0m\u001b[0;34m\u001b[0m\u001b[0m\n\u001b[0;32m--> 830\u001b[0;31m         \u001b[0mself\u001b[0m\u001b[0;34m.\u001b[0m\u001b[0mterms\u001b[0m \u001b[0;34m=\u001b[0m \u001b[0mself\u001b[0m\u001b[0;34m.\u001b[0m\u001b[0mparse\u001b[0m\u001b[0;34m(\u001b[0m\u001b[0;34m)\u001b[0m\u001b[0;34m\u001b[0m\u001b[0;34m\u001b[0m\u001b[0m\n\u001b[0m\u001b[1;32m    831\u001b[0m \u001b[0;34m\u001b[0m\u001b[0m\n\u001b[1;32m    832\u001b[0m     \u001b[0;34m@\u001b[0m\u001b[0mproperty\u001b[0m\u001b[0;34m\u001b[0m\u001b[0;34m\u001b[0m\u001b[0m\n",
      "\u001b[0;32m~/miniconda3/envs/khtools--compare-kmers--encodings/lib/python3.8/site-packages/pandas/core/computation/expr.py\u001b[0m in \u001b[0;36mparse\u001b[0;34m(self)\u001b[0m\n\u001b[1;32m    845\u001b[0m     \u001b[0;32mdef\u001b[0m \u001b[0mparse\u001b[0m\u001b[0;34m(\u001b[0m\u001b[0mself\u001b[0m\u001b[0;34m)\u001b[0m\u001b[0;34m:\u001b[0m\u001b[0;34m\u001b[0m\u001b[0;34m\u001b[0m\u001b[0m\n\u001b[1;32m    846\u001b[0m         \u001b[0;34m\"\"\"Parse an expression\"\"\"\u001b[0m\u001b[0;34m\u001b[0m\u001b[0;34m\u001b[0m\u001b[0m\n\u001b[0;32m--> 847\u001b[0;31m         \u001b[0;32mreturn\u001b[0m \u001b[0mself\u001b[0m\u001b[0;34m.\u001b[0m\u001b[0m_visitor\u001b[0m\u001b[0;34m.\u001b[0m\u001b[0mvisit\u001b[0m\u001b[0;34m(\u001b[0m\u001b[0mself\u001b[0m\u001b[0;34m.\u001b[0m\u001b[0mexpr\u001b[0m\u001b[0;34m)\u001b[0m\u001b[0;34m\u001b[0m\u001b[0;34m\u001b[0m\u001b[0m\n\u001b[0m\u001b[1;32m    848\u001b[0m \u001b[0;34m\u001b[0m\u001b[0m\n\u001b[1;32m    849\u001b[0m     \u001b[0;34m@\u001b[0m\u001b[0mproperty\u001b[0m\u001b[0;34m\u001b[0m\u001b[0;34m\u001b[0m\u001b[0m\n",
      "\u001b[0;32m~/miniconda3/envs/khtools--compare-kmers--encodings/lib/python3.8/site-packages/pandas/core/computation/expr.py\u001b[0m in \u001b[0;36mvisit\u001b[0;34m(self, node, **kwargs)\u001b[0m\n\u001b[1;32m    439\u001b[0m         \u001b[0mmethod\u001b[0m \u001b[0;34m=\u001b[0m \u001b[0;34m\"visit_\"\u001b[0m \u001b[0;34m+\u001b[0m \u001b[0mnode\u001b[0m\u001b[0;34m.\u001b[0m\u001b[0m__class__\u001b[0m\u001b[0;34m.\u001b[0m\u001b[0m__name__\u001b[0m\u001b[0;34m\u001b[0m\u001b[0;34m\u001b[0m\u001b[0m\n\u001b[1;32m    440\u001b[0m         \u001b[0mvisitor\u001b[0m \u001b[0;34m=\u001b[0m \u001b[0mgetattr\u001b[0m\u001b[0;34m(\u001b[0m\u001b[0mself\u001b[0m\u001b[0;34m,\u001b[0m \u001b[0mmethod\u001b[0m\u001b[0;34m)\u001b[0m\u001b[0;34m\u001b[0m\u001b[0;34m\u001b[0m\u001b[0m\n\u001b[0;32m--> 441\u001b[0;31m         \u001b[0;32mreturn\u001b[0m \u001b[0mvisitor\u001b[0m\u001b[0;34m(\u001b[0m\u001b[0mnode\u001b[0m\u001b[0;34m,\u001b[0m \u001b[0;34m**\u001b[0m\u001b[0mkwargs\u001b[0m\u001b[0;34m)\u001b[0m\u001b[0;34m\u001b[0m\u001b[0;34m\u001b[0m\u001b[0m\n\u001b[0m\u001b[1;32m    442\u001b[0m \u001b[0;34m\u001b[0m\u001b[0m\n\u001b[1;32m    443\u001b[0m     \u001b[0;32mdef\u001b[0m \u001b[0mvisit_Module\u001b[0m\u001b[0;34m(\u001b[0m\u001b[0mself\u001b[0m\u001b[0;34m,\u001b[0m \u001b[0mnode\u001b[0m\u001b[0;34m,\u001b[0m \u001b[0;34m**\u001b[0m\u001b[0mkwargs\u001b[0m\u001b[0;34m)\u001b[0m\u001b[0;34m:\u001b[0m\u001b[0;34m\u001b[0m\u001b[0;34m\u001b[0m\u001b[0m\n",
      "\u001b[0;32m~/miniconda3/envs/khtools--compare-kmers--encodings/lib/python3.8/site-packages/pandas/core/computation/expr.py\u001b[0m in \u001b[0;36mvisit_Module\u001b[0;34m(self, node, **kwargs)\u001b[0m\n\u001b[1;32m    445\u001b[0m             \u001b[0;32mraise\u001b[0m \u001b[0mSyntaxError\u001b[0m\u001b[0;34m(\u001b[0m\u001b[0;34m\"only a single expression is allowed\"\u001b[0m\u001b[0;34m)\u001b[0m\u001b[0;34m\u001b[0m\u001b[0;34m\u001b[0m\u001b[0m\n\u001b[1;32m    446\u001b[0m         \u001b[0mexpr\u001b[0m \u001b[0;34m=\u001b[0m \u001b[0mnode\u001b[0m\u001b[0;34m.\u001b[0m\u001b[0mbody\u001b[0m\u001b[0;34m[\u001b[0m\u001b[0;36m0\u001b[0m\u001b[0;34m]\u001b[0m\u001b[0;34m\u001b[0m\u001b[0;34m\u001b[0m\u001b[0m\n\u001b[0;32m--> 447\u001b[0;31m         \u001b[0;32mreturn\u001b[0m \u001b[0mself\u001b[0m\u001b[0;34m.\u001b[0m\u001b[0mvisit\u001b[0m\u001b[0;34m(\u001b[0m\u001b[0mexpr\u001b[0m\u001b[0;34m,\u001b[0m \u001b[0;34m**\u001b[0m\u001b[0mkwargs\u001b[0m\u001b[0;34m)\u001b[0m\u001b[0;34m\u001b[0m\u001b[0;34m\u001b[0m\u001b[0m\n\u001b[0m\u001b[1;32m    448\u001b[0m \u001b[0;34m\u001b[0m\u001b[0m\n\u001b[1;32m    449\u001b[0m     \u001b[0;32mdef\u001b[0m \u001b[0mvisit_Expr\u001b[0m\u001b[0;34m(\u001b[0m\u001b[0mself\u001b[0m\u001b[0;34m,\u001b[0m \u001b[0mnode\u001b[0m\u001b[0;34m,\u001b[0m \u001b[0;34m**\u001b[0m\u001b[0mkwargs\u001b[0m\u001b[0;34m)\u001b[0m\u001b[0;34m:\u001b[0m\u001b[0;34m\u001b[0m\u001b[0;34m\u001b[0m\u001b[0m\n",
      "\u001b[0;32m~/miniconda3/envs/khtools--compare-kmers--encodings/lib/python3.8/site-packages/pandas/core/computation/expr.py\u001b[0m in \u001b[0;36mvisit\u001b[0;34m(self, node, **kwargs)\u001b[0m\n\u001b[1;32m    439\u001b[0m         \u001b[0mmethod\u001b[0m \u001b[0;34m=\u001b[0m \u001b[0;34m\"visit_\"\u001b[0m \u001b[0;34m+\u001b[0m \u001b[0mnode\u001b[0m\u001b[0;34m.\u001b[0m\u001b[0m__class__\u001b[0m\u001b[0;34m.\u001b[0m\u001b[0m__name__\u001b[0m\u001b[0;34m\u001b[0m\u001b[0;34m\u001b[0m\u001b[0m\n\u001b[1;32m    440\u001b[0m         \u001b[0mvisitor\u001b[0m \u001b[0;34m=\u001b[0m \u001b[0mgetattr\u001b[0m\u001b[0;34m(\u001b[0m\u001b[0mself\u001b[0m\u001b[0;34m,\u001b[0m \u001b[0mmethod\u001b[0m\u001b[0;34m)\u001b[0m\u001b[0;34m\u001b[0m\u001b[0;34m\u001b[0m\u001b[0m\n\u001b[0;32m--> 441\u001b[0;31m         \u001b[0;32mreturn\u001b[0m \u001b[0mvisitor\u001b[0m\u001b[0;34m(\u001b[0m\u001b[0mnode\u001b[0m\u001b[0;34m,\u001b[0m \u001b[0;34m**\u001b[0m\u001b[0mkwargs\u001b[0m\u001b[0;34m)\u001b[0m\u001b[0;34m\u001b[0m\u001b[0;34m\u001b[0m\u001b[0m\n\u001b[0m\u001b[1;32m    442\u001b[0m \u001b[0;34m\u001b[0m\u001b[0m\n\u001b[1;32m    443\u001b[0m     \u001b[0;32mdef\u001b[0m \u001b[0mvisit_Module\u001b[0m\u001b[0;34m(\u001b[0m\u001b[0mself\u001b[0m\u001b[0;34m,\u001b[0m \u001b[0mnode\u001b[0m\u001b[0;34m,\u001b[0m \u001b[0;34m**\u001b[0m\u001b[0mkwargs\u001b[0m\u001b[0;34m)\u001b[0m\u001b[0;34m:\u001b[0m\u001b[0;34m\u001b[0m\u001b[0;34m\u001b[0m\u001b[0m\n",
      "\u001b[0;32m~/miniconda3/envs/khtools--compare-kmers--encodings/lib/python3.8/site-packages/pandas/core/computation/expr.py\u001b[0m in \u001b[0;36mvisit_Expr\u001b[0;34m(self, node, **kwargs)\u001b[0m\n\u001b[1;32m    448\u001b[0m \u001b[0;34m\u001b[0m\u001b[0m\n\u001b[1;32m    449\u001b[0m     \u001b[0;32mdef\u001b[0m \u001b[0mvisit_Expr\u001b[0m\u001b[0;34m(\u001b[0m\u001b[0mself\u001b[0m\u001b[0;34m,\u001b[0m \u001b[0mnode\u001b[0m\u001b[0;34m,\u001b[0m \u001b[0;34m**\u001b[0m\u001b[0mkwargs\u001b[0m\u001b[0;34m)\u001b[0m\u001b[0;34m:\u001b[0m\u001b[0;34m\u001b[0m\u001b[0;34m\u001b[0m\u001b[0m\n\u001b[0;32m--> 450\u001b[0;31m         \u001b[0;32mreturn\u001b[0m \u001b[0mself\u001b[0m\u001b[0;34m.\u001b[0m\u001b[0mvisit\u001b[0m\u001b[0;34m(\u001b[0m\u001b[0mnode\u001b[0m\u001b[0;34m.\u001b[0m\u001b[0mvalue\u001b[0m\u001b[0;34m,\u001b[0m \u001b[0;34m**\u001b[0m\u001b[0mkwargs\u001b[0m\u001b[0;34m)\u001b[0m\u001b[0;34m\u001b[0m\u001b[0;34m\u001b[0m\u001b[0m\n\u001b[0m\u001b[1;32m    451\u001b[0m \u001b[0;34m\u001b[0m\u001b[0m\n\u001b[1;32m    452\u001b[0m     \u001b[0;32mdef\u001b[0m \u001b[0m_rewrite_membership_op\u001b[0m\u001b[0;34m(\u001b[0m\u001b[0mself\u001b[0m\u001b[0;34m,\u001b[0m \u001b[0mnode\u001b[0m\u001b[0;34m,\u001b[0m \u001b[0mleft\u001b[0m\u001b[0;34m,\u001b[0m \u001b[0mright\u001b[0m\u001b[0;34m)\u001b[0m\u001b[0;34m:\u001b[0m\u001b[0;34m\u001b[0m\u001b[0;34m\u001b[0m\u001b[0m\n",
      "\u001b[0;32m~/miniconda3/envs/khtools--compare-kmers--encodings/lib/python3.8/site-packages/pandas/core/computation/expr.py\u001b[0m in \u001b[0;36mvisit\u001b[0;34m(self, node, **kwargs)\u001b[0m\n\u001b[1;32m    439\u001b[0m         \u001b[0mmethod\u001b[0m \u001b[0;34m=\u001b[0m \u001b[0;34m\"visit_\"\u001b[0m \u001b[0;34m+\u001b[0m \u001b[0mnode\u001b[0m\u001b[0;34m.\u001b[0m\u001b[0m__class__\u001b[0m\u001b[0;34m.\u001b[0m\u001b[0m__name__\u001b[0m\u001b[0;34m\u001b[0m\u001b[0;34m\u001b[0m\u001b[0m\n\u001b[1;32m    440\u001b[0m         \u001b[0mvisitor\u001b[0m \u001b[0;34m=\u001b[0m \u001b[0mgetattr\u001b[0m\u001b[0;34m(\u001b[0m\u001b[0mself\u001b[0m\u001b[0;34m,\u001b[0m \u001b[0mmethod\u001b[0m\u001b[0;34m)\u001b[0m\u001b[0;34m\u001b[0m\u001b[0;34m\u001b[0m\u001b[0m\n\u001b[0;32m--> 441\u001b[0;31m         \u001b[0;32mreturn\u001b[0m \u001b[0mvisitor\u001b[0m\u001b[0;34m(\u001b[0m\u001b[0mnode\u001b[0m\u001b[0;34m,\u001b[0m \u001b[0;34m**\u001b[0m\u001b[0mkwargs\u001b[0m\u001b[0;34m)\u001b[0m\u001b[0;34m\u001b[0m\u001b[0;34m\u001b[0m\u001b[0m\n\u001b[0m\u001b[1;32m    442\u001b[0m \u001b[0;34m\u001b[0m\u001b[0m\n\u001b[1;32m    443\u001b[0m     \u001b[0;32mdef\u001b[0m \u001b[0mvisit_Module\u001b[0m\u001b[0;34m(\u001b[0m\u001b[0mself\u001b[0m\u001b[0;34m,\u001b[0m \u001b[0mnode\u001b[0m\u001b[0;34m,\u001b[0m \u001b[0;34m**\u001b[0m\u001b[0mkwargs\u001b[0m\u001b[0;34m)\u001b[0m\u001b[0;34m:\u001b[0m\u001b[0;34m\u001b[0m\u001b[0;34m\u001b[0m\u001b[0m\n",
      "\u001b[0;32m~/miniconda3/envs/khtools--compare-kmers--encodings/lib/python3.8/site-packages/pandas/core/computation/expr.py\u001b[0m in \u001b[0;36mvisit_Compare\u001b[0;34m(self, node, **kwargs)\u001b[0m\n\u001b[1;32m    745\u001b[0m             \u001b[0mop\u001b[0m \u001b[0;34m=\u001b[0m \u001b[0mself\u001b[0m\u001b[0;34m.\u001b[0m\u001b[0mtranslate_In\u001b[0m\u001b[0;34m(\u001b[0m\u001b[0mops\u001b[0m\u001b[0;34m[\u001b[0m\u001b[0;36m0\u001b[0m\u001b[0;34m]\u001b[0m\u001b[0;34m)\u001b[0m\u001b[0;34m\u001b[0m\u001b[0;34m\u001b[0m\u001b[0m\n\u001b[1;32m    746\u001b[0m             \u001b[0mbinop\u001b[0m \u001b[0;34m=\u001b[0m \u001b[0mast\u001b[0m\u001b[0;34m.\u001b[0m\u001b[0mBinOp\u001b[0m\u001b[0;34m(\u001b[0m\u001b[0mop\u001b[0m\u001b[0;34m=\u001b[0m\u001b[0mop\u001b[0m\u001b[0;34m,\u001b[0m \u001b[0mleft\u001b[0m\u001b[0;34m=\u001b[0m\u001b[0mnode\u001b[0m\u001b[0;34m.\u001b[0m\u001b[0mleft\u001b[0m\u001b[0;34m,\u001b[0m \u001b[0mright\u001b[0m\u001b[0;34m=\u001b[0m\u001b[0mcomps\u001b[0m\u001b[0;34m[\u001b[0m\u001b[0;36m0\u001b[0m\u001b[0;34m]\u001b[0m\u001b[0;34m)\u001b[0m\u001b[0;34m\u001b[0m\u001b[0;34m\u001b[0m\u001b[0m\n\u001b[0;32m--> 747\u001b[0;31m             \u001b[0;32mreturn\u001b[0m \u001b[0mself\u001b[0m\u001b[0;34m.\u001b[0m\u001b[0mvisit\u001b[0m\u001b[0;34m(\u001b[0m\u001b[0mbinop\u001b[0m\u001b[0;34m)\u001b[0m\u001b[0;34m\u001b[0m\u001b[0;34m\u001b[0m\u001b[0m\n\u001b[0m\u001b[1;32m    748\u001b[0m \u001b[0;34m\u001b[0m\u001b[0m\n\u001b[1;32m    749\u001b[0m         \u001b[0;31m# recursive case: we have a chained comparison, a CMP b CMP c, etc.\u001b[0m\u001b[0;34m\u001b[0m\u001b[0;34m\u001b[0m\u001b[0;34m\u001b[0m\u001b[0m\n",
      "\u001b[0;32m~/miniconda3/envs/khtools--compare-kmers--encodings/lib/python3.8/site-packages/pandas/core/computation/expr.py\u001b[0m in \u001b[0;36mvisit\u001b[0;34m(self, node, **kwargs)\u001b[0m\n\u001b[1;32m    439\u001b[0m         \u001b[0mmethod\u001b[0m \u001b[0;34m=\u001b[0m \u001b[0;34m\"visit_\"\u001b[0m \u001b[0;34m+\u001b[0m \u001b[0mnode\u001b[0m\u001b[0;34m.\u001b[0m\u001b[0m__class__\u001b[0m\u001b[0;34m.\u001b[0m\u001b[0m__name__\u001b[0m\u001b[0;34m\u001b[0m\u001b[0;34m\u001b[0m\u001b[0m\n\u001b[1;32m    440\u001b[0m         \u001b[0mvisitor\u001b[0m \u001b[0;34m=\u001b[0m \u001b[0mgetattr\u001b[0m\u001b[0;34m(\u001b[0m\u001b[0mself\u001b[0m\u001b[0;34m,\u001b[0m \u001b[0mmethod\u001b[0m\u001b[0;34m)\u001b[0m\u001b[0;34m\u001b[0m\u001b[0;34m\u001b[0m\u001b[0m\n\u001b[0;32m--> 441\u001b[0;31m         \u001b[0;32mreturn\u001b[0m \u001b[0mvisitor\u001b[0m\u001b[0;34m(\u001b[0m\u001b[0mnode\u001b[0m\u001b[0;34m,\u001b[0m \u001b[0;34m**\u001b[0m\u001b[0mkwargs\u001b[0m\u001b[0;34m)\u001b[0m\u001b[0;34m\u001b[0m\u001b[0;34m\u001b[0m\u001b[0m\n\u001b[0m\u001b[1;32m    442\u001b[0m \u001b[0;34m\u001b[0m\u001b[0m\n\u001b[1;32m    443\u001b[0m     \u001b[0;32mdef\u001b[0m \u001b[0mvisit_Module\u001b[0m\u001b[0;34m(\u001b[0m\u001b[0mself\u001b[0m\u001b[0;34m,\u001b[0m \u001b[0mnode\u001b[0m\u001b[0;34m,\u001b[0m \u001b[0;34m**\u001b[0m\u001b[0mkwargs\u001b[0m\u001b[0;34m)\u001b[0m\u001b[0;34m:\u001b[0m\u001b[0;34m\u001b[0m\u001b[0;34m\u001b[0m\u001b[0m\n",
      "\u001b[0;32m~/miniconda3/envs/khtools--compare-kmers--encodings/lib/python3.8/site-packages/pandas/core/computation/expr.py\u001b[0m in \u001b[0;36mvisit_BinOp\u001b[0;34m(self, node, **kwargs)\u001b[0m\n\u001b[1;32m    561\u001b[0m \u001b[0;34m\u001b[0m\u001b[0m\n\u001b[1;32m    562\u001b[0m     \u001b[0;32mdef\u001b[0m \u001b[0mvisit_BinOp\u001b[0m\u001b[0;34m(\u001b[0m\u001b[0mself\u001b[0m\u001b[0;34m,\u001b[0m \u001b[0mnode\u001b[0m\u001b[0;34m,\u001b[0m \u001b[0;34m**\u001b[0m\u001b[0mkwargs\u001b[0m\u001b[0;34m)\u001b[0m\u001b[0;34m:\u001b[0m\u001b[0;34m\u001b[0m\u001b[0;34m\u001b[0m\u001b[0m\n\u001b[0;32m--> 563\u001b[0;31m         \u001b[0mop\u001b[0m\u001b[0;34m,\u001b[0m \u001b[0mop_class\u001b[0m\u001b[0;34m,\u001b[0m \u001b[0mleft\u001b[0m\u001b[0;34m,\u001b[0m \u001b[0mright\u001b[0m \u001b[0;34m=\u001b[0m \u001b[0mself\u001b[0m\u001b[0;34m.\u001b[0m\u001b[0m_maybe_transform_eq_ne\u001b[0m\u001b[0;34m(\u001b[0m\u001b[0mnode\u001b[0m\u001b[0;34m)\u001b[0m\u001b[0;34m\u001b[0m\u001b[0;34m\u001b[0m\u001b[0m\n\u001b[0m\u001b[1;32m    564\u001b[0m         \u001b[0mleft\u001b[0m\u001b[0;34m,\u001b[0m \u001b[0mright\u001b[0m \u001b[0;34m=\u001b[0m \u001b[0mself\u001b[0m\u001b[0;34m.\u001b[0m\u001b[0m_maybe_downcast_constants\u001b[0m\u001b[0;34m(\u001b[0m\u001b[0mleft\u001b[0m\u001b[0;34m,\u001b[0m \u001b[0mright\u001b[0m\u001b[0;34m)\u001b[0m\u001b[0;34m\u001b[0m\u001b[0;34m\u001b[0m\u001b[0m\n\u001b[1;32m    565\u001b[0m         \u001b[0;32mreturn\u001b[0m \u001b[0mself\u001b[0m\u001b[0;34m.\u001b[0m\u001b[0m_maybe_evaluate_binop\u001b[0m\u001b[0;34m(\u001b[0m\u001b[0mop\u001b[0m\u001b[0;34m,\u001b[0m \u001b[0mop_class\u001b[0m\u001b[0;34m,\u001b[0m \u001b[0mleft\u001b[0m\u001b[0;34m,\u001b[0m \u001b[0mright\u001b[0m\u001b[0;34m)\u001b[0m\u001b[0;34m\u001b[0m\u001b[0;34m\u001b[0m\u001b[0m\n",
      "\u001b[0;32m~/miniconda3/envs/khtools--compare-kmers--encodings/lib/python3.8/site-packages/pandas/core/computation/expr.py\u001b[0m in \u001b[0;36m_maybe_transform_eq_ne\u001b[0;34m(self, node, left, right)\u001b[0m\n\u001b[1;32m    480\u001b[0m     \u001b[0;32mdef\u001b[0m \u001b[0m_maybe_transform_eq_ne\u001b[0m\u001b[0;34m(\u001b[0m\u001b[0mself\u001b[0m\u001b[0;34m,\u001b[0m \u001b[0mnode\u001b[0m\u001b[0;34m,\u001b[0m \u001b[0mleft\u001b[0m\u001b[0;34m=\u001b[0m\u001b[0;32mNone\u001b[0m\u001b[0;34m,\u001b[0m \u001b[0mright\u001b[0m\u001b[0;34m=\u001b[0m\u001b[0;32mNone\u001b[0m\u001b[0;34m)\u001b[0m\u001b[0;34m:\u001b[0m\u001b[0;34m\u001b[0m\u001b[0;34m\u001b[0m\u001b[0m\n\u001b[1;32m    481\u001b[0m         \u001b[0;32mif\u001b[0m \u001b[0mleft\u001b[0m \u001b[0;32mis\u001b[0m \u001b[0;32mNone\u001b[0m\u001b[0;34m:\u001b[0m\u001b[0;34m\u001b[0m\u001b[0;34m\u001b[0m\u001b[0m\n\u001b[0;32m--> 482\u001b[0;31m             \u001b[0mleft\u001b[0m \u001b[0;34m=\u001b[0m \u001b[0mself\u001b[0m\u001b[0;34m.\u001b[0m\u001b[0mvisit\u001b[0m\u001b[0;34m(\u001b[0m\u001b[0mnode\u001b[0m\u001b[0;34m.\u001b[0m\u001b[0mleft\u001b[0m\u001b[0;34m,\u001b[0m \u001b[0mside\u001b[0m\u001b[0;34m=\u001b[0m\u001b[0;34m\"left\"\u001b[0m\u001b[0;34m)\u001b[0m\u001b[0;34m\u001b[0m\u001b[0;34m\u001b[0m\u001b[0m\n\u001b[0m\u001b[1;32m    483\u001b[0m         \u001b[0;32mif\u001b[0m \u001b[0mright\u001b[0m \u001b[0;32mis\u001b[0m \u001b[0;32mNone\u001b[0m\u001b[0;34m:\u001b[0m\u001b[0;34m\u001b[0m\u001b[0;34m\u001b[0m\u001b[0m\n\u001b[1;32m    484\u001b[0m             \u001b[0mright\u001b[0m \u001b[0;34m=\u001b[0m \u001b[0mself\u001b[0m\u001b[0;34m.\u001b[0m\u001b[0mvisit\u001b[0m\u001b[0;34m(\u001b[0m\u001b[0mnode\u001b[0m\u001b[0;34m.\u001b[0m\u001b[0mright\u001b[0m\u001b[0;34m,\u001b[0m \u001b[0mside\u001b[0m\u001b[0;34m=\u001b[0m\u001b[0;34m\"right\"\u001b[0m\u001b[0;34m)\u001b[0m\u001b[0;34m\u001b[0m\u001b[0;34m\u001b[0m\u001b[0m\n",
      "\u001b[0;32m~/miniconda3/envs/khtools--compare-kmers--encodings/lib/python3.8/site-packages/pandas/core/computation/expr.py\u001b[0m in \u001b[0;36mvisit\u001b[0;34m(self, node, **kwargs)\u001b[0m\n\u001b[1;32m    439\u001b[0m         \u001b[0mmethod\u001b[0m \u001b[0;34m=\u001b[0m \u001b[0;34m\"visit_\"\u001b[0m \u001b[0;34m+\u001b[0m \u001b[0mnode\u001b[0m\u001b[0;34m.\u001b[0m\u001b[0m__class__\u001b[0m\u001b[0;34m.\u001b[0m\u001b[0m__name__\u001b[0m\u001b[0;34m\u001b[0m\u001b[0;34m\u001b[0m\u001b[0m\n\u001b[1;32m    440\u001b[0m         \u001b[0mvisitor\u001b[0m \u001b[0;34m=\u001b[0m \u001b[0mgetattr\u001b[0m\u001b[0;34m(\u001b[0m\u001b[0mself\u001b[0m\u001b[0;34m,\u001b[0m \u001b[0mmethod\u001b[0m\u001b[0;34m)\u001b[0m\u001b[0;34m\u001b[0m\u001b[0;34m\u001b[0m\u001b[0m\n\u001b[0;32m--> 441\u001b[0;31m         \u001b[0;32mreturn\u001b[0m \u001b[0mvisitor\u001b[0m\u001b[0;34m(\u001b[0m\u001b[0mnode\u001b[0m\u001b[0;34m,\u001b[0m \u001b[0;34m**\u001b[0m\u001b[0mkwargs\u001b[0m\u001b[0;34m)\u001b[0m\u001b[0;34m\u001b[0m\u001b[0;34m\u001b[0m\u001b[0m\n\u001b[0m\u001b[1;32m    442\u001b[0m \u001b[0;34m\u001b[0m\u001b[0m\n\u001b[1;32m    443\u001b[0m     \u001b[0;32mdef\u001b[0m \u001b[0mvisit_Module\u001b[0m\u001b[0;34m(\u001b[0m\u001b[0mself\u001b[0m\u001b[0;34m,\u001b[0m \u001b[0mnode\u001b[0m\u001b[0;34m,\u001b[0m \u001b[0;34m**\u001b[0m\u001b[0mkwargs\u001b[0m\u001b[0;34m)\u001b[0m\u001b[0;34m:\u001b[0m\u001b[0;34m\u001b[0m\u001b[0;34m\u001b[0m\u001b[0m\n",
      "\u001b[0;32m~/miniconda3/envs/khtools--compare-kmers--encodings/lib/python3.8/site-packages/pandas/core/computation/expr.py\u001b[0m in \u001b[0;36mvisit_Name\u001b[0;34m(self, node, **kwargs)\u001b[0m\n\u001b[1;32m    575\u001b[0m \u001b[0;34m\u001b[0m\u001b[0m\n\u001b[1;32m    576\u001b[0m     \u001b[0;32mdef\u001b[0m \u001b[0mvisit_Name\u001b[0m\u001b[0;34m(\u001b[0m\u001b[0mself\u001b[0m\u001b[0;34m,\u001b[0m \u001b[0mnode\u001b[0m\u001b[0;34m,\u001b[0m \u001b[0;34m**\u001b[0m\u001b[0mkwargs\u001b[0m\u001b[0;34m)\u001b[0m\u001b[0;34m:\u001b[0m\u001b[0;34m\u001b[0m\u001b[0;34m\u001b[0m\u001b[0m\n\u001b[0;32m--> 577\u001b[0;31m         \u001b[0;32mreturn\u001b[0m \u001b[0mself\u001b[0m\u001b[0;34m.\u001b[0m\u001b[0mterm_type\u001b[0m\u001b[0;34m(\u001b[0m\u001b[0mnode\u001b[0m\u001b[0;34m.\u001b[0m\u001b[0mid\u001b[0m\u001b[0;34m,\u001b[0m \u001b[0mself\u001b[0m\u001b[0;34m.\u001b[0m\u001b[0menv\u001b[0m\u001b[0;34m,\u001b[0m \u001b[0;34m**\u001b[0m\u001b[0mkwargs\u001b[0m\u001b[0;34m)\u001b[0m\u001b[0;34m\u001b[0m\u001b[0;34m\u001b[0m\u001b[0m\n\u001b[0m\u001b[1;32m    578\u001b[0m \u001b[0;34m\u001b[0m\u001b[0m\n\u001b[1;32m    579\u001b[0m     \u001b[0;32mdef\u001b[0m \u001b[0mvisit_NameConstant\u001b[0m\u001b[0;34m(\u001b[0m\u001b[0mself\u001b[0m\u001b[0;34m,\u001b[0m \u001b[0mnode\u001b[0m\u001b[0;34m,\u001b[0m \u001b[0;34m**\u001b[0m\u001b[0mkwargs\u001b[0m\u001b[0;34m)\u001b[0m\u001b[0;34m:\u001b[0m\u001b[0;34m\u001b[0m\u001b[0;34m\u001b[0m\u001b[0m\n",
      "\u001b[0;32m~/miniconda3/envs/khtools--compare-kmers--encodings/lib/python3.8/site-packages/pandas/core/computation/ops.py\u001b[0m in \u001b[0;36m__init__\u001b[0;34m(self, name, env, side, encoding)\u001b[0m\n\u001b[1;32m     76\u001b[0m         \u001b[0mtname\u001b[0m \u001b[0;34m=\u001b[0m \u001b[0mstr\u001b[0m\u001b[0;34m(\u001b[0m\u001b[0mname\u001b[0m\u001b[0;34m)\u001b[0m\u001b[0;34m\u001b[0m\u001b[0;34m\u001b[0m\u001b[0m\n\u001b[1;32m     77\u001b[0m         \u001b[0mself\u001b[0m\u001b[0;34m.\u001b[0m\u001b[0mis_local\u001b[0m \u001b[0;34m=\u001b[0m \u001b[0mtname\u001b[0m\u001b[0;34m.\u001b[0m\u001b[0mstartswith\u001b[0m\u001b[0;34m(\u001b[0m\u001b[0m_LOCAL_TAG\u001b[0m\u001b[0;34m)\u001b[0m \u001b[0;32mor\u001b[0m \u001b[0mtname\u001b[0m \u001b[0;32min\u001b[0m \u001b[0m_DEFAULT_GLOBALS\u001b[0m\u001b[0;34m\u001b[0m\u001b[0;34m\u001b[0m\u001b[0m\n\u001b[0;32m---> 78\u001b[0;31m         \u001b[0mself\u001b[0m\u001b[0;34m.\u001b[0m\u001b[0m_value\u001b[0m \u001b[0;34m=\u001b[0m \u001b[0mself\u001b[0m\u001b[0;34m.\u001b[0m\u001b[0m_resolve_name\u001b[0m\u001b[0;34m(\u001b[0m\u001b[0;34m)\u001b[0m\u001b[0;34m\u001b[0m\u001b[0;34m\u001b[0m\u001b[0m\n\u001b[0m\u001b[1;32m     79\u001b[0m         \u001b[0mself\u001b[0m\u001b[0;34m.\u001b[0m\u001b[0mencoding\u001b[0m \u001b[0;34m=\u001b[0m \u001b[0mencoding\u001b[0m\u001b[0;34m\u001b[0m\u001b[0;34m\u001b[0m\u001b[0m\n\u001b[1;32m     80\u001b[0m \u001b[0;34m\u001b[0m\u001b[0m\n",
      "\u001b[0;32m~/miniconda3/envs/khtools--compare-kmers--encodings/lib/python3.8/site-packages/pandas/core/computation/ops.py\u001b[0m in \u001b[0;36m_resolve_name\u001b[0;34m(self)\u001b[0m\n\u001b[1;32m     93\u001b[0m \u001b[0;34m\u001b[0m\u001b[0m\n\u001b[1;32m     94\u001b[0m     \u001b[0;32mdef\u001b[0m \u001b[0m_resolve_name\u001b[0m\u001b[0;34m(\u001b[0m\u001b[0mself\u001b[0m\u001b[0;34m)\u001b[0m\u001b[0;34m:\u001b[0m\u001b[0;34m\u001b[0m\u001b[0;34m\u001b[0m\u001b[0m\n\u001b[0;32m---> 95\u001b[0;31m         \u001b[0mres\u001b[0m \u001b[0;34m=\u001b[0m \u001b[0mself\u001b[0m\u001b[0;34m.\u001b[0m\u001b[0menv\u001b[0m\u001b[0;34m.\u001b[0m\u001b[0mresolve\u001b[0m\u001b[0;34m(\u001b[0m\u001b[0mself\u001b[0m\u001b[0;34m.\u001b[0m\u001b[0mlocal_name\u001b[0m\u001b[0;34m,\u001b[0m \u001b[0mis_local\u001b[0m\u001b[0;34m=\u001b[0m\u001b[0mself\u001b[0m\u001b[0;34m.\u001b[0m\u001b[0mis_local\u001b[0m\u001b[0;34m)\u001b[0m\u001b[0;34m\u001b[0m\u001b[0;34m\u001b[0m\u001b[0m\n\u001b[0m\u001b[1;32m     96\u001b[0m         \u001b[0mself\u001b[0m\u001b[0;34m.\u001b[0m\u001b[0mupdate\u001b[0m\u001b[0;34m(\u001b[0m\u001b[0mres\u001b[0m\u001b[0;34m)\u001b[0m\u001b[0;34m\u001b[0m\u001b[0;34m\u001b[0m\u001b[0m\n\u001b[1;32m     97\u001b[0m \u001b[0;34m\u001b[0m\u001b[0m\n",
      "\u001b[0;32m~/miniconda3/envs/khtools--compare-kmers--encodings/lib/python3.8/site-packages/pandas/core/computation/scope.py\u001b[0m in \u001b[0;36mresolve\u001b[0;34m(self, key, is_local)\u001b[0m\n\u001b[1;32m    199\u001b[0m                 \u001b[0;32mreturn\u001b[0m \u001b[0mself\u001b[0m\u001b[0;34m.\u001b[0m\u001b[0mtemps\u001b[0m\u001b[0;34m[\u001b[0m\u001b[0mkey\u001b[0m\u001b[0;34m]\u001b[0m\u001b[0;34m\u001b[0m\u001b[0;34m\u001b[0m\u001b[0m\n\u001b[1;32m    200\u001b[0m             \u001b[0;32mexcept\u001b[0m \u001b[0mKeyError\u001b[0m\u001b[0;34m:\u001b[0m\u001b[0;34m\u001b[0m\u001b[0;34m\u001b[0m\u001b[0m\n\u001b[0;32m--> 201\u001b[0;31m                 \u001b[0;32mraise\u001b[0m \u001b[0mcompu\u001b[0m\u001b[0;34m.\u001b[0m\u001b[0mops\u001b[0m\u001b[0;34m.\u001b[0m\u001b[0mUndefinedVariableError\u001b[0m\u001b[0;34m(\u001b[0m\u001b[0mkey\u001b[0m\u001b[0;34m,\u001b[0m \u001b[0mis_local\u001b[0m\u001b[0;34m)\u001b[0m\u001b[0;34m\u001b[0m\u001b[0;34m\u001b[0m\u001b[0m\n\u001b[0m\u001b[1;32m    202\u001b[0m \u001b[0;34m\u001b[0m\u001b[0m\n\u001b[1;32m    203\u001b[0m     \u001b[0;32mdef\u001b[0m \u001b[0mswapkey\u001b[0m\u001b[0;34m(\u001b[0m\u001b[0mself\u001b[0m\u001b[0;34m,\u001b[0m \u001b[0mold_key\u001b[0m\u001b[0;34m,\u001b[0m \u001b[0mnew_key\u001b[0m\u001b[0;34m,\u001b[0m \u001b[0mnew_value\u001b[0m\u001b[0;34m=\u001b[0m\u001b[0;32mNone\u001b[0m\u001b[0;34m)\u001b[0m\u001b[0;34m:\u001b[0m\u001b[0;34m\u001b[0m\u001b[0;34m\u001b[0m\u001b[0m\n",
      "\u001b[0;31mUndefinedVariableError\u001b[0m: name 'source_id' is not defined"
     ]
    }
   ],
   "source": [
    "tfs = tfs_original.query('source_id in @tfs_random_subset.db_id')\n",
    "print(tfs.shape)\n",
    "tfs.head()"
   ]
  },
  {
   "cell_type": "markdown",
   "metadata": {},
   "source": [
    "# Go to Quest for Orthologs fastas"
   ]
  },
  {
   "cell_type": "markdown",
   "metadata": {},
   "source": [
    "## Read species metadata"
   ]
  },
  {
   "cell_type": "code",
   "execution_count": 9,
   "metadata": {},
   "outputs": [
    {
     "name": "stdout",
     "output_type": "stream",
     "text": [
      "(78, 10)\n"
     ]
    },
    {
     "data": {
      "text/html": [
       "<div>\n",
       "<style scoped>\n",
       "    .dataframe tbody tr th:only-of-type {\n",
       "        vertical-align: middle;\n",
       "    }\n",
       "\n",
       "    .dataframe tbody tr th {\n",
       "        vertical-align: top;\n",
       "    }\n",
       "\n",
       "    .dataframe thead th {\n",
       "        text-align: right;\n",
       "    }\n",
       "</style>\n",
       "<table border=\"1\" class=\"dataframe\">\n",
       "  <thead>\n",
       "    <tr style=\"text-align: right;\">\n",
       "      <th></th>\n",
       "      <th>proteome_id</th>\n",
       "      <th>tax_id</th>\n",
       "      <th>oscode</th>\n",
       "      <th>n_main_fasta_canonical</th>\n",
       "      <th>n_additional_fasta_isoforms</th>\n",
       "      <th>n_gene2acc</th>\n",
       "      <th>species_name</th>\n",
       "      <th>divergence_from_human_mya</th>\n",
       "      <th>scientific_name</th>\n",
       "      <th>common_name_or_strain</th>\n",
       "    </tr>\n",
       "  </thead>\n",
       "  <tbody>\n",
       "    <tr>\n",
       "      <th>0</th>\n",
       "      <td>UP000007062</td>\n",
       "      <td>7165</td>\n",
       "      <td>ANOGA</td>\n",
       "      <td>12553</td>\n",
       "      <td>971</td>\n",
       "      <td>13619</td>\n",
       "      <td>Anopheles gambiae (African malaria mosquito)</td>\n",
       "      <td>797.0</td>\n",
       "      <td>Anopheles gambiae</td>\n",
       "      <td>African malaria mosquito</td>\n",
       "    </tr>\n",
       "    <tr>\n",
       "      <th>1</th>\n",
       "      <td>UP000000798</td>\n",
       "      <td>224324</td>\n",
       "      <td>AQUAE</td>\n",
       "      <td>1553</td>\n",
       "      <td>0</td>\n",
       "      <td>1557</td>\n",
       "      <td>Aquifex aeolicus (strain VF5)</td>\n",
       "      <td>4290.0</td>\n",
       "      <td>Aquifex aeolicus</td>\n",
       "      <td>strain VF5</td>\n",
       "    </tr>\n",
       "    <tr>\n",
       "      <th>2</th>\n",
       "      <td>UP000006548</td>\n",
       "      <td>3702</td>\n",
       "      <td>ARATH</td>\n",
       "      <td>27475</td>\n",
       "      <td>14123</td>\n",
       "      <td>41920</td>\n",
       "      <td>Arabidopsis thaliana (Mouse-ear cress)</td>\n",
       "      <td>1496.0</td>\n",
       "      <td>Arabidopsis thaliana</td>\n",
       "      <td>Mouse-ear cress</td>\n",
       "    </tr>\n",
       "    <tr>\n",
       "      <th>3</th>\n",
       "      <td>UP000001570</td>\n",
       "      <td>224308</td>\n",
       "      <td>BACSU</td>\n",
       "      <td>4260</td>\n",
       "      <td>7</td>\n",
       "      <td>4268</td>\n",
       "      <td>Bacillus subtilis (strain 168)</td>\n",
       "      <td>4290.0</td>\n",
       "      <td>Bacillus subtilis</td>\n",
       "      <td>strain 168</td>\n",
       "    </tr>\n",
       "    <tr>\n",
       "      <th>4</th>\n",
       "      <td>UP000001414</td>\n",
       "      <td>226186</td>\n",
       "      <td>BACTN</td>\n",
       "      <td>4782</td>\n",
       "      <td>0</td>\n",
       "      <td>4823</td>\n",
       "      <td>Bacteroides thetaiotaomicron (strain ATCC 2914...</td>\n",
       "      <td>4290.0</td>\n",
       "      <td>Bacteroides thetaiotaomicron</td>\n",
       "      <td>strain ATCC 29148 / DSM 2079 / NCTC 10582 / E5...</td>\n",
       "    </tr>\n",
       "  </tbody>\n",
       "</table>\n",
       "</div>"
      ],
      "text/plain": [
       "   proteome_id  tax_id oscode  n_main_fasta_canonical  \\\n",
       "0  UP000007062    7165  ANOGA                   12553   \n",
       "1  UP000000798  224324  AQUAE                    1553   \n",
       "2  UP000006548    3702  ARATH                   27475   \n",
       "3  UP000001570  224308  BACSU                    4260   \n",
       "4  UP000001414  226186  BACTN                    4782   \n",
       "\n",
       "   n_additional_fasta_isoforms  n_gene2acc  \\\n",
       "0                          971       13619   \n",
       "1                            0        1557   \n",
       "2                        14123       41920   \n",
       "3                            7        4268   \n",
       "4                            0        4823   \n",
       "\n",
       "                                        species_name  \\\n",
       "0       Anopheles gambiae (African malaria mosquito)   \n",
       "1                      Aquifex aeolicus (strain VF5)   \n",
       "2             Arabidopsis thaliana (Mouse-ear cress)   \n",
       "3                     Bacillus subtilis (strain 168)   \n",
       "4  Bacteroides thetaiotaomicron (strain ATCC 2914...   \n",
       "\n",
       "   divergence_from_human_mya               scientific_name  \\\n",
       "0                      797.0             Anopheles gambiae   \n",
       "1                     4290.0              Aquifex aeolicus   \n",
       "2                     1496.0          Arabidopsis thaliana   \n",
       "3                     4290.0             Bacillus subtilis   \n",
       "4                     4290.0  Bacteroides thetaiotaomicron   \n",
       "\n",
       "                               common_name_or_strain  \n",
       "0                           African malaria mosquito  \n",
       "1                                         strain VF5  \n",
       "2                                    Mouse-ear cress  \n",
       "3                                         strain 168  \n",
       "4  strain ATCC 29148 / DSM 2079 / NCTC 10582 / E5...  "
      ]
     },
     "execution_count": 9,
     "metadata": {},
     "output_type": "execute_result"
    }
   ],
   "source": [
    "species_metadata = pd.read_csv(\"species_metadata.csv\")\n",
    "print(species_metadata.shape)\n",
    "species_metadata.head()"
   ]
  },
  {
   "cell_type": "markdown",
   "metadata": {},
   "source": [
    "### Subset to opisthokonts"
   ]
  },
  {
   "cell_type": "code",
   "execution_count": 10,
   "metadata": {},
   "outputs": [
    {
     "name": "stdout",
     "output_type": "stream",
     "text": [
      "(35, 10)\n"
     ]
    },
    {
     "data": {
      "text/html": [
       "<div>\n",
       "<style scoped>\n",
       "    .dataframe tbody tr th:only-of-type {\n",
       "        vertical-align: middle;\n",
       "    }\n",
       "\n",
       "    .dataframe tbody tr th {\n",
       "        vertical-align: top;\n",
       "    }\n",
       "\n",
       "    .dataframe thead th {\n",
       "        text-align: right;\n",
       "    }\n",
       "</style>\n",
       "<table border=\"1\" class=\"dataframe\">\n",
       "  <thead>\n",
       "    <tr style=\"text-align: right;\">\n",
       "      <th></th>\n",
       "      <th>proteome_id</th>\n",
       "      <th>tax_id</th>\n",
       "      <th>oscode</th>\n",
       "      <th>n_main_fasta_canonical</th>\n",
       "      <th>n_additional_fasta_isoforms</th>\n",
       "      <th>n_gene2acc</th>\n",
       "      <th>species_name</th>\n",
       "      <th>divergence_from_human_mya</th>\n",
       "      <th>scientific_name</th>\n",
       "      <th>common_name_or_strain</th>\n",
       "    </tr>\n",
       "  </thead>\n",
       "  <tbody>\n",
       "    <tr>\n",
       "      <th>0</th>\n",
       "      <td>UP000007062</td>\n",
       "      <td>7165</td>\n",
       "      <td>ANOGA</td>\n",
       "      <td>12553</td>\n",
       "      <td>971</td>\n",
       "      <td>13619</td>\n",
       "      <td>Anopheles gambiae (African malaria mosquito)</td>\n",
       "      <td>797.0</td>\n",
       "      <td>Anopheles gambiae</td>\n",
       "      <td>African malaria mosquito</td>\n",
       "    </tr>\n",
       "    <tr>\n",
       "      <th>5</th>\n",
       "      <td>UP000007241</td>\n",
       "      <td>684364</td>\n",
       "      <td>BATDJ</td>\n",
       "      <td>8610</td>\n",
       "      <td>0</td>\n",
       "      <td>8685</td>\n",
       "      <td>Batrachochytrium dendrobatidis (strain JAM81 /...</td>\n",
       "      <td>1105.0</td>\n",
       "      <td>Batrachochytrium dendrobatidis</td>\n",
       "      <td>strain JAM81 / FGSC 10211</td>\n",
       "    </tr>\n",
       "    <tr>\n",
       "      <th>6</th>\n",
       "      <td>UP000009136</td>\n",
       "      <td>9913</td>\n",
       "      <td>BOVIN</td>\n",
       "      <td>23774</td>\n",
       "      <td>14534</td>\n",
       "      <td>38438</td>\n",
       "      <td>Bos taurus (Bovine)</td>\n",
       "      <td>96.0</td>\n",
       "      <td>Bos taurus</td>\n",
       "      <td>Bovine</td>\n",
       "    </tr>\n",
       "    <tr>\n",
       "      <th>8</th>\n",
       "      <td>UP000001554</td>\n",
       "      <td>7739</td>\n",
       "      <td>BRAFL</td>\n",
       "      <td>28542</td>\n",
       "      <td>2</td>\n",
       "      <td>28608</td>\n",
       "      <td>Branchiostoma floridae (Florida lancelet) (Amp...</td>\n",
       "      <td>684.0</td>\n",
       "      <td>Branchiostoma floridae</td>\n",
       "      <td>Florida lancelet</td>\n",
       "    </tr>\n",
       "    <tr>\n",
       "      <th>9</th>\n",
       "      <td>UP000001940</td>\n",
       "      <td>6239</td>\n",
       "      <td>CAEEL</td>\n",
       "      <td>19986</td>\n",
       "      <td>8309</td>\n",
       "      <td>28507</td>\n",
       "      <td>Caenorhabditis elegans</td>\n",
       "      <td>797.0</td>\n",
       "      <td>Caenorhabditis elegans</td>\n",
       "      <td>NaN</td>\n",
       "    </tr>\n",
       "  </tbody>\n",
       "</table>\n",
       "</div>"
      ],
      "text/plain": [
       "   proteome_id  tax_id oscode  n_main_fasta_canonical  \\\n",
       "0  UP000007062    7165  ANOGA                   12553   \n",
       "5  UP000007241  684364  BATDJ                    8610   \n",
       "6  UP000009136    9913  BOVIN                   23774   \n",
       "8  UP000001554    7739  BRAFL                   28542   \n",
       "9  UP000001940    6239  CAEEL                   19986   \n",
       "\n",
       "   n_additional_fasta_isoforms  n_gene2acc  \\\n",
       "0                          971       13619   \n",
       "5                            0        8685   \n",
       "6                        14534       38438   \n",
       "8                            2       28608   \n",
       "9                         8309       28507   \n",
       "\n",
       "                                        species_name  \\\n",
       "0       Anopheles gambiae (African malaria mosquito)   \n",
       "5  Batrachochytrium dendrobatidis (strain JAM81 /...   \n",
       "6                                Bos taurus (Bovine)   \n",
       "8  Branchiostoma floridae (Florida lancelet) (Amp...   \n",
       "9                             Caenorhabditis elegans   \n",
       "\n",
       "   divergence_from_human_mya                 scientific_name  \\\n",
       "0                      797.0               Anopheles gambiae   \n",
       "5                     1105.0  Batrachochytrium dendrobatidis   \n",
       "6                       96.0                      Bos taurus   \n",
       "8                      684.0          Branchiostoma floridae   \n",
       "9                      797.0          Caenorhabditis elegans   \n",
       "\n",
       "       common_name_or_strain  \n",
       "0   African malaria mosquito  \n",
       "5  strain JAM81 / FGSC 10211  \n",
       "6                     Bovine  \n",
       "8           Florida lancelet  \n",
       "9                        NaN  "
      ]
     },
     "execution_count": 10,
     "metadata": {},
     "output_type": "execute_result"
    }
   ],
   "source": [
    "# Estimated opisthokonta divergence time from http://timetree.org/\n",
    "t = 1105\n",
    "opisthokonts = species_metadata.query('divergence_from_human_mya <= @t')\n",
    "print(opisthokonts.shape)\n",
    "opisthokonts.head()"
   ]
  },
  {
   "cell_type": "code",
   "execution_count": 11,
   "metadata": {},
   "outputs": [
    {
     "data": {
      "text/html": [
       "<div>\n",
       "<style scoped>\n",
       "    .dataframe tbody tr th:only-of-type {\n",
       "        vertical-align: middle;\n",
       "    }\n",
       "\n",
       "    .dataframe tbody tr th {\n",
       "        vertical-align: top;\n",
       "    }\n",
       "\n",
       "    .dataframe thead th {\n",
       "        text-align: right;\n",
       "    }\n",
       "</style>\n",
       "<table border=\"1\" class=\"dataframe\">\n",
       "  <thead>\n",
       "    <tr style=\"text-align: right;\">\n",
       "      <th></th>\n",
       "      <th>proteome_id</th>\n",
       "      <th>tax_id</th>\n",
       "      <th>oscode</th>\n",
       "      <th>n_main_fasta_canonical</th>\n",
       "      <th>n_additional_fasta_isoforms</th>\n",
       "      <th>n_gene2acc</th>\n",
       "      <th>species_name</th>\n",
       "      <th>divergence_from_human_mya</th>\n",
       "      <th>scientific_name</th>\n",
       "      <th>common_name_or_strain</th>\n",
       "    </tr>\n",
       "  </thead>\n",
       "  <tbody>\n",
       "    <tr>\n",
       "      <th>32</th>\n",
       "      <td>UP000005640</td>\n",
       "      <td>9606</td>\n",
       "      <td>HUMAN</td>\n",
       "      <td>21146</td>\n",
       "      <td>74769</td>\n",
       "      <td>96332</td>\n",
       "      <td>Homo sapiens (Human)</td>\n",
       "      <td>0.0</td>\n",
       "      <td>Homo sapiens</td>\n",
       "      <td>Human</td>\n",
       "    </tr>\n",
       "  </tbody>\n",
       "</table>\n",
       "</div>"
      ],
      "text/plain": [
       "    proteome_id  tax_id oscode  n_main_fasta_canonical  \\\n",
       "32  UP000005640    9606  HUMAN                   21146   \n",
       "\n",
       "    n_additional_fasta_isoforms  n_gene2acc          species_name  \\\n",
       "32                        74769       96332  Homo sapiens (Human)   \n",
       "\n",
       "    divergence_from_human_mya scientific_name common_name_or_strain  \n",
       "32                        0.0    Homo sapiens                 Human  "
      ]
     },
     "execution_count": 11,
     "metadata": {},
     "output_type": "execute_result"
    }
   ],
   "source": [
    "opisthokonts.query('scientific_name == \"Homo sapiens\"')"
   ]
  },
  {
   "cell_type": "markdown",
   "metadata": {},
   "source": [
    "## Read Gene Accession file\n",
    "\n",
    "```\n",
    "Gene mapping files (*.gene2acc)\n",
    "===============================\n",
    "\n",
    "Column 1 is a unique gene symbol that is chosen with the following order of\n",
    "preference from the annotation found in:\n",
    "1) Model Organism Database (MOD)\n",
    "2) Ensembl or Ensembl Genomes database\n",
    "3) UniProt Ordered Locus Name (OLN)\n",
    "4) UniProt Open Reading Frame (ORF)\n",
    "5) UniProt Gene Name\n",
    "A dash symbol ('-') is used when the gene encoding a protein is unknown.\n",
    "\n",
    "Column 2 is the UniProtKB accession or isoform identifier for the given gene\n",
    "symbol. This column may have redundancy when two or more genes have identical\n",
    "translations.\n",
    "\n",
    "Column 3 is the gene symbol of the canonical accession used to represent the\n",
    "respective gene group and the first row of the sequence is the canonical one.\n",
    "```"
   ]
  },
  {
   "cell_type": "code",
   "execution_count": 109,
   "metadata": {},
   "outputs": [
    {
     "name": "stdout",
     "output_type": "stream",
     "text": [
      "(96332, 3)\n"
     ]
    },
    {
     "data": {
      "text/html": [
       "<div>\n",
       "<style scoped>\n",
       "    .dataframe tbody tr th:only-of-type {\n",
       "        vertical-align: middle;\n",
       "    }\n",
       "\n",
       "    .dataframe tbody tr th {\n",
       "        vertical-align: top;\n",
       "    }\n",
       "\n",
       "    .dataframe thead th {\n",
       "        text-align: right;\n",
       "    }\n",
       "</style>\n",
       "<table border=\"1\" class=\"dataframe\">\n",
       "  <thead>\n",
       "    <tr style=\"text-align: right;\">\n",
       "      <th></th>\n",
       "      <th>maybe_ensembl_id</th>\n",
       "      <th>uniprot_id</th>\n",
       "      <th>canonical_accession</th>\n",
       "    </tr>\n",
       "  </thead>\n",
       "  <tbody>\n",
       "    <tr>\n",
       "      <th>0</th>\n",
       "      <td>NaN</td>\n",
       "      <td>A0A075B7B6</td>\n",
       "      <td>NaN</td>\n",
       "    </tr>\n",
       "    <tr>\n",
       "      <th>1</th>\n",
       "      <td>NaN</td>\n",
       "      <td>A0A075B714</td>\n",
       "      <td>NaN</td>\n",
       "    </tr>\n",
       "    <tr>\n",
       "      <th>2</th>\n",
       "      <td>NaN</td>\n",
       "      <td>A0A075B713</td>\n",
       "      <td>NaN</td>\n",
       "    </tr>\n",
       "    <tr>\n",
       "      <th>3</th>\n",
       "      <td>NaN</td>\n",
       "      <td>A0A075B712</td>\n",
       "      <td>NaN</td>\n",
       "    </tr>\n",
       "    <tr>\n",
       "      <th>4</th>\n",
       "      <td>NaN</td>\n",
       "      <td>A0A075B711</td>\n",
       "      <td>NaN</td>\n",
       "    </tr>\n",
       "  </tbody>\n",
       "</table>\n",
       "</div>"
      ],
      "text/plain": [
       "  maybe_ensembl_id  uniprot_id canonical_accession\n",
       "0              NaN  A0A075B7B6                 NaN\n",
       "1              NaN  A0A075B714                 NaN\n",
       "2              NaN  A0A075B713                 NaN\n",
       "3              NaN  A0A075B712                 NaN\n",
       "4              NaN  A0A075B711                 NaN"
      ]
     },
     "execution_count": 109,
     "metadata": {},
     "output_type": "execute_result"
    }
   ],
   "source": [
    "\n",
    "def read_gene2acc(gene2acc, names=['maybe_ensembl_id', 'uniprot_id', 'canonical_accession']):\n",
    "    df = pd.read_csv(gene2acc, sep='\\t', header=None, na_values='-', names=columns)\n",
    "    return df\n",
    "\n",
    "gene2acc = read_gene2acc('Eukaryota/UP000005640_9606.gene2acc')\n",
    "# gene2acc = pd.read_csv('Eukaryota/UP000005640_9606.gene2acc', sep='\\t', header=None, na_values='-', names=columns)\n",
    "print(gene2acc.shape)\n",
    "gene2acc.head()"
   ]
  },
  {
   "cell_type": "code",
   "execution_count": 29,
   "metadata": {},
   "outputs": [
    {
     "data": {
      "text/html": [
       "<div>\n",
       "<style scoped>\n",
       "    .dataframe tbody tr th:only-of-type {\n",
       "        vertical-align: middle;\n",
       "    }\n",
       "\n",
       "    .dataframe tbody tr th {\n",
       "        vertical-align: top;\n",
       "    }\n",
       "\n",
       "    .dataframe thead th {\n",
       "        text-align: right;\n",
       "    }\n",
       "</style>\n",
       "<table border=\"1\" class=\"dataframe\">\n",
       "  <thead>\n",
       "    <tr style=\"text-align: right;\">\n",
       "      <th></th>\n",
       "      <th>maybe_ensembl_id</th>\n",
       "      <th>uniprot_id</th>\n",
       "      <th>canonical_accession</th>\n",
       "    </tr>\n",
       "  </thead>\n",
       "  <tbody>\n",
       "    <tr>\n",
       "      <th>600</th>\n",
       "      <td>ACOT7L</td>\n",
       "      <td>Q6ZUV0</td>\n",
       "      <td>ACOT7L</td>\n",
       "    </tr>\n",
       "    <tr>\n",
       "      <th>601</th>\n",
       "      <td>BARGIN</td>\n",
       "      <td>Q6ZT62</td>\n",
       "      <td>BARGIN</td>\n",
       "    </tr>\n",
       "    <tr>\n",
       "      <th>602</th>\n",
       "      <td>BARGIN</td>\n",
       "      <td>Q6ZT62-2</td>\n",
       "      <td>BARGIN</td>\n",
       "    </tr>\n",
       "    <tr>\n",
       "      <th>603</th>\n",
       "      <td>BCE1</td>\n",
       "      <td>O60756</td>\n",
       "      <td>BCE1</td>\n",
       "    </tr>\n",
       "    <tr>\n",
       "      <th>604</th>\n",
       "      <td>C1orf140</td>\n",
       "      <td>Q5VVS0</td>\n",
       "      <td>C1orf140</td>\n",
       "    </tr>\n",
       "    <tr>\n",
       "      <th>...</th>\n",
       "      <td>...</td>\n",
       "      <td>...</td>\n",
       "      <td>...</td>\n",
       "    </tr>\n",
       "    <tr>\n",
       "      <th>96327</th>\n",
       "      <td>UNQ6190/PRO20217</td>\n",
       "      <td>Q6UXQ8</td>\n",
       "      <td>UNQ6190/PRO20217</td>\n",
       "    </tr>\n",
       "    <tr>\n",
       "      <th>96328</th>\n",
       "      <td>UNQ6493/PRO21345</td>\n",
       "      <td>Q6UXR8</td>\n",
       "      <td>UNQ6493/PRO21345</td>\n",
       "    </tr>\n",
       "    <tr>\n",
       "      <th>96329</th>\n",
       "      <td>UNQ6494/PRO21346</td>\n",
       "      <td>Q6UXR6</td>\n",
       "      <td>UNQ6494/PRO21346</td>\n",
       "    </tr>\n",
       "    <tr>\n",
       "      <th>96330</th>\n",
       "      <td>UNQ9165/PRO28630</td>\n",
       "      <td>Q6UXU0</td>\n",
       "      <td>UNQ9165/PRO28630</td>\n",
       "    </tr>\n",
       "    <tr>\n",
       "      <th>96331</th>\n",
       "      <td>UNQ9370/PRO34162</td>\n",
       "      <td>Q6UXP9</td>\n",
       "      <td>UNQ9370/PRO34162</td>\n",
       "    </tr>\n",
       "  </tbody>\n",
       "</table>\n",
       "<p>95732 rows × 3 columns</p>\n",
       "</div>"
      ],
      "text/plain": [
       "       maybe_ensembl_id uniprot_id canonical_accession\n",
       "600              ACOT7L     Q6ZUV0              ACOT7L\n",
       "601              BARGIN     Q6ZT62              BARGIN\n",
       "602              BARGIN   Q6ZT62-2              BARGIN\n",
       "603                BCE1     O60756                BCE1\n",
       "604            C1orf140     Q5VVS0            C1orf140\n",
       "...                 ...        ...                 ...\n",
       "96327  UNQ6190/PRO20217     Q6UXQ8    UNQ6190/PRO20217\n",
       "96328  UNQ6493/PRO21345     Q6UXR8    UNQ6493/PRO21345\n",
       "96329  UNQ6494/PRO21346     Q6UXR6    UNQ6494/PRO21346\n",
       "96330  UNQ9165/PRO28630     Q6UXU0    UNQ9165/PRO28630\n",
       "96331  UNQ9370/PRO34162     Q6UXP9    UNQ9370/PRO34162\n",
       "\n",
       "[95732 rows x 3 columns]"
      ]
     },
     "execution_count": 29,
     "metadata": {},
     "output_type": "execute_result"
    }
   ],
   "source": [
    "gene2acc.dropna()"
   ]
  },
  {
   "cell_type": "markdown",
   "metadata": {},
   "source": [
    "## Read ID mapping file\n",
    "\n",
    "```\n",
    "Database mapping files (*.idmapping)\n",
    "====================================\n",
    "\n",
    "These files contain mappings from UniProtKB to other databases for each\n",
    "reference proteome.\n",
    "The format consists of three tab-separated columns:\n",
    "\n",
    "1. UniProtKB accession\n",
    "2. ID_type:\n",
    "   Database name as shown in UniProtKB cross-references and supported by the ID\n",
    "   mapping tool on the UniProt web site (http://www.uniprot.org/mapping)\n",
    "3. ID:\n",
    "   Identifier in the cross-referenced database.\n",
    "\n",
    "```"
   ]
  },
  {
   "cell_type": "code",
   "execution_count": 17,
   "metadata": {},
   "outputs": [
    {
     "data": {
      "text/html": [
       "<div>\n",
       "<style scoped>\n",
       "    .dataframe tbody tr th:only-of-type {\n",
       "        vertical-align: middle;\n",
       "    }\n",
       "\n",
       "    .dataframe tbody tr th {\n",
       "        vertical-align: top;\n",
       "    }\n",
       "\n",
       "    .dataframe thead th {\n",
       "        text-align: right;\n",
       "    }\n",
       "</style>\n",
       "<table border=\"1\" class=\"dataframe\">\n",
       "  <thead>\n",
       "    <tr style=\"text-align: right;\">\n",
       "      <th></th>\n",
       "      <th>proteome_id</th>\n",
       "      <th>tax_id</th>\n",
       "      <th>oscode</th>\n",
       "      <th>n_main_fasta_canonical</th>\n",
       "      <th>n_additional_fasta_isoforms</th>\n",
       "      <th>n_gene2acc</th>\n",
       "      <th>species_name</th>\n",
       "      <th>divergence_from_human_mya</th>\n",
       "      <th>scientific_name</th>\n",
       "      <th>common_name_or_strain</th>\n",
       "    </tr>\n",
       "  </thead>\n",
       "  <tbody>\n",
       "    <tr>\n",
       "      <th>0</th>\n",
       "      <td>UP000007062</td>\n",
       "      <td>7165</td>\n",
       "      <td>ANOGA</td>\n",
       "      <td>12553</td>\n",
       "      <td>971</td>\n",
       "      <td>13619</td>\n",
       "      <td>Anopheles gambiae (African malaria mosquito)</td>\n",
       "      <td>797.0</td>\n",
       "      <td>Anopheles gambiae</td>\n",
       "      <td>African malaria mosquito</td>\n",
       "    </tr>\n",
       "    <tr>\n",
       "      <th>5</th>\n",
       "      <td>UP000007241</td>\n",
       "      <td>684364</td>\n",
       "      <td>BATDJ</td>\n",
       "      <td>8610</td>\n",
       "      <td>0</td>\n",
       "      <td>8685</td>\n",
       "      <td>Batrachochytrium dendrobatidis (strain JAM81 /...</td>\n",
       "      <td>1105.0</td>\n",
       "      <td>Batrachochytrium dendrobatidis</td>\n",
       "      <td>strain JAM81 / FGSC 10211</td>\n",
       "    </tr>\n",
       "    <tr>\n",
       "      <th>6</th>\n",
       "      <td>UP000009136</td>\n",
       "      <td>9913</td>\n",
       "      <td>BOVIN</td>\n",
       "      <td>23774</td>\n",
       "      <td>14534</td>\n",
       "      <td>38438</td>\n",
       "      <td>Bos taurus (Bovine)</td>\n",
       "      <td>96.0</td>\n",
       "      <td>Bos taurus</td>\n",
       "      <td>Bovine</td>\n",
       "    </tr>\n",
       "    <tr>\n",
       "      <th>8</th>\n",
       "      <td>UP000001554</td>\n",
       "      <td>7739</td>\n",
       "      <td>BRAFL</td>\n",
       "      <td>28542</td>\n",
       "      <td>2</td>\n",
       "      <td>28608</td>\n",
       "      <td>Branchiostoma floridae (Florida lancelet) (Amp...</td>\n",
       "      <td>684.0</td>\n",
       "      <td>Branchiostoma floridae</td>\n",
       "      <td>Florida lancelet</td>\n",
       "    </tr>\n",
       "    <tr>\n",
       "      <th>9</th>\n",
       "      <td>UP000001940</td>\n",
       "      <td>6239</td>\n",
       "      <td>CAEEL</td>\n",
       "      <td>19986</td>\n",
       "      <td>8309</td>\n",
       "      <td>28507</td>\n",
       "      <td>Caenorhabditis elegans</td>\n",
       "      <td>797.0</td>\n",
       "      <td>Caenorhabditis elegans</td>\n",
       "      <td>NaN</td>\n",
       "    </tr>\n",
       "  </tbody>\n",
       "</table>\n",
       "</div>"
      ],
      "text/plain": [
       "   proteome_id  tax_id oscode  n_main_fasta_canonical  \\\n",
       "0  UP000007062    7165  ANOGA                   12553   \n",
       "5  UP000007241  684364  BATDJ                    8610   \n",
       "6  UP000009136    9913  BOVIN                   23774   \n",
       "8  UP000001554    7739  BRAFL                   28542   \n",
       "9  UP000001940    6239  CAEEL                   19986   \n",
       "\n",
       "   n_additional_fasta_isoforms  n_gene2acc  \\\n",
       "0                          971       13619   \n",
       "5                            0        8685   \n",
       "6                        14534       38438   \n",
       "8                            2       28608   \n",
       "9                         8309       28507   \n",
       "\n",
       "                                        species_name  \\\n",
       "0       Anopheles gambiae (African malaria mosquito)   \n",
       "5  Batrachochytrium dendrobatidis (strain JAM81 /...   \n",
       "6                                Bos taurus (Bovine)   \n",
       "8  Branchiostoma floridae (Florida lancelet) (Amp...   \n",
       "9                             Caenorhabditis elegans   \n",
       "\n",
       "   divergence_from_human_mya                 scientific_name  \\\n",
       "0                      797.0               Anopheles gambiae   \n",
       "5                     1105.0  Batrachochytrium dendrobatidis   \n",
       "6                       96.0                      Bos taurus   \n",
       "8                      684.0          Branchiostoma floridae   \n",
       "9                      797.0          Caenorhabditis elegans   \n",
       "\n",
       "       common_name_or_strain  \n",
       "0   African malaria mosquito  \n",
       "5  strain JAM81 / FGSC 10211  \n",
       "6                     Bovine  \n",
       "8           Florida lancelet  \n",
       "9                        NaN  "
      ]
     },
     "execution_count": 17,
     "metadata": {},
     "output_type": "execute_result"
    }
   ],
   "source": [
    "opisthokonts.head()"
   ]
  },
  {
   "cell_type": "code",
   "execution_count": 34,
   "metadata": {},
   "outputs": [
    {
     "data": {
      "text/html": [
       "<div>\n",
       "<style scoped>\n",
       "    .dataframe tbody tr th:only-of-type {\n",
       "        vertical-align: middle;\n",
       "    }\n",
       "\n",
       "    .dataframe tbody tr th {\n",
       "        vertical-align: top;\n",
       "    }\n",
       "\n",
       "    .dataframe thead th {\n",
       "        text-align: right;\n",
       "    }\n",
       "</style>\n",
       "<table border=\"1\" class=\"dataframe\">\n",
       "  <thead>\n",
       "    <tr style=\"text-align: right;\">\n",
       "      <th></th>\n",
       "      <th>proteome_id</th>\n",
       "      <th>tax_id</th>\n",
       "      <th>oscode</th>\n",
       "      <th>n_main_fasta_canonical</th>\n",
       "      <th>n_additional_fasta_isoforms</th>\n",
       "      <th>n_gene2acc</th>\n",
       "      <th>species_name</th>\n",
       "      <th>divergence_from_human_mya</th>\n",
       "      <th>scientific_name</th>\n",
       "      <th>common_name_or_strain</th>\n",
       "    </tr>\n",
       "  </thead>\n",
       "  <tbody>\n",
       "    <tr>\n",
       "      <th>17</th>\n",
       "      <td>UP000000437</td>\n",
       "      <td>7955</td>\n",
       "      <td>DANRE</td>\n",
       "      <td>25939</td>\n",
       "      <td>21219</td>\n",
       "      <td>47517</td>\n",
       "      <td>Danio rerio (Zebrafish) (Brachydanio rerio)</td>\n",
       "      <td>435.0</td>\n",
       "      <td>Danio rerio</td>\n",
       "      <td>Zebrafish</td>\n",
       "    </tr>\n",
       "  </tbody>\n",
       "</table>\n",
       "</div>"
      ],
      "text/plain": [
       "    proteome_id  tax_id oscode  n_main_fasta_canonical  \\\n",
       "17  UP000000437    7955  DANRE                   25939   \n",
       "\n",
       "    n_additional_fasta_isoforms  n_gene2acc  \\\n",
       "17                        21219       47517   \n",
       "\n",
       "                                   species_name  divergence_from_human_mya  \\\n",
       "17  Danio rerio (Zebrafish) (Brachydanio rerio)                      435.0   \n",
       "\n",
       "   scientific_name common_name_or_strain  \n",
       "17     Danio rerio             Zebrafish  "
      ]
     },
     "execution_count": 34,
     "metadata": {},
     "output_type": "execute_result"
    }
   ],
   "source": [
    "opisthokonts.query('proteome_id == \"UP000000437\"')"
   ]
  },
  {
   "cell_type": "markdown",
   "metadata": {},
   "source": [
    "# Get ID Mapping for uniprot ids from ENSMBL"
   ]
  },
  {
   "cell_type": "code",
   "execution_count": 37,
   "metadata": {},
   "outputs": [
    {
     "name": "stderr",
     "output_type": "stream",
     "text": [
      "  2%|▏         | 1/48 [00:00<00:32,  1.44it/s]"
     ]
    },
    {
     "name": "stdout",
     "output_type": "stream",
     "text": [
      "(1036083, 5)\n"
     ]
    },
    {
     "name": "stderr",
     "output_type": "stream",
     "text": [
      " 10%|█         | 5/48 [00:01<00:18,  2.32it/s]"
     ]
    },
    {
     "name": "stdout",
     "output_type": "stream",
     "text": [
      "(555421, 5)\n",
      "(149092, 5)\n",
      "(141961, 5)\n"
     ]
    },
    {
     "name": "stderr",
     "output_type": "stream",
     "text": [
      " 12%|█▎        | 6/48 [00:02<00:25,  1.62it/s]"
     ]
    },
    {
     "name": "stdout",
     "output_type": "stream",
     "text": [
      "(1631036, 5)\n"
     ]
    },
    {
     "name": "stderr",
     "output_type": "stream",
     "text": [
      " 17%|█▋        | 8/48 [00:02<00:20,  1.96it/s]"
     ]
    },
    {
     "name": "stdout",
     "output_type": "stream",
     "text": [
      "(809657, 5)\n"
     ]
    },
    {
     "name": "stderr",
     "output_type": "stream",
     "text": [
      " 21%|██        | 10/48 [00:03<00:14,  2.54it/s]"
     ]
    },
    {
     "name": "stdout",
     "output_type": "stream",
     "text": [
      "(575653, 5)\n",
      "(295804, 5)\n"
     ]
    },
    {
     "name": "stderr",
     "output_type": "stream",
     "text": [
      " 23%|██▎       | 11/48 [00:03<00:11,  3.12it/s]"
     ]
    },
    {
     "name": "stdout",
     "output_type": "stream",
     "text": [
      "(124774, 5)\n"
     ]
    },
    {
     "name": "stderr",
     "output_type": "stream",
     "text": [
      " 27%|██▋       | 13/48 [00:04<00:09,  3.64it/s]"
     ]
    },
    {
     "name": "stdout",
     "output_type": "stream",
     "text": [
      "(277055, 5)\n",
      "(181143, 5)\n"
     ]
    },
    {
     "name": "stderr",
     "output_type": "stream",
     "text": [
      " 33%|███▎      | 16/48 [00:04<00:08,  3.86it/s]"
     ]
    },
    {
     "name": "stdout",
     "output_type": "stream",
     "text": [
      "(839553, 5)\n"
     ]
    },
    {
     "name": "stderr",
     "output_type": "stream",
     "text": [
      " 40%|███▉      | 19/48 [00:05<00:06,  4.41it/s]"
     ]
    },
    {
     "name": "stdout",
     "output_type": "stream",
     "text": [
      "(565651, 5)\n"
     ]
    },
    {
     "name": "stderr",
     "output_type": "stream",
     "text": [
      " 42%|████▏     | 20/48 [00:05<00:08,  3.43it/s]"
     ]
    },
    {
     "name": "stdout",
     "output_type": "stream",
     "text": [
      "(549426, 5)\n"
     ]
    },
    {
     "name": "stderr",
     "output_type": "stream",
     "text": [
      " 46%|████▌     | 22/48 [00:06<00:07,  3.42it/s]"
     ]
    },
    {
     "name": "stdout",
     "output_type": "stream",
     "text": [
      "(518273, 5)\n",
      "(205999, 5)\n"
     ]
    },
    {
     "name": "stderr",
     "output_type": "stream",
     "text": [
      " 50%|█████     | 24/48 [00:06<00:07,  3.35it/s]"
     ]
    },
    {
     "name": "stdout",
     "output_type": "stream",
     "text": [
      "(765068, 5)\n",
      "(146229, 5)\n"
     ]
    },
    {
     "name": "stderr",
     "output_type": "stream",
     "text": [
      " 54%|█████▍    | 26/48 [00:07<00:06,  3.56it/s]"
     ]
    },
    {
     "name": "stdout",
     "output_type": "stream",
     "text": [
      "(594466, 5)\n"
     ]
    },
    {
     "name": "stderr",
     "output_type": "stream",
     "text": [
      " 56%|█████▋    | 27/48 [00:08<00:09,  2.18it/s]"
     ]
    },
    {
     "name": "stdout",
     "output_type": "stream",
     "text": [
      "(1143307, 5)\n"
     ]
    },
    {
     "name": "stderr",
     "output_type": "stream",
     "text": [
      " 58%|█████▊    | 28/48 [00:08<00:08,  2.28it/s]"
     ]
    },
    {
     "name": "stdout",
     "output_type": "stream",
     "text": [
      "(424236, 5)\n"
     ]
    },
    {
     "name": "stderr",
     "output_type": "stream",
     "text": [
      " 62%|██████▎   | 30/48 [00:09<00:05,  3.15it/s]"
     ]
    },
    {
     "name": "stdout",
     "output_type": "stream",
     "text": [
      "(268306, 5)\n",
      "(149870, 5)\n"
     ]
    },
    {
     "name": "stderr",
     "output_type": "stream",
     "text": [
      " 65%|██████▍   | 31/48 [00:09<00:07,  2.32it/s]"
     ]
    },
    {
     "name": "stdout",
     "output_type": "stream",
     "text": [
      "(873723, 5)\n"
     ]
    },
    {
     "name": "stderr",
     "output_type": "stream",
     "text": [
      " 67%|██████▋   | 32/48 [00:09<00:05,  2.76it/s]"
     ]
    },
    {
     "name": "stdout",
     "output_type": "stream",
     "text": [
      "(214092, 5)\n"
     ]
    },
    {
     "name": "stderr",
     "output_type": "stream",
     "text": [
      " 71%|███████   | 34/48 [00:11<00:06,  2.04it/s]"
     ]
    },
    {
     "name": "stdout",
     "output_type": "stream",
     "text": [
      "(2668934, 5)\n"
     ]
    },
    {
     "name": "stderr",
     "output_type": "stream",
     "text": [
      " 81%|████████▏ | 39/48 [00:12<00:02,  3.24it/s]"
     ]
    },
    {
     "name": "stdout",
     "output_type": "stream",
     "text": [
      "(340838, 5)\n",
      "(151313, 5)\n"
     ]
    },
    {
     "name": "stderr",
     "output_type": "stream",
     "text": [
      " 83%|████████▎ | 40/48 [00:12<00:02,  3.24it/s]"
     ]
    },
    {
     "name": "stdout",
     "output_type": "stream",
     "text": [
      "(315939, 5)\n"
     ]
    },
    {
     "name": "stderr",
     "output_type": "stream",
     "text": [
      " 88%|████████▊ | 42/48 [00:12<00:01,  3.44it/s]"
     ]
    },
    {
     "name": "stdout",
     "output_type": "stream",
     "text": [
      "(637633, 5)\n"
     ]
    },
    {
     "name": "stderr",
     "output_type": "stream",
     "text": [
      " 90%|████████▉ | 43/48 [00:13<00:01,  3.49it/s]"
     ]
    },
    {
     "name": "stdout",
     "output_type": "stream",
     "text": [
      "(281658, 5)\n"
     ]
    },
    {
     "name": "stderr",
     "output_type": "stream",
     "text": [
      " 92%|█████████▏| 44/48 [00:13<00:01,  3.46it/s]"
     ]
    },
    {
     "name": "stdout",
     "output_type": "stream",
     "text": [
      "(307893, 5)\n"
     ]
    },
    {
     "name": "stderr",
     "output_type": "stream",
     "text": [
      " 94%|█████████▍| 45/48 [00:14<00:01,  2.59it/s]"
     ]
    },
    {
     "name": "stdout",
     "output_type": "stream",
     "text": [
      "(773011, 5)\n"
     ]
    },
    {
     "name": "stderr",
     "output_type": "stream",
     "text": [
      " 96%|█████████▌| 46/48 [00:14<00:00,  2.45it/s]"
     ]
    },
    {
     "name": "stdout",
     "output_type": "stream",
     "text": [
      "(561122, 5)\n"
     ]
    },
    {
     "name": "stderr",
     "output_type": "stream",
     "text": [
      "100%|██████████| 48/48 [00:14<00:00,  3.24it/s]"
     ]
    },
    {
     "name": "stdout",
     "output_type": "stream",
     "text": [
      "(390075, 5)\n"
     ]
    },
    {
     "name": "stderr",
     "output_type": "stream",
     "text": [
      "\n"
     ]
    },
    {
     "name": "stdout",
     "output_type": "stream",
     "text": [
      "(19464294, 5)\n"
     ]
    },
    {
     "data": {
      "text/html": [
       "<div>\n",
       "<style scoped>\n",
       "    .dataframe tbody tr th:only-of-type {\n",
       "        vertical-align: middle;\n",
       "    }\n",
       "\n",
       "    .dataframe tbody tr th {\n",
       "        vertical-align: top;\n",
       "    }\n",
       "\n",
       "    .dataframe thead th {\n",
       "        text-align: right;\n",
       "    }\n",
       "</style>\n",
       "<table border=\"1\" class=\"dataframe\">\n",
       "  <thead>\n",
       "    <tr style=\"text-align: right;\">\n",
       "      <th></th>\n",
       "      <th>uniprot_id</th>\n",
       "      <th>id_type</th>\n",
       "      <th>db_id</th>\n",
       "      <th>species_id</th>\n",
       "      <th>taxa_id</th>\n",
       "    </tr>\n",
       "  </thead>\n",
       "  <tbody>\n",
       "    <tr>\n",
       "      <th>0</th>\n",
       "      <td>Q5PRD0</td>\n",
       "      <td>UniProtKB-ID</td>\n",
       "      <td>143BA_DANRE</td>\n",
       "      <td>UP000000437</td>\n",
       "      <td>UP000000437</td>\n",
       "    </tr>\n",
       "    <tr>\n",
       "      <th>1</th>\n",
       "      <td>Q5PRD0</td>\n",
       "      <td>Gene_Name</td>\n",
       "      <td>ywhaba</td>\n",
       "      <td>UP000000437</td>\n",
       "      <td>UP000000437</td>\n",
       "    </tr>\n",
       "    <tr>\n",
       "      <th>2</th>\n",
       "      <td>Q5PRD0</td>\n",
       "      <td>Gene_Synonym</td>\n",
       "      <td>ywhab1</td>\n",
       "      <td>UP000000437</td>\n",
       "      <td>UP000000437</td>\n",
       "    </tr>\n",
       "    <tr>\n",
       "      <th>3</th>\n",
       "      <td>Q5PRD0</td>\n",
       "      <td>Gene_ORFName</td>\n",
       "      <td>wu:fb80c08</td>\n",
       "      <td>UP000000437</td>\n",
       "      <td>UP000000437</td>\n",
       "    </tr>\n",
       "    <tr>\n",
       "      <th>4</th>\n",
       "      <td>Q5PRD0</td>\n",
       "      <td>GI</td>\n",
       "      <td>82592598</td>\n",
       "      <td>UP000000437</td>\n",
       "      <td>UP000000437</td>\n",
       "    </tr>\n",
       "  </tbody>\n",
       "</table>\n",
       "</div>"
      ],
      "text/plain": [
       "  uniprot_id       id_type        db_id   species_id      taxa_id\n",
       "0     Q5PRD0  UniProtKB-ID  143BA_DANRE  UP000000437  UP000000437\n",
       "1     Q5PRD0     Gene_Name       ywhaba  UP000000437  UP000000437\n",
       "2     Q5PRD0  Gene_Synonym       ywhab1  UP000000437  UP000000437\n",
       "3     Q5PRD0  Gene_ORFName   wu:fb80c08  UP000000437  UP000000437\n",
       "4     Q5PRD0            GI     82592598  UP000000437  UP000000437"
      ]
     },
     "execution_count": 37,
     "metadata": {},
     "output_type": "execute_result"
    }
   ],
   "source": [
    "dfs = []\n",
    "\n",
    "for filename in tqdm(sorted(iglob(\"Eukaryota/*.idmapping\"))):\n",
    "#     print(filename)\n",
    "    basename = os.path.basename(filename)\n",
    "    prefix = basename.split('.')[0]\n",
    "    species_id, taxa_id = prefix.split(\"_\")\n",
    "#     print(f\"{species_id=} {taxa_id=}\")\n",
    "    \n",
    "    if species_id in opisthokonts.proteome_id.values:\n",
    "\n",
    "        df = pd.read_csv(filename, sep='\\t', header=None, names=['uniprot_id', 'id_type', 'db_id'])\n",
    "        df['species_id'] = species_id\n",
    "        df['taxa_id'] = species_id\n",
    "\n",
    "        # Use only Ensembl data\n",
    "#         df = df.query('id_type == \"Ensembl\"')\n",
    "        print(df.shape)\n",
    "        dfs.append(df)\n",
    "    \n",
    "id_mapping = pd.concat(dfs, ignore_index=True)\n",
    "print(id_mapping.shape)\n",
    "id_mapping.head()"
   ]
  },
  {
   "cell_type": "markdown",
   "metadata": {},
   "source": [
    "# Merge id mapping with ensembl compara tfs"
   ]
  },
  {
   "cell_type": "code",
   "execution_count": 40,
   "metadata": {},
   "outputs": [
    {
     "data": {
      "text/html": [
       "<div>\n",
       "<style scoped>\n",
       "    .dataframe tbody tr th:only-of-type {\n",
       "        vertical-align: middle;\n",
       "    }\n",
       "\n",
       "    .dataframe tbody tr th {\n",
       "        vertical-align: top;\n",
       "    }\n",
       "\n",
       "    .dataframe thead th {\n",
       "        text-align: right;\n",
       "    }\n",
       "</style>\n",
       "<table border=\"1\" class=\"dataframe\">\n",
       "  <thead>\n",
       "    <tr style=\"text-align: right;\">\n",
       "      <th></th>\n",
       "      <th>dn_ds</th>\n",
       "      <th>method_link_type</th>\n",
       "      <th>source__id</th>\n",
       "      <th>source__perc_id</th>\n",
       "      <th>source__perc_pos</th>\n",
       "      <th>source__protein_id</th>\n",
       "      <th>source__species</th>\n",
       "      <th>source__taxon_id</th>\n",
       "      <th>target__id</th>\n",
       "      <th>target__perc_id</th>\n",
       "      <th>target__perc_pos</th>\n",
       "      <th>target__protein_id</th>\n",
       "      <th>target__species</th>\n",
       "      <th>target__taxon_id</th>\n",
       "      <th>taxonomy_level</th>\n",
       "      <th>type</th>\n",
       "    </tr>\n",
       "  </thead>\n",
       "  <tbody>\n",
       "    <tr>\n",
       "      <th>343148</th>\n",
       "      <td>NaN</td>\n",
       "      <td>ENSEMBL_ORTHOLOGUES</td>\n",
       "      <td>ENSG00000036549</td>\n",
       "      <td>36.43410</td>\n",
       "      <td>52.27020</td>\n",
       "      <td>ENSP00000359837</td>\n",
       "      <td>homo_sapiens</td>\n",
       "      <td>9606</td>\n",
       "      <td>ENSEBUG00000002277</td>\n",
       "      <td>39.2133</td>\n",
       "      <td>56.2575</td>\n",
       "      <td>ENSEBUP00000003097</td>\n",
       "      <td>eptatretus_burgeri</td>\n",
       "      <td>7764</td>\n",
       "      <td>Vertebrata</td>\n",
       "      <td>ortholog_one2one</td>\n",
       "    </tr>\n",
       "    <tr>\n",
       "      <th>343149</th>\n",
       "      <td>NaN</td>\n",
       "      <td>ENSEMBL_ORTHOLOGUES</td>\n",
       "      <td>ENSG00000036549</td>\n",
       "      <td>26.91030</td>\n",
       "      <td>33.44410</td>\n",
       "      <td>ENSP00000359837</td>\n",
       "      <td>homo_sapiens</td>\n",
       "      <td>9606</td>\n",
       "      <td>ENSPMAG00000000497</td>\n",
       "      <td>56.6434</td>\n",
       "      <td>70.3963</td>\n",
       "      <td>ENSPMAP00000000552</td>\n",
       "      <td>petromyzon_marinus</td>\n",
       "      <td>7757</td>\n",
       "      <td>Vertebrata</td>\n",
       "      <td>ortholog_one2one</td>\n",
       "    </tr>\n",
       "    <tr>\n",
       "      <th>343150</th>\n",
       "      <td>NaN</td>\n",
       "      <td>ENSEMBL_ORTHOLOGUES</td>\n",
       "      <td>ENSG00000036549</td>\n",
       "      <td>28.90370</td>\n",
       "      <td>45.29350</td>\n",
       "      <td>ENSP00000359837</td>\n",
       "      <td>homo_sapiens</td>\n",
       "      <td>9606</td>\n",
       "      <td>ENSCING00000002486</td>\n",
       "      <td>25.1203</td>\n",
       "      <td>39.3648</td>\n",
       "      <td>ENSCINP00000005056</td>\n",
       "      <td>ciona_intestinalis</td>\n",
       "      <td>7719</td>\n",
       "      <td>Chordata</td>\n",
       "      <td>ortholog_one2one</td>\n",
       "    </tr>\n",
       "    <tr>\n",
       "      <th>343151</th>\n",
       "      <td>NaN</td>\n",
       "      <td>ENSEMBL_ORTHOLOGUES</td>\n",
       "      <td>ENSG00000036549</td>\n",
       "      <td>7.08749</td>\n",
       "      <td>9.30233</td>\n",
       "      <td>ENSP00000359837</td>\n",
       "      <td>homo_sapiens</td>\n",
       "      <td>9606</td>\n",
       "      <td>ENSCSAVG00000000992</td>\n",
       "      <td>48.4848</td>\n",
       "      <td>63.6364</td>\n",
       "      <td>ENSCSAVP00000001713</td>\n",
       "      <td>ciona_savignyi</td>\n",
       "      <td>51511</td>\n",
       "      <td>Chordata</td>\n",
       "      <td>ortholog_one2one</td>\n",
       "    </tr>\n",
       "    <tr>\n",
       "      <th>343152</th>\n",
       "      <td>NaN</td>\n",
       "      <td>ENSEMBL_ORTHOLOGUES</td>\n",
       "      <td>ENSG00000036549</td>\n",
       "      <td>13.84270</td>\n",
       "      <td>21.04100</td>\n",
       "      <td>ENSP00000359837</td>\n",
       "      <td>homo_sapiens</td>\n",
       "      <td>9606</td>\n",
       "      <td>FBgn0031876</td>\n",
       "      <td>35.1124</td>\n",
       "      <td>53.3708</td>\n",
       "      <td>FBpp0078990</td>\n",
       "      <td>drosophila_melanogaster</td>\n",
       "      <td>7227</td>\n",
       "      <td>Bilateria</td>\n",
       "      <td>ortholog_one2one</td>\n",
       "    </tr>\n",
       "  </tbody>\n",
       "</table>\n",
       "</div>"
      ],
      "text/plain": [
       "        dn_ds     method_link_type       source__id  source__perc_id  \\\n",
       "343148    NaN  ENSEMBL_ORTHOLOGUES  ENSG00000036549         36.43410   \n",
       "343149    NaN  ENSEMBL_ORTHOLOGUES  ENSG00000036549         26.91030   \n",
       "343150    NaN  ENSEMBL_ORTHOLOGUES  ENSG00000036549         28.90370   \n",
       "343151    NaN  ENSEMBL_ORTHOLOGUES  ENSG00000036549          7.08749   \n",
       "343152    NaN  ENSEMBL_ORTHOLOGUES  ENSG00000036549         13.84270   \n",
       "\n",
       "        source__perc_pos source__protein_id source__species  source__taxon_id  \\\n",
       "343148          52.27020    ENSP00000359837    homo_sapiens              9606   \n",
       "343149          33.44410    ENSP00000359837    homo_sapiens              9606   \n",
       "343150          45.29350    ENSP00000359837    homo_sapiens              9606   \n",
       "343151           9.30233    ENSP00000359837    homo_sapiens              9606   \n",
       "343152          21.04100    ENSP00000359837    homo_sapiens              9606   \n",
       "\n",
       "                 target__id  target__perc_id  target__perc_pos  \\\n",
       "343148   ENSEBUG00000002277          39.2133           56.2575   \n",
       "343149   ENSPMAG00000000497          56.6434           70.3963   \n",
       "343150   ENSCING00000002486          25.1203           39.3648   \n",
       "343151  ENSCSAVG00000000992          48.4848           63.6364   \n",
       "343152          FBgn0031876          35.1124           53.3708   \n",
       "\n",
       "         target__protein_id          target__species  target__taxon_id  \\\n",
       "343148   ENSEBUP00000003097       eptatretus_burgeri              7764   \n",
       "343149   ENSPMAP00000000552       petromyzon_marinus              7757   \n",
       "343150   ENSCINP00000005056       ciona_intestinalis              7719   \n",
       "343151  ENSCSAVP00000001713           ciona_savignyi             51511   \n",
       "343152          FBpp0078990  drosophila_melanogaster              7227   \n",
       "\n",
       "       taxonomy_level              type  \n",
       "343148     Vertebrata  ortholog_one2one  \n",
       "343149     Vertebrata  ortholog_one2one  \n",
       "343150       Chordata  ortholog_one2one  \n",
       "343151       Chordata  ortholog_one2one  \n",
       "343152      Bilateria  ortholog_one2one  "
      ]
     },
     "execution_count": 40,
     "metadata": {},
     "output_type": "execute_result"
    }
   ],
   "source": [
    "tfs.tail()"
   ]
  },
  {
   "cell_type": "code",
   "execution_count": 76,
   "metadata": {},
   "outputs": [
    {
     "data": {
      "text/html": [
       "<div>\n",
       "<style scoped>\n",
       "    .dataframe tbody tr th:only-of-type {\n",
       "        vertical-align: middle;\n",
       "    }\n",
       "\n",
       "    .dataframe tbody tr th {\n",
       "        vertical-align: top;\n",
       "    }\n",
       "\n",
       "    .dataframe thead th {\n",
       "        text-align: right;\n",
       "    }\n",
       "</style>\n",
       "<table border=\"1\" class=\"dataframe\">\n",
       "  <thead>\n",
       "    <tr style=\"text-align: right;\">\n",
       "      <th></th>\n",
       "      <th>target__uniprot_id</th>\n",
       "      <th>target__id_type</th>\n",
       "      <th>target__db_id</th>\n",
       "      <th>target__species_id</th>\n",
       "      <th>target__taxa_id</th>\n",
       "    </tr>\n",
       "  </thead>\n",
       "  <tbody>\n",
       "    <tr>\n",
       "      <th>0</th>\n",
       "      <td>Q5PRD0</td>\n",
       "      <td>UniProtKB-ID</td>\n",
       "      <td>143BA_DANRE</td>\n",
       "      <td>UP000000437</td>\n",
       "      <td>UP000000437</td>\n",
       "    </tr>\n",
       "    <tr>\n",
       "      <th>1</th>\n",
       "      <td>Q5PRD0</td>\n",
       "      <td>Gene_Name</td>\n",
       "      <td>ywhaba</td>\n",
       "      <td>UP000000437</td>\n",
       "      <td>UP000000437</td>\n",
       "    </tr>\n",
       "    <tr>\n",
       "      <th>2</th>\n",
       "      <td>Q5PRD0</td>\n",
       "      <td>Gene_Synonym</td>\n",
       "      <td>ywhab1</td>\n",
       "      <td>UP000000437</td>\n",
       "      <td>UP000000437</td>\n",
       "    </tr>\n",
       "    <tr>\n",
       "      <th>3</th>\n",
       "      <td>Q5PRD0</td>\n",
       "      <td>Gene_ORFName</td>\n",
       "      <td>wu:fb80c08</td>\n",
       "      <td>UP000000437</td>\n",
       "      <td>UP000000437</td>\n",
       "    </tr>\n",
       "    <tr>\n",
       "      <th>4</th>\n",
       "      <td>Q5PRD0</td>\n",
       "      <td>GI</td>\n",
       "      <td>82592598</td>\n",
       "      <td>UP000000437</td>\n",
       "      <td>UP000000437</td>\n",
       "    </tr>\n",
       "  </tbody>\n",
       "</table>\n",
       "</div>"
      ],
      "text/plain": [
       "  target__uniprot_id target__id_type target__db_id target__species_id  \\\n",
       "0             Q5PRD0    UniProtKB-ID   143BA_DANRE        UP000000437   \n",
       "1             Q5PRD0       Gene_Name        ywhaba        UP000000437   \n",
       "2             Q5PRD0    Gene_Synonym        ywhab1        UP000000437   \n",
       "3             Q5PRD0    Gene_ORFName    wu:fb80c08        UP000000437   \n",
       "4             Q5PRD0              GI      82592598        UP000000437   \n",
       "\n",
       "  target__taxa_id  \n",
       "0     UP000000437  \n",
       "1     UP000000437  \n",
       "2     UP000000437  \n",
       "3     UP000000437  \n",
       "4     UP000000437  "
      ]
     },
     "execution_count": 76,
     "metadata": {},
     "output_type": "execute_result"
    }
   ],
   "source": [
    "id_mapping_for_merging = id_mapping.copy()\n",
    "id_mapping_for_merging.columns = \"target__\" + id_mapping_for_merging.columns\n",
    "id_mapping_for_merging.head()"
   ]
  },
  {
   "cell_type": "code",
   "execution_count": 78,
   "metadata": {},
   "outputs": [
    {
     "data": {
      "text/plain": [
       "(343153, 16)"
      ]
     },
     "execution_count": 78,
     "metadata": {},
     "output_type": "execute_result"
    }
   ],
   "source": [
    "tfs.shape"
   ]
  },
  {
   "cell_type": "code",
   "execution_count": 79,
   "metadata": {},
   "outputs": [
    {
     "name": "stdout",
     "output_type": "stream",
     "text": [
      "(59232, 21)\n",
      "CPU times: user 20 s, sys: 699 ms, total: 20.7 s\n",
      "Wall time: 20.8 s\n"
     ]
    },
    {
     "data": {
      "text/html": [
       "<div>\n",
       "<style scoped>\n",
       "    .dataframe tbody tr th:only-of-type {\n",
       "        vertical-align: middle;\n",
       "    }\n",
       "\n",
       "    .dataframe tbody tr th {\n",
       "        vertical-align: top;\n",
       "    }\n",
       "\n",
       "    .dataframe thead th {\n",
       "        text-align: right;\n",
       "    }\n",
       "</style>\n",
       "<table border=\"1\" class=\"dataframe\">\n",
       "  <thead>\n",
       "    <tr style=\"text-align: right;\">\n",
       "      <th></th>\n",
       "      <th>dn_ds</th>\n",
       "      <th>method_link_type</th>\n",
       "      <th>source__id</th>\n",
       "      <th>source__perc_id</th>\n",
       "      <th>source__perc_pos</th>\n",
       "      <th>source__protein_id</th>\n",
       "      <th>source__species</th>\n",
       "      <th>source__taxon_id</th>\n",
       "      <th>target__id</th>\n",
       "      <th>target__perc_id</th>\n",
       "      <th>...</th>\n",
       "      <th>target__protein_id</th>\n",
       "      <th>target__species</th>\n",
       "      <th>target__taxon_id</th>\n",
       "      <th>taxonomy_level</th>\n",
       "      <th>type</th>\n",
       "      <th>target__uniprot_id</th>\n",
       "      <th>target__id_type</th>\n",
       "      <th>target__db_id</th>\n",
       "      <th>target__species_id</th>\n",
       "      <th>target__taxa_id</th>\n",
       "    </tr>\n",
       "  </thead>\n",
       "  <tbody>\n",
       "    <tr>\n",
       "      <th>0</th>\n",
       "      <td>NaN</td>\n",
       "      <td>ENSEMBL_PARALOGUES</td>\n",
       "      <td>ENSG00000267179</td>\n",
       "      <td>24.8792</td>\n",
       "      <td>37.1981</td>\n",
       "      <td>ENSP00000467286</td>\n",
       "      <td>homo_sapiens</td>\n",
       "      <td>9606</td>\n",
       "      <td>ENSG00000175787</td>\n",
       "      <td>17.0813</td>\n",
       "      <td>...</td>\n",
       "      <td>ENSP00000378792</td>\n",
       "      <td>homo_sapiens</td>\n",
       "      <td>9606</td>\n",
       "      <td>Bilateria</td>\n",
       "      <td>other_paralog</td>\n",
       "      <td>Q14929</td>\n",
       "      <td>Ensembl_PRO</td>\n",
       "      <td>ENSP00000378792</td>\n",
       "      <td>UP000005640</td>\n",
       "      <td>UP000005640</td>\n",
       "    </tr>\n",
       "    <tr>\n",
       "      <th>1</th>\n",
       "      <td>0.37910</td>\n",
       "      <td>ENSEMBL_PARALOGUES</td>\n",
       "      <td>ENSG00000181666</td>\n",
       "      <td>45.6753</td>\n",
       "      <td>57.5114</td>\n",
       "      <td>ENSP00000315505</td>\n",
       "      <td>homo_sapiens</td>\n",
       "      <td>9606</td>\n",
       "      <td>ENSG00000175787</td>\n",
       "      <td>49.9171</td>\n",
       "      <td>...</td>\n",
       "      <td>ENSP00000378792</td>\n",
       "      <td>homo_sapiens</td>\n",
       "      <td>9606</td>\n",
       "      <td>Bilateria</td>\n",
       "      <td>other_paralog</td>\n",
       "      <td>Q14929</td>\n",
       "      <td>Ensembl_PRO</td>\n",
       "      <td>ENSP00000378792</td>\n",
       "      <td>UP000005640</td>\n",
       "      <td>UP000005640</td>\n",
       "    </tr>\n",
       "    <tr>\n",
       "      <th>2</th>\n",
       "      <td>0.43907</td>\n",
       "      <td>ENSEMBL_PARALOGUES</td>\n",
       "      <td>ENSG00000164256</td>\n",
       "      <td>26.1745</td>\n",
       "      <td>34.0045</td>\n",
       "      <td>ENSP00000296682</td>\n",
       "      <td>homo_sapiens</td>\n",
       "      <td>9606</td>\n",
       "      <td>ENSG00000175787</td>\n",
       "      <td>38.8060</td>\n",
       "      <td>...</td>\n",
       "      <td>ENSP00000378792</td>\n",
       "      <td>homo_sapiens</td>\n",
       "      <td>9606</td>\n",
       "      <td>Bilateria</td>\n",
       "      <td>other_paralog</td>\n",
       "      <td>Q14929</td>\n",
       "      <td>Ensembl_PRO</td>\n",
       "      <td>ENSP00000378792</td>\n",
       "      <td>UP000005640</td>\n",
       "      <td>UP000005640</td>\n",
       "    </tr>\n",
       "    <tr>\n",
       "      <th>3</th>\n",
       "      <td>NaN</td>\n",
       "      <td>ENSEMBL_PARALOGUES</td>\n",
       "      <td>ENSG00000136866</td>\n",
       "      <td>30.5426</td>\n",
       "      <td>41.7054</td>\n",
       "      <td>ENSP00000452552</td>\n",
       "      <td>homo_sapiens</td>\n",
       "      <td>9606</td>\n",
       "      <td>ENSG00000175787</td>\n",
       "      <td>32.6700</td>\n",
       "      <td>...</td>\n",
       "      <td>ENSP00000378792</td>\n",
       "      <td>homo_sapiens</td>\n",
       "      <td>9606</td>\n",
       "      <td>Bilateria</td>\n",
       "      <td>other_paralog</td>\n",
       "      <td>Q14929</td>\n",
       "      <td>Ensembl_PRO</td>\n",
       "      <td>ENSP00000378792</td>\n",
       "      <td>UP000005640</td>\n",
       "      <td>UP000005640</td>\n",
       "    </tr>\n",
       "    <tr>\n",
       "      <th>4</th>\n",
       "      <td>NaN</td>\n",
       "      <td>ENSEMBL_PARALOGUES</td>\n",
       "      <td>ENSG00000187815</td>\n",
       "      <td>29.6578</td>\n",
       "      <td>41.4449</td>\n",
       "      <td>ENSP00000361791</td>\n",
       "      <td>homo_sapiens</td>\n",
       "      <td>9606</td>\n",
       "      <td>ENSG00000175787</td>\n",
       "      <td>25.8706</td>\n",
       "      <td>...</td>\n",
       "      <td>ENSP00000378792</td>\n",
       "      <td>homo_sapiens</td>\n",
       "      <td>9606</td>\n",
       "      <td>Bilateria</td>\n",
       "      <td>other_paralog</td>\n",
       "      <td>Q14929</td>\n",
       "      <td>Ensembl_PRO</td>\n",
       "      <td>ENSP00000378792</td>\n",
       "      <td>UP000005640</td>\n",
       "      <td>UP000005640</td>\n",
       "    </tr>\n",
       "  </tbody>\n",
       "</table>\n",
       "<p>5 rows × 21 columns</p>\n",
       "</div>"
      ],
      "text/plain": [
       "     dn_ds    method_link_type       source__id  source__perc_id  \\\n",
       "0      NaN  ENSEMBL_PARALOGUES  ENSG00000267179          24.8792   \n",
       "1  0.37910  ENSEMBL_PARALOGUES  ENSG00000181666          45.6753   \n",
       "2  0.43907  ENSEMBL_PARALOGUES  ENSG00000164256          26.1745   \n",
       "3      NaN  ENSEMBL_PARALOGUES  ENSG00000136866          30.5426   \n",
       "4      NaN  ENSEMBL_PARALOGUES  ENSG00000187815          29.6578   \n",
       "\n",
       "   source__perc_pos source__protein_id source__species  source__taxon_id  \\\n",
       "0           37.1981    ENSP00000467286    homo_sapiens              9606   \n",
       "1           57.5114    ENSP00000315505    homo_sapiens              9606   \n",
       "2           34.0045    ENSP00000296682    homo_sapiens              9606   \n",
       "3           41.7054    ENSP00000452552    homo_sapiens              9606   \n",
       "4           41.4449    ENSP00000361791    homo_sapiens              9606   \n",
       "\n",
       "        target__id  target__perc_id  ...  target__protein_id target__species  \\\n",
       "0  ENSG00000175787          17.0813  ...     ENSP00000378792    homo_sapiens   \n",
       "1  ENSG00000175787          49.9171  ...     ENSP00000378792    homo_sapiens   \n",
       "2  ENSG00000175787          38.8060  ...     ENSP00000378792    homo_sapiens   \n",
       "3  ENSG00000175787          32.6700  ...     ENSP00000378792    homo_sapiens   \n",
       "4  ENSG00000175787          25.8706  ...     ENSP00000378792    homo_sapiens   \n",
       "\n",
       "  target__taxon_id  taxonomy_level           type target__uniprot_id  \\\n",
       "0             9606       Bilateria  other_paralog             Q14929   \n",
       "1             9606       Bilateria  other_paralog             Q14929   \n",
       "2             9606       Bilateria  other_paralog             Q14929   \n",
       "3             9606       Bilateria  other_paralog             Q14929   \n",
       "4             9606       Bilateria  other_paralog             Q14929   \n",
       "\n",
       "  target__id_type    target__db_id target__species_id target__taxa_id  \n",
       "0     Ensembl_PRO  ENSP00000378792        UP000005640     UP000005640  \n",
       "1     Ensembl_PRO  ENSP00000378792        UP000005640     UP000005640  \n",
       "2     Ensembl_PRO  ENSP00000378792        UP000005640     UP000005640  \n",
       "3     Ensembl_PRO  ENSP00000378792        UP000005640     UP000005640  \n",
       "4     Ensembl_PRO  ENSP00000378792        UP000005640     UP000005640  \n",
       "\n",
       "[5 rows x 21 columns]"
      ]
     },
     "execution_count": 79,
     "metadata": {},
     "output_type": "execute_result"
    }
   ],
   "source": [
    "%%time\n",
    "\n",
    "tfs_uniprot_merge_proteins = tfs.merge(id_mapping_for_merging, left_on='target__protein_id', right_on='target__db_id')\n",
    "print(tfs_uniprot_merge_proteins.shape)\n",
    "tfs_uniprot_merge_proteins.head()"
   ]
  },
  {
   "cell_type": "code",
   "execution_count": 80,
   "metadata": {},
   "outputs": [
    {
     "name": "stdout",
     "output_type": "stream",
     "text": [
      "(266814, 21)\n",
      "CPU times: user 19.6 s, sys: 757 ms, total: 20.4 s\n",
      "Wall time: 20.3 s\n"
     ]
    },
    {
     "data": {
      "text/html": [
       "<div>\n",
       "<style scoped>\n",
       "    .dataframe tbody tr th:only-of-type {\n",
       "        vertical-align: middle;\n",
       "    }\n",
       "\n",
       "    .dataframe tbody tr th {\n",
       "        vertical-align: top;\n",
       "    }\n",
       "\n",
       "    .dataframe thead th {\n",
       "        text-align: right;\n",
       "    }\n",
       "</style>\n",
       "<table border=\"1\" class=\"dataframe\">\n",
       "  <thead>\n",
       "    <tr style=\"text-align: right;\">\n",
       "      <th></th>\n",
       "      <th>dn_ds</th>\n",
       "      <th>method_link_type</th>\n",
       "      <th>source__id</th>\n",
       "      <th>source__perc_id</th>\n",
       "      <th>source__perc_pos</th>\n",
       "      <th>source__protein_id</th>\n",
       "      <th>source__species</th>\n",
       "      <th>source__taxon_id</th>\n",
       "      <th>target__id</th>\n",
       "      <th>target__perc_id</th>\n",
       "      <th>...</th>\n",
       "      <th>target__protein_id</th>\n",
       "      <th>target__species</th>\n",
       "      <th>target__taxon_id</th>\n",
       "      <th>taxonomy_level</th>\n",
       "      <th>type</th>\n",
       "      <th>target__uniprot_id</th>\n",
       "      <th>target__id_type</th>\n",
       "      <th>target__db_id</th>\n",
       "      <th>target__species_id</th>\n",
       "      <th>target__taxa_id</th>\n",
       "    </tr>\n",
       "  </thead>\n",
       "  <tbody>\n",
       "    <tr>\n",
       "      <th>0</th>\n",
       "      <td>NaN</td>\n",
       "      <td>ENSEMBL_PARALOGUES</td>\n",
       "      <td>ENSG00000267179</td>\n",
       "      <td>24.8792</td>\n",
       "      <td>37.1981</td>\n",
       "      <td>ENSP00000467286</td>\n",
       "      <td>homo_sapiens</td>\n",
       "      <td>9606</td>\n",
       "      <td>ENSG00000175787</td>\n",
       "      <td>17.0813</td>\n",
       "      <td>...</td>\n",
       "      <td>ENSP00000378792</td>\n",
       "      <td>homo_sapiens</td>\n",
       "      <td>9606</td>\n",
       "      <td>Bilateria</td>\n",
       "      <td>other_paralog</td>\n",
       "      <td>Q7Z761</td>\n",
       "      <td>Ensembl</td>\n",
       "      <td>ENSG00000175787</td>\n",
       "      <td>UP000005640</td>\n",
       "      <td>UP000005640</td>\n",
       "    </tr>\n",
       "    <tr>\n",
       "      <th>1</th>\n",
       "      <td>NaN</td>\n",
       "      <td>ENSEMBL_PARALOGUES</td>\n",
       "      <td>ENSG00000267179</td>\n",
       "      <td>24.8792</td>\n",
       "      <td>37.1981</td>\n",
       "      <td>ENSP00000467286</td>\n",
       "      <td>homo_sapiens</td>\n",
       "      <td>9606</td>\n",
       "      <td>ENSG00000175787</td>\n",
       "      <td>17.0813</td>\n",
       "      <td>...</td>\n",
       "      <td>ENSP00000378792</td>\n",
       "      <td>homo_sapiens</td>\n",
       "      <td>9606</td>\n",
       "      <td>Bilateria</td>\n",
       "      <td>other_paralog</td>\n",
       "      <td>Q14929</td>\n",
       "      <td>Ensembl</td>\n",
       "      <td>ENSG00000175787</td>\n",
       "      <td>UP000005640</td>\n",
       "      <td>UP000005640</td>\n",
       "    </tr>\n",
       "    <tr>\n",
       "      <th>2</th>\n",
       "      <td>NaN</td>\n",
       "      <td>ENSEMBL_PARALOGUES</td>\n",
       "      <td>ENSG00000267179</td>\n",
       "      <td>24.8792</td>\n",
       "      <td>37.1981</td>\n",
       "      <td>ENSP00000467286</td>\n",
       "      <td>homo_sapiens</td>\n",
       "      <td>9606</td>\n",
       "      <td>ENSG00000175787</td>\n",
       "      <td>17.0813</td>\n",
       "      <td>...</td>\n",
       "      <td>ENSP00000378792</td>\n",
       "      <td>homo_sapiens</td>\n",
       "      <td>9606</td>\n",
       "      <td>Bilateria</td>\n",
       "      <td>other_paralog</td>\n",
       "      <td>Q5SR55</td>\n",
       "      <td>Ensembl</td>\n",
       "      <td>ENSG00000175787</td>\n",
       "      <td>UP000005640</td>\n",
       "      <td>UP000005640</td>\n",
       "    </tr>\n",
       "    <tr>\n",
       "      <th>3</th>\n",
       "      <td>NaN</td>\n",
       "      <td>ENSEMBL_PARALOGUES</td>\n",
       "      <td>ENSG00000267179</td>\n",
       "      <td>24.8792</td>\n",
       "      <td>37.1981</td>\n",
       "      <td>ENSP00000467286</td>\n",
       "      <td>homo_sapiens</td>\n",
       "      <td>9606</td>\n",
       "      <td>ENSG00000175787</td>\n",
       "      <td>17.0813</td>\n",
       "      <td>...</td>\n",
       "      <td>ENSP00000378792</td>\n",
       "      <td>homo_sapiens</td>\n",
       "      <td>9606</td>\n",
       "      <td>Bilateria</td>\n",
       "      <td>other_paralog</td>\n",
       "      <td>S4R440</td>\n",
       "      <td>Ensembl</td>\n",
       "      <td>ENSG00000175787</td>\n",
       "      <td>UP000005640</td>\n",
       "      <td>UP000005640</td>\n",
       "    </tr>\n",
       "    <tr>\n",
       "      <th>4</th>\n",
       "      <td>0.3791</td>\n",
       "      <td>ENSEMBL_PARALOGUES</td>\n",
       "      <td>ENSG00000181666</td>\n",
       "      <td>45.6753</td>\n",
       "      <td>57.5114</td>\n",
       "      <td>ENSP00000315505</td>\n",
       "      <td>homo_sapiens</td>\n",
       "      <td>9606</td>\n",
       "      <td>ENSG00000175787</td>\n",
       "      <td>49.9171</td>\n",
       "      <td>...</td>\n",
       "      <td>ENSP00000378792</td>\n",
       "      <td>homo_sapiens</td>\n",
       "      <td>9606</td>\n",
       "      <td>Bilateria</td>\n",
       "      <td>other_paralog</td>\n",
       "      <td>Q7Z761</td>\n",
       "      <td>Ensembl</td>\n",
       "      <td>ENSG00000175787</td>\n",
       "      <td>UP000005640</td>\n",
       "      <td>UP000005640</td>\n",
       "    </tr>\n",
       "  </tbody>\n",
       "</table>\n",
       "<p>5 rows × 21 columns</p>\n",
       "</div>"
      ],
      "text/plain": [
       "    dn_ds    method_link_type       source__id  source__perc_id  \\\n",
       "0     NaN  ENSEMBL_PARALOGUES  ENSG00000267179          24.8792   \n",
       "1     NaN  ENSEMBL_PARALOGUES  ENSG00000267179          24.8792   \n",
       "2     NaN  ENSEMBL_PARALOGUES  ENSG00000267179          24.8792   \n",
       "3     NaN  ENSEMBL_PARALOGUES  ENSG00000267179          24.8792   \n",
       "4  0.3791  ENSEMBL_PARALOGUES  ENSG00000181666          45.6753   \n",
       "\n",
       "   source__perc_pos source__protein_id source__species  source__taxon_id  \\\n",
       "0           37.1981    ENSP00000467286    homo_sapiens              9606   \n",
       "1           37.1981    ENSP00000467286    homo_sapiens              9606   \n",
       "2           37.1981    ENSP00000467286    homo_sapiens              9606   \n",
       "3           37.1981    ENSP00000467286    homo_sapiens              9606   \n",
       "4           57.5114    ENSP00000315505    homo_sapiens              9606   \n",
       "\n",
       "        target__id  target__perc_id  ...  target__protein_id target__species  \\\n",
       "0  ENSG00000175787          17.0813  ...     ENSP00000378792    homo_sapiens   \n",
       "1  ENSG00000175787          17.0813  ...     ENSP00000378792    homo_sapiens   \n",
       "2  ENSG00000175787          17.0813  ...     ENSP00000378792    homo_sapiens   \n",
       "3  ENSG00000175787          17.0813  ...     ENSP00000378792    homo_sapiens   \n",
       "4  ENSG00000175787          49.9171  ...     ENSP00000378792    homo_sapiens   \n",
       "\n",
       "  target__taxon_id  taxonomy_level           type target__uniprot_id  \\\n",
       "0             9606       Bilateria  other_paralog             Q7Z761   \n",
       "1             9606       Bilateria  other_paralog             Q14929   \n",
       "2             9606       Bilateria  other_paralog             Q5SR55   \n",
       "3             9606       Bilateria  other_paralog             S4R440   \n",
       "4             9606       Bilateria  other_paralog             Q7Z761   \n",
       "\n",
       "  target__id_type    target__db_id target__species_id target__taxa_id  \n",
       "0         Ensembl  ENSG00000175787        UP000005640     UP000005640  \n",
       "1         Ensembl  ENSG00000175787        UP000005640     UP000005640  \n",
       "2         Ensembl  ENSG00000175787        UP000005640     UP000005640  \n",
       "3         Ensembl  ENSG00000175787        UP000005640     UP000005640  \n",
       "4         Ensembl  ENSG00000175787        UP000005640     UP000005640  \n",
       "\n",
       "[5 rows x 21 columns]"
      ]
     },
     "execution_count": 80,
     "metadata": {},
     "output_type": "execute_result"
    }
   ],
   "source": [
    "%%time\n",
    "\n",
    "tfs_uniprot_merge_genes = tfs.merge(id_mapping_for_merging, left_on='target__id', right_on='target__db_id')\n",
    "print(tfs_uniprot_merge_genes.shape)\n",
    "tfs_uniprot_merge_genes.head()"
   ]
  },
  {
   "cell_type": "markdown",
   "metadata": {},
   "source": [
    "## Add human uniprot ids"
   ]
  },
  {
   "cell_type": "code",
   "execution_count": 84,
   "metadata": {},
   "outputs": [
    {
     "name": "stdout",
     "output_type": "stream",
     "text": [
      "(2668934, 3)\n"
     ]
    },
    {
     "data": {
      "text/html": [
       "<div>\n",
       "<style scoped>\n",
       "    .dataframe tbody tr th:only-of-type {\n",
       "        vertical-align: middle;\n",
       "    }\n",
       "\n",
       "    .dataframe tbody tr th {\n",
       "        vertical-align: top;\n",
       "    }\n",
       "\n",
       "    .dataframe thead th {\n",
       "        text-align: right;\n",
       "    }\n",
       "</style>\n",
       "<table border=\"1\" class=\"dataframe\">\n",
       "  <thead>\n",
       "    <tr style=\"text-align: right;\">\n",
       "      <th></th>\n",
       "      <th>source__uniprot_id</th>\n",
       "      <th>source__id_type</th>\n",
       "      <th>source__db_id</th>\n",
       "    </tr>\n",
       "  </thead>\n",
       "  <tbody>\n",
       "    <tr>\n",
       "      <th>0</th>\n",
       "      <td>P62258-2</td>\n",
       "      <td>UniParc</td>\n",
       "      <td>UPI00001E6021</td>\n",
       "    </tr>\n",
       "    <tr>\n",
       "      <th>1</th>\n",
       "      <td>P62258-2</td>\n",
       "      <td>Ensembl_TRS</td>\n",
       "      <td>ENST00000571732</td>\n",
       "    </tr>\n",
       "    <tr>\n",
       "      <th>2</th>\n",
       "      <td>P62258-2</td>\n",
       "      <td>Ensembl_PRO</td>\n",
       "      <td>ENSP00000461762</td>\n",
       "    </tr>\n",
       "    <tr>\n",
       "      <th>3</th>\n",
       "      <td>P62258-2</td>\n",
       "      <td>Ensembl_TRS</td>\n",
       "      <td>ENST00000616643</td>\n",
       "    </tr>\n",
       "    <tr>\n",
       "      <th>4</th>\n",
       "      <td>P62258-2</td>\n",
       "      <td>Ensembl_PRO</td>\n",
       "      <td>ENSP00000481059</td>\n",
       "    </tr>\n",
       "  </tbody>\n",
       "</table>\n",
       "</div>"
      ],
      "text/plain": [
       "  source__uniprot_id source__id_type    source__db_id\n",
       "0           P62258-2         UniParc    UPI00001E6021\n",
       "1           P62258-2     Ensembl_TRS  ENST00000571732\n",
       "2           P62258-2     Ensembl_PRO  ENSP00000461762\n",
       "3           P62258-2     Ensembl_TRS  ENST00000616643\n",
       "4           P62258-2     Ensembl_PRO  ENSP00000481059"
      ]
     },
     "execution_count": 84,
     "metadata": {},
     "output_type": "execute_result"
    }
   ],
   "source": [
    "human_id_mapping = pd.read_csv('Eukaryota/UP000005640_9606.idmapping', sep='\\t', header=None, names=['uniprot_id', 'id_type', 'db_id'])\n",
    "human_id_mapping.columns = 'source__' + human_id_mapping.columns\n",
    "print(human_id_mapping.shape)\n",
    "human_id_mapping.head()"
   ]
  },
  {
   "cell_type": "code",
   "execution_count": 102,
   "metadata": {},
   "outputs": [
    {
     "name": "stdout",
     "output_type": "stream",
     "text": [
      "(2727198, 24)\n",
      "CPU times: user 2.24 s, sys: 475 ms, total: 2.71 s\n",
      "Wall time: 2.76 s\n"
     ]
    },
    {
     "data": {
      "text/html": [
       "<div>\n",
       "<style scoped>\n",
       "    .dataframe tbody tr th:only-of-type {\n",
       "        vertical-align: middle;\n",
       "    }\n",
       "\n",
       "    .dataframe tbody tr th {\n",
       "        vertical-align: top;\n",
       "    }\n",
       "\n",
       "    .dataframe thead th {\n",
       "        text-align: right;\n",
       "    }\n",
       "</style>\n",
       "<table border=\"1\" class=\"dataframe\">\n",
       "  <thead>\n",
       "    <tr style=\"text-align: right;\">\n",
       "      <th></th>\n",
       "      <th>dn_ds</th>\n",
       "      <th>method_link_type</th>\n",
       "      <th>human__id</th>\n",
       "      <th>human__perc_id</th>\n",
       "      <th>human__perc_pos</th>\n",
       "      <th>human__protein_id</th>\n",
       "      <th>human__species</th>\n",
       "      <th>human__taxon_id</th>\n",
       "      <th>target__id</th>\n",
       "      <th>target__perc_id</th>\n",
       "      <th>...</th>\n",
       "      <th>taxonomy_level</th>\n",
       "      <th>type</th>\n",
       "      <th>target__uniprot_id</th>\n",
       "      <th>target__id_type</th>\n",
       "      <th>target__db_id</th>\n",
       "      <th>target__species_id</th>\n",
       "      <th>target__taxa_id</th>\n",
       "      <th>human__uniprot_id</th>\n",
       "      <th>human__id_type</th>\n",
       "      <th>human__db_id</th>\n",
       "    </tr>\n",
       "  </thead>\n",
       "  <tbody>\n",
       "    <tr>\n",
       "      <th>99</th>\n",
       "      <td>0.86154</td>\n",
       "      <td>ENSEMBL_ORTHOLOGUES</td>\n",
       "      <td>ENSG00000181666</td>\n",
       "      <td>97.4203</td>\n",
       "      <td>98.1791</td>\n",
       "      <td>ENSP00000315505</td>\n",
       "      <td>homo_sapiens</td>\n",
       "      <td>9606.0</td>\n",
       "      <td>ENSGGOG00000013141</td>\n",
       "      <td>97.5684</td>\n",
       "      <td>...</td>\n",
       "      <td>Homininae</td>\n",
       "      <td>ortholog_one2one</td>\n",
       "      <td>A0A2I2Z547</td>\n",
       "      <td>Ensembl_PRO</td>\n",
       "      <td>ENSGGOP00000042196</td>\n",
       "      <td>UP000001519</td>\n",
       "      <td>UP000001519</td>\n",
       "      <td>NaN</td>\n",
       "      <td>NaN</td>\n",
       "      <td>NaN</td>\n",
       "    </tr>\n",
       "    <tr>\n",
       "      <th>100</th>\n",
       "      <td>0.57895</td>\n",
       "      <td>ENSEMBL_ORTHOLOGUES</td>\n",
       "      <td>ENSG00000181666</td>\n",
       "      <td>93.6267</td>\n",
       "      <td>94.3854</td>\n",
       "      <td>ENSP00000315505</td>\n",
       "      <td>homo_sapiens</td>\n",
       "      <td>9606.0</td>\n",
       "      <td>ENSPTRG00000010907</td>\n",
       "      <td>95.2160</td>\n",
       "      <td>...</td>\n",
       "      <td>Homininae</td>\n",
       "      <td>ortholog_one2one</td>\n",
       "      <td>H2R440</td>\n",
       "      <td>Ensembl_PRO</td>\n",
       "      <td>ENSPTRP00000046527</td>\n",
       "      <td>UP000002277</td>\n",
       "      <td>UP000002277</td>\n",
       "      <td>NaN</td>\n",
       "      <td>NaN</td>\n",
       "      <td>NaN</td>\n",
       "    </tr>\n",
       "    <tr>\n",
       "      <th>148</th>\n",
       "      <td>0.91702</td>\n",
       "      <td>ENSEMBL_ORTHOLOGUES</td>\n",
       "      <td>ENSG00000164256</td>\n",
       "      <td>85.5705</td>\n",
       "      <td>87.0246</td>\n",
       "      <td>ENSP00000296682</td>\n",
       "      <td>homo_sapiens</td>\n",
       "      <td>9606.0</td>\n",
       "      <td>ENSGGOG00000024584</td>\n",
       "      <td>93.0657</td>\n",
       "      <td>...</td>\n",
       "      <td>Homininae</td>\n",
       "      <td>ortholog_one2one</td>\n",
       "      <td>G3S233</td>\n",
       "      <td>Ensembl_PRO</td>\n",
       "      <td>ENSGGOP00000022130</td>\n",
       "      <td>UP000001519</td>\n",
       "      <td>UP000001519</td>\n",
       "      <td>Q9NQV7</td>\n",
       "      <td>Ensembl_PRO</td>\n",
       "      <td>ENSP00000296682</td>\n",
       "    </tr>\n",
       "    <tr>\n",
       "      <th>149</th>\n",
       "      <td>0.77097</td>\n",
       "      <td>ENSEMBL_ORTHOLOGUES</td>\n",
       "      <td>ENSG00000164256</td>\n",
       "      <td>77.5168</td>\n",
       "      <td>78.5235</td>\n",
       "      <td>ENSP00000296682</td>\n",
       "      <td>homo_sapiens</td>\n",
       "      <td>9606.0</td>\n",
       "      <td>ENSPTRG00000028674</td>\n",
       "      <td>95.5862</td>\n",
       "      <td>...</td>\n",
       "      <td>Homininae</td>\n",
       "      <td>ortholog_one2one</td>\n",
       "      <td>H2R5H8</td>\n",
       "      <td>Ensembl_PRO</td>\n",
       "      <td>ENSPTRP00000048166</td>\n",
       "      <td>UP000002277</td>\n",
       "      <td>UP000002277</td>\n",
       "      <td>Q9NQV7</td>\n",
       "      <td>Ensembl_PRO</td>\n",
       "      <td>ENSP00000296682</td>\n",
       "    </tr>\n",
       "    <tr>\n",
       "      <th>199</th>\n",
       "      <td>2.72000</td>\n",
       "      <td>ENSEMBL_ORTHOLOGUES</td>\n",
       "      <td>ENSG00000136866</td>\n",
       "      <td>96.2791</td>\n",
       "      <td>96.7442</td>\n",
       "      <td>ENSP00000452552</td>\n",
       "      <td>homo_sapiens</td>\n",
       "      <td>9606.0</td>\n",
       "      <td>ENSGGOG00000000731</td>\n",
       "      <td>98.4152</td>\n",
       "      <td>...</td>\n",
       "      <td>Homininae</td>\n",
       "      <td>ortholog_one2one</td>\n",
       "      <td>G3QEM3</td>\n",
       "      <td>Ensembl_PRO</td>\n",
       "      <td>ENSGGOP00000000720</td>\n",
       "      <td>UP000001519</td>\n",
       "      <td>UP000001519</td>\n",
       "      <td>Q9Y6Q3-2</td>\n",
       "      <td>Ensembl_PRO</td>\n",
       "      <td>ENSP00000452552</td>\n",
       "    </tr>\n",
       "  </tbody>\n",
       "</table>\n",
       "<p>5 rows × 24 columns</p>\n",
       "</div>"
      ],
      "text/plain": [
       "       dn_ds     method_link_type        human__id  human__perc_id  \\\n",
       "99   0.86154  ENSEMBL_ORTHOLOGUES  ENSG00000181666         97.4203   \n",
       "100  0.57895  ENSEMBL_ORTHOLOGUES  ENSG00000181666         93.6267   \n",
       "148  0.91702  ENSEMBL_ORTHOLOGUES  ENSG00000164256         85.5705   \n",
       "149  0.77097  ENSEMBL_ORTHOLOGUES  ENSG00000164256         77.5168   \n",
       "199  2.72000  ENSEMBL_ORTHOLOGUES  ENSG00000136866         96.2791   \n",
       "\n",
       "     human__perc_pos human__protein_id human__species  human__taxon_id  \\\n",
       "99           98.1791   ENSP00000315505   homo_sapiens           9606.0   \n",
       "100          94.3854   ENSP00000315505   homo_sapiens           9606.0   \n",
       "148          87.0246   ENSP00000296682   homo_sapiens           9606.0   \n",
       "149          78.5235   ENSP00000296682   homo_sapiens           9606.0   \n",
       "199          96.7442   ENSP00000452552   homo_sapiens           9606.0   \n",
       "\n",
       "             target__id  target__perc_id  ...  taxonomy_level  \\\n",
       "99   ENSGGOG00000013141          97.5684  ...       Homininae   \n",
       "100  ENSPTRG00000010907          95.2160  ...       Homininae   \n",
       "148  ENSGGOG00000024584          93.0657  ...       Homininae   \n",
       "149  ENSPTRG00000028674          95.5862  ...       Homininae   \n",
       "199  ENSGGOG00000000731          98.4152  ...       Homininae   \n",
       "\n",
       "                 type target__uniprot_id  target__id_type       target__db_id  \\\n",
       "99   ortholog_one2one         A0A2I2Z547      Ensembl_PRO  ENSGGOP00000042196   \n",
       "100  ortholog_one2one             H2R440      Ensembl_PRO  ENSPTRP00000046527   \n",
       "148  ortholog_one2one             G3S233      Ensembl_PRO  ENSGGOP00000022130   \n",
       "149  ortholog_one2one             H2R5H8      Ensembl_PRO  ENSPTRP00000048166   \n",
       "199  ortholog_one2one             G3QEM3      Ensembl_PRO  ENSGGOP00000000720   \n",
       "\n",
       "    target__species_id target__taxa_id human__uniprot_id human__id_type  \\\n",
       "99         UP000001519     UP000001519               NaN            NaN   \n",
       "100        UP000002277     UP000002277               NaN            NaN   \n",
       "148        UP000001519     UP000001519            Q9NQV7    Ensembl_PRO   \n",
       "149        UP000002277     UP000002277            Q9NQV7    Ensembl_PRO   \n",
       "199        UP000001519     UP000001519          Q9Y6Q3-2    Ensembl_PRO   \n",
       "\n",
       "        human__db_id  \n",
       "99               NaN  \n",
       "100              NaN  \n",
       "148  ENSP00000296682  \n",
       "149  ENSP00000296682  \n",
       "199  ENSP00000452552  \n",
       "\n",
       "[5 rows x 24 columns]"
      ]
     },
     "execution_count": 102,
     "metadata": {},
     "output_type": "execute_result"
    }
   ],
   "source": [
    "%%time \n",
    "tfs_uniprot_merge_proteins_with_human = tfs_uniprot_merge_proteins.merge(\n",
    "    human_id_mapping, left_on='source__protein_id', right_on='source__db_id', how='outer')\n",
    "tfs_uniprot_merge_proteins_with_human.columns = tfs_uniprot_merge_proteins_with_human.columns.str.replace(\"source__\", 'human__')\n",
    "print(tfs_uniprot_merge_proteins_with_human.shape)\n",
    "tfs_uniprot_merge_proteins_with_human.query('type == \"ortholog_one2one\"').head()"
   ]
  },
  {
   "cell_type": "code",
   "execution_count": 103,
   "metadata": {},
   "outputs": [
    {
     "data": {
      "text/plain": [
       "other_paralog             39292\n",
       "ortholog_one2one          11503\n",
       "ortholog_many2many         4898\n",
       "ortholog_one2many          2421\n",
       "within_species_paralog     1067\n",
       "alt_allele                   73\n",
       "Name: type, dtype: int64"
      ]
     },
     "execution_count": 103,
     "metadata": {},
     "output_type": "execute_result"
    }
   ],
   "source": [
    "tfs_uniprot_merge_proteins_with_human.type.value_counts()"
   ]
  },
  {
   "cell_type": "markdown",
   "metadata": {},
   "source": [
    "## Write merged TFs to disk"
   ]
  },
  {
   "cell_type": "code",
   "execution_count": 104,
   "metadata": {},
   "outputs": [
    {
     "data": {
      "text/plain": [
       "'/mnt/data_sm/olga/kmer-hashing/quest-for-orthologs/data/2019'"
      ]
     },
     "execution_count": 104,
     "metadata": {},
     "output_type": "execute_result"
    }
   ],
   "source": [
    "pwd"
   ]
  },
  {
   "cell_type": "code",
   "execution_count": 105,
   "metadata": {},
   "outputs": [
    {
     "name": "stdout",
     "output_type": "stream",
     "text": [
      "CPU times: user 28.9 s, sys: 137 ms, total: 29.1 s\n",
      "Wall time: 29.3 s\n",
      "CPU times: user 2.54 s, sys: 241 ms, total: 2.78 s\n",
      "Wall time: 2.88 s\n"
     ]
    }
   ],
   "source": [
    "%time tfs_uniprot_merge_proteins_with_human.to_csv('opisthokont_not_human_transcription_factors_ensembl_compara_merged_uniprot.csv.gz', index=False)\n",
    "%time tfs_uniprot_merge_proteins_with_human.to_parquet('opisthokont_not_human_transcription_factors_ensembl_compara_merged_uniprot.parquet', index=False)"
   ]
  },
  {
   "cell_type": "markdown",
   "metadata": {},
   "source": [
    "## Make set variable for quick membership evalution"
   ]
  },
  {
   "cell_type": "code",
   "execution_count": 93,
   "metadata": {},
   "outputs": [],
   "source": [
    "tf_orthologs = set(tfs_uniprot_merge_proteins_with_human.target__uniprot_id)"
   ]
  },
  {
   "cell_type": "markdown",
   "metadata": {},
   "source": [
    "### Prove that the set `tf_orthologs` is faster"
   ]
  },
  {
   "cell_type": "code",
   "execution_count": 95,
   "metadata": {},
   "outputs": [
    {
     "name": "stdout",
     "output_type": "stream",
     "text": [
      "68.2 ns ± 0.876 ns per loop (mean ± std. dev. of 7 runs, 10000000 loops each)\n"
     ]
    }
   ],
   "source": [
    "%timeit 'Q7Z761' in tf_orthologs"
   ]
  },
  {
   "cell_type": "code",
   "execution_count": 96,
   "metadata": {},
   "outputs": [
    {
     "name": "stdout",
     "output_type": "stream",
     "text": [
      "14.1 µs ± 236 ns per loop (mean ± std. dev. of 7 runs, 100000 loops each)\n"
     ]
    }
   ],
   "source": [
    "%timeit 'Q7Z761' in tfs_uniprot_merge_proteins_with_human.target__uniprot_id"
   ]
  },
  {
   "cell_type": "markdown",
   "metadata": {},
   "source": [
    "#### Yep, sets are 3 orders of magnitude faster!"
   ]
  },
  {
   "cell_type": "markdown",
   "metadata": {},
   "source": [
    "# Read non-human proteins and subset if they are an ortholog of a TF"
   ]
  },
  {
   "cell_type": "markdown",
   "metadata": {},
   "source": [
    "## Make outdir"
   ]
  },
  {
   "cell_type": "code",
   "execution_count": 43,
   "metadata": {},
   "outputs": [
    {
     "name": "stdout",
     "output_type": "stream",
     "text": [
      "mkdir: cannot create directory ‘Eukaryota/not-human-transcription-factor-fastas/’: File exists\n"
     ]
    }
   ],
   "source": [
    "not_human_outdir = 'Eukaryota/not-human-transcription-factor-fastas/'\n",
    "! mkdir $not_human_outdir\n"
   ]
  },
  {
   "cell_type": "markdown",
   "metadata": {},
   "source": [
    "## How much compute is this?"
   ]
  },
  {
   "cell_type": "markdown",
   "metadata": {},
   "source": [
    "Number of human transcription factor proteins in the quest for orthologs database\n"
   ]
  },
  {
   "cell_type": "code",
   "execution_count": 55,
   "metadata": {},
   "outputs": [],
   "source": [
    "n_human_qfo_tfs = 5749"
   ]
  },
  {
   "cell_type": "code",
   "execution_count": 50,
   "metadata": {},
   "outputs": [
    {
     "data": {
      "text/plain": [
       "(48947, 21)"
      ]
     },
     "execution_count": 50,
     "metadata": {},
     "output_type": "execute_result"
    }
   ],
   "source": [
    "tfs_uniprot.query('target__species != \"homo_sapiens\"').shape"
   ]
  },
  {
   "cell_type": "code",
   "execution_count": 53,
   "metadata": {},
   "outputs": [],
   "source": [
    "n_not_human_qfo_tfs = 48947"
   ]
  },
  {
   "cell_type": "code",
   "execution_count": 57,
   "metadata": {},
   "outputs": [
    {
     "data": {
      "text/plain": [
       "46.89938383333333"
      ]
     },
     "execution_count": 57,
     "metadata": {},
     "output_type": "execute_result"
    }
   ],
   "source": [
    "n_human_qfo_tfs * n_not_human_qfo_tfs * 0.0006 / 60 / 60"
   ]
  },
  {
   "cell_type": "markdown",
   "metadata": {},
   "source": [
    "\n",
    "### Okay, 46 hours is reasonable!"
   ]
  },
  {
   "cell_type": "markdown",
   "metadata": {},
   "source": [
    "## Read in protein fastas with screed"
   ]
  },
  {
   "cell_type": "code",
   "execution_count": 61,
   "metadata": {},
   "outputs": [
    {
     "name": "stdout",
     "output_type": "stream",
     "text": [
      "Eukaryota/not-human-protein-fastas/UP000000437_7955_additional.fasta\n",
      "\tlen(tf_records): 1171\n",
      "Eukaryota/not-human-protein-fastas/UP000008143_8364.fasta\n",
      "\tlen(tf_records): 493\n",
      "Eukaryota/not-human-protein-fastas/UP000001038_8090.fasta\n",
      "\tlen(tf_records): 1263\n",
      "Eukaryota/not-human-protein-fastas/UP000002280_13616.fasta\n",
      "\tlen(tf_records): 1007\n",
      "Eukaryota/not-human-protein-fastas/UP000000539_9031_additional.fasta\n",
      "\tlen(tf_records): 640\n",
      "Eukaryota/not-human-protein-fastas/UP000000803_7227_additional.fasta\n",
      "\tlen(tf_records): 404\n",
      "Eukaryota/not-human-protein-fastas/UP000018468_7918.fasta\n",
      "\tlen(tf_records): 979\n",
      "Eukaryota/not-human-protein-fastas/UP000002254_9615.fasta\n",
      "\tlen(tf_records): 1231\n",
      "Eukaryota/not-human-protein-fastas/UP000001940_6239.fasta\n",
      "\tlen(tf_records): 544\n",
      "Eukaryota/not-human-protein-fastas/UP000000437_7955.fasta\n",
      "\tlen(tf_records): 1156\n",
      "Eukaryota/not-human-protein-fastas/UP000002311_559292.fasta\n",
      "\tlen(tf_records): 48\n",
      "Eukaryota/not-human-protein-fastas/UP000000589_10090.fasta\n",
      "\tlen(tf_records): 1241\n",
      "Eukaryota/not-human-protein-fastas/UP000002254_9615_additional.fasta\n",
      "\tlen(tf_records): 343\n",
      "Eukaryota/not-human-protein-fastas/UP000000803_7227.fasta\n",
      "\tlen(tf_records): 443\n",
      "Eukaryota/not-human-protein-fastas/UP000001519_9595_additional.fasta\n",
      "\tlen(tf_records): 1726\n",
      "Eukaryota/not-human-protein-fastas/UP000002494_10116.fasta\n",
      "\tlen(tf_records): 1145\n",
      "Eukaryota/not-human-protein-fastas/UP000018468_7918_additional.fasta\n",
      "\tlen(tf_records): 237\n",
      "Eukaryota/not-human-protein-fastas/UP000001519_9595.fasta\n",
      "\tlen(tf_records): 1506\n",
      "Eukaryota/not-human-protein-fastas/UP000008144_7719_additional.fasta\n",
      "\tlen(tf_records): 27\n",
      "Eukaryota/not-human-protein-fastas/UP000008143_8364_additional.fasta\n",
      "\tlen(tf_records): 172\n",
      "Eukaryota/not-human-protein-fastas/UP000001940_6239_additional.fasta\n",
      "\tlen(tf_records): 274\n",
      "Eukaryota/not-human-protein-fastas/UP000002280_13616_additional.fasta\n",
      "\tlen(tf_records): 51\n",
      "Eukaryota/not-human-protein-fastas/UP000000539_9031.fasta\n",
      "\tlen(tf_records): 980\n",
      "Eukaryota/not-human-protein-fastas/UP000000589_10090_additional.fasta\n",
      "\tlen(tf_records): 2342\n",
      "Eukaryota/not-human-protein-fastas/UP000009136_9913.fasta\n",
      "\tlen(tf_records): 1380\n",
      "Eukaryota/not-human-protein-fastas/UP000002277_9598.fasta\n",
      "\tlen(tf_records): 1589\n",
      "Eukaryota/not-human-protein-fastas/UP000008144_7719.fasta\n",
      "\tlen(tf_records): 391\n",
      "Eukaryota/not-human-protein-fastas/UP000001038_8090_additional.fasta\n",
      "\tlen(tf_records): 744\n",
      "Eukaryota/not-human-protein-fastas/UP000002494_10116_additional.fasta\n",
      "\tlen(tf_records): 516\n",
      "Eukaryota/not-human-protein-fastas/UP000002277_9598_additional.fasta\n",
      "\tlen(tf_records): 2003\n",
      "Eukaryota/not-human-protein-fastas/UP000009136_9913_additional.fasta\n",
      "\tlen(tf_records): 798\n"
     ]
    }
   ],
   "source": [
    "\n",
    "\n",
    "for filename in iglob('Eukaryota/not-human-protein-fastas/*.fasta'):\n",
    "    tf_records = []\n",
    "\n",
    "    basename = os.path.basename(filename)\n",
    "    with screed.open(filename) as records:\n",
    "        for record in records:\n",
    "            name = record['name']\n",
    "            record_id = name.split()[0]\n",
    "            uniprot_id = record_id.split('|')[1]\n",
    "            if uniprot_id in tf_orthologs:\n",
    "                tf_records.append(record)\n",
    "                \n",
    "    if len(tf_records) > 0:\n",
    "        print(filename)\n",
    "        print(f\"\\tlen(tf_records): {len(tf_records)}\")\n",
    "        with open(f'{not_human_outdir}/{basename}', 'w') as f:\n",
    "            for record in tf_records:\n",
    "                f.write(\">{name}\\n{sequence}\\n\".format(**record))\n"
   ]
  },
  {
   "cell_type": "markdown",
   "metadata": {},
   "source": [
    "# Script to run"
   ]
  },
  {
   "cell_type": "code",
   "execution_count": 62,
   "metadata": {},
   "outputs": [
    {
     "name": "stdout",
     "output_type": "stream",
     "text": [
      "total 2520\n",
      "-rw-r--r-- 1 olga 2575632 Jan  8 08:10 human_transcription_factor_proteins.fasta\n"
     ]
    }
   ],
   "source": [
    "ll /mnt/data_sm/olga/kmer-hashing/quest-for-orthologs/data/2019/Eukaryota/human-transcription-factor-fastas/"
   ]
  },
  {
   "cell_type": "code",
   "execution_count": 64,
   "metadata": {},
   "outputs": [
    {
     "name": "stdout",
     "output_type": "stream",
     "text": [
      "Writing qfo_human_vs_opisthokont_tfs.sh\n"
     ]
    }
   ],
   "source": [
    "%%file qfo_human_vs_opisthokont_tfs.sh\n",
    "#!/bin/bash\n",
    "OUTDIR=$HOME/data_sm/kmer-hashing/quest-for-orthologs/analysis/2019/transcription-factors/\n",
    "mkdir -p $OUTDIR/intermediates\n",
    "cd $OUTDIR/intermediates\n",
    "\n",
    "PARQUET=$OUTDIR/qfo-eukaryota-tfs-protein.parquet\n",
    "\n",
    "EUKARYOTA=/mnt/data_sm/olga/kmer-hashing/quest-for-orthologs/data/2019/Eukaryota\n",
    "HUMAN=$EUKARYOTA/human-transcription-factor-fastas/human_transcription_factor_proteins.fasta\n",
    "NOT_HUMAN=$EUKARYOTA/not-human-transcription-factor-fastas/\n",
    "\n",
    "conda activate khtools--encodings--compare-cli\n",
    "\n",
    "\n",
    "time khtools compare-kmers \\\n",
    "    --processes 120 \\\n",
    "    --ksize-min 3 \\\n",
    "    --ksize-max 45 \\\n",
    "    --parquet $PARQUET \\\n",
    "    --intermediate-parquet \\\n",
    "    --fastas2 $HUMAN \\\n",
    "    $NOT_HUMAN/* | tee khtools_compare-kmers.log"
   ]
  },
  {
   "cell_type": "code",
   "execution_count": null,
   "metadata": {},
   "outputs": [],
   "source": []
  },
  {
   "cell_type": "code",
   "execution_count": 65,
   "metadata": {},
   "outputs": [
    {
     "data": {
      "text/plain": [
       "'/mnt/data_sm/olga/kmer-hashing/quest-for-orthologs/data/2019'"
      ]
     },
     "execution_count": 65,
     "metadata": {},
     "output_type": "execute_result"
    }
   ],
   "source": [
    "pwd"
   ]
  },
  {
   "cell_type": "markdown",
   "metadata": {},
   "source": [
    "## Time estimation\n",
    "\n",
    "taking ~1000 seconds per non-human sequence"
   ]
  },
  {
   "cell_type": "code",
   "execution_count": 70,
   "metadata": {},
   "outputs": [
    {
     "data": {
      "text/plain": [
       "48947"
      ]
     },
     "execution_count": 70,
     "metadata": {},
     "output_type": "execute_result"
    }
   ],
   "source": [
    "n_not_human_qfo_tfs"
   ]
  },
  {
   "cell_type": "code",
   "execution_count": 69,
   "metadata": {},
   "outputs": [
    {
     "data": {
      "text/plain": [
       "4.720968364197531"
      ]
     },
     "execution_count": 69,
     "metadata": {},
     "output_type": "execute_result"
    }
   ],
   "source": [
    "n_not_human_qfo_tfs * 1000 / 120 / 60 / 60 / 24"
   ]
  },
  {
   "cell_type": "markdown",
   "metadata": {},
   "source": [
    "Okay, so this will take ~4.7 days to compute running on `lrrr`"
   ]
  },
  {
   "cell_type": "code",
   "execution_count": null,
   "metadata": {},
   "outputs": [],
   "source": []
  }
 ],
 "metadata": {
  "kernelspec": {
   "display_name": "Python [conda env:khtools--compare-kmers--encodings]",
   "language": "python",
   "name": "conda-env-khtools--compare-kmers--encodings-py"
  },
  "language_info": {
   "codemirror_mode": {
    "name": "ipython",
    "version": 3
   },
   "file_extension": ".py",
   "mimetype": "text/x-python",
   "name": "python",
   "nbconvert_exporter": "python",
   "pygments_lexer": "ipython3",
   "version": "3.8.0"
  }
 },
 "nbformat": 4,
 "nbformat_minor": 4
}
