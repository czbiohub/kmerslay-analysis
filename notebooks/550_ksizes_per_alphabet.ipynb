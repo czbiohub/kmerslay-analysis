{
 "cells": [
  {
   "cell_type": "code",
   "execution_count": 23,
   "metadata": {},
   "outputs": [],
   "source": [
    "from math import log, log10, ceil\n",
    "\n",
    "import numpy as np\n",
    "import pandas as pd"
   ]
  },
  {
   "cell_type": "markdown",
   "metadata": {},
   "source": [
    "Total length of all proteins in ENSEMBL 97 human protein data"
   ]
  },
  {
   "cell_type": "code",
   "execution_count": 12,
   "metadata": {},
   "outputs": [
    {
     "data": {
      "text/plain": [
       "40000000.0"
      ]
     },
     "execution_count": 12,
     "metadata": {},
     "output_type": "execute_result"
    }
   ],
   "source": [
    "proteome_size = 4e7\n",
    "proteome_size"
   ]
  },
  {
   "cell_type": "code",
   "execution_count": 14,
   "metadata": {},
   "outputs": [
    {
     "data": {
      "text/plain": [
       "1280000000"
      ]
     },
     "execution_count": 14,
     "metadata": {},
     "output_type": "execute_result"
    }
   ],
   "source": [
    "n_best_for_aa20 = 20**7\n",
    "n_best_for_aa20"
   ]
  },
  {
   "cell_type": "markdown",
   "metadata": {},
   "source": [
    "# For an alphabet size $\\Sigma$, what is the appropriate $k$?"
   ]
  },
  {
   "cell_type": "markdown",
   "metadata": {},
   "source": [
    "## Know that 7 is the best size for proteins, so how does that inform the rest?\n",
    "\n",
    "\n",
    "$20 ^ 7 = \\Sigma ^ k$\n",
    "\n",
    "$7 log(20) = k log(\\Sigma) $\n",
    "\n",
    "$k = 7 \\frac{log(20)}{log(\\Sigma)}$"
   ]
  },
  {
   "cell_type": "markdown",
   "metadata": {},
   "source": [
    "## Or, using number of human protein sequences (40 million, 4e7)\n",
    "\n",
    "\n",
    "$4 \\times 10 ^ 7 = \\Sigma ^ k$\n",
    "\n",
    "$log(4 \\times 10 ^ 7) = k  $\n",
    "\n",
    "$k = \\frac{log(4 \\times 10 ^ 7)}{log(\\Sigma)}$"
   ]
  },
  {
   "cell_type": "code",
   "execution_count": 24,
   "metadata": {},
   "outputs": [
    {
     "data": {
      "text/plain": [
       "7"
      ]
     },
     "execution_count": 24,
     "metadata": {},
     "output_type": "execute_result"
    }
   ],
   "source": [
    "def get_best_kmer_size(sigma, n_items):\n",
    "    return int(ceil(log(n_items)/log(sigma)))\n",
    "\n",
    "get_best_kmer_size(20, n_best_for_aa20)"
   ]
  },
  {
   "cell_type": "code",
   "execution_count": 15,
   "metadata": {},
   "outputs": [
    {
     "data": {
      "text/plain": [
       "5.843108934201204"
      ]
     },
     "execution_count": 15,
     "metadata": {},
     "output_type": "execute_result"
    }
   ],
   "source": [
    "get_best_kmer_size(20, proteome_size)"
   ]
  },
  {
   "cell_type": "code",
   "execution_count": 29,
   "metadata": {},
   "outputs": [],
   "source": [
    "VALID_PEPTIDE_MOLECULES = 'protein', 'peptide', \\\n",
    "                          'protein20', 'peptide20', \\\n",
    "                          'aa20', \\\n",
    "                          'dayhoff', 'dayhoff6', \\\n",
    "                          'botvinnik', 'botvinnik8', \\\n",
    "                          'hydrophobic-polar', 'hp', 'hp2', \\\n",
    "                          'aa9', \\\n",
    "                          'gbmr4', \\\n",
    "                          'sdm12', 'hsdm17'"
   ]
  },
  {
   "cell_type": "code",
   "execution_count": 32,
   "metadata": {},
   "outputs": [
    {
     "data": {
      "text/plain": [
       "{'protein': None,\n",
       " 'peptide': None,\n",
       " 'protein20': None,\n",
       " 'peptide20': None,\n",
       " 'aa20': None,\n",
       " 'dayhoff': None,\n",
       " 'dayhoff6': None,\n",
       " 'botvinnik': None,\n",
       " 'botvinnik8': None,\n",
       " 'hydrophobic-polar': None,\n",
       " 'hp': None,\n",
       " 'hp2': None,\n",
       " 'aa9': None,\n",
       " 'gbmr4': None,\n",
       " 'sdm12': None,\n",
       " 'hsdm17': None}"
      ]
     },
     "execution_count": 32,
     "metadata": {},
     "output_type": "execute_result"
    }
   ],
   "source": [
    "dict.frnomkeys(VALID_PEPTIDE_MOLECULES)\n"
   ]
  },
  {
   "cell_type": "code",
   "execution_count": 38,
   "metadata": {},
   "outputs": [],
   "source": [
    "sigmas = {'protein': 20,\n",
    " 'peptide': 20,\n",
    " 'protein20': 20,\n",
    " 'peptide20': 20,\n",
    " 'aa20': 20,\n",
    " 'dayhoff': 6,\n",
    " 'dayhoff6': 6,\n",
    " 'botvinnik': 8,\n",
    " 'botvinnik8': 8,\n",
    " 'hydrophobic-polar': 2,\n",
    " 'hp': 2,\n",
    " 'hp2': 2,\n",
    " 'aa9': 9 ,\n",
    " 'gbmr4': 4,\n",
    " 'sdm12': 12,\n",
    " 'hsdm17': 17}"
   ]
  },
  {
   "cell_type": "code",
   "execution_count": 36,
   "metadata": {},
   "outputs": [
    {
     "data": {
      "text/html": [
       "<div>\n",
       "<style scoped>\n",
       "    .dataframe tbody tr th:only-of-type {\n",
       "        vertical-align: middle;\n",
       "    }\n",
       "\n",
       "    .dataframe tbody tr th {\n",
       "        vertical-align: top;\n",
       "    }\n",
       "\n",
       "    .dataframe thead th {\n",
       "        text-align: right;\n",
       "    }\n",
       "</style>\n",
       "<table border=\"1\" class=\"dataframe\">\n",
       "  <thead>\n",
       "    <tr style=\"text-align: right;\">\n",
       "      <th></th>\n",
       "      <th>from_proteome_size</th>\n",
       "      <th>from_best_ksize_for_aa20</th>\n",
       "      <th>from_best_ksize_for_1e7</th>\n",
       "    </tr>\n",
       "    <tr>\n",
       "      <th>sigma</th>\n",
       "      <th></th>\n",
       "      <th></th>\n",
       "      <th></th>\n",
       "    </tr>\n",
       "  </thead>\n",
       "  <tbody>\n",
       "    <tr>\n",
       "      <th>2</th>\n",
       "      <td>26</td>\n",
       "      <td>31</td>\n",
       "      <td>24</td>\n",
       "    </tr>\n",
       "    <tr>\n",
       "      <th>3</th>\n",
       "      <td>16</td>\n",
       "      <td>20</td>\n",
       "      <td>15</td>\n",
       "    </tr>\n",
       "    <tr>\n",
       "      <th>4</th>\n",
       "      <td>13</td>\n",
       "      <td>16</td>\n",
       "      <td>12</td>\n",
       "    </tr>\n",
       "    <tr>\n",
       "      <th>5</th>\n",
       "      <td>11</td>\n",
       "      <td>14</td>\n",
       "      <td>11</td>\n",
       "    </tr>\n",
       "    <tr>\n",
       "      <th>6</th>\n",
       "      <td>10</td>\n",
       "      <td>12</td>\n",
       "      <td>9</td>\n",
       "    </tr>\n",
       "    <tr>\n",
       "      <th>7</th>\n",
       "      <td>9</td>\n",
       "      <td>11</td>\n",
       "      <td>9</td>\n",
       "    </tr>\n",
       "    <tr>\n",
       "      <th>8</th>\n",
       "      <td>9</td>\n",
       "      <td>11</td>\n",
       "      <td>8</td>\n",
       "    </tr>\n",
       "    <tr>\n",
       "      <th>9</th>\n",
       "      <td>8</td>\n",
       "      <td>10</td>\n",
       "      <td>8</td>\n",
       "    </tr>\n",
       "    <tr>\n",
       "      <th>10</th>\n",
       "      <td>8</td>\n",
       "      <td>10</td>\n",
       "      <td>7</td>\n",
       "    </tr>\n",
       "    <tr>\n",
       "      <th>11</th>\n",
       "      <td>8</td>\n",
       "      <td>9</td>\n",
       "      <td>7</td>\n",
       "    </tr>\n",
       "    <tr>\n",
       "      <th>12</th>\n",
       "      <td>8</td>\n",
       "      <td>9</td>\n",
       "      <td>7</td>\n",
       "    </tr>\n",
       "    <tr>\n",
       "      <th>13</th>\n",
       "      <td>7</td>\n",
       "      <td>9</td>\n",
       "      <td>7</td>\n",
       "    </tr>\n",
       "    <tr>\n",
       "      <th>14</th>\n",
       "      <td>7</td>\n",
       "      <td>8</td>\n",
       "      <td>7</td>\n",
       "    </tr>\n",
       "    <tr>\n",
       "      <th>15</th>\n",
       "      <td>7</td>\n",
       "      <td>8</td>\n",
       "      <td>6</td>\n",
       "    </tr>\n",
       "    <tr>\n",
       "      <th>16</th>\n",
       "      <td>7</td>\n",
       "      <td>8</td>\n",
       "      <td>6</td>\n",
       "    </tr>\n",
       "    <tr>\n",
       "      <th>17</th>\n",
       "      <td>7</td>\n",
       "      <td>8</td>\n",
       "      <td>6</td>\n",
       "    </tr>\n",
       "    <tr>\n",
       "      <th>18</th>\n",
       "      <td>7</td>\n",
       "      <td>8</td>\n",
       "      <td>6</td>\n",
       "    </tr>\n",
       "    <tr>\n",
       "      <th>19</th>\n",
       "      <td>6</td>\n",
       "      <td>8</td>\n",
       "      <td>6</td>\n",
       "    </tr>\n",
       "    <tr>\n",
       "      <th>20</th>\n",
       "      <td>6</td>\n",
       "      <td>7</td>\n",
       "      <td>6</td>\n",
       "    </tr>\n",
       "  </tbody>\n",
       "</table>\n",
       "</div>"
      ],
      "text/plain": [
       "       from_proteome_size  from_best_ksize_for_aa20  from_best_ksize_for_1e7\n",
       "sigma                                                                       \n",
       "2                      26                        31                       24\n",
       "3                      16                        20                       15\n",
       "4                      13                        16                       12\n",
       "5                      11                        14                       11\n",
       "6                      10                        12                        9\n",
       "7                       9                        11                        9\n",
       "8                       9                        11                        8\n",
       "9                       8                        10                        8\n",
       "10                      8                        10                        7\n",
       "11                      8                         9                        7\n",
       "12                      8                         9                        7\n",
       "13                      7                         9                        7\n",
       "14                      7                         8                        7\n",
       "15                      7                         8                        6\n",
       "16                      7                         8                        6\n",
       "17                      7                         8                        6\n",
       "18                      7                         8                        6\n",
       "19                      6                         8                        6\n",
       "20                      6                         7                        6"
      ]
     },
     "execution_count": 36,
     "metadata": {},
     "output_type": "execute_result"
    }
   ],
   "source": [
    "alphabet_sizes = pd.Series(range(2, 21), name='sigma').to_frame()\n",
    "alphabet_sizes['from_proteome_size'] = np.ceil(alphabet_sizes['sigma'].map(lambda x: get_best_kmer_size(x, proteome_size)))\n",
    "alphabet_sizes['from_best_ksize_for_aa20'] = np.ceil(alphabet_sizes['sigma'].map(lambda x: get_best_kmer_size(x, n_best_for_aa20)))\n",
    "alphabet_sizes['from_best_ksize_for_1e7'] = np.ceil(alphabet_sizes['sigma'].map(lambda x: get_best_kmer_size(x, 1e7)))\n",
    "alphabet_sizes = alphabet_sizes.astype(int)\n",
    "alphabet_sizes = alphabet_sizes.set_index('sigma')\n",
    "alphabet_sizes"
   ]
  },
  {
   "cell_type": "code",
   "execution_count": 42,
   "metadata": {},
   "outputs": [
    {
     "data": {
      "text/plain": [
       "{'protein': 7,\n",
       " 'peptide': 7,\n",
       " 'protein20': 7,\n",
       " 'peptide20': 7,\n",
       " 'aa20': 7,\n",
       " 'dayhoff': 12,\n",
       " 'dayhoff6': 12,\n",
       " 'botvinnik': 11,\n",
       " 'botvinnik8': 11,\n",
       " 'hydrophobic-polar': 31,\n",
       " 'hp': 31,\n",
       " 'hp2': 31,\n",
       " 'aa9': 10,\n",
       " 'gbmr4': 16,\n",
       " 'sdm12': 9,\n",
       " 'hsdm17': 8}"
      ]
     },
     "execution_count": 42,
     "metadata": {},
     "output_type": "execute_result"
    }
   ],
   "source": [
    "best_alphabet_sizes = {key: get_best_kmer_size(sigma, n_best_for_aa20) for key, sigma in sigmas.items()}\n",
    "best_alphabet_sizes"
   ]
  },
  {
   "cell_type": "code",
   "execution_count": null,
   "metadata": {},
   "outputs": [],
   "source": []
  },
  {
   "cell_type": "code",
   "execution_count": 4,
   "metadata": {},
   "outputs": [
    {
     "data": {
      "text/plain": [
       "17.50439001207821"
      ]
     },
     "execution_count": 4,
     "metadata": {},
     "output_type": "execute_result"
    }
   ],
   "source": [
    "log(4e7)"
   ]
  },
  {
   "cell_type": "code",
   "execution_count": 8,
   "metadata": {},
   "outputs": [
    {
     "data": {
      "text/plain": [
       "4.214419939295737"
      ]
     },
     "execution_count": 8,
     "metadata": {},
     "output_type": "execute_result"
    }
   ],
   "source": [
    "7 * log10(4)"
   ]
  },
  {
   "cell_type": "code",
   "execution_count": 3,
   "metadata": {},
   "outputs": [
    {
     "data": {
      "text/plain": [
       "1280000000"
      ]
     },
     "execution_count": 3,
     "metadata": {},
     "output_type": "execute_result"
    }
   ],
   "source": [
    "20**7"
   ]
  },
  {
   "cell_type": "code",
   "execution_count": null,
   "metadata": {},
   "outputs": [],
   "source": [
    "log()"
   ]
  }
 ],
 "metadata": {
  "kernelspec": {
   "display_name": "Python [conda env:khtools--encodings-compare-cli--py37]",
   "language": "python",
   "name": "conda-env-khtools--encodings-compare-cli--py37-py"
  },
  "language_info": {
   "codemirror_mode": {
    "name": "ipython",
    "version": 3
   },
   "file_extension": ".py",
   "mimetype": "text/x-python",
   "name": "python",
   "nbconvert_exporter": "python",
   "pygments_lexer": "ipython3",
   "version": "3.7.6"
  }
 },
 "nbformat": 4,
 "nbformat_minor": 4
}
