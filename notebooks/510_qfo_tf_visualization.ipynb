{
 "cells": [
  {
   "cell_type": "code",
   "execution_count": 5,
   "metadata": {},
   "outputs": [],
   "source": [
    "import pandas as pd\n",
    "\n"
   ]
  },
  {
   "cell_type": "markdown",
   "metadata": {},
   "source": [
    "# Read in parquet file"
   ]
  },
  {
   "cell_type": "code",
   "execution_count": 6,
   "metadata": {},
   "outputs": [
    {
     "name": "stdout",
     "output_type": "stream",
     "text": [
      "CPU times: user 9min 33s, sys: 6min 47s, total: 16min 20s\n",
      "Wall time: 9min 22s\n"
     ]
    }
   ],
   "source": [
    "%%time\n",
    "tf_folder = '/home/olga/scratch/kmer-hashing/quest-for-orthologs/analysis/2019/transcripton-factors'\n",
    "kmer_similarity = pd.read_parquet(f'{tf_folder}/kmer_similarity.parquet')"
   ]
  },
  {
   "cell_type": "code",
   "execution_count": 7,
   "metadata": {},
   "outputs": [
    {
     "name": "stdout",
     "output_type": "stream",
     "text": [
      "(1977656000, 5)\n"
     ]
    },
    {
     "data": {
      "text/html": [
       "<div>\n",
       "<style scoped>\n",
       "    .dataframe tbody tr th:only-of-type {\n",
       "        vertical-align: middle;\n",
       "    }\n",
       "\n",
       "    .dataframe tbody tr th {\n",
       "        vertical-align: top;\n",
       "    }\n",
       "\n",
       "    .dataframe thead th {\n",
       "        text-align: right;\n",
       "    }\n",
       "</style>\n",
       "<table border=\"1\" class=\"dataframe\">\n",
       "  <thead>\n",
       "    <tr style=\"text-align: right;\">\n",
       "      <th></th>\n",
       "      <th>id1</th>\n",
       "      <th>id2</th>\n",
       "      <th>ksize</th>\n",
       "      <th>jaccard</th>\n",
       "      <th>molecule</th>\n",
       "    </tr>\n",
       "  </thead>\n",
       "  <tbody>\n",
       "    <tr>\n",
       "      <th>0</th>\n",
       "      <td>tr|A0A2I2Y780|A0A2I2Y780_GORGO Zinc finger pro...</td>\n",
       "      <td>tr|A0A087WUV0|A0A087WUV0_HUMAN Uncharacterized...</td>\n",
       "      <td>3</td>\n",
       "      <td>0.149701</td>\n",
       "      <td>protein</td>\n",
       "    </tr>\n",
       "    <tr>\n",
       "      <th>1</th>\n",
       "      <td>tr|A0A2I2Y780|A0A2I2Y780_GORGO Zinc finger pro...</td>\n",
       "      <td>tr|A0A087WUV0|A0A087WUV0_HUMAN Uncharacterized...</td>\n",
       "      <td>4</td>\n",
       "      <td>0.071038</td>\n",
       "      <td>protein</td>\n",
       "    </tr>\n",
       "    <tr>\n",
       "      <th>2</th>\n",
       "      <td>tr|A0A2I2Y780|A0A2I2Y780_GORGO Zinc finger pro...</td>\n",
       "      <td>tr|A0A087WUV0|A0A087WUV0_HUMAN Uncharacterized...</td>\n",
       "      <td>5</td>\n",
       "      <td>0.051680</td>\n",
       "      <td>protein</td>\n",
       "    </tr>\n",
       "    <tr>\n",
       "      <th>3</th>\n",
       "      <td>tr|A0A2I2Y780|A0A2I2Y780_GORGO Zinc finger pro...</td>\n",
       "      <td>tr|A0A087WUV0|A0A087WUV0_HUMAN Uncharacterized...</td>\n",
       "      <td>6</td>\n",
       "      <td>0.046683</td>\n",
       "      <td>protein</td>\n",
       "    </tr>\n",
       "    <tr>\n",
       "      <th>4</th>\n",
       "      <td>tr|A0A2I2Y780|A0A2I2Y780_GORGO Zinc finger pro...</td>\n",
       "      <td>tr|A0A087WUV0|A0A087WUV0_HUMAN Uncharacterized...</td>\n",
       "      <td>7</td>\n",
       "      <td>0.037825</td>\n",
       "      <td>protein</td>\n",
       "    </tr>\n",
       "  </tbody>\n",
       "</table>\n",
       "</div>"
      ],
      "text/plain": [
       "                                                 id1  \\\n",
       "0  tr|A0A2I2Y780|A0A2I2Y780_GORGO Zinc finger pro...   \n",
       "1  tr|A0A2I2Y780|A0A2I2Y780_GORGO Zinc finger pro...   \n",
       "2  tr|A0A2I2Y780|A0A2I2Y780_GORGO Zinc finger pro...   \n",
       "3  tr|A0A2I2Y780|A0A2I2Y780_GORGO Zinc finger pro...   \n",
       "4  tr|A0A2I2Y780|A0A2I2Y780_GORGO Zinc finger pro...   \n",
       "\n",
       "                                                 id2  ksize   jaccard molecule  \n",
       "0  tr|A0A087WUV0|A0A087WUV0_HUMAN Uncharacterized...      3  0.149701  protein  \n",
       "1  tr|A0A087WUV0|A0A087WUV0_HUMAN Uncharacterized...      4  0.071038  protein  \n",
       "2  tr|A0A087WUV0|A0A087WUV0_HUMAN Uncharacterized...      5  0.051680  protein  \n",
       "3  tr|A0A087WUV0|A0A087WUV0_HUMAN Uncharacterized...      6  0.046683  protein  \n",
       "4  tr|A0A087WUV0|A0A087WUV0_HUMAN Uncharacterized...      7  0.037825  protein  "
      ]
     },
     "execution_count": 7,
     "metadata": {},
     "output_type": "execute_result"
    }
   ],
   "source": [
    "print(kmer_similarity.shape)\n",
    "kmer_similarity.head()"
   ]
  },
  {
   "cell_type": "markdown",
   "metadata": {},
   "source": [
    "# Convert to Vaex"
   ]
  },
  {
   "cell_type": "code",
   "execution_count": 8,
   "metadata": {},
   "outputs": [],
   "source": [
    "import vaex"
   ]
  },
  {
   "cell_type": "code",
   "execution_count": 9,
   "metadata": {},
   "outputs": [
    {
     "name": "stdout",
     "output_type": "stream",
     "text": [
      "CPU times: user 8h 29min 18s, sys: 40.9 s, total: 8h 29min 59s\n",
      "Wall time: 8h 30min 9s\n"
     ]
    }
   ],
   "source": [
    "%%time\n",
    "\n",
    "kmer_similarity_vx = vaex.from_pandas(kmer_similarity)"
   ]
  },
  {
   "cell_type": "code",
   "execution_count": 10,
   "metadata": {},
   "outputs": [
    {
     "data": {
      "text/html": [
       "<table>\n",
       "<thead>\n",
       "<tr><th>#                                        </th><th>id1                                                </th><th>id2                                                </th><th>ksize  </th><th>jaccard             </th><th>molecule  </th><th>index     </th></tr>\n",
       "</thead>\n",
       "<tbody>\n",
       "<tr><td><i style='opacity: 0.6'>0</i>            </td><td>'tr|A0A2I2Y780|A0A2I2Y780_GORGO Zinc finger prot...</td><td>'tr|A0A087WUV0|A0A087WUV0_HUMAN Uncharacterized ...</td><td>3      </td><td>0.1497005988023952  </td><td>protein   </td><td>0         </td></tr>\n",
       "<tr><td><i style='opacity: 0.6'>1</i>            </td><td>'tr|A0A2I2Y780|A0A2I2Y780_GORGO Zinc finger prot...</td><td>'tr|A0A087WUV0|A0A087WUV0_HUMAN Uncharacterized ...</td><td>4      </td><td>0.07103825136612021 </td><td>protein   </td><td>1         </td></tr>\n",
       "<tr><td><i style='opacity: 0.6'>2</i>            </td><td>'tr|A0A2I2Y780|A0A2I2Y780_GORGO Zinc finger prot...</td><td>'tr|A0A087WUV0|A0A087WUV0_HUMAN Uncharacterized ...</td><td>5      </td><td>0.05167958656330749 </td><td>protein   </td><td>2         </td></tr>\n",
       "<tr><td><i style='opacity: 0.6'>3</i>            </td><td>'tr|A0A2I2Y780|A0A2I2Y780_GORGO Zinc finger prot...</td><td>'tr|A0A087WUV0|A0A087WUV0_HUMAN Uncharacterized ...</td><td>6      </td><td>0.04668304668304668 </td><td>protein   </td><td>3         </td></tr>\n",
       "<tr><td><i style='opacity: 0.6'>4</i>            </td><td>'tr|A0A2I2Y780|A0A2I2Y780_GORGO Zinc finger prot...</td><td>'tr|A0A087WUV0|A0A087WUV0_HUMAN Uncharacterized ...</td><td>7      </td><td>0.037825059101654845</td><td>protein   </td><td>4         </td></tr>\n",
       "<tr><td>...                                      </td><td>...                                                </td><td>...                                                </td><td>...    </td><td>...                 </td><td>...       </td><td>...       </td></tr>\n",
       "<tr><td><i style='opacity: 0.6'>1,977,655,995</i></td><td>'sp|Q6P8Z1|MYCB_MOUSE Protein B-Myc OS=Mus muscu...</td><td>'tr|K7ELQ4|K7ELQ4_HUMAN Pro-FMRFamide-related ne...</td><td>41     </td><td>0.0                 </td><td>hsdm17    </td><td>1977655995</td></tr>\n",
       "<tr><td><i style='opacity: 0.6'>1,977,655,996</i></td><td>'sp|Q6P8Z1|MYCB_MOUSE Protein B-Myc OS=Mus muscu...</td><td>'tr|K7ELQ4|K7ELQ4_HUMAN Pro-FMRFamide-related ne...</td><td>42     </td><td>0.0                 </td><td>hsdm17    </td><td>1977655996</td></tr>\n",
       "<tr><td><i style='opacity: 0.6'>1,977,655,997</i></td><td>'sp|Q6P8Z1|MYCB_MOUSE Protein B-Myc OS=Mus muscu...</td><td>'tr|K7ELQ4|K7ELQ4_HUMAN Pro-FMRFamide-related ne...</td><td>43     </td><td>0.0                 </td><td>hsdm17    </td><td>1977655997</td></tr>\n",
       "<tr><td><i style='opacity: 0.6'>1,977,655,998</i></td><td>'sp|Q6P8Z1|MYCB_MOUSE Protein B-Myc OS=Mus muscu...</td><td>'tr|K7ELQ4|K7ELQ4_HUMAN Pro-FMRFamide-related ne...</td><td>44     </td><td>0.0                 </td><td>hsdm17    </td><td>1977655998</td></tr>\n",
       "<tr><td><i style='opacity: 0.6'>1,977,655,999</i></td><td>'sp|Q6P8Z1|MYCB_MOUSE Protein B-Myc OS=Mus muscu...</td><td>'tr|K7ELQ4|K7ELQ4_HUMAN Pro-FMRFamide-related ne...</td><td>45     </td><td>0.0                 </td><td>hsdm17    </td><td>1977655999</td></tr>\n",
       "</tbody>\n",
       "</table>"
      ],
      "text/plain": [
       "#              id1                                                  id2                                                  ksize    jaccard               molecule    index\n",
       "0              'tr|A0A2I2Y780|A0A2I2Y780_GORGO Zinc finger prot...  'tr|A0A087WUV0|A0A087WUV0_HUMAN Uncharacterized ...  3        0.1497005988023952    protein     0\n",
       "1              'tr|A0A2I2Y780|A0A2I2Y780_GORGO Zinc finger prot...  'tr|A0A087WUV0|A0A087WUV0_HUMAN Uncharacterized ...  4        0.07103825136612021   protein     1\n",
       "2              'tr|A0A2I2Y780|A0A2I2Y780_GORGO Zinc finger prot...  'tr|A0A087WUV0|A0A087WUV0_HUMAN Uncharacterized ...  5        0.05167958656330749   protein     2\n",
       "3              'tr|A0A2I2Y780|A0A2I2Y780_GORGO Zinc finger prot...  'tr|A0A087WUV0|A0A087WUV0_HUMAN Uncharacterized ...  6        0.04668304668304668   protein     3\n",
       "4              'tr|A0A2I2Y780|A0A2I2Y780_GORGO Zinc finger prot...  'tr|A0A087WUV0|A0A087WUV0_HUMAN Uncharacterized ...  7        0.037825059101654845  protein     4\n",
       "...            ...                                                  ...                                                  ...      ...                   ...         ...\n",
       "1,977,655,995  'sp|Q6P8Z1|MYCB_MOUSE Protein B-Myc OS=Mus muscu...  'tr|K7ELQ4|K7ELQ4_HUMAN Pro-FMRFamide-related ne...  41       0.0                   hsdm17      1977655995\n",
       "1,977,655,996  'sp|Q6P8Z1|MYCB_MOUSE Protein B-Myc OS=Mus muscu...  'tr|K7ELQ4|K7ELQ4_HUMAN Pro-FMRFamide-related ne...  42       0.0                   hsdm17      1977655996\n",
       "1,977,655,997  'sp|Q6P8Z1|MYCB_MOUSE Protein B-Myc OS=Mus muscu...  'tr|K7ELQ4|K7ELQ4_HUMAN Pro-FMRFamide-related ne...  43       0.0                   hsdm17      1977655997\n",
       "1,977,655,998  'sp|Q6P8Z1|MYCB_MOUSE Protein B-Myc OS=Mus muscu...  'tr|K7ELQ4|K7ELQ4_HUMAN Pro-FMRFamide-related ne...  44       0.0                   hsdm17      1977655998\n",
       "1,977,655,999  'sp|Q6P8Z1|MYCB_MOUSE Protein B-Myc OS=Mus muscu...  'tr|K7ELQ4|K7ELQ4_HUMAN Pro-FMRFamide-related ne...  45       0.0                   hsdm17      1977655999"
      ]
     },
     "execution_count": 10,
     "metadata": {},
     "output_type": "execute_result"
    }
   ],
   "source": [
    "kmer_similarity_vx"
   ]
  },
  {
   "cell_type": "code",
   "execution_count": null,
   "metadata": {},
   "outputs": [],
   "source": [
    "%%time\n",
    "kmer_similarity_vx.export_hdf5(f\"{tf_folder}/kmer_similarity.hdf5\")"
   ]
  },
  {
   "cell_type": "code",
   "execution_count": null,
   "metadata": {},
   "outputs": [],
   "source": [
    "%%time\n",
    "kmer_similarity_vx.export_arrow(f\"{tf_folder}/kmer_similarity.arrow\")"
   ]
  },
  {
   "cell_type": "code",
   "execution_count": null,
   "metadata": {},
   "outputs": [],
   "source": []
  }
 ],
 "metadata": {
  "kernelspec": {
   "display_name": "Python [conda env:khtools--encodings-compare-cli--py37]",
   "language": "python",
   "name": "conda-env-khtools--encodings-compare-cli--py37-py"
  },
  "language_info": {
   "codemirror_mode": {
    "name": "ipython",
    "version": 3
   },
   "file_extension": ".py",
   "mimetype": "text/x-python",
   "name": "python",
   "nbconvert_exporter": "python",
   "pygments_lexer": "ipython3",
   "version": "3.7.6"
  }
 },
 "nbformat": 4,
 "nbformat_minor": 4
}
