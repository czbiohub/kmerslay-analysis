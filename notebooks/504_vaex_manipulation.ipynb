{
 "cells": [
  {
   "cell_type": "code",
   "execution_count": 2,
   "metadata": {},
   "outputs": [
    {
     "name": "stdout",
     "output_type": "stream",
     "text": [
      "Downloading http://vaex.astro.rug.nl/data/helmi-dezeeuw-2000-10p.hdf5 to /home/olga/.vaex/data/helmi-dezeeuw-2000-10p.hdf5\n"
     ]
    }
   ],
   "source": [
    "import vaex\n",
    "import numpy as np\n",
    "\n",
    "df = vaex.example()\n",
    "%matplotlib inline"
   ]
  },
  {
   "cell_type": "code",
   "execution_count": 3,
   "metadata": {},
   "outputs": [
    {
     "data": {
      "text/plain": [
       "[<matplotlib.lines.Line2D at 0x7fc4582975e0>]"
      ]
     },
     "execution_count": 3,
     "metadata": {},
     "output_type": "execute_result"
    },
    {
     "data": {
      "image/png": "[encoded data removed]",
      "text/plain": [
       "<Figure size 432x288 with 1 Axes>"
      ]
     },
     "metadata": {
      "needs_background": "light"
     },
     "output_type": "display_data"
    }
   ],
   "source": [
    "df.plot1d(df.x)"
   ]
  },
  {
   "cell_type": "code",
   "execution_count": 4,
   "metadata": {},
   "outputs": [],
   "source": [
    "data_lg_qfo = '/mnt/data_sm/olga/kmer-hashing/quest-for-orthologs/data/2019'"
   ]
  },
  {
   "cell_type": "code",
   "execution_count": 5,
   "metadata": {},
   "outputs": [],
   "source": [
    "home_qfo = '/home/olga/scratch/kmer-hashing/quest-for-orthologs/data/2019'"
   ]
  },
  {
   "cell_type": "code",
   "execution_count": 6,
   "metadata": {},
   "outputs": [],
   "source": [
    "species_with_divergence = vaex.from_csv(f'{data_lg_qfo}/species_metadata.csv')"
   ]
  },
  {
   "cell_type": "code",
   "execution_count": 7,
   "metadata": {},
   "outputs": [],
   "source": [
    "arrow_folder = '/home/olga/scratch/kmer-hashing/quest-for-orthologs/analysis/2019/intermediates-vaex-arrow'"
   ]
  },
  {
   "cell_type": "code",
   "execution_count": 8,
   "metadata": {},
   "outputs": [
    {
     "name": "stdout",
     "output_type": "stream",
     "text": [
      "total 8.0K\n",
      "drwxr-xr-x 2 olga czb 4.0K Jan  7 11:32 \u001b[0m\u001b[01;34m.\u001b[0m/\n",
      "drwxr-xr-x 4 olga czb 4.0K Jan  7 11:32 \u001b[01;34m..\u001b[0m/\n"
     ]
    }
   ],
   "source": [
    "ls -lha $arrow_folder"
   ]
  },
  {
   "cell_type": "code",
   "execution_count": null,
   "metadata": {},
   "outputs": [],
   "source": []
  }
 ],
 "metadata": {
  "kernelspec": {
   "display_name": "Python [conda env:khtools--encodings--compare-cli]",
   "language": "python",
   "name": "conda-env-khtools--encodings--compare-cli-py"
  },
  "language_info": {
   "codemirror_mode": {
    "name": "ipython",
    "version": 3
   },
   "file_extension": ".py",
   "mimetype": "text/x-python",
   "name": "python",
   "nbconvert_exporter": "python",
   "pygments_lexer": "ipython3",
   "version": "3.8.0"
  }
 },
 "nbformat": 4,
 "nbformat_minor": 4
}
