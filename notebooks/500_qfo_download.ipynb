{
 "cells": [
  {
   "cell_type": "code",
   "execution_count": 2,
   "metadata": {},
   "outputs": [],
   "source": [
    "folder = '/home/olga/googledrive/kmerslay/data/quest-for-orthologs/data/'\n",
    "! mkdir -p $folder"
   ]
  },
  {
   "cell_type": "code",
   "execution_count": null,
   "metadata": {},
   "outputs": [],
   "source": []
  },
  {
   "cell_type": "code",
   "execution_count": null,
   "metadata": {},
   "outputs": [],
   "source": []
  },
  {
   "cell_type": "code",
   "execution_count": 3,
   "metadata": {},
   "outputs": [
    {
     "name": "stdout",
     "output_type": "stream",
     "text": [
      "/home/olga/googledrive/kmerslay/data/quest-for-orthologs/data\n"
     ]
    }
   ],
   "source": [
    "cd $folder"
   ]
  },
  {
   "cell_type": "markdown",
   "metadata": {},
   "source": [
    "# Download 2018 data"
   ]
  },
  {
   "cell_type": "code",
   "execution_count": 4,
   "metadata": {},
   "outputs": [],
   "source": [
    "mkdir $folder/2018"
   ]
  },
  {
   "cell_type": "code",
   "execution_count": 5,
   "metadata": {},
   "outputs": [
    {
     "name": "stdout",
     "output_type": "stream",
     "text": [
      "/home/olga/googledrive/kmerslay/data/quest-for-orthologs/data/2018\n"
     ]
    }
   ],
   "source": [
    "cd $folder/2018"
   ]
  },
  {
   "cell_type": "markdown",
   "metadata": {},
   "source": [
    "## Wget the tar.gz file"
   ]
  },
  {
   "cell_type": "code",
   "execution_count": 6,
   "metadata": {},
   "outputs": [
    {
     "name": "stdout",
     "output_type": "stream",
     "text": [
      "--2020-03-09 16:56:09--  ftp://ftp.ebi.ac.uk/pub/databases/reference_proteomes/previous_releases/qfo_release-2018_04/QfO_release_2018_04.tar.gz\n",
      "           => ‘QfO_release_2018_04.tar.gz’\n",
      "Resolving ftp.ebi.ac.uk (ftp.ebi.ac.uk)... 193.62.197.74\n",
      "Connecting to ftp.ebi.ac.uk (ftp.ebi.ac.uk)|193.62.197.74|:21... connected.\n",
      "Logging in as anonymous ... Logged in!\n",
      "==> SYST ... done.    ==> PWD ... done.\n",
      "==> TYPE I ... done.  ==> CWD (1) /pub/databases/reference_proteomes/previous_releases/qfo_release-2018_04 ... done.\n",
      "==> SIZE QfO_release_2018_04.tar.gz ... 2176883429\n",
      "==> PASV ... done.    ==> RETR QfO_release_2018_04.tar.gz ... done.\n",
      "Length: 2176883429 (2.0G) (unauthoritative)\n",
      "\n",
      "QfO_release_2018_04 100%[===================>]   2.03G  7.57MB/s    in 10m 31s \n",
      "\n",
      "2020-03-09 17:07:06 (3.29 MB/s) - ‘QfO_release_2018_04.tar.gz’ saved [2176883429]\n",
      "\n"
     ]
    }
   ],
   "source": [
    "! wget ftp://ftp.ebi.ac.uk/pub/databases/reference_proteomes/previous_releases/qfo_release-2018_04/QfO_release_2018_04.tar.gz"
   ]
  },
  {
   "cell_type": "markdown",
   "metadata": {},
   "source": [
    "## Untar"
   ]
  },
  {
   "cell_type": "code",
   "execution_count": 7,
   "metadata": {},
   "outputs": [
    {
     "name": "stdout",
     "output_type": "stream",
     "text": [
      "README\n",
      "Archaea/\n",
      "Archaea/UP000001974_273057.idmapping\n",
      "Archaea/UP000000805_243232_DNA.miss\n",
      "Archaea/UP000001686_374847_DNA.fasta\n",
      "Archaea/UP000001686_374847.fasta\n",
      "Archaea/UP000001686_374847.gene2acc\n",
      "Archaea/UP000001974_273057.gene2acc\n",
      "Archaea/UP000000805_243232_DNA.fasta\n",
      "Archaea/UP000001686_374847.idmapping\n",
      "Archaea/UP000000792_436308.gene2acc\n",
      "Archaea/UP000000792_436308_DNA.fasta\n",
      "Archaea/UP000000554_64091_DNA.fasta\n",
      "Archaea/UP000000792_436308.idmapping\n",
      "Archaea/UP000000792_436308.fasta\n",
      "Archaea/UP000000554_64091_DNA.miss\n",
      "Archaea/UP000000554_64091.fasta\n",
      "Archaea/UP000000554_64091.idmapping\n",
      "Archaea/UP000000805_243232.xml\n",
      "Archaea/UP000001686_374847.xml\n",
      "Archaea/UP000002487_188937.xml\n",
      "Archaea/UP000001974_273057.xml\n",
      "Archaea/UP000000792_436308.xml\n",
      "Archaea/UP000000536_69014.xml\n",
      "Archaea/UP000000554_64091.xml\n",
      "Archaea/UP000000536_69014.fasta\n",
      "Archaea/UP000002487_188937_DNA.miss\n",
      "Archaea/UP000002487_188937.gene2acc\n",
      "Archaea/UP000000536_69014.gene2acc\n",
      "Archaea/UP000000805_243232.gene2acc\n",
      "Archaea/UP000002487_188937_DNA.fasta\n",
      "Archaea/UP000002487_188937.fasta\n",
      "Archaea/UP000001974_273057_DNA.miss\n",
      "Archaea/UP000002487_188937.idmapping\n",
      "Archaea/UP000000536_69014.idmapping\n",
      "Archaea/UP000000536_69014_DNA.fasta\n",
      "Archaea/UP000000805_243232.fasta\n",
      "Archaea/UP000000805_243232.idmapping\n",
      "Archaea/UP000001974_273057_DNA.fasta\n",
      "Archaea/UP000001974_273057.fasta\n",
      "Archaea/UP000000554_64091.gene2acc\n",
      "Bacteria/\n",
      "Bacteria/UP000001973_100226_DNA.fasta\n",
      "Bacteria/UP000000625_83333_DNA.miss\n",
      "Bacteria/UP000001973_100226.idmapping\n",
      "Bacteria/UP000001584_83332_DNA.miss\n",
      "Bacteria/UP000002526_224911.gene2acc\n",
      "Bacteria/UP000001584_83332.gene2acc\n",
      "Bacteria/UP000002526_224911.fasta\n",
      "Bacteria/UP000001584_83332.fasta\n",
      "Bacteria/UP000001414_226186.gene2acc\n",
      "Bacteria/UP000001414_226186.fasta\n",
      "Bacteria/UP000001025_243090_DNA.fasta\n",
      "Bacteria/UP000002526_224911_DNA.fasta\n",
      "Bacteria/UP000001025_243090.gene2acc\n",
      "Bacteria/UP000000625_83333.fasta\n",
      "Bacteria/UP000001025_243090.fasta\n",
      "Bacteria/UP000002526_224911.idmapping\n",
      "Bacteria/UP000001425_1111708.idmapping\n",
      "Bacteria/UP000002524_243230_DNA.fasta\n",
      "Bacteria/UP000002524_243230_DNA.miss\n",
      "Bacteria/UP000001025_243090.idmapping\n",
      "Bacteria/UP000001425_1111708_DNA.miss\n",
      "Bacteria/UP000002524_243230.gene2acc\n",
      "Bacteria/UP000002524_243230.fasta\n",
      "Bacteria/UP000002524_243230.idmapping\n",
      "Bacteria/UP000000431_272561_DNA.miss\n",
      "Bacteria/UP000000577_243231_DNA.miss\n",
      "Bacteria/UP000000577_243231.gene2acc\n",
      "Bacteria/UP000000577_243231_DNA.fasta\n",
      "Bacteria/UP000000431_272561_DNA.fasta\n",
      "Bacteria/UP000007719_515635.fasta\n",
      "Bacteria/UP000000577_243231.fasta\n",
      "Bacteria/UP000000577_243231.idmapping\n",
      "Bacteria/UP000000431_272561.gene2acc\n",
      "Bacteria/UP000000431_272561.idmapping\n",
      "Bacteria/UP000000431_272561.fasta\n",
      "Bacteria/UP000007719_515635.gene2acc\n",
      "Bacteria/UP000001570_224308_DNA.fasta\n",
      "Bacteria/UP000007719_515635.idmapping\n",
      "Bacteria/UP000001570_224308.idmapping\n",
      "Bacteria/UP000007719_515635_DNA.fasta\n",
      "Bacteria/UP000001570_224308_DNA.miss\n",
      "Bacteria/UP000001570_224308.gene2acc\n",
      "Bacteria/UP000001570_224308.fasta\n",
      "Bacteria/UP000000798_224324_DNA.miss\n",
      "Bacteria/UP000000798_224324_DNA.fasta\n",
      "Bacteria/UP000002438_208964_additional.fasta\n",
      "Bacteria/UP000000798_224324.gene2acc\n",
      "Bacteria/UP000002438_208964.idmapping\n",
      "Bacteria/UP000000798_224324.fasta\n",
      "Bacteria/UP000000798_224324.idmapping\n",
      "Bacteria/UP000002438_208964_DNA.miss\n",
      "Bacteria/UP000002438_208964_DNA.fasta\n",
      "Bacteria/UP000002438_208964.fasta\n",
      "Bacteria/UP000000807_243273_DNA.miss\n",
      "Bacteria/UP000002438_208964.gene2acc\n",
      "Bacteria/UP000000807_243273_DNA.fasta\n",
      "Bacteria/UP000000807_243273.gene2acc\n",
      "Bacteria/UP000000807_243273.fasta\n",
      "Bacteria/UP000000807_243273.idmapping\n",
      "Bacteria/UP000008183_243274_DNA.miss\n",
      "Bacteria/UP000008183_243274_DNA.fasta\n",
      "Bacteria/UP000008183_243274.gene2acc\n",
      "Bacteria/UP000008183_243274.fasta\n",
      "Bacteria/UP000008183_243274.idmapping\n",
      "Bacteria/UP000000429_85962.gene2acc\n",
      "Bacteria/UP000000429_85962.fasta\n",
      "Bacteria/UP000000429_85962_DNA.fasta\n",
      "Bacteria/UP000001408_189518_DNA.fasta\n",
      "Bacteria/UP000001408_189518_DNA.miss\n",
      "Bacteria/UP000000429_85962.idmapping\n",
      "Bacteria/UP000001408_189518.fasta\n",
      "Bacteria/UP000000557_251221_DNA.fasta\n",
      "Bacteria/UP000001408_189518.gene2acc\n",
      "Bacteria/UP000001408_189518.idmapping\n",
      "Bacteria/UP000000557_251221_DNA.miss\n",
      "Bacteria/UP000000557_251221.gene2acc\n",
      "Bacteria/UP000000557_251221.fasta\n",
      "Bacteria/UP000000425_122586_DNA.miss\n",
      "Bacteria/UP000000425_122586.gene2acc\n",
      "Bacteria/UP000000557_251221.idmapping\n",
      "Bacteria/UP000000425_122586_DNA.fasta\n",
      "Bacteria/UP000000425_122586.fasta\n",
      "Bacteria/UP000000425_122586.idmapping\n",
      "Bacteria/UP000002521_190304_DNA.fasta\n",
      "Bacteria/UP000002521_190304_DNA.miss\n",
      "Bacteria/UP000002521_190304.gene2acc\n",
      "Bacteria/UP000000718_289376.idmapping\n",
      "Bacteria/UP000002521_190304.fasta\n",
      "Bacteria/UP000002521_190304.idmapping\n",
      "Bacteria/UP000000718_289376_DNA.fasta\n",
      "Bacteria/UP000000718_289376.fasta\n",
      "Bacteria/UP000000718_289376.gene2acc\n",
      "Bacteria/UP000002008_324602_DNA.fasta\n",
      "Bacteria/UP000002008_324602.fasta\n",
      "Bacteria/UP000002008_324602.gene2acc\n",
      "Bacteria/UP000002008_324602.idmapping\n",
      "Bacteria/UP000002521_190304.xml\n",
      "Bacteria/UP000007719_515635.xml\n",
      "Bacteria/UP000001584_83332.xml\n",
      "Bacteria/UP000008183_243274.xml\n",
      "Bacteria/UP000002438_208964.xml\n",
      "Bacteria/UP000001414_226186.xml\n",
      "Bacteria/UP000000429_85962.xml\n",
      "Bacteria/UP000000425_122586.xml\n",
      "Bacteria/UP000001973_100226.xml\n",
      "Bacteria/UP000001425_1111708.xml\n",
      "Bacteria/UP000000718_289376.xml\n",
      "Bacteria/UP000000577_243231.xml\n",
      "Bacteria/UP000000798_224324.xml\n",
      "Bacteria/UP000002008_324602.xml\n",
      "Bacteria/UP000000431_272561.xml\n",
      "Bacteria/UP000001408_189518.xml\n",
      "Bacteria/UP000001973_100226_additional.fasta\n",
      "Bacteria/UP000001973_100226.fasta\n",
      "Bacteria/UP000001973_100226.gene2acc\n",
      "Bacteria/UP000001584_83332_additional.fasta\n",
      "Bacteria/UP000001584_83332_DNA.fasta\n",
      "Bacteria/UP000000625_83333_additional.fasta\n",
      "Bacteria/UP000000625_83333.gene2acc\n",
      "Bacteria/UP000001584_83332.idmapping\n",
      "Bacteria/UP000000625_83333_DNA.fasta\n",
      "Bacteria/UP000000625_83333.idmapping\n",
      "Bacteria/UP000001414_226186_DNA.fasta\n",
      "Bacteria/UP000001414_226186.idmapping\n",
      "Bacteria/UP000001425_1111708_DNA.fasta\n",
      "Bacteria/UP000001425_1111708.gene2acc\n",
      "Bacteria/UP000001425_1111708.fasta\n",
      "Bacteria/UP000001570_224308_additional.fasta\n",
      "Bacteria/UP000000807_243273.xml\n",
      "Bacteria/UP000002524_243230.xml\n",
      "Bacteria/UP000001570_224308.xml\n",
      "Bacteria/UP000001025_243090.xml\n",
      "Bacteria/UP000000625_83333.xml\n",
      "Bacteria/UP000002526_224911.xml\n",
      "Bacteria/UP000000557_251221.xml\n",
      "Eukaryota/\n",
      "Eukaryota/UP000002485_284812.gene2acc\n",
      "Eukaryota/UP000002485_284812.fasta\n",
      "Eukaryota/UP000005640_9606.fasta\n",
      "Eukaryota/UP000002494_10116.gene2acc\n",
      "Eukaryota/UP000002494_10116.idmapping\n",
      "Eukaryota/UP000001805_367110.idmapping\n",
      "Eukaryota/UP000059680_39947_DNA.miss\n",
      "Eukaryota/UP000006727_3218_additional.fasta\n",
      "Eukaryota/UP000002195_44689.idmapping\n",
      "Eukaryota/UP000002494_10116_DNA.miss\n",
      "Eukaryota/UP000015101_6412_DNA.fasta\n",
      "Eukaryota/UP000059680_39947_DNA.fasta\n",
      "Eukaryota/UP000001555_6945.idmapping\n",
      "Eukaryota/UP000002485_284812_additional.fasta\n",
      "Eukaryota/UP000006727_3218.fasta\n",
      "Eukaryota/UP000059680_39947.fasta\n",
      "Eukaryota/UP000015101_6412.idmapping\n",
      "Eukaryota/UP000002485_284812_DNA.miss\n",
      "Eukaryota/UP000001038_8090.idmapping\n",
      "Eukaryota/UP000059680_39947.gene2acc\n",
      "Eukaryota/UP000002195_44689_DNA.fasta\n",
      "Eukaryota/UP000002485_284812_DNA.fasta\n",
      "Eukaryota/UP000000437_7955.fasta\n",
      "Eukaryota/UP000002485_284812.idmapping\n",
      "Eukaryota/UP000002254_9615_DNA.miss\n",
      "Eukaryota/UP000015101_6412.fasta\n",
      "Eukaryota/UP000002254_9615_DNA.fasta\n",
      "Eukaryota/UP000015101_6412.gene2acc\n",
      "Eukaryota/UP000002254_9615.fasta\n",
      "Eukaryota/UP000001038_8090_DNA.fasta\n",
      "Eukaryota/UP000002195_44689_DNA.miss\n",
      "Eukaryota/UP000002254_9615.gene2acc\n",
      "Eukaryota/UP000006727_3218.idmapping\n",
      "Eukaryota/UP000002195_44689_additional.fasta\n",
      "Eukaryota/UP000002149_214684.gene2acc\n",
      "Eukaryota/UP000002254_9615.idmapping\n",
      "Eukaryota/UP000000437_7955_DNA.fasta\n",
      "Eukaryota/UP000002195_44689.gene2acc\n",
      "Eukaryota/UP000001038_8090_DNA.miss\n",
      "Eukaryota/UP000002195_44689.fasta\n",
      "Eukaryota/UP000002149_214684_DNA.fasta\n",
      "Eukaryota/UP000006727_3218_DNA.fasta\n",
      "Eukaryota/UP000000437_7955.gene2acc\n",
      "Eukaryota/UP000006727_3218.gene2acc\n",
      "Eukaryota/UP000000437_7955.idmapping\n",
      "Eukaryota/UP000000437_7955_additional.fasta\n",
      "Eukaryota/UP000007266_7070_DNA.fasta\n",
      "Eukaryota/UP000000437_7955_DNA.miss\n",
      "Eukaryota/UP000008783_418459_additional.fasta\n",
      "Eukaryota/UP000008783_418459.idmapping\n",
      "Eukaryota/UP000008143_8364_DNA.miss\n",
      "Eukaryota/UP000001038_8090.gene2acc\n",
      "Eukaryota/UP000001555_6945_DNA.fasta\n",
      "Eukaryota/UP000001038_8090.fasta\n",
      "Eukaryota/UP000008144_7719_DNA.fasta\n",
      "Eukaryota/UP000008783_418459_DNA.fasta\n",
      "Eukaryota/UP000001593_45351_DNA.fasta\n",
      "Eukaryota/UP000008783_418459.fasta\n",
      "Eukaryota/UP000001555_6945.fasta\n",
      "Eukaryota/UP000008783_418459.gene2acc\n",
      "Eukaryota/UP000001357_81824_DNA.fasta\n",
      "Eukaryota/UP000002149_214684_additional.fasta\n",
      "Eukaryota/UP000007266_7070.fasta\n",
      "Eukaryota/UP000000542_5664.idmapping\n",
      "Eukaryota/UP000002149_214684_DNA.miss\n",
      "Eukaryota/UP000001555_6945.gene2acc\n",
      "Eukaryota/UP000002149_214684.fasta\n",
      "Eukaryota/UP000001357_81824.gene2acc\n",
      "Eukaryota/UP000002149_214684.idmapping\n",
      "Eukaryota/UP000000542_5664.gene2acc\n",
      "Eukaryota/UP000000542_5664_DNA.fasta\n",
      "Eukaryota/UP000001357_81824.fasta\n",
      "Eukaryota/UP000001357_81824.idmapping\n",
      "Eukaryota/UP000007266_7070_additional.fasta\n",
      "Eukaryota/UP000008143_8364.fasta\n",
      "Eukaryota/UP000007266_7070.idmapping\n",
      "Eukaryota/UP000008143_8364.gene2acc\n",
      "Eukaryota/UP000001300_284591_DNA.fasta\n",
      "Eukaryota/UP000001593_45351.fasta\n",
      "Eukaryota/UP000007266_7070.gene2acc\n",
      "Eukaryota/UP000008144_7719.idmapping\n",
      "Eukaryota/UP000008144_7719.fasta\n",
      "Eukaryota/UP000002280_13616.idmapping\n",
      "Eukaryota/UP000008143_8364.idmapping\n",
      "Eukaryota/UP000008144_7719.gene2acc\n",
      "Eukaryota/UP000001300_284591.fasta\n",
      "Eukaryota/UP000001593_45351_additional.fasta\n",
      "Eukaryota/UP000001300_284591.gene2acc\n",
      "Eukaryota/UP000001593_45351.gene2acc\n",
      "Eukaryota/UP000001300_284591.idmapping\n",
      "Eukaryota/UP000001593_45351.idmapping\n",
      "Eukaryota/UP000009136_9913.idmapping\n",
      "Eukaryota/UP000002280_13616.gene2acc\n",
      "Eukaryota/UP000002280_13616_DNA.fasta\n",
      "Eukaryota/UP000001449_35128_DNA.fasta\n",
      "Eukaryota/UP000000803_7227_additional.fasta\n",
      "Eukaryota/UP000002280_13616_DNA.miss\n",
      "Eukaryota/UP000000803_7227.fasta\n",
      "Eukaryota/UP000002280_13616_additional.fasta\n",
      "Eukaryota/UP000009136_9913.fasta\n",
      "Eukaryota/UP000001449_35128.fasta\n",
      "Eukaryota/UP000002280_13616.fasta\n",
      "Eukaryota/UP000001449_35128.gene2acc\n",
      "Eukaryota/UP000001449_35128_additional.fasta\n",
      "Eukaryota/UP000000539_9031.gene2acc\n",
      "Eukaryota/UP000001449_35128.idmapping\n",
      "Eukaryota/UP000009136_9913_DNA.fasta\n",
      "Eukaryota/UP000001554_7739_DNA.miss\n",
      "Eukaryota/UP000009136_9913_additional.fasta\n",
      "Eukaryota/UP000002311_559292.fasta\n",
      "Eukaryota/UP000000803_7227.gene2acc\n",
      "Eukaryota/UP000009136_9913.gene2acc\n",
      "Eukaryota/UP000000803_7227.idmapping\n",
      "Eukaryota/UP000000803_7227_DNA.miss\n",
      "Eukaryota/UP000001542_5722.fasta\n",
      "Eukaryota/UP000000803_7227_DNA.fasta\n",
      "Eukaryota/UP000002311_559292.gene2acc\n",
      "Eukaryota/UP000002311_559292.idmapping\n",
      "Eukaryota/UP000007241_684364.fasta\n",
      "Eukaryota/UP000001554_7739_additional.fasta\n",
      "Eukaryota/UP000000561_237631_DNA.fasta\n",
      "Eukaryota/UP000001554_7739.gene2acc\n",
      "Eukaryota/UP000001554_7739.idmapping\n",
      "Eukaryota/UP000005238_164328.idmapping\n",
      "Eukaryota/UP000002311_559292_DNA.fasta\n",
      "Eukaryota/UP000001548_184922.gene2acc\n",
      "Eukaryota/UP000002311_559292_DNA.miss\n",
      "Eukaryota/UP000001055_321614_DNA.fasta\n",
      "Eukaryota/UP000000539_9031.idmapping\n",
      "Eukaryota/UP000000561_237631.fasta\n",
      "Eukaryota/UP000000561_237631.gene2acc\n",
      "Eukaryota/UP000007241_684364.gene2acc\n",
      "Eukaryota/UP000000561_237631.idmapping\n",
      "Eukaryota/UP000001548_184922_DNA.fasta\n",
      "Eukaryota/UP000007241_684364.idmapping\n",
      "Eukaryota/UP000000539_9031_DNA.fasta\n",
      "Eukaryota/UP000001055_321614.fasta\n",
      "Eukaryota/UP000001548_184922.fasta\n",
      "Eukaryota/UP000001450_36329_DNA.miss\n",
      "Eukaryota/UP000007241_684364_DNA.fasta\n",
      "Eukaryota/UP000001940_6239_DNA.miss\n",
      "Eukaryota/UP000001055_321614.idmapping\n",
      "Eukaryota/UP000007305_4577_DNA.miss\n",
      "Eukaryota/UP000001940_6239.idmapping\n",
      "Eukaryota/UP000001542_5722.gene2acc\n",
      "Eukaryota/UP000001055_321614.gene2acc\n",
      "Eukaryota/UP000001542_5722_DNA.fasta\n",
      "Eukaryota/UP000005238_164328.gene2acc\n",
      "Eukaryota/UP000001940_6239.fasta\n",
      "Eukaryota/UP000001548_184922.idmapping\n",
      "Eukaryota/UP000001940_6239.gene2acc\n",
      "Eukaryota/UP000007305_4577.fasta\n",
      "Eukaryota/UP000001940_6239_DNA.fasta\n",
      "Eukaryota/UP000001542_5722.idmapping\n",
      "Eukaryota/UP000007305_4577_DNA.fasta\n",
      "Eukaryota/UP000000559_237561_DNA.fasta\n",
      "Eukaryota/UP000000589_10090.fasta\n",
      "Eukaryota/UP000007305_4577.gene2acc\n",
      "Eukaryota/UP000018468_7918_DNA.fasta\n",
      "Eukaryota/UP000005238_164328_DNA.fasta\n",
      "Eukaryota/UP000006906_3055_DNA.fasta\n",
      "Eukaryota/UP000007305_4577.idmapping\n",
      "Eukaryota/UP000001450_36329.gene2acc\n",
      "Eukaryota/UP000005238_164328.fasta\n",
      "Eukaryota/UP000018468_7918.fasta\n",
      "Eukaryota/UP000006548_3702_DNA.miss\n",
      "Eukaryota/UP000001519_9595_DNA.fasta\n",
      "Eukaryota/UP000001450_36329_DNA.fasta\n",
      "Eukaryota/UP000006906_3055_DNA.miss\n",
      "Eukaryota/UP000001450_36329.fasta\n",
      "Eukaryota/UP000006906_3055.fasta\n",
      "Eukaryota/UP000000589_10090_DNA.miss\n",
      "Eukaryota/UP000001450_36329.idmapping\n",
      "Eukaryota/UP000000589_10090_DNA.fasta\n",
      "Eukaryota/UP000000589_10090_additional.fasta\n",
      "Eukaryota/UP000018468_7918.idmapping\n",
      "Eukaryota/UP000000589_10090.gene2acc\n",
      "Eukaryota/UP000000589_10090.idmapping\n",
      "Eukaryota/UP000018468_7918.gene2acc\n",
      "Eukaryota/UP000006906_3055.gene2acc\n",
      "Eukaryota/UP000006548_3702.gene2acc\n",
      "Eukaryota/UP000001519_9595_DNA.miss\n",
      "Eukaryota/UP000006548_3702.fasta\n",
      "Eukaryota/UP000006906_3055.idmapping\n",
      "Eukaryota/UP000002277_9598.idmapping\n",
      "Eukaryota/UP000006906_3055_additional.fasta\n",
      "Eukaryota/UP000007062_7165_DNA.miss\n",
      "Eukaryota/UP000006548_3702.idmapping\n",
      "Eukaryota/UP000006548_3702_DNA.fasta\n",
      "Eukaryota/UP000001312_665079_DNA.fasta\n",
      "Eukaryota/UP000006548_3702_additional.fasta\n",
      "Eukaryota/UP000002530_330879.fasta\n",
      "Eukaryota/UP000001312_665079.fasta\n",
      "Eukaryota/UP000000559_237561.gene2acc\n",
      "Eukaryota/UP000001312_665079.gene2acc\n",
      "Eukaryota/UP000001312_665079.idmapping\n",
      "Eukaryota/UP000000559_237561_additional.fasta\n",
      "Eukaryota/UP000002530_330879.idmapping\n",
      "Eukaryota/UP000000559_237561_DNA.miss\n",
      "Eukaryota/UP000007062_7165.fasta\n",
      "Eukaryota/UP000000559_237561.fasta\n",
      "Eukaryota/UP000001300_284591.xml\n",
      "Eukaryota/UP000002277_9598_DNA.fasta\n",
      "Eukaryota/UP000001519_9595.fasta\n",
      "Eukaryota/UP000001519_9595.gene2acc\n",
      "Eukaryota/UP000000559_237561.idmapping\n",
      "Eukaryota/UP000007062_7165.gene2acc\n",
      "Eukaryota/UP000001519_9595.idmapping\n",
      "Eukaryota/UP000007062_7165_DNA.fasta\n",
      "Eukaryota/UP000007062_7165.idmapping\n",
      "Eukaryota/UP000002530_330879.xml\n",
      "Eukaryota/UP000001593_45351.xml\n",
      "Eukaryota/UP000002277_9598_DNA.miss\n",
      "Eukaryota/UP000000559_237561.xml\n",
      "Eukaryota/UP000002277_9598.fasta\n",
      "Eukaryota/UP000002311_559292.xml\n",
      "Eukaryota/UP000002277_9598_additional.fasta\n",
      "Eukaryota/UP000002280_13616.xml\n",
      "Eukaryota/UP000002277_9598.gene2acc\n",
      "Eukaryota/UP000002530_330879.gene2acc\n",
      "Eukaryota/UP000002530_330879_DNA.fasta\n",
      "Eukaryota/UP000000803_7227.xml\n",
      "Eukaryota/UP000001805_367110.xml\n",
      "Eukaryota/UP000008143_8364.xml\n",
      "Eukaryota/UP000001038_8090.xml\n",
      "Eukaryota/UP000001555_6945.xml\n",
      "Eukaryota/UP000005238_164328.xml\n",
      "Eukaryota/UP000006727_3218.xml\n",
      "Eukaryota/UP000007266_7070.xml\n",
      "Eukaryota/UP000000561_237631.xml\n",
      "Eukaryota/UP000000437_7955.xml\n",
      "Eukaryota/UP000015101_6412.xml\n",
      "Eukaryota/UP000000600_5888.fasta\n",
      "Eukaryota/UP000000600_5888_DNA.fasta\n",
      "Eukaryota/UP000001805_367110_additional.fasta\n",
      "Eukaryota/UP000000600_5888.idmapping\n",
      "Eukaryota/UP000000600_5888.gene2acc\n",
      "Eukaryota/UP000001805_367110_DNA.fasta\n",
      "Eukaryota/UP000001805_367110.fasta\n",
      "Eukaryota/UP000001805_367110.gene2acc\n",
      "Eukaryota/UP000005640_9606.idmapping\n",
      "Eukaryota/UP000005640_9606_additional.fasta\n",
      "Eukaryota/UP000005640_9606_DNA.miss\n",
      "Eukaryota/UP000005640_9606_DNA.fasta\n",
      "Eukaryota/UP000005640_9606.gene2acc\n",
      "Eukaryota/UP000002494_10116_additional.fasta\n",
      "Eukaryota/UP000002494_10116.fasta\n",
      "Eukaryota/UP000002494_10116_DNA.fasta\n",
      "Eukaryota/UP000059680_39947_additional.fasta\n",
      "Eukaryota/UP000059680_39947.idmapping\n",
      "Eukaryota/UP000002254_9615_additional.fasta\n",
      "Eukaryota/UP000001038_8090_additional.fasta\n",
      "Eukaryota/UP000000542_5664.fasta\n",
      "Eukaryota/UP000001555_6945_additional.fasta\n",
      "Eukaryota/UP000008144_7719_additional.fasta\n",
      "Eukaryota/UP000008143_8364_additional.fasta\n",
      "Eukaryota/UP000008143_8364_DNA.fasta\n",
      "Eukaryota/UP000001300_284591_additional.fasta\n",
      "Eukaryota/UP000009136_9913_DNA.miss\n",
      "Eukaryota/UP000001554_7739_DNA.fasta\n",
      "Eukaryota/UP000001554_7739.fasta\n",
      "Eukaryota/UP000002311_559292_additional.fasta\n",
      "Eukaryota/UP000000561_237631_additional.fasta\n",
      "Eukaryota/UP000000539_9031_additional.fasta\n",
      "Eukaryota/UP000000539_9031_DNA.miss\n",
      "Eukaryota/UP000000539_9031.fasta\n",
      "Eukaryota/UP000001940_6239_additional.fasta\n",
      "Eukaryota/UP000007305_4577_additional.fasta\n",
      "Eukaryota/UP000001450_36329_additional.fasta\n",
      "Eukaryota/UP000018468_7918_additional.fasta\n",
      "Eukaryota/UP000001519_9595_additional.fasta\n",
      "Eukaryota/UP000007062_7165_additional.fasta\n",
      "Eukaryota/UP000001450_36329.xml\n",
      "Eukaryota/UP000001940_6239.xml\n",
      "Eukaryota/UP000002254_9615.xml\n",
      "Eukaryota/UP000001519_9595.xml\n",
      "Eukaryota/UP000001055_321614.xml\n",
      "Eukaryota/UP000009136_9913.xml\n",
      "Eukaryota/UP000008783_418459.xml\n",
      "Eukaryota/UP000001312_665079.xml\n",
      "Eukaryota/UP000008144_7719.xml\n",
      "Eukaryota/UP000059680_39947.xml\n",
      "Eukaryota/UP000002149_214684.xml\n",
      "Eukaryota/UP000001548_184922.xml\n",
      "Eukaryota/UP000001449_35128.xml\n",
      "Eukaryota/UP000002494_10116.xml\n",
      "Eukaryota/UP000002195_44689.xml\n",
      "Eukaryota/UP000007062_7165.xml\n",
      "Eukaryota/UP000006548_3702.xml\n",
      "Eukaryota/UP000018468_7918.xml\n",
      "Eukaryota/UP000007241_684364.xml\n",
      "Eukaryota/UP000000539_9031.xml\n",
      "Eukaryota/UP000001554_7739.xml\n",
      "Eukaryota/UP000002277_9598.xml\n",
      "Eukaryota/UP000006906_3055.xml\n",
      "Eukaryota/UP000002485_284812.xml\n",
      "Eukaryota/UP000000589_10090.xml\n",
      "Eukaryota/UP000001542_5722.xml\n",
      "Eukaryota/UP000001357_81824.xml\n",
      "Eukaryota/UP000000600_5888.xml\n",
      "Eukaryota/UP000000542_5664.xml\n",
      "Eukaryota/UP000005640_9606_gcoord.miss\n",
      "Eukaryota/UP000005640_9606_gcoord.xml\n",
      "Eukaryota/UP000002494_10116_gcoord.miss\n",
      "Eukaryota/UP000002494_10116_gcoord.xml\n",
      "Eukaryota/UP000015101_6412_gcoord.miss\n",
      "Eukaryota/UP000015101_6412_gcoord.xml\n",
      "Eukaryota/UP000002254_9615_gcoord.miss\n",
      "Eukaryota/UP000002254_9615_gcoord.xml\n",
      "Eukaryota/UP000000437_7955_gcoord.miss\n",
      "Eukaryota/UP000000437_7955_gcoord.xml\n",
      "Eukaryota/UP000001038_8090_gcoord.miss\n",
      "Eukaryota/UP000001038_8090_gcoord.xml\n",
      "Eukaryota/UP000008144_7719_gcoord.miss\n",
      "Eukaryota/UP000008144_7719_gcoord.xml\n",
      "Eukaryota/UP000008143_8364_gcoord.miss\n",
      "Eukaryota/UP000008143_8364_gcoord.xml\n",
      "Eukaryota/UP000002280_13616_gcoord.miss\n",
      "Eukaryota/UP000002280_13616_gcoord.xml\n",
      "Eukaryota/UP000009136_9913_gcoord.miss\n",
      "Eukaryota/UP000009136_9913_gcoord.xml\n",
      "Eukaryota/UP000000539_9031_gcoord.miss\n",
      "Eukaryota/UP000000539_9031_gcoord.xml\n",
      "Eukaryota/UP000007305_4577_gcoord.miss\n",
      "Eukaryota/UP000007305_4577_gcoord.xml\n",
      "Eukaryota/UP000000589_10090_gcoord.miss\n",
      "Eukaryota/UP000000589_10090_gcoord.xml\n",
      "Eukaryota/UP000018468_7918_gcoord.xml\n",
      "Eukaryota/UP000001519_9595_gcoord.miss\n",
      "Eukaryota/UP000001519_9595_gcoord.xml\n",
      "Eukaryota/UP000002277_9598_gcoord.miss\n",
      "Eukaryota/UP000002277_9598_gcoord.xml\n",
      "Eukaryota/UP000007305_4577.xml\n",
      "Eukaryota/UP000005640_9606.xml\n"
     ]
    }
   ],
   "source": [
    "! tar xzvf QfO_release_2018_04.tar.gz"
   ]
  },
  {
   "cell_type": "markdown",
   "metadata": {},
   "source": [
    "# Download 2019 data"
   ]
  },
  {
   "cell_type": "code",
   "execution_count": null,
   "metadata": {},
   "outputs": [],
   "source": [
    "cd $folder/2019"
   ]
  },
  {
   "cell_type": "code",
   "execution_count": 4,
   "metadata": {},
   "outputs": [
    {
     "name": "stdout",
     "output_type": "stream",
     "text": [
      "--2019-12-25 17:50:13--  ftp://ftp.ebi.ac.uk/pub/databases/reference_proteomes/QfO/QfO_release_2019_04.tar.gz\n",
      "           => ‘QfO_release_2019_04.tar.gz’\n",
      "Resolving ftp.ebi.ac.uk (ftp.ebi.ac.uk)... 193.62.197.74\n",
      "Connecting to ftp.ebi.ac.uk (ftp.ebi.ac.uk)|193.62.197.74|:21... connected.\n",
      "Logging in as anonymous ... Logged in!\n",
      "==> SYST ... done.    ==> PWD ... done.\n",
      "==> TYPE I ... done.  ==> CWD (1) /pub/databases/reference_proteomes/QfO ... done.\n",
      "==> SIZE QfO_release_2019_04.tar.gz ... 2704585887\n",
      "==> PASV ... done.    ==> RETR QfO_release_2019_04.tar.gz ... done.\n",
      "Length: 2704585887 (2.5G) (unauthoritative)\n",
      "\n",
      "QfO_release_2019_04 100%[===================>]   2.52G   533KB/s    in 57m 27s \n",
      "\n",
      "2019-12-25 18:47:42 (766 KB/s) - ‘QfO_release_2019_04.tar.gz’ saved [2704585887]\n",
      "\n"
     ]
    }
   ],
   "source": [
    "! wget ftp://ftp.ebi.ac.uk/pub/databases/reference_proteomes/QfO/QfO_release_2019_04.tar.gz"
   ]
  },
  {
   "cell_type": "code",
   "execution_count": null,
   "metadata": {},
   "outputs": [],
   "source": []
  },
  {
   "cell_type": "code",
   "execution_count": 5,
   "metadata": {},
   "outputs": [
    {
     "name": "stdout",
     "output_type": "stream",
     "text": [
      "README\n",
      "Archaea/\n",
      "Archaea/UP000001974_273057.idmapping\n",
      "Archaea/UP000001686_374847.idmapping\n",
      "Archaea/UP000000792_436308.fasta\n",
      "Archaea/UP000000554_64091_DNA.miss\n",
      "Archaea/UP000000792_436308.idmapping\n",
      "Archaea/UP000000554_64091.idmapping\n",
      "Archaea/UP000001686_374847.gene2acc\n",
      "Archaea/UP000000554_64091.fasta\n",
      "Archaea/UP000001686_374847.fasta\n",
      "Archaea/UP000001686_374847_DNA.fasta\n",
      "Archaea/UP000000554_64091.gene2acc\n",
      "Archaea/UP000000792_436308.gene2acc\n",
      "Archaea/UP000001686_374847.xml\n",
      "Archaea/UP000000792_436308.xml\n",
      "Archaea/UP000000536_69014.xml\n",
      "Archaea/UP000000554_64091.xml\n",
      "Archaea/UP000000805_243232.xml\n",
      "Archaea/UP000001974_273057.xml\n",
      "Archaea/UP000002487_188937.xml\n",
      "Archaea/UP000000792_436308_DNA.fasta\n",
      "Archaea/UP000002487_188937_DNA.miss\n",
      "Archaea/UP000000805_243232_DNA.miss\n",
      "Archaea/UP000001974_273057_DNA.miss\n",
      "Archaea/UP000002487_188937.fasta\n",
      "Archaea/UP000002487_188937_DNA.fasta\n",
      "Archaea/UP000000805_243232.gene2acc\n",
      "Archaea/UP000000536_69014_DNA.fasta\n",
      "Archaea/UP000001974_273057_DNA.fasta\n",
      "Archaea/UP000000805_243232_DNA.fasta\n",
      "Archaea/UP000000536_69014.fasta\n",
      "Archaea/UP000000805_243232.fasta\n",
      "Archaea/UP000002487_188937.idmapping\n",
      "Archaea/UP000000536_69014.idmapping\n",
      "Archaea/UP000000536_69014.gene2acc\n",
      "Archaea/UP000000805_243232.idmapping\n",
      "Archaea/UP000002487_188937.gene2acc\n",
      "Archaea/UP000001974_273057.fasta\n",
      "Archaea/UP000001974_273057.gene2acc\n",
      "Archaea/UP000000554_64091_DNA.fasta\n",
      "Bacteria/\n",
      "Bacteria/UP000001584_83332_additional.fasta\n",
      "Bacteria/UP000001025_243090.gene2acc\n",
      "Bacteria/UP000002526_224911.gene2acc\n",
      "Bacteria/UP000001584_83332_DNA.miss\n",
      "Bacteria/UP000002526_224911.idmapping\n",
      "Bacteria/UP000001973_100226.gene2acc\n",
      "Bacteria/UP000002526_224911.fasta\n",
      "Bacteria/UP000000625_83333.gene2acc\n",
      "Bacteria/UP000002526_224911_DNA.fasta\n",
      "Bacteria/UP000001025_243090_DNA.fasta\n",
      "Bacteria/UP000001025_243090.fasta\n",
      "Bacteria/UP000001584_83332_DNA.fasta\n",
      "Bacteria/UP000001425_1111708.gene2acc\n",
      "Bacteria/UP000001025_243090.idmapping\n",
      "Bacteria/UP000001425_1111708.idmapping\n",
      "Bacteria/UP000001414_226186.fasta\n",
      "Bacteria/UP000002524_243230.idmapping\n",
      "Bacteria/UP000000577_243231_DNA.miss\n",
      "Bacteria/UP000002524_243230.fasta\n",
      "Bacteria/UP000001425_1111708_DNA.fasta\n",
      "Bacteria/UP000002524_243230_DNA.miss\n",
      "Bacteria/UP000000431_272561.idmapping\n",
      "Bacteria/UP000007719_515635.fasta\n",
      "Bacteria/UP000001425_1111708_DNA.miss\n",
      "Bacteria/UP000000577_243231.fasta\n",
      "Bacteria/UP000001973_100226.fasta\n",
      "Bacteria/UP000007719_515635_DNA.fasta\n",
      "Bacteria/UP000000577_243231.idmapping\n",
      "Bacteria/UP000002524_243230.gene2acc\n",
      "Bacteria/UP000000577_243231.gene2acc\n",
      "Bacteria/UP000007719_515635.gene2acc\n",
      "Bacteria/UP000001425_1111708.fasta\n",
      "Bacteria/UP000002524_243230_DNA.fasta\n",
      "Bacteria/UP000000577_243231_DNA.fasta\n",
      "Bacteria/UP000000431_272561_DNA.fasta\n",
      "Bacteria/UP000001570_224308_DNA.miss\n",
      "Bacteria/UP000000431_272561_DNA.miss\n",
      "Bacteria/UP000000431_272561.gene2acc\n",
      "Bacteria/UP000000431_272561.fasta\n",
      "Bacteria/UP000007719_515635.idmapping\n",
      "Bacteria/UP000001570_224308.fasta\n",
      "Bacteria/UP000000798_224324_DNA.fasta\n",
      "Bacteria/UP000000798_224324_DNA.miss\n",
      "Bacteria/UP000000798_224324.idmapping\n",
      "Bacteria/UP000001570_224308.gene2acc\n",
      "Bacteria/UP000001570_224308.idmapping\n",
      "Bacteria/UP000000798_224324.fasta\n",
      "Bacteria/UP000001570_224308_DNA.fasta\n",
      "Bacteria/UP000002438_208964.fasta\n",
      "Bacteria/UP000002438_208964_DNA.miss\n",
      "Bacteria/UP000000798_224324.gene2acc\n",
      "Bacteria/UP000002438_208964_additional.fasta\n",
      "Bacteria/UP000002438_208964_DNA.fasta\n",
      "Bacteria/UP000000807_243273.gene2acc\n",
      "Bacteria/UP000000429_85962.fasta\n",
      "Bacteria/UP000002438_208964.gene2acc\n",
      "Bacteria/UP000000807_243273_DNA.miss\n",
      "Bacteria/UP000008183_243274_DNA.miss\n",
      "Bacteria/UP000001408_189518.gene2acc\n",
      "Bacteria/UP000000807_243273_DNA.fasta\n",
      "Bacteria/UP000008183_243274_DNA.fasta\n",
      "Bacteria/UP000002438_208964.idmapping\n",
      "Bacteria/UP000000807_243273.idmapping\n",
      "Bacteria/UP000008183_243274.idmapping\n",
      "Bacteria/UP000000807_243273.fasta\n",
      "Bacteria/UP000000429_85962.gene2acc\n",
      "Bacteria/UP000008183_243274.gene2acc\n",
      "Bacteria/UP000001408_189518_DNA.miss\n",
      "Bacteria/UP000001408_189518.fasta\n",
      "Bacteria/UP000000429_85962.idmapping\n",
      "Bacteria/UP000000429_85962_DNA.fasta\n",
      "Bacteria/UP000001408_189518_DNA.fasta\n",
      "Bacteria/UP000008183_243274.fasta\n",
      "Bacteria/UP000000557_251221_DNA.miss\n",
      "Bacteria/UP000000557_251221.gene2acc\n",
      "Bacteria/UP000000425_122586_DNA.fasta\n",
      "Bacteria/UP000000557_251221_DNA.fasta\n",
      "Bacteria/UP000001584_83332.fasta\n",
      "Bacteria/UP000000557_251221.fasta\n",
      "Bacteria/UP000000557_251221.idmapping\n",
      "Bacteria/UP000001408_189518.idmapping\n",
      "Bacteria/UP000000425_122586_DNA.miss\n",
      "Bacteria/UP000000425_122586.fasta\n",
      "Bacteria/UP000000425_122586.gene2acc\n",
      "Bacteria/UP000002521_190304.gene2acc\n",
      "Bacteria/UP000002521_190304_DNA.miss\n",
      "Bacteria/UP000002521_190304_DNA.fasta\n",
      "Bacteria/UP000000425_122586.idmapping\n",
      "Bacteria/UP000000718_289376_DNA.fasta\n",
      "Bacteria/UP000000718_289376.gene2acc\n",
      "Bacteria/UP000002521_190304.fasta\n",
      "Bacteria/UP000002521_190304.idmapping\n",
      "Bacteria/UP000000718_289376.idmapping\n",
      "Bacteria/UP000002008_324602.gene2acc\n",
      "Bacteria/UP000000718_289376.fasta\n",
      "Bacteria/UP000002008_324602.idmapping\n",
      "Bacteria/UP000002008_324602_DNA.fasta\n",
      "Bacteria/UP000002008_324602.fasta\n",
      "Bacteria/UP000002524_243230.xml\n",
      "Bacteria/UP000000577_243231.xml\n",
      "Bacteria/UP000001025_243090.xml\n",
      "Bacteria/UP000001414_226186.xml\n",
      "Bacteria/UP000002526_224911.xml\n",
      "Bacteria/UP000000807_243273.xml\n",
      "Bacteria/UP000008183_243274.xml\n",
      "Bacteria/UP000007719_515635.xml\n",
      "Bacteria/UP000000431_272561.xml\n",
      "Bacteria/UP000000429_85962.xml\n",
      "Bacteria/UP000002521_190304.xml\n",
      "Bacteria/UP000000798_224324.xml\n",
      "Bacteria/UP000001425_1111708.xml\n",
      "Bacteria/UP000001408_189518.xml\n",
      "Bacteria/UP000001973_100226_additional.fasta\n",
      "Bacteria/UP000001973_100226_DNA.fasta\n",
      "Bacteria/UP000001973_100226.idmapping\n",
      "Bacteria/UP000000625_83333_additional.fasta\n",
      "Bacteria/UP000001584_83332.idmapping\n",
      "Bacteria/UP000000625_83333.idmapping\n",
      "Bacteria/UP000001414_226186.gene2acc\n",
      "Bacteria/UP000000625_83333_DNA.fasta\n",
      "Bacteria/UP000001414_226186_DNA.fasta\n",
      "Bacteria/UP000000625_83333_DNA.miss\n",
      "Bacteria/UP000001584_83332.gene2acc\n",
      "Bacteria/UP000000625_83333.fasta\n",
      "Bacteria/UP000001414_226186.idmapping\n",
      "Bacteria/UP000001570_224308_additional.fasta\n",
      "Bacteria/UP000000557_251221.xml\n",
      "Bacteria/UP000001584_83332.xml\n",
      "Bacteria/UP000002438_208964.xml\n",
      "Bacteria/UP000001570_224308.xml\n",
      "Bacteria/UP000002008_324602.xml\n",
      "Bacteria/UP000000718_289376.xml\n",
      "Bacteria/UP000001973_100226.xml\n",
      "Bacteria/UP000000425_122586.xml\n",
      "Bacteria/UP000000625_83333.xml\n",
      "Eukaryota/\n",
      "Eukaryota/UP000008783_418459_DNA.fasta\n",
      "Eukaryota/UP000005640_9606_DNA.fasta\n",
      "Eukaryota/UP000002485_284812.gene2acc\n",
      "Eukaryota/UP000005640_9606_additional.fasta\n",
      "Eukaryota/UP000002485_284812_DNA.miss\n",
      "Eukaryota/UP000059680_39947.idmapping\n",
      "Eukaryota/UP000002494_10116_DNA.miss\n",
      "Eukaryota/UP000059680_39947_DNA.fasta\n",
      "Eukaryota/UP000001038_8090_additional.fasta\n",
      "Eukaryota/UP000006727_3218_DNA.fasta\n",
      "Eukaryota/UP000002494_10116_DNA.fasta\n",
      "Eukaryota/UP000002254_9615_DNA.miss\n",
      "Eukaryota/UP000059680_39947_DNA.miss\n",
      "Eukaryota/UP000000542_5664_DNA.fasta\n",
      "Eukaryota/UP000005640_9606_gcoord.miss\n",
      "Eukaryota/UP000005640_9606_gcoord.xml\n",
      "Eukaryota/UP000002485_284812_additional.fasta\n",
      "Eukaryota/UP000006727_3218.idmapping\n",
      "Eukaryota/UP000002494_10116.idmapping\n",
      "Eukaryota/UP000015101_6412.idmapping\n",
      "Eukaryota/UP000059680_39947.fasta\n",
      "Eukaryota/UP000002254_9615.fasta\n",
      "Eukaryota/UP000002494_10116_gcoord.xml\n",
      "Eukaryota/UP000059680_39947.gene2acc\n",
      "Eukaryota/UP000000437_7955.gene2acc\n",
      "Eukaryota/UP000002485_284812_DNA.fasta\n",
      "Eukaryota/UP000002195_44689.gene2acc\n",
      "Eukaryota/UP000002485_284812.fasta\n",
      "Eukaryota/UP000000437_7955_DNA.fasta\n",
      "Eukaryota/UP000002485_284812.idmapping\n",
      "Eukaryota/UP000015101_6412.fasta\n",
      "Eukaryota/UP000015101_6412_DNA.fasta\n",
      "Eukaryota/UP000015101_6412.gene2acc\n",
      "Eukaryota/UP000002254_9615_DNA.fasta\n",
      "Eukaryota/UP000000437_7955.fasta\n",
      "Eukaryota/UP000002195_44689.fasta\n",
      "Eukaryota/UP000002254_9615.gene2acc\n",
      "Eukaryota/UP000006727_3218.fasta\n",
      "Eukaryota/UP000015101_6412_gcoord.xml\n",
      "Eukaryota/UP000002195_44689_additional.fasta\n",
      "Eukaryota/UP000008783_418459.gene2acc\n",
      "Eukaryota/UP000002254_9615.idmapping\n",
      "Eukaryota/UP000000437_7955.idmapping\n",
      "Eukaryota/UP000002195_44689_DNA.miss\n",
      "Eukaryota/UP000002254_9615_gcoord.xml\n",
      "Eukaryota/UP000002195_44689_DNA.fasta\n",
      "Eukaryota/UP000008783_418459.fasta\n",
      "Eukaryota/UP000002195_44689.idmapping\n",
      "Eukaryota/UP000001038_8090_DNA.fasta\n",
      "Eukaryota/UP000006727_3218_additional.fasta\n",
      "Eukaryota/UP000000437_7955_DNA.miss\n",
      "Eukaryota/UP000006727_3218.gene2acc\n",
      "Eukaryota/UP000007266_7070.gene2acc\n",
      "Eukaryota/UP000008783_418459.idmapping\n",
      "Eukaryota/UP000001038_8090_DNA.miss\n",
      "Eukaryota/UP000002149_214684_DNA.fasta\n",
      "Eukaryota/UP000000542_5664.fasta\n",
      "Eukaryota/UP000008143_8364_DNA.fasta\n",
      "Eukaryota/UP000001038_8090.fasta\n",
      "Eukaryota/UP000001357_81824_DNA.fasta\n",
      "Eukaryota/UP000001038_8090.idmapping\n",
      "Eukaryota/UP000001593_45351_DNA.fasta\n",
      "Eukaryota/UP000000437_7955_gcoord.xml\n",
      "Eukaryota/UP000000542_5664.idmapping\n",
      "Eukaryota/UP000001300_284591.idmapping\n",
      "Eukaryota/UP000001038_8090.gene2acc\n",
      "Eukaryota/UP000001357_81824.fasta\n",
      "Eukaryota/UP000002149_214684_DNA.miss\n",
      "Eukaryota/UP000001555_6945.gene2acc\n",
      "Eukaryota/UP000001038_8090_gcoord.xml\n",
      "Eukaryota/UP000002149_214684_additional.fasta\n",
      "Eukaryota/UP000007266_7070.idmapping\n",
      "Eukaryota/UP000001555_6945.idmapping\n",
      "Eukaryota/UP000002149_214684.gene2acc\n",
      "Eukaryota/UP000001555_6945_DNA.fasta\n",
      "Eukaryota/UP000001357_81824.idmapping\n",
      "Eukaryota/UP000002149_214684.fasta\n",
      "Eukaryota/UP000002149_214684.idmapping\n",
      "Eukaryota/UP000001555_6945.fasta\n",
      "Eukaryota/UP000000542_5664.gene2acc\n",
      "Eukaryota/UP000001593_45351.fasta\n",
      "Eukaryota/UP000008144_7719_DNA.fasta\n",
      "Eukaryota/UP000001357_81824.gene2acc\n",
      "Eukaryota/UP000007266_7070_DNA.fasta\n",
      "Eukaryota/UP000001300_284591_DNA.fasta\n",
      "Eukaryota/UP000001593_45351.gene2acc\n",
      "Eukaryota/UP000007266_7070.fasta\n",
      "Eukaryota/UP000008143_8364.gene2acc\n",
      "Eukaryota/UP000001555_6945_gcoord.xml\n",
      "Eukaryota/UP000001300_284591.gene2acc\n",
      "Eukaryota/UP000001593_45351.idmapping\n",
      "Eukaryota/UP000008144_7719.fasta\n",
      "Eukaryota/UP000008144_7719.gene2acc\n",
      "Eukaryota/UP000008144_7719_additional.fasta\n",
      "Eukaryota/UP000009136_9913_DNA.fasta\n",
      "Eukaryota/UP000002280_13616_DNA.fasta\n",
      "Eukaryota/UP000008144_7719.idmapping\n",
      "Eukaryota/UP000008143_8364_DNA.miss\n",
      "Eukaryota/UP000001593_45351_additional.fasta\n",
      "Eukaryota/UP000001449_35128.idmapping\n",
      "Eukaryota/UP000008143_8364.idmapping\n",
      "Eukaryota/UP000008143_8364.fasta\n",
      "Eukaryota/UP000001300_284591_DNA.miss\n",
      "Eukaryota/UP000008144_7719_gcoord.xml\n",
      "Eukaryota/UP000001554_7739.gene2acc\n",
      "Eukaryota/UP000009136_9913_DNA.miss\n",
      "Eukaryota/UP000001300_284591.fasta\n",
      "Eukaryota/UP000009136_9913.fasta\n",
      "Eukaryota/UP000002280_13616_additional.fasta\n",
      "Eukaryota/UP000000539_9031_DNA.fasta\n",
      "Eukaryota/UP000002280_13616.fasta\n",
      "Eukaryota/UP000000803_7227.idmapping\n",
      "Eukaryota/UP000002280_13616_DNA.miss\n",
      "Eukaryota/UP000000803_7227.fasta\n",
      "Eukaryota/UP000008143_8364_gcoord.xml\n",
      "Eukaryota/UP000002280_13616.gene2acc\n",
      "Eukaryota/UP000009136_9913.gene2acc\n",
      "Eukaryota/UP000002280_13616.idmapping\n",
      "Eukaryota/UP000001449_35128.fasta\n",
      "Eukaryota/UP000001449_35128_additional.fasta\n",
      "Eukaryota/UP000001548_184922.fasta\n",
      "Eukaryota/UP000001449_35128_DNA.fasta\n",
      "Eukaryota/UP000002311_559292_DNA.fasta\n",
      "Eukaryota/UP000001449_35128.gene2acc\n",
      "Eukaryota/UP000001554_7739_additional.fasta\n",
      "Eukaryota/UP000002280_13616_gcoord.xml\n",
      "Eukaryota/UP000009136_9913_additional.fasta\n",
      "Eukaryota/UP000002311_559292.fasta\n",
      "Eukaryota/UP000001554_7739_DNA.miss\n",
      "Eukaryota/UP000009136_9913.idmapping\n",
      "Eukaryota/UP000000803_7227_DNA.fasta\n",
      "Eukaryota/UP000000561_237631.fasta\n",
      "Eukaryota/UP000007305_4577_DNA.miss\n",
      "Eukaryota/UP000000803_7227.gene2acc\n",
      "Eukaryota/UP000000539_9031_DNA.miss\n",
      "Eukaryota/UP000001554_7739_DNA.fasta\n",
      "Eukaryota/UP000000539_9031.fasta\n",
      "Eukaryota/UP000009136_9913_gcoord.xml\n",
      "Eukaryota/UP000002311_559292.gene2acc\n",
      "Eukaryota/UP000001055_321614.idmapping\n",
      "Eukaryota/UP000000561_237631.gene2acc\n",
      "Eukaryota/UP000000561_237631_DNA.fasta\n",
      "Eukaryota/UP000001055_321614_DNA.fasta\n",
      "Eukaryota/UP000001554_7739.fasta\n",
      "Eukaryota/UP000005238_164328.gene2acc\n",
      "Eukaryota/UP000001554_7739.idmapping\n",
      "Eukaryota/UP000001055_321614.gene2acc\n",
      "Eukaryota/UP000002311_559292_DNA.miss\n",
      "Eukaryota/UP000007241_684364_DNA.fasta\n",
      "Eukaryota/UP000002311_559292.idmapping\n",
      "Eukaryota/UP000007241_684364.gene2acc\n",
      "Eukaryota/UP000000561_237631.idmapping\n",
      "Eukaryota/UP000007241_684364.fasta\n",
      "Eukaryota/UP000000539_9031.idmapping\n",
      "Eukaryota/UP000000539_9031.gene2acc\n",
      "Eukaryota/UP000002311_559292_gcoord.xml\n",
      "Eukaryota/UP000000539_9031_additional.fasta\n",
      "Eukaryota/UP000001548_184922.gene2acc\n",
      "Eukaryota/UP000007241_684364.idmapping\n",
      "Eukaryota/UP000001055_321614.fasta\n",
      "Eukaryota/UP000001548_184922_DNA.fasta\n",
      "Eukaryota/UP000001542_5722.fasta\n",
      "Eukaryota/UP000001450_36329.idmapping\n",
      "Eukaryota/UP000001548_184922.idmapping\n",
      "Eukaryota/UP000007305_4577_DNA.fasta\n",
      "Eukaryota/UP000007305_4577.gene2acc\n",
      "Eukaryota/UP000000539_9031_gcoord.xml\n",
      "Eukaryota/UP000001940_6239_DNA.miss\n",
      "Eukaryota/UP000001542_5722_DNA.fasta\n",
      "Eukaryota/UP000001542_5722.gene2acc\n",
      "Eukaryota/UP000001542_5722.idmapping\n",
      "Eukaryota/UP000005238_164328.idmapping\n",
      "Eukaryota/UP000007305_4577.idmapping\n",
      "Eukaryota/UP000001940_6239_DNA.fasta\n",
      "Eukaryota/UP000001940_6239.fasta\n",
      "Eukaryota/UP000007305_4577.fasta\n",
      "Eukaryota/UP000000600_5888.fasta\n",
      "Eukaryota/UP000001940_6239.idmapping\n",
      "Eukaryota/UP000001940_6239.gene2acc\n",
      "Eukaryota/UP000005238_164328_DNA.fasta\n",
      "Eukaryota/UP000001312_665079.idmapping\n",
      "Eukaryota/UP000018468_7918.idmapping\n",
      "Eukaryota/UP000005238_164328.fasta\n",
      "Eukaryota/UP000000589_10090.idmapping\n",
      "Eukaryota/UP000001450_36329_additional.fasta\n",
      "Eukaryota/UP000006906_3055_DNA.miss\n",
      "Eukaryota/UP000001450_36329_DNA.fasta\n",
      "Eukaryota/UP000000589_10090_DNA.fasta\n",
      "Eukaryota/UP000001450_36329_DNA.miss\n",
      "Eukaryota/UP000018468_7918_DNA.fasta\n",
      "Eukaryota/UP000006906_3055.idmapping\n",
      "Eukaryota/UP000001450_36329.fasta\n",
      "Eukaryota/UP000006548_3702.fasta\n",
      "Eukaryota/UP000001450_36329.gene2acc\n",
      "Eukaryota/UP000007062_7165_DNA.miss\n",
      "Eukaryota/UP000007305_4577_gcoord.xml\n",
      "Eukaryota/UP000018468_7918.gene2acc\n",
      "Eukaryota/UP000000589_10090_DNA.miss\n",
      "Eukaryota/UP000000589_10090.fasta\n",
      "Eukaryota/UP000000589_10090.gene2acc\n",
      "Eukaryota/UP000005238_164328_gcoord.xml\n",
      "Eukaryota/UP000000589_10090_additional.fasta\n",
      "Eukaryota/UP000018468_7918.fasta\n",
      "Eukaryota/UP000006906_3055_additional.fasta\n",
      "Eukaryota/UP000006906_3055_DNA.fasta\n",
      "Eukaryota/UP000006906_3055.gene2acc\n",
      "Eukaryota/UP000006906_3055.fasta\n",
      "Eukaryota/UP000000559_237561_additional.fasta\n",
      "Eukaryota/UP000001519_9595.fasta\n",
      "Eukaryota/UP000006548_3702_DNA.fasta\n",
      "Eukaryota/UP000001312_665079_DNA.fasta\n",
      "Eukaryota/UP000006548_3702_DNA.miss\n",
      "Eukaryota/UP000002277_9598.idmapping\n",
      "Eukaryota/UP000000589_10090_gcoord.xml\n",
      "Eukaryota/UP000006548_3702_additional.fasta\n",
      "Eukaryota/UP000007062_7165.fasta\n",
      "Eukaryota/UP000007062_7165.gene2acc\n",
      "Eukaryota/UP000006548_3702.gene2acc\n",
      "Eukaryota/UP000006548_3702.idmapping\n",
      "Eukaryota/UP000018468_7918_gcoord.xml\n",
      "Eukaryota/UP000001312_665079.fasta\n",
      "Eukaryota/UP000002485_284812.xml\n",
      "Eukaryota/UP000001312_665079.gene2acc\n",
      "Eukaryota/UP000000559_237561.idmapping\n",
      "Eukaryota/UP000000559_237561_DNA.fasta\n",
      "Eukaryota/UP000000559_237561_DNA.miss\n",
      "Eukaryota/UP000000559_237561.fasta\n",
      "Eukaryota/UP000001548_184922.xml\n",
      "Eukaryota/UP000000559_237561.gene2acc\n",
      "Eukaryota/UP000002277_9598.gene2acc\n",
      "Eukaryota/UP000001519_9595_DNA.fasta\n",
      "Eukaryota/UP000001300_284591.xml\n",
      "Eukaryota/UP000006548_3702_gcoord.xml\n",
      "Eukaryota/UP000002277_9598.fasta\n",
      "Eukaryota/UP000001519_9595.idmapping\n",
      "Eukaryota/UP000001519_9595_DNA.miss\n",
      "Eukaryota/UP000001519_9595.gene2acc\n",
      "Eukaryota/UP000001519_9595_additional.fasta\n",
      "Eukaryota/UP000007062_7165.idmapping\n",
      "Eukaryota/UP000007062_7165_DNA.fasta\n",
      "Eukaryota/UP000002277_9598_DNA.fasta\n",
      "Eukaryota/UP000002277_9598_DNA.miss\n",
      "Eukaryota/UP000002530_330879_DNA.fasta\n",
      "Eukaryota/UP000015101_6412.xml\n",
      "Eukaryota/UP000001357_81824.xml\n",
      "Eukaryota/UP000008144_7719.xml\n",
      "Eukaryota/UP000002311_559292.xml\n",
      "Eukaryota/UP000002530_330879.fasta\n",
      "Eukaryota/UP000002149_214684.xml\n",
      "Eukaryota/UP000001519_9595_gcoord.xml\n",
      "Eukaryota/UP000002277_9598_additional.fasta\n",
      "Eukaryota/UP000000542_5664.xml\n",
      "Eukaryota/UP000002530_330879.gene2acc\n",
      "Eukaryota/UP000001449_35128.xml\n",
      "Eukaryota/UP000002254_9615.xml\n",
      "Eukaryota/UP000002530_330879.idmapping\n",
      "Eukaryota/UP000001055_321614.xml\n",
      "Eukaryota/UP000007062_7165_gcoord.xml\n",
      "Eukaryota/UP000007266_7070.xml\n",
      "Eukaryota/UP000006727_3218.xml\n",
      "Eukaryota/UP000001450_36329.xml\n",
      "Eukaryota/UP000008783_418459.xml\n",
      "Eukaryota/UP000000561_237631.xml\n",
      "Eukaryota/UP000000559_237561.xml\n",
      "Eukaryota/UP000002277_9598_gcoord.xml\n",
      "Eukaryota/UP000007241_684364.xml\n",
      "Eukaryota/UP000001554_7739.xml\n",
      "Eukaryota/UP000002280_13616.xml\n",
      "Eukaryota/UP000002530_330879.xml\n",
      "Eukaryota/UP000000600_5888_DNA.fasta\n",
      "Eukaryota/UP000000600_5888.gene2acc\n",
      "Eukaryota/UP000000600_5888.idmapping\n",
      "Eukaryota/UP000001805_367110_additional.fasta\n",
      "Eukaryota/UP000001805_367110_DNA.fasta\n",
      "Eukaryota/UP000001805_367110.idmapping\n",
      "Eukaryota/UP000001805_367110.gene2acc\n",
      "Eukaryota/UP000001805_367110.fasta\n",
      "Eukaryota/UP000005640_9606_DNA.miss\n",
      "Eukaryota/UP000005640_9606.idmapping\n",
      "Eukaryota/UP000005640_9606.gene2acc\n",
      "Eukaryota/UP000002494_10116_additional.fasta\n",
      "Eukaryota/UP000005640_9606.fasta\n",
      "Eukaryota/UP000002494_10116.fasta\n",
      "Eukaryota/UP000002494_10116.gene2acc\n",
      "Eukaryota/UP000059680_39947_additional.fasta\n",
      "Eukaryota/UP000002254_9615_additional.fasta\n",
      "Eukaryota/UP000000437_7955_additional.fasta\n",
      "Eukaryota/UP000008783_418459_additional.fasta\n",
      "Eukaryota/UP000007266_7070_additional.fasta\n",
      "Eukaryota/UP000008143_8364_additional.fasta\n",
      "Eukaryota/UP000001300_284591_additional.fasta\n",
      "Eukaryota/UP000000803_7227_additional.fasta\n",
      "Eukaryota/UP000002311_559292_additional.fasta\n",
      "Eukaryota/UP000000561_237631_additional.fasta\n",
      "Eukaryota/UP000001940_6239_additional.fasta\n",
      "Eukaryota/UP000007305_4577_additional.fasta\n",
      "Eukaryota/UP000018468_7918_additional.fasta\n",
      "Eukaryota/UP000007062_7165_additional.fasta\n",
      "Eukaryota/UP000001805_367110.xml\n",
      "Eukaryota/UP000005238_164328.xml\n",
      "Eukaryota/UP000001312_665079.xml\n",
      "Eukaryota/UP000001593_45351.xml\n",
      "Eukaryota/UP000001038_8090.xml\n",
      "Eukaryota/UP000059680_39947.xml\n",
      "Eukaryota/UP000001555_6945.xml\n",
      "Eukaryota/UP000000803_7227.xml\n",
      "Eukaryota/UP000008143_8364.xml\n",
      "Eukaryota/UP000018468_7918.xml\n",
      "Eukaryota/UP000009136_9913.xml\n",
      "Eukaryota/UP000007062_7165.xml\n",
      "Eukaryota/UP000006906_3055.xml\n",
      "Eukaryota/UP000000539_9031.xml\n",
      "Eukaryota/UP000001940_6239.xml\n",
      "Eukaryota/UP000001542_5722.xml\n",
      "Eukaryota/UP000001519_9595.xml\n",
      "Eukaryota/UP000002494_10116.xml\n",
      "Eukaryota/UP000000437_7955.xml\n",
      "Eukaryota/UP000000600_5888.xml\n",
      "Eukaryota/UP000002277_9598.xml\n",
      "Eukaryota/UP000006548_3702.xml\n",
      "Eukaryota/UP000000589_10090.xml\n",
      "Eukaryota/UP000007305_4577.xml\n",
      "Eukaryota/UP000005640_9606.xml\n",
      "Eukaryota/UP000002195_44689.xml\n"
     ]
    }
   ],
   "source": [
    "! tar xzvf QfO_release_2019_04.tar.gz"
   ]
  },
  {
   "cell_type": "markdown",
   "metadata": {},
   "source": [
    "# Make protein fasta subfolders"
   ]
  },
  {
   "cell_type": "code",
   "execution_count": 6,
   "metadata": {},
   "outputs": [
    {
     "name": "stdout",
     "output_type": "stream",
     "text": [
      "total 2.6G\n",
      "drwxr-xr-x 5 olga root 4.0K Dec 25 18:57 \u001b[0m\u001b[01;34m.\u001b[0m/\n",
      "drwxr-xr-x 3 olga root 4.0K Dec 25 17:48 \u001b[01;34m..\u001b[0m/\n",
      "drwxr-xr-x 2 olga czb  4.0K May 10  2019 \u001b[01;34mArchaea\u001b[0m/\n",
      "drwxr-xr-x 2 olga czb   16K May 10  2019 \u001b[01;34mBacteria\u001b[0m/\n",
      "drwxr-xr-x 2 olga czb   32K May 10  2019 \u001b[01;34mEukaryota\u001b[0m/\n",
      "-rw-r--r-- 1 olga czb  2.6G Dec 25 18:46 \u001b[01;31mQfO_release_2019_04.tar.gz\u001b[0m\n",
      "-rw-r--r-- 1 olga czb   18K May 10  2019 README\n"
     ]
    }
   ],
   "source": [
    "ls -lha"
   ]
  },
  {
   "cell_type": "code",
   "execution_count": 7,
   "metadata": {},
   "outputs": [
    {
     "name": "stdout",
     "output_type": "stream",
     "text": [
      "\n",
      "Universal Protein Resource (UniProt)\n",
      "====================================\n",
      "\n",
      "\n",
      "The Universal Protein Resource (UniProt), a collaboration between the European\n",
      "Bioinformatics Institute (EBI), the SIB Swiss Institute of Bioinformatics, and\n",
      "the Protein Information Resource (PIR), is comprised of three databases, each\n",
      "optimized for different uses. The UniProt Knowledgebase (UniProtKB) is the\n",
      "central access point for extensively curated protein information, including\n",
      "function, classification and cross-references. The UniProt Reference Clusters\n",
      "(UniRef) combine closely related sequences into a single record to speed up\n",
      "sequence similarity searches. The UniProt Archive (UniParc) is a comprehensive\n",
      "repository of all protein sequences, consisting only of unique identifiers and\n",
      "sequences.\n",
      "\n",
      "\n",
      "Reference Proteomes QfO release\n",
      "===============================\n",
      "\n",
      "Some proteomes have been (manually and algorithmically) selected as reference\n",
      "proteomes. They cover well-studied model organisms and other organisms of\n",
      "interest for biomedical research and phylogeny.\n",
      "\n",
      "Based on UniProt Release 2019_04, Ensembl release 95 and Ensembl Genome\n",
      "release 42\n",
      "\n",
      "This folder, ftp.ebi.ac.uk/pub/databases/reference_proteomes/QfO/,\n",
      "contains the following files, updated once a year:\n",
      "\n",
      "- README (this file)\n",
      "\n",
      "- Taxonomic division folders (Archaea, Bacteria and Eukaryota) containing\n",
      "  *.gene2acc, *.fasta (canonical sequences), *_DNA.fasta, *.xml and *.idmapping\n",
      "  files for 78 species, plus 41 *_additional.fasta (isoform sequences) and 45\n",
      "  *_DNA.miss files\n",
      "\n",
      "- QfO_release_2019_04.tar.gz is an archive that contains all files above.\n",
      "\n",
      "\n",
      "Release 2019_04, 08-May-2019\n",
      "\n",
      "Statistics (Total of species = 78):\n",
      "\n",
      "    #(1) Number of entries in main fasta (canonical)\n",
      "    #(2) Number of entries in additional fasta (isoforms)\n",
      "    #(3) Number of entries in gene2acc mapping file\n",
      "\n",
      "Proteome_ID Tax_ID  OSCODE     #(1)    #(2)    #(3)  Species Name\n",
      "UP000007062 7165    ANOGA     12553     971   13619  Anopheles gambiae (African malaria mosquito)\n",
      "UP000000798 224324  AQUAE      1553       0    1557  Aquifex aeolicus (strain VF5)\n",
      "UP000006548 3702    ARATH     27475   14123   41920  Arabidopsis thaliana (Mouse-ear cress)\n",
      "UP000001570 224308  BACSU      4260       7    4268  Bacillus subtilis (strain 168)\n",
      "UP000001414 226186  BACTN      4782       0    4823  Bacteroides thetaiotaomicron (strain ATCC 29148 / DSM 2079 / NCTC 10582 / E50 / VPI-5482)\n",
      "UP000007241 684364  BATDJ      8610       0    8685  Batrachochytrium dendrobatidis (strain JAM81 / FGSC 10211) (Frog chytrid fungus)\n",
      "UP000009136 9913    BOVIN     23774   14534   38438  Bos taurus (Bovine)\n",
      "UP000002526 224911  BRADU      8253       0    8314  Bradyrhizobium diazoefficiens (strain JCM 10833 / IAM 13628 / NBRC 14792 / USDA 110)\n",
      "UP000001554 7739    BRAFL     28542       2   28608  Branchiostoma floridae (Florida lancelet) (Amphioxus)\n",
      "UP000001940 6239    CAEEL     19986    8309   28507  Caenorhabditis elegans\n",
      "UP000000559 237561  CANAL      6035       1    6051  Candida albicans (strain SC5314 / ATCC MYA-2876) (Yeast)\n",
      "UP000002254 9615    CANLF     20271    5269   25631  Canis lupus familiaris (Dog) (Canis familiaris)\n",
      "UP000000431 272561  CHLTR       895       0     895  Chlamydia trachomatis (strain D/UW-3/Cx)\n",
      "UP000006906 3055    CHLRE     17614    1214   19033  Chlamydomonas reinhardtii (Chlamydomonas smithii)\n",
      "UP000002008 324602  CHLAA      3850       0    3853  Chloroflexus aurantiacus (strain ATCC 29366 / DSM 635 / J-10-fl)\n",
      "UP000008144 7719    CIOIN     16678     631   17317  Ciona intestinalis (Transparent sea squirt) (Ascidia intestinalis)\n",
      "UP000002149 214684  CRYNJ      6604     142    6773  Cryptococcus neoformans var. neoformans serotype D (strain JEC21 / ATCC MYA-565) (Filobasidiella neoformans)\n",
      "UP000000437 7955    DANRE     25939   21219   47517  Danio rerio (Zebrafish) (Brachydanio rerio)\n",
      "UP000002524 243230  DEIRA      3085       0    3103  Deinococcus radiodurans (strain ATCC 13939 / DSM 20539 / JCM 16871 / LMG 4051 / NBRC 15346 / NCIMB 9279 / R1 / VKM B-1422)\n",
      "UP000007719 515635  DICTD      1743       0    1744  Dictyoglomus turgidum (strain Z-1310 / DSM 6724)\n",
      "UP000002195 44689   DICDI     12739      27   13120  Dictyostelium discoideum (Slime mold)\n",
      "UP000000803 7227    DROME     13788    9516   23457  Drosophila melanogaster (Fruit fly)\n",
      "UP000000625 83333   ECOLI      4391      12    8529  Escherichia coli (strain K12)\n",
      "UP000002521 190304  FUSNN      2046       0    2064  Fusobacterium nucleatum subsp. nucleatum (strain ATCC 25586 / CIP 101130 / JCM 8532 / LMG 13131)\n",
      "UP000000539 9031    CHICK     18124    9932   28206  Gallus gallus (Chicken)\n",
      "UP000000577 243231  GEOSL      3402       0    3433  Geobacter sulfurreducens (strain ATCC 51573 / DSM 12127 / PCA)\n",
      "UP000001548 184922  GIAIC      7154       0    7364  Giardia intestinalis (strain ATCC 50803 / WB clone C6) (Giardia lamblia)\n",
      "UP000000557 251221  GLOVI      4406       0    4427  Gloeobacter violaceus (strain ATCC 29082 / PCC 7421)\n",
      "UP000001519 9595    GORGO     21795   22932   44943  Gorilla gorilla gorilla (Western lowland gorilla)\n",
      "UP000000554 64091   HALSA      2426       0    2607  Halobacterium salinarum (strain ATCC 700922 / JCM 11081 / NRC-1) (Halobacterium halobium)\n",
      "UP000000429 85962   HELPY      1553       0    1577  Helicobacter pylori (strain ATCC 700392 / 26695) (Campylobacter pylori)\n",
      "UP000015101 6412    HELRO     23328       0   23433  Helobdella robusta (Californian leech)\n",
      "UP000005640 9606    HUMAN     21146   74769   96332  Homo sapiens (Human)\n",
      "UP000001555 6945    IXOSC     20473       0   20482  Ixodes scapularis (Black-legged tick) (Deer tick)\n",
      "UP000001686 374847  KORCO      1602       0    1602  Korarchaeum cryptofilum (strain OPF8)\n",
      "UP000000542 5664    LEIMA      8038       0    8315  Leishmania major\n",
      "UP000018468 7918    LEPOC     18320    4140   22480  Lepisosteus oculatus (Spotted gar)\n",
      "UP000001408 189518  LEPIN      3676       0    3707  Leptospira interrogans serogroup Icterohaemorrhagiae serovar Lai (strain 56601)\n",
      "UP000000805 243232  METJA      1787       0    1788  Methanocaldococcus jannaschii (strain ATCC 43067 / DSM 2661 / JAL-1 / JCM 10045 / NBRC 100440) (Methanococcus jannaschii)\n",
      "UP000002487 188937  METAC      4468       0    4540  Methanosarcina acetivorans (strain ATCC 35395 / DSM 2834 / JCM 12185 / C2A)\n",
      "UP000002280 13616   MONDO     21276     968   22319  Monodelphis domestica (Gray short-tailed opossum)\n",
      "UP000001357 81824   MONBE      9188       0    9204  Monosiga brevicollis (Choanoflagellate)\n",
      "UP000000589 10090   MOUSE     22287   40369   63134  Mus musculus (Mouse)\n",
      "UP000001584 83332   MYCTU      3993       4    5634  Mycobacterium tuberculosis (strain ATCC 25618 / H37Rv)\n",
      "UP000000807 243273  MYCGE       483       0     483  Mycoplasma genitalium (strain ATCC 33530 / G-37 / NCTC 10195)\n",
      "UP000000425 122586  NEIMB      2001       0    2062  Neisseria meningitidis serogroup B (strain MC58)\n",
      "UP000001593 45351   NEMVE     24429      15   24622  Nematostella vectensis (Starlet sea anemone)\n",
      "UP000002530 330879  ASPFU      9647       0    9652  Neosartorya fumigata (strain ATCC MYA-4609 / Af293 / CBS 101355 / FGSC A1100) (Aspergillus fumigatus)\n",
      "UP000001805 367110  NEUCR      9759     508   10271  Neurospora crassa (strain ATCC 24698 / 74-OR23-1A / CBS 708.71 / DSM 1257 / FGSC 987)\n",
      "UP000000792 436308  NITMS      1795       0    1795  Nitrosopumilus maritimus (strain SCM1)\n",
      "UP000059680 39947   ORYSJ     43858    5369   51020  Oryza sativa subsp. japonica (Rice)\n",
      "UP000001038 8090    ORYLA     23617   12536   36234  Oryzias latipes (Japanese rice fish) (Japanese killifish)\n",
      "UP000002277 9598    PANTR     23006   25788   49266  Pan troglodytes (Chimpanzee)\n",
      "UP000000600 5888    PARTE     39461       0   39753  Paramecium tetraurelia\n",
      "UP000001055 321614  PHANO     15998       0   16008  Phaeosphaeria nodorum (strain SN15 / ATCC MYA-4574 / FGSC 10173) (Glume blotch fungus) (Parastagonospora nodorum)\n",
      "UP000006727 3218    PHYPA     30792      66   31878  Physcomitrella patens subsp. patens (Moss)\n",
      "UP000005238 164328  PHYRM     15349       0   15605  Phytophthora ramorum (Sudden oak death agent)\n",
      "UP000001450 36329   PLAF7      5448       1    5463  Plasmodium falciparum (isolate 3D7)\n",
      "UP000002438 208964  PSEAE      5563       2    5576  Pseudomonas aeruginosa (strain ATCC 15692 / DSM 22644 / CIP 104116 / JCM 14847 / LMG 12228 / 1C / PRS 101 / PAO1)\n",
      "UP000008783 418459  PUCGT     15689     119   15920  Puccinia graminis f. sp. tritici (strain CRL 75-36-700-3 / race SCCL) (Black stem rust fungus)\n",
      "UP000002494 10116   RAT       21678    9885   32629  Rattus norvegicus (Rat)\n",
      "UP000001025 243090  RHOBA      7271       0    7325  Rhodopirellula baltica (strain DSM 10527 / NCIMB 13988 / SH1)\n",
      "UP000001974 273057  SACS2      2938       0    2995  Saccharolobus solfataricus (strain ATCC 35092 / DSM 1617 / JCM 11322 / P2) (Sulfolobus solfataricus)\n",
      "UP000002311 559292  YEAST      6049      28    6082  Saccharomyces cerevisiae (strain ATCC 204508 / S288c) (Baker's yeast)\n",
      "UP000002485 284812  SCHPO      5141       9    5154  Schizosaccharomyces pombe (strain 972 / ATCC 24843) (Fission yeast)\n",
      "UP000001312 665079  SCLS1     14445       0   14472  Sclerotinia sclerotiorum (strain ATCC 18683 / 1980 / Ss-1) (White mold) (Whetzelinia sclerotiorum)\n",
      "UP000001973 100226  STRCO      8038       1    8154  Streptomyces coelicolor (strain ATCC BAA-471 / A3(2) / M145)\n",
      "UP000001425 1111708 SYNY3      3507       0    3565  Synechocystis sp. (strain PCC 6803 / Kazusa)\n",
      "UP000001449 35128   THAPS     11717       1   11762  Thalassiosira pseudonana (Marine diatom) (Cyclotella nana)\n",
      "UP000000536 69014   THEKO      2301       0    2305  Thermococcus kodakarensis (strain ATCC BAA-918 / JCM 12380 / KOD1) (Pyrococcus kodakaraensis (strain KOD1))\n",
      "UP000000718 289376  THEYD      1982       0    2033  Thermodesulfovibrio yellowstonii (strain ATCC 51303 / DSM 11347 / YP87)\n",
      "UP000008183 243274  THEMA      1852       0    2872  Thermotoga maritima (strain ATCC 43589 / MSB8 / DSM 3109 / JCM 10099)\n",
      "UP000007266 7070    TRICA     16579    1926   18539  Tribolium castaneum (Red flour beetle)\n",
      "UP000001542 5722    TRIVA     50190       0   59533  Trichomonas vaginalis\n",
      "UP000000561 237631  USTMA      6788      18    6809  Ustilago maydis (strain 521 / FGSC 9021) (Corn smut fungus)\n",
      "UP000008143 8364    XENTR     24386    5307   29884  Xenopus tropicalis (Western clawed frog) (Silurana tropicalis)\n",
      "UP000001300 284591  YARLI      6449       5    6477  Yarrowia lipolytica (strain CLIB 122 / E 150) (Yeast) (Candida lipolytica)\n",
      "UP000007305 4577    MAIZE     39448   59948  100330  Zea mays (Maize)\n",
      "\n",
      "\n",
      "Gene mapping files (*.gene2acc)\n",
      "===============================\n",
      "\n",
      "Column 1 is a unique gene symbol that is chosen with the following order of\n",
      "preference from the annotation found in:\n",
      "1) Model Organism Database (MOD)\n",
      "2) Ensembl or Ensembl Genomes database\n",
      "3) UniProt Ordered Locus Name (OLN)\n",
      "4) UniProt Open Reading Frame (ORF)\n",
      "5) UniProt Gene Name\n",
      "A dash symbol ('-') is used when the gene encoding a protein is unknown.\n",
      "\n",
      "Column 2 is the UniProtKB accession or isoform identifier for the given gene\n",
      "symbol. This column may have redundancy when two or more genes have identical\n",
      "translations.\n",
      "\n",
      "Column 3 is the gene symbol of the canonical accession used to represent the\n",
      "respective gene group and the first row of the sequence is the canonical one.\n",
      "\n",
      "\n",
      "Protein FASTA files (*.fasta and *_additional.fasta)\n",
      "====================================================\n",
      "\n",
      "These files, composed of canonical and additional sequences, are non-redundant\n",
      "FASTA sets for the sequences of each reference proteome.\n",
      "The additional set contains isoform/variant sequences for a given gene, and its\n",
      "FASTA header indicates the corresponding canonical sequence (\"Isoform of ...\").\n",
      "The FASTA format is the standard UniProtKB format.\n",
      "\n",
      "For further references about the standard UniProtKB format, please see:\n",
      "    http://www.uniprot.org/help/fasta-headers\n",
      "    http://www.uniprot.org/faq/38\n",
      "\n",
      "E.g. Canonical set:\n",
      ">sp|Q9H6Y5|MAGIX_HUMAN PDZ domain-containing protein MAGIX OS=Homo sapiens GN=MAGIX PE=1 SV=3\n",
      "MEPRTGGAANPKGSRGSRGPSPLAGPSARQLLARLDARPLAARAAVDVAALVRRAGATLR\n",
      "LRRKEAVSVLDSADIEVTDSRLPHATIVDHRPQHRWLETCNAPPQLIQGKAHSAPKPSQA\n",
      "SGHFSVELVRGYAGFGLTLGGGRDVAGDTPLAVRGLLKDGPAQRCGRLEVGDVVLHINGE\n",
      "STQGLTHAQAVERIRAGGPQLHLVIRRPLETHPGKPRGVGEPRKGVVPSWPDRSPDPGGP\n",
      "EVTGSRSSSTSLVQHPPSRTTLKKTRGSPEPSPEAAADGPTVSPPERRAEDPNDQIPGSP\n",
      "GPWLVPSEERLSRALGVRGAAQFAQEMAAGRRRH\n",
      "\n",
      "E.g. Additional sets:\n",
      ">sp|Q9H6Y5-2|MAGIX_HUMAN Isoform of Q9H6Y5, Isoform 2 of PDZ domain-containing protein MAGIX OS=Homo sapiens GN=MAGIX\n",
      "MPLLWITGPRYHLILLSEASCLRANYVHLCPLFQHRWLETCNAPPQLIQGKAHSAPKPSQ\n",
      "ASGHFSVELVRGYAGFGLTLGGGRDVAGDTPLAVRGLLKDGPAQRCGRLEVGDVVLHING\n",
      "ESTQGLTHAQAVERIRAGGPQLHLVIRRPLETHPGKPRGVGEPRKGVVPSWPDRSPDPGG\n",
      "PEVTGSRSSSTSLVQHPPSRTTLKKTRGSPEPSPEAAADGPTVSPPERRAEDPNDQIPGS\n",
      "PGPWLVPSEERLSRALGVRGAAQFAQEMAAGRRRH\n",
      ">tr|C9J123|C9J123_HUMAN Isoform of Q9H6Y5, PDZ domain-containing protein MAGIX (Fragment) OS=Homo sapiens GN=MAGIX PE=1 SV=2\n",
      "MSPNSPLHCFYLPAVSVLDSADIEVTDSRLPHATIVDHRPQVGDLVLHINGESTQGLTHA\n",
      "QAVERIRAGGPQLHLVIRRPLETHPGKPRGVGEPRKGVDRSPDPGGPEVTGSRSSSTSLV\n",
      "QHPPSRTTLKKTRGSPEPSPEAA\n",
      "\n",
      "\n",
      "Coding DNA Sequence FASTA files (*_DNA.fasta)\n",
      "=============================================\n",
      "\n",
      "These files contain the coding DNA sequences (CDS) for the protein sequences\n",
      "where it was possible.\n",
      "The format is as in the following example (UP000005640_9606_DNA.fasta):\n",
      "\n",
      ">sp|A0A183|ENSP00000411070\n",
      "ATGTCACAGCAGAAGCAGCAATCTTGGAAGCCTCCAAATGTTCCCAAATGCTCCCCTCCC\n",
      "CAAAGATCAAACCCCTGCCTAGCTCCCTACTCGACTCCTTGTGGTGCTCCCCATTCAGAA\n",
      "GGTTGTCATTCCAGTTCCCAAAGGCCTGAGGTTCAGAAGCCTAGGAGGGCTCGTCAAAAG\n",
      "CTGCGCTGCCTAAGTAGGGGCACAACCTACCACTGCAAAGAGGAAGAGTGTGAAGGCGAC\n",
      "TGA\n",
      "\n",
      "The 3 fields of the FASTA header are:\n",
      "1) 'sp' (Swiss-Prot reviewed) or 'tr' (TrEMBL)\n",
      "2) UniProtKB Accession\n",
      "3) EMBL Protein ID or Ensembl/Ensembl Genome ID\n",
      "\n",
      "\n",
      "Unsuccessful Coding DNA Sequence mapping files (*_DNA.miss)\n",
      "===========================================================\n",
      "\n",
      "For the species that did not have a perfect mapping for all protein sequences\n",
      "to a CDS, these files contain the entries that could not be mapped.\n",
      "The format is as in the following example (UP000005640_9606_DNA.miss):\n",
      "\n",
      "sp      A6NF01  CAUTION: Could be the product of a pseudogene.\n",
      "sp      A6NFI3  NOT_ANNOTATED_CDS\n",
      "\n",
      "The 3 fields are:\n",
      "1) 'sp' (Swiss-Prot reviewed) or 'tr' (TrEMBL)\n",
      "2) UniProtKB accession\n",
      "3) Reason why the protein could not be mapped to a CDS\n",
      "\n",
      "\n",
      "Database mapping files (*.idmapping)\n",
      "====================================\n",
      "\n",
      "These files contain mappings from UniProtKB to other databases for each\n",
      "reference proteome.\n",
      "The format consists of three tab-separated columns:\n",
      "\n",
      "1. UniProtKB accession\n",
      "2. ID_type:\n",
      "   Database name as shown in UniProtKB cross-references and supported by the ID\n",
      "   mapping tool on the UniProt web site (http://www.uniprot.org/mapping)\n",
      "3. ID:\n",
      "   Identifier in the cross-referenced database.\n",
      "\n",
      "\n",
      "SeqXML files (*.xml)\n",
      "====================\n",
      "\n",
      "The xml files contain all the information from fasta (canonical and additional),\n",
      "idmapping and CDS in SeqXML format (see http://seqxml.org.)\n",
      "E.g. (from UP000005640_9606.xml, header and one entry)\n",
      "\n",
      "<?xml version=\"1.0\" encoding=\"utf-8\"?>\n",
      "<seqXML xmlns:xsi=\"http://www.w3.org/2001/XMLSchema-instance\" speciesName=\"Homo sapiens\" xsi:noNamespaceSchemaLocation=\"http://www.seqxml.org/0.4/seqxml.xsd\" seqXMLversion=\"0.4\" sourceVersion=\"2016_04\" source=\"QfO http://w\n",
      "ww.ebi.ac.uk/reference_proteomes/\" ncbiTaxID=\"9606\">\n",
      "  <entry source=\"UniProtKB\" id=\"U3KQE9\">\n",
      "    <description>Uncharacterized protein (Fragment)</description>\n",
      "    <AAseq>XLLLAINGVTECFTFAAMSKEEVDRYNFVMLALSSSFLVLSYLLTRWCGSVGFILANCFNMGIRITQSLCFIHRYYRRSPHRPLAGLHLSPVLLGTFALSGGVTAVSERPRKPWRSSGPWCPC</AAseq>\n",
      "    <DBRef source=\"UniProtKB-ID\" id=\"U3KQE9_HUMAN\"/>\n",
      "    <DBRef source=\"UniRef100\" id=\"UniRef100_U3KQE9\"/>\n",
      "    <DBRef source=\"UniRef90\" id=\"UniRef90_U3KQE9\"/>\n",
      "    <DBRef source=\"UniRef50\" id=\"UniRef50_U3KQE9\"/>\n",
      "    <DBRef source=\"UniParc\" id=\"UPI00038BAF87\"/>\n",
      "    <DBRef source=\"EMBL\" id=\"AC096887\"/>\n",
      "    <DBRef source=\"EMBL\" id=\"AC099667\"/>\n",
      "    <DBRef source=\"EMBL\" id=\"AC103589\"/>\n",
      "    <DBRef source=\"EMBL-CDS\" id=\"-\"/>\n",
      "    <DBRef source=\"NCBI_TaxID\" id=\"9606\"/>\n",
      "    <DBRef source=\"STRING\" id=\"9606.ENSP00000296292\"/>\n",
      "    <DBRef source=\"Ensembl\" id=\"ENSG00000272305\"/>\n",
      "    <DBRef source=\"Ensembl_TRS\" id=\"ENST00000607283\"/>\n",
      "    <DBRef source=\"Ensembl_PRO\" id=\"ENSP00000475819\"/>\n",
      "    <DBRef source=\"UCSC\" id=\"uc062krn.1\"/>\n",
      "    <DBRef source=\"eggNOG\" id=\"KOG2864\"/>\n",
      "    <DBRef source=\"eggNOG\" id=\"ENOG410Y1D5\"/>\n",
      "    <DBRef source=\"GeneTree\" id=\"ENSGT00390000011390\"/>\n",
      "    <DBRef source=\"OMA\" id=\"ERPRKPW\"/>\n",
      "    <DBRef source=\"UniProt\" id=\"U3KQG8\"/>\n",
      "    <DBRef source=\"UniProt\" id=\"U3KQK6\"/>\n",
      "    <property name=\"DNAsource\" value=\"ENSP00000475819\"/>\n",
      "    <property name=\"ensemblVersion\" value=\"84,31\"/>\n",
      "    <property name=\"UPID\" value=\"UP000005640\"/>\n",
      "    <property name=\"SV\" value=\"1\"/>\n",
      "    <property name=\"DNAseq\" value=\"NTTCTCCTGCTTGCCATCAATGGAGTGACAGAGTGTTTCACATTTGCTGCCATGAGCAAAGAGGAGGTCGACAGGTACAATTTTGTGATGCTGGCCCTGTCCTCCTCATTCCTGGTGTTATCCTATCTCTTGACCCGTTGGTGTGGCAGCGTGGGCTTCATCTTGGCCAACTGCTTTAACATGGGCATTCGGATCACGCAGAGCCTTTGCTTCATCCACCGCTACTACCGAAGGAGCCCCCACAGGCCCCTGGCTGGCCTGCACCTATCGCCAGTCCTGCTCGGGACATTTGCCCTCAGTGGTGGGGTTACTGCTGTTTCGGAGAGGCCAAGAAAACCATGGAGGAGCAGTGGACCTTGGTGTCCCTGCTGA\"/>\n",
      "    <property name=\"PE\" value=\"4\"/>\n",
      "  </entry>\n",
      "\n",
      "\n",
      "--------------------------------------------------------------------------------\n",
      "  LICENSE\n",
      "--------------------------------------------------------------------------------\n",
      "We have chosen to apply the Creative Commons Attribution (CC BY 4.0) License\n",
      "(https://creativecommons.org/licenses/by/4.0/) to all copyrightable parts of\n",
      "our databases.\n",
      "\n",
      "(c) 2002-2019 UniProt Consortium\n",
      "\n",
      "--------------------------------------------------------------------------------\n",
      "  DISCLAIMER\n",
      "--------------------------------------------------------------------------------\n",
      "We make no warranties regarding the correctness of the data, and disclaim\n",
      "liability for damages resulting from its use. We cannot provide unrestricted\n",
      "permission regarding the use of the data, as some data may be covered by patents\n",
      "or other rights.\n",
      "\n",
      "Any medical or genetic information is provided for research, educational and\n",
      "informational purposes only. It is not in any way intended to be used as a\n",
      "substitute for professional medical advice, diagnosis, treatment or care.\n"
     ]
    }
   ],
   "source": [
    "cat README"
   ]
  },
  {
   "cell_type": "code",
   "execution_count": 14,
   "metadata": {},
   "outputs": [],
   "source": [
    "%%bash\n",
    "\n",
    "for DIR in $(ls -F | grep '/'); do\n",
    "    cd $DIR\n",
    "#     rm -rf protein-fastas\n",
    "    mkdir protein-fastas\n",
    "    # xargs ftw!!\n",
    "    ls -1 *.fasta | grep -v DNA | xargs -I{} ln -s $PWD/{} protein-fastas/{}\n",
    "    cd ..\n",
    "done"
   ]
  },
  {
   "cell_type": "code",
   "execution_count": 16,
   "metadata": {},
   "outputs": [
    {
     "name": "stdout",
     "output_type": "stream",
     "text": [
      "total 82K\n",
      "drwxr-xr-x 2 olga czb 8.0K Dec 25 19:08 \u001b[0m\u001b[01;34m.\u001b[0m/\n",
      "drwxr-xr-x 3 olga czb  32K Dec 25 19:08 \u001b[01;34m..\u001b[0m/\n",
      "lrwxrwxrwx 1 olga czb  104 Dec 25 19:08 \u001b[01;36mUP000000437_7955_additional.fasta\u001b[0m -> /mnt/data_sm/olga/kmer-hashing/quest-for-orthologs/data/2019/Eukaryota/UP000000437_7955_additional.fasta\n",
      "lrwxrwxrwx 1 olga czb   93 Dec 25 19:08 \u001b[01;36mUP000000437_7955.fasta\u001b[0m -> /mnt/data_sm/olga/kmer-hashing/quest-for-orthologs/data/2019/Eukaryota/UP000000437_7955.fasta\n",
      "lrwxrwxrwx 1 olga czb  104 Dec 25 19:08 \u001b[01;36mUP000000539_9031_additional.fasta\u001b[0m -> /mnt/data_sm/olga/kmer-hashing/quest-for-orthologs/data/2019/Eukaryota/UP000000539_9031_additional.fasta\n",
      "lrwxrwxrwx 1 olga czb   93 Dec 25 19:08 \u001b[01;36mUP000000539_9031.fasta\u001b[0m -> /mnt/data_sm/olga/kmer-hashing/quest-for-orthologs/data/2019/Eukaryota/UP000000539_9031.fasta\n",
      "lrwxrwxrwx 1 olga czb   93 Dec 25 19:08 \u001b[01;36mUP000000542_5664.fasta\u001b[0m -> /mnt/data_sm/olga/kmer-hashing/quest-for-orthologs/data/2019/Eukaryota/UP000000542_5664.fasta\n",
      "lrwxrwxrwx 1 olga czb  106 Dec 25 19:08 \u001b[01;36mUP000000559_237561_additional.fasta\u001b[0m -> /mnt/data_sm/olga/kmer-hashing/quest-for-orthologs/data/2019/Eukaryota/UP000000559_237561_additional.fasta\n",
      "lrwxrwxrwx 1 olga czb   95 Dec 25 19:08 \u001b[01;36mUP000000559_237561.fasta\u001b[0m -> /mnt/data_sm/olga/kmer-hashing/quest-for-orthologs/data/2019/Eukaryota/UP000000559_237561.fasta\n",
      "lrwxrwxrwx 1 olga czb  106 Dec 25 19:08 \u001b[01;36mUP000000561_237631_additional.fasta\u001b[0m -> /mnt/data_sm/olga/kmer-hashing/quest-for-orthologs/data/2019/Eukaryota/UP000000561_237631_additional.fasta\n",
      "lrwxrwxrwx 1 olga czb   95 Dec 25 19:08 \u001b[01;36mUP000000561_237631.fasta\u001b[0m -> /mnt/data_sm/olga/kmer-hashing/quest-for-orthologs/data/2019/Eukaryota/UP000000561_237631.fasta\n",
      "lrwxrwxrwx 1 olga czb  105 Dec 25 19:08 \u001b[01;36mUP000000589_10090_additional.fasta\u001b[0m -> /mnt/data_sm/olga/kmer-hashing/quest-for-orthologs/data/2019/Eukaryota/UP000000589_10090_additional.fasta\n",
      "lrwxrwxrwx 1 olga czb   94 Dec 25 19:08 \u001b[01;36mUP000000589_10090.fasta\u001b[0m -> /mnt/data_sm/olga/kmer-hashing/quest-for-orthologs/data/2019/Eukaryota/UP000000589_10090.fasta\n",
      "lrwxrwxrwx 1 olga czb   93 Dec 25 19:08 \u001b[01;36mUP000000600_5888.fasta\u001b[0m -> /mnt/data_sm/olga/kmer-hashing/quest-for-orthologs/data/2019/Eukaryota/UP000000600_5888.fasta\n",
      "lrwxrwxrwx 1 olga czb  104 Dec 25 19:08 \u001b[01;36mUP000000803_7227_additional.fasta\u001b[0m -> /mnt/data_sm/olga/kmer-hashing/quest-for-orthologs/data/2019/Eukaryota/UP000000803_7227_additional.fasta\n",
      "lrwxrwxrwx 1 olga czb   93 Dec 25 19:08 \u001b[01;36mUP000000803_7227.fasta\u001b[0m -> /mnt/data_sm/olga/kmer-hashing/quest-for-orthologs/data/2019/Eukaryota/UP000000803_7227.fasta\n",
      "lrwxrwxrwx 1 olga czb  104 Dec 25 19:08 \u001b[01;36mUP000001038_8090_additional.fasta\u001b[0m -> /mnt/data_sm/olga/kmer-hashing/quest-for-orthologs/data/2019/Eukaryota/UP000001038_8090_additional.fasta\n",
      "lrwxrwxrwx 1 olga czb   93 Dec 25 19:08 \u001b[01;36mUP000001038_8090.fasta\u001b[0m -> /mnt/data_sm/olga/kmer-hashing/quest-for-orthologs/data/2019/Eukaryota/UP000001038_8090.fasta\n",
      "lrwxrwxrwx 1 olga czb   95 Dec 25 19:08 \u001b[01;36mUP000001055_321614.fasta\u001b[0m -> /mnt/data_sm/olga/kmer-hashing/quest-for-orthologs/data/2019/Eukaryota/UP000001055_321614.fasta\n",
      "lrwxrwxrwx 1 olga czb  106 Dec 25 19:08 \u001b[01;36mUP000001300_284591_additional.fasta\u001b[0m -> /mnt/data_sm/olga/kmer-hashing/quest-for-orthologs/data/2019/Eukaryota/UP000001300_284591_additional.fasta\n",
      "lrwxrwxrwx 1 olga czb   95 Dec 25 19:08 \u001b[01;36mUP000001300_284591.fasta\u001b[0m -> /mnt/data_sm/olga/kmer-hashing/quest-for-orthologs/data/2019/Eukaryota/UP000001300_284591.fasta\n",
      "lrwxrwxrwx 1 olga czb   95 Dec 25 19:08 \u001b[01;36mUP000001312_665079.fasta\u001b[0m -> /mnt/data_sm/olga/kmer-hashing/quest-for-orthologs/data/2019/Eukaryota/UP000001312_665079.fasta\n",
      "lrwxrwxrwx 1 olga czb   94 Dec 25 19:08 \u001b[01;36mUP000001357_81824.fasta\u001b[0m -> /mnt/data_sm/olga/kmer-hashing/quest-for-orthologs/data/2019/Eukaryota/UP000001357_81824.fasta\n",
      "lrwxrwxrwx 1 olga czb  105 Dec 25 19:08 \u001b[01;36mUP000001449_35128_additional.fasta\u001b[0m -> /mnt/data_sm/olga/kmer-hashing/quest-for-orthologs/data/2019/Eukaryota/UP000001449_35128_additional.fasta\n",
      "lrwxrwxrwx 1 olga czb   94 Dec 25 19:08 \u001b[01;36mUP000001449_35128.fasta\u001b[0m -> /mnt/data_sm/olga/kmer-hashing/quest-for-orthologs/data/2019/Eukaryota/UP000001449_35128.fasta\n",
      "lrwxrwxrwx 1 olga czb  105 Dec 25 19:08 \u001b[01;36mUP000001450_36329_additional.fasta\u001b[0m -> /mnt/data_sm/olga/kmer-hashing/quest-for-orthologs/data/2019/Eukaryota/UP000001450_36329_additional.fasta\n",
      "lrwxrwxrwx 1 olga czb   94 Dec 25 19:08 \u001b[01;36mUP000001450_36329.fasta\u001b[0m -> /mnt/data_sm/olga/kmer-hashing/quest-for-orthologs/data/2019/Eukaryota/UP000001450_36329.fasta\n",
      "lrwxrwxrwx 1 olga czb  104 Dec 25 19:08 \u001b[01;36mUP000001519_9595_additional.fasta\u001b[0m -> /mnt/data_sm/olga/kmer-hashing/quest-for-orthologs/data/2019/Eukaryota/UP000001519_9595_additional.fasta\n",
      "lrwxrwxrwx 1 olga czb   93 Dec 25 19:08 \u001b[01;36mUP000001519_9595.fasta\u001b[0m -> /mnt/data_sm/olga/kmer-hashing/quest-for-orthologs/data/2019/Eukaryota/UP000001519_9595.fasta\n",
      "lrwxrwxrwx 1 olga czb   93 Dec 25 19:08 \u001b[01;36mUP000001542_5722.fasta\u001b[0m -> /mnt/data_sm/olga/kmer-hashing/quest-for-orthologs/data/2019/Eukaryota/UP000001542_5722.fasta\n",
      "lrwxrwxrwx 1 olga czb   95 Dec 25 19:08 \u001b[01;36mUP000001548_184922.fasta\u001b[0m -> /mnt/data_sm/olga/kmer-hashing/quest-for-orthologs/data/2019/Eukaryota/UP000001548_184922.fasta\n",
      "lrwxrwxrwx 1 olga czb  104 Dec 25 19:08 \u001b[01;36mUP000001554_7739_additional.fasta\u001b[0m -> /mnt/data_sm/olga/kmer-hashing/quest-for-orthologs/data/2019/Eukaryota/UP000001554_7739_additional.fasta\n",
      "lrwxrwxrwx 1 olga czb   93 Dec 25 19:08 \u001b[01;36mUP000001554_7739.fasta\u001b[0m -> /mnt/data_sm/olga/kmer-hashing/quest-for-orthologs/data/2019/Eukaryota/UP000001554_7739.fasta\n",
      "lrwxrwxrwx 1 olga czb   93 Dec 25 19:08 \u001b[01;36mUP000001555_6945.fasta\u001b[0m -> /mnt/data_sm/olga/kmer-hashing/quest-for-orthologs/data/2019/Eukaryota/UP000001555_6945.fasta\n",
      "lrwxrwxrwx 1 olga czb  105 Dec 25 19:08 \u001b[01;36mUP000001593_45351_additional.fasta\u001b[0m -> /mnt/data_sm/olga/kmer-hashing/quest-for-orthologs/data/2019/Eukaryota/UP000001593_45351_additional.fasta\n",
      "lrwxrwxrwx 1 olga czb   94 Dec 25 19:08 \u001b[01;36mUP000001593_45351.fasta\u001b[0m -> /mnt/data_sm/olga/kmer-hashing/quest-for-orthologs/data/2019/Eukaryota/UP000001593_45351.fasta\n",
      "lrwxrwxrwx 1 olga czb  106 Dec 25 19:08 \u001b[01;36mUP000001805_367110_additional.fasta\u001b[0m -> /mnt/data_sm/olga/kmer-hashing/quest-for-orthologs/data/2019/Eukaryota/UP000001805_367110_additional.fasta\n",
      "lrwxrwxrwx 1 olga czb   95 Dec 25 19:08 \u001b[01;36mUP000001805_367110.fasta\u001b[0m -> /mnt/data_sm/olga/kmer-hashing/quest-for-orthologs/data/2019/Eukaryota/UP000001805_367110.fasta\n",
      "lrwxrwxrwx 1 olga czb  104 Dec 25 19:08 \u001b[01;36mUP000001940_6239_additional.fasta\u001b[0m -> /mnt/data_sm/olga/kmer-hashing/quest-for-orthologs/data/2019/Eukaryota/UP000001940_6239_additional.fasta\n",
      "lrwxrwxrwx 1 olga czb   93 Dec 25 19:08 \u001b[01;36mUP000001940_6239.fasta\u001b[0m -> /mnt/data_sm/olga/kmer-hashing/quest-for-orthologs/data/2019/Eukaryota/UP000001940_6239.fasta\n",
      "lrwxrwxrwx 1 olga czb  106 Dec 25 19:08 \u001b[01;36mUP000002149_214684_additional.fasta\u001b[0m -> /mnt/data_sm/olga/kmer-hashing/quest-for-orthologs/data/2019/Eukaryota/UP000002149_214684_additional.fasta\n",
      "lrwxrwxrwx 1 olga czb   95 Dec 25 19:08 \u001b[01;36mUP000002149_214684.fasta\u001b[0m -> /mnt/data_sm/olga/kmer-hashing/quest-for-orthologs/data/2019/Eukaryota/UP000002149_214684.fasta\n",
      "lrwxrwxrwx 1 olga czb  105 Dec 25 19:08 \u001b[01;36mUP000002195_44689_additional.fasta\u001b[0m -> /mnt/data_sm/olga/kmer-hashing/quest-for-orthologs/data/2019/Eukaryota/UP000002195_44689_additional.fasta\n",
      "lrwxrwxrwx 1 olga czb   94 Dec 25 19:08 \u001b[01;36mUP000002195_44689.fasta\u001b[0m -> /mnt/data_sm/olga/kmer-hashing/quest-for-orthologs/data/2019/Eukaryota/UP000002195_44689.fasta\n",
      "lrwxrwxrwx 1 olga czb  104 Dec 25 19:08 \u001b[01;36mUP000002254_9615_additional.fasta\u001b[0m -> /mnt/data_sm/olga/kmer-hashing/quest-for-orthologs/data/2019/Eukaryota/UP000002254_9615_additional.fasta\n",
      "lrwxrwxrwx 1 olga czb   93 Dec 25 19:08 \u001b[01;36mUP000002254_9615.fasta\u001b[0m -> /mnt/data_sm/olga/kmer-hashing/quest-for-orthologs/data/2019/Eukaryota/UP000002254_9615.fasta\n",
      "lrwxrwxrwx 1 olga czb  104 Dec 25 19:08 \u001b[01;36mUP000002277_9598_additional.fasta\u001b[0m -> /mnt/data_sm/olga/kmer-hashing/quest-for-orthologs/data/2019/Eukaryota/UP000002277_9598_additional.fasta\n",
      "lrwxrwxrwx 1 olga czb   93 Dec 25 19:08 \u001b[01;36mUP000002277_9598.fasta\u001b[0m -> /mnt/data_sm/olga/kmer-hashing/quest-for-orthologs/data/2019/Eukaryota/UP000002277_9598.fasta\n",
      "lrwxrwxrwx 1 olga czb  105 Dec 25 19:08 \u001b[01;36mUP000002280_13616_additional.fasta\u001b[0m -> /mnt/data_sm/olga/kmer-hashing/quest-for-orthologs/data/2019/Eukaryota/UP000002280_13616_additional.fasta\n",
      "lrwxrwxrwx 1 olga czb   94 Dec 25 19:08 \u001b[01;36mUP000002280_13616.fasta\u001b[0m -> /mnt/data_sm/olga/kmer-hashing/quest-for-orthologs/data/2019/Eukaryota/UP000002280_13616.fasta\n",
      "lrwxrwxrwx 1 olga czb  106 Dec 25 19:08 \u001b[01;36mUP000002311_559292_additional.fasta\u001b[0m -> /mnt/data_sm/olga/kmer-hashing/quest-for-orthologs/data/2019/Eukaryota/UP000002311_559292_additional.fasta\n",
      "lrwxrwxrwx 1 olga czb   95 Dec 25 19:08 \u001b[01;36mUP000002311_559292.fasta\u001b[0m -> /mnt/data_sm/olga/kmer-hashing/quest-for-orthologs/data/2019/Eukaryota/UP000002311_559292.fasta\n",
      "lrwxrwxrwx 1 olga czb  106 Dec 25 19:08 \u001b[01;36mUP000002485_284812_additional.fasta\u001b[0m -> /mnt/data_sm/olga/kmer-hashing/quest-for-orthologs/data/2019/Eukaryota/UP000002485_284812_additional.fasta\n",
      "lrwxrwxrwx 1 olga czb   95 Dec 25 19:08 \u001b[01;36mUP000002485_284812.fasta\u001b[0m -> /mnt/data_sm/olga/kmer-hashing/quest-for-orthologs/data/2019/Eukaryota/UP000002485_284812.fasta\n",
      "lrwxrwxrwx 1 olga czb  105 Dec 25 19:08 \u001b[01;36mUP000002494_10116_additional.fasta\u001b[0m -> /mnt/data_sm/olga/kmer-hashing/quest-for-orthologs/data/2019/Eukaryota/UP000002494_10116_additional.fasta\n",
      "lrwxrwxrwx 1 olga czb   94 Dec 25 19:08 \u001b[01;36mUP000002494_10116.fasta\u001b[0m -> /mnt/data_sm/olga/kmer-hashing/quest-for-orthologs/data/2019/Eukaryota/UP000002494_10116.fasta\n",
      "lrwxrwxrwx 1 olga czb   95 Dec 25 19:08 \u001b[01;36mUP000002530_330879.fasta\u001b[0m -> /mnt/data_sm/olga/kmer-hashing/quest-for-orthologs/data/2019/Eukaryota/UP000002530_330879.fasta\n",
      "lrwxrwxrwx 1 olga czb   95 Dec 25 19:08 \u001b[01;36mUP000005238_164328.fasta\u001b[0m -> /mnt/data_sm/olga/kmer-hashing/quest-for-orthologs/data/2019/Eukaryota/UP000005238_164328.fasta\n",
      "lrwxrwxrwx 1 olga czb  104 Dec 25 19:08 \u001b[01;36mUP000005640_9606_additional.fasta\u001b[0m -> /mnt/data_sm/olga/kmer-hashing/quest-for-orthologs/data/2019/Eukaryota/UP000005640_9606_additional.fasta\n",
      "lrwxrwxrwx 1 olga czb   93 Dec 25 19:08 \u001b[01;36mUP000005640_9606.fasta\u001b[0m -> /mnt/data_sm/olga/kmer-hashing/quest-for-orthologs/data/2019/Eukaryota/UP000005640_9606.fasta\n",
      "lrwxrwxrwx 1 olga czb  104 Dec 25 19:08 \u001b[01;36mUP000006548_3702_additional.fasta\u001b[0m -> /mnt/data_sm/olga/kmer-hashing/quest-for-orthologs/data/2019/Eukaryota/UP000006548_3702_additional.fasta\n",
      "lrwxrwxrwx 1 olga czb   93 Dec 25 19:08 \u001b[01;36mUP000006548_3702.fasta\u001b[0m -> /mnt/data_sm/olga/kmer-hashing/quest-for-orthologs/data/2019/Eukaryota/UP000006548_3702.fasta\n",
      "lrwxrwxrwx 1 olga czb  104 Dec 25 19:08 \u001b[01;36mUP000006727_3218_additional.fasta\u001b[0m -> /mnt/data_sm/olga/kmer-hashing/quest-for-orthologs/data/2019/Eukaryota/UP000006727_3218_additional.fasta\n",
      "lrwxrwxrwx 1 olga czb   93 Dec 25 19:08 \u001b[01;36mUP000006727_3218.fasta\u001b[0m -> /mnt/data_sm/olga/kmer-hashing/quest-for-orthologs/data/2019/Eukaryota/UP000006727_3218.fasta\n",
      "lrwxrwxrwx 1 olga czb  104 Dec 25 19:08 \u001b[01;36mUP000006906_3055_additional.fasta\u001b[0m -> /mnt/data_sm/olga/kmer-hashing/quest-for-orthologs/data/2019/Eukaryota/UP000006906_3055_additional.fasta\n",
      "lrwxrwxrwx 1 olga czb   93 Dec 25 19:08 \u001b[01;36mUP000006906_3055.fasta\u001b[0m -> /mnt/data_sm/olga/kmer-hashing/quest-for-orthologs/data/2019/Eukaryota/UP000006906_3055.fasta\n",
      "lrwxrwxrwx 1 olga czb  104 Dec 25 19:08 \u001b[01;36mUP000007062_7165_additional.fasta\u001b[0m -> /mnt/data_sm/olga/kmer-hashing/quest-for-orthologs/data/2019/Eukaryota/UP000007062_7165_additional.fasta\n",
      "lrwxrwxrwx 1 olga czb   93 Dec 25 19:08 \u001b[01;36mUP000007062_7165.fasta\u001b[0m -> /mnt/data_sm/olga/kmer-hashing/quest-for-orthologs/data/2019/Eukaryota/UP000007062_7165.fasta\n",
      "lrwxrwxrwx 1 olga czb   95 Dec 25 19:08 \u001b[01;36mUP000007241_684364.fasta\u001b[0m -> /mnt/data_sm/olga/kmer-hashing/quest-for-orthologs/data/2019/Eukaryota/UP000007241_684364.fasta\n",
      "lrwxrwxrwx 1 olga czb  104 Dec 25 19:08 \u001b[01;36mUP000007266_7070_additional.fasta\u001b[0m -> /mnt/data_sm/olga/kmer-hashing/quest-for-orthologs/data/2019/Eukaryota/UP000007266_7070_additional.fasta\n",
      "lrwxrwxrwx 1 olga czb   93 Dec 25 19:08 \u001b[01;36mUP000007266_7070.fasta\u001b[0m -> /mnt/data_sm/olga/kmer-hashing/quest-for-orthologs/data/2019/Eukaryota/UP000007266_7070.fasta\n",
      "lrwxrwxrwx 1 olga czb  104 Dec 25 19:08 \u001b[01;36mUP000007305_4577_additional.fasta\u001b[0m -> /mnt/data_sm/olga/kmer-hashing/quest-for-orthologs/data/2019/Eukaryota/UP000007305_4577_additional.fasta\n",
      "lrwxrwxrwx 1 olga czb   93 Dec 25 19:08 \u001b[01;36mUP000007305_4577.fasta\u001b[0m -> /mnt/data_sm/olga/kmer-hashing/quest-for-orthologs/data/2019/Eukaryota/UP000007305_4577.fasta\n",
      "lrwxrwxrwx 1 olga czb  104 Dec 25 19:08 \u001b[01;36mUP000008143_8364_additional.fasta\u001b[0m -> /mnt/data_sm/olga/kmer-hashing/quest-for-orthologs/data/2019/Eukaryota/UP000008143_8364_additional.fasta\n",
      "lrwxrwxrwx 1 olga czb   93 Dec 25 19:08 \u001b[01;36mUP000008143_8364.fasta\u001b[0m -> /mnt/data_sm/olga/kmer-hashing/quest-for-orthologs/data/2019/Eukaryota/UP000008143_8364.fasta\n",
      "lrwxrwxrwx 1 olga czb  104 Dec 25 19:08 \u001b[01;36mUP000008144_7719_additional.fasta\u001b[0m -> /mnt/data_sm/olga/kmer-hashing/quest-for-orthologs/data/2019/Eukaryota/UP000008144_7719_additional.fasta\n",
      "lrwxrwxrwx 1 olga czb   93 Dec 25 19:08 \u001b[01;36mUP000008144_7719.fasta\u001b[0m -> /mnt/data_sm/olga/kmer-hashing/quest-for-orthologs/data/2019/Eukaryota/UP000008144_7719.fasta\n",
      "lrwxrwxrwx 1 olga czb  106 Dec 25 19:08 \u001b[01;36mUP000008783_418459_additional.fasta\u001b[0m -> /mnt/data_sm/olga/kmer-hashing/quest-for-orthologs/data/2019/Eukaryota/UP000008783_418459_additional.fasta\n",
      "lrwxrwxrwx 1 olga czb   95 Dec 25 19:08 \u001b[01;36mUP000008783_418459.fasta\u001b[0m -> /mnt/data_sm/olga/kmer-hashing/quest-for-orthologs/data/2019/Eukaryota/UP000008783_418459.fasta\n",
      "lrwxrwxrwx 1 olga czb  104 Dec 25 19:08 \u001b[01;36mUP000009136_9913_additional.fasta\u001b[0m -> /mnt/data_sm/olga/kmer-hashing/quest-for-orthologs/data/2019/Eukaryota/UP000009136_9913_additional.fasta\n",
      "lrwxrwxrwx 1 olga czb   93 Dec 25 19:08 \u001b[01;36mUP000009136_9913.fasta\u001b[0m -> /mnt/data_sm/olga/kmer-hashing/quest-for-orthologs/data/2019/Eukaryota/UP000009136_9913.fasta\n",
      "lrwxrwxrwx 1 olga czb   93 Dec 25 19:08 \u001b[01;36mUP000015101_6412.fasta\u001b[0m -> /mnt/data_sm/olga/kmer-hashing/quest-for-orthologs/data/2019/Eukaryota/UP000015101_6412.fasta\n",
      "lrwxrwxrwx 1 olga czb  104 Dec 25 19:08 \u001b[01;36mUP000018468_7918_additional.fasta\u001b[0m -> /mnt/data_sm/olga/kmer-hashing/quest-for-orthologs/data/2019/Eukaryota/UP000018468_7918_additional.fasta\n",
      "lrwxrwxrwx 1 olga czb   93 Dec 25 19:08 \u001b[01;36mUP000018468_7918.fasta\u001b[0m -> /mnt/data_sm/olga/kmer-hashing/quest-for-orthologs/data/2019/Eukaryota/UP000018468_7918.fasta\n",
      "lrwxrwxrwx 1 olga czb  105 Dec 25 19:08 \u001b[01;36mUP000059680_39947_additional.fasta\u001b[0m -> /mnt/data_sm/olga/kmer-hashing/quest-for-orthologs/data/2019/Eukaryota/UP000059680_39947_additional.fasta\n",
      "lrwxrwxrwx 1 olga czb   94 Dec 25 19:08 \u001b[01;36mUP000059680_39947.fasta\u001b[0m -> /mnt/data_sm/olga/kmer-hashing/quest-for-orthologs/data/2019/Eukaryota/UP000059680_39947.fasta\n"
     ]
    }
   ],
   "source": [
    "ls -lha Eukaryota/protein-fastas"
   ]
  },
  {
   "cell_type": "markdown",
   "metadata": {},
   "source": [
    "# How many total Eukaryotic protein sequences are there?"
   ]
  },
  {
   "cell_type": "code",
   "execution_count": 17,
   "metadata": {},
   "outputs": [
    {
     "name": "stdout",
     "output_type": "stream",
     "text": [
      "Eukaryota/protein-fastas/UP000000437_7955.fasta:25939\n",
      "Eukaryota/protein-fastas/UP000000437_7955_additional.fasta:21219\n",
      "Eukaryota/protein-fastas/UP000000539_9031.fasta:18124\n",
      "Eukaryota/protein-fastas/UP000000539_9031_additional.fasta:9932\n",
      "Eukaryota/protein-fastas/UP000000542_5664.fasta:8038\n",
      "Eukaryota/protein-fastas/UP000000559_237561.fasta:6035\n",
      "Eukaryota/protein-fastas/UP000000559_237561_additional.fasta:1\n",
      "Eukaryota/protein-fastas/UP000000561_237631.fasta:6788\n",
      "Eukaryota/protein-fastas/UP000000561_237631_additional.fasta:18\n",
      "Eukaryota/protein-fastas/UP000000589_10090.fasta:22287\n",
      "Eukaryota/protein-fastas/UP000000589_10090_additional.fasta:40369\n",
      "Eukaryota/protein-fastas/UP000000600_5888.fasta:39461\n",
      "Eukaryota/protein-fastas/UP000000803_7227.fasta:13788\n",
      "Eukaryota/protein-fastas/UP000000803_7227_additional.fasta:9516\n",
      "Eukaryota/protein-fastas/UP000001038_8090.fasta:23617\n",
      "Eukaryota/protein-fastas/UP000001038_8090_additional.fasta:12536\n",
      "Eukaryota/protein-fastas/UP000001055_321614.fasta:15998\n",
      "Eukaryota/protein-fastas/UP000001300_284591.fasta:6449\n",
      "Eukaryota/protein-fastas/UP000001300_284591_additional.fasta:5\n",
      "Eukaryota/protein-fastas/UP000001312_665079.fasta:14445\n",
      "Eukaryota/protein-fastas/UP000001357_81824.fasta:9188\n",
      "Eukaryota/protein-fastas/UP000001449_35128.fasta:11717\n",
      "Eukaryota/protein-fastas/UP000001449_35128_additional.fasta:1\n",
      "Eukaryota/protein-fastas/UP000001450_36329.fasta:5448\n",
      "Eukaryota/protein-fastas/UP000001450_36329_additional.fasta:1\n",
      "Eukaryota/protein-fastas/UP000001519_9595.fasta:21795\n",
      "Eukaryota/protein-fastas/UP000001519_9595_additional.fasta:22932\n",
      "Eukaryota/protein-fastas/UP000001542_5722.fasta:50190\n",
      "Eukaryota/protein-fastas/UP000001548_184922.fasta:7154\n",
      "Eukaryota/protein-fastas/UP000001554_7739.fasta:28542\n",
      "Eukaryota/protein-fastas/UP000001554_7739_additional.fasta:2\n",
      "Eukaryota/protein-fastas/UP000001555_6945.fasta:20473\n",
      "Eukaryota/protein-fastas/UP000001593_45351.fasta:24429\n",
      "Eukaryota/protein-fastas/UP000001593_45351_additional.fasta:15\n",
      "Eukaryota/protein-fastas/UP000001805_367110.fasta:9759\n",
      "Eukaryota/protein-fastas/UP000001805_367110_additional.fasta:508\n",
      "Eukaryota/protein-fastas/UP000001940_6239.fasta:19986\n",
      "Eukaryota/protein-fastas/UP000001940_6239_additional.fasta:8309\n",
      "Eukaryota/protein-fastas/UP000002149_214684.fasta:6604\n",
      "Eukaryota/protein-fastas/UP000002149_214684_additional.fasta:142\n",
      "Eukaryota/protein-fastas/UP000002195_44689.fasta:12739\n",
      "Eukaryota/protein-fastas/UP000002195_44689_additional.fasta:27\n",
      "Eukaryota/protein-fastas/UP000002254_9615.fasta:20271\n",
      "Eukaryota/protein-fastas/UP000002254_9615_additional.fasta:5269\n",
      "Eukaryota/protein-fastas/UP000002277_9598.fasta:23006\n",
      "Eukaryota/protein-fastas/UP000002277_9598_additional.fasta:25788\n",
      "Eukaryota/protein-fastas/UP000002280_13616.fasta:21276\n",
      "Eukaryota/protein-fastas/UP000002280_13616_additional.fasta:968\n",
      "Eukaryota/protein-fastas/UP000002311_559292.fasta:6049\n",
      "Eukaryota/protein-fastas/UP000002311_559292_additional.fasta:28\n",
      "Eukaryota/protein-fastas/UP000002485_284812.fasta:5141\n",
      "Eukaryota/protein-fastas/UP000002485_284812_additional.fasta:9\n",
      "Eukaryota/protein-fastas/UP000002494_10116.fasta:21678\n",
      "Eukaryota/protein-fastas/UP000002494_10116_additional.fasta:9885\n",
      "Eukaryota/protein-fastas/UP000002530_330879.fasta:9647\n",
      "Eukaryota/protein-fastas/UP000005238_164328.fasta:15349\n",
      "Eukaryota/protein-fastas/UP000005640_9606.fasta:20874\n",
      "Eukaryota/protein-fastas/UP000005640_9606_additional.fasta:75041\n",
      "Eukaryota/protein-fastas/UP000006548_3702.fasta:27475\n",
      "Eukaryota/protein-fastas/UP000006548_3702_additional.fasta:14123\n",
      "Eukaryota/protein-fastas/UP000006727_3218.fasta:30792\n",
      "Eukaryota/protein-fastas/UP000006727_3218_additional.fasta:66\n",
      "Eukaryota/protein-fastas/UP000006906_3055.fasta:17614\n",
      "Eukaryota/protein-fastas/UP000006906_3055_additional.fasta:1214\n",
      "Eukaryota/protein-fastas/UP000007062_7165.fasta:12553\n",
      "Eukaryota/protein-fastas/UP000007062_7165_additional.fasta:971\n",
      "Eukaryota/protein-fastas/UP000007241_684364.fasta:8610\n",
      "Eukaryota/protein-fastas/UP000007266_7070.fasta:16579\n",
      "Eukaryota/protein-fastas/UP000007266_7070_additional.fasta:1926\n",
      "Eukaryota/protein-fastas/UP000007305_4577.fasta:39448\n",
      "Eukaryota/protein-fastas/UP000007305_4577_additional.fasta:59948\n",
      "Eukaryota/protein-fastas/UP000008143_8364.fasta:24386\n",
      "Eukaryota/protein-fastas/UP000008143_8364_additional.fasta:5307\n",
      "Eukaryota/protein-fastas/UP000008144_7719.fasta:16678\n",
      "Eukaryota/protein-fastas/UP000008144_7719_additional.fasta:631\n",
      "Eukaryota/protein-fastas/UP000008783_418459.fasta:15689\n",
      "Eukaryota/protein-fastas/UP000008783_418459_additional.fasta:119\n",
      "Eukaryota/protein-fastas/UP000009136_9913.fasta:23774\n",
      "Eukaryota/protein-fastas/UP000009136_9913_additional.fasta:14534\n",
      "Eukaryota/protein-fastas/UP000015101_6412.fasta:23328\n",
      "Eukaryota/protein-fastas/UP000018468_7918.fasta:18320\n",
      "Eukaryota/protein-fastas/UP000018468_7918_additional.fasta:4140\n",
      "Eukaryota/protein-fastas/UP000059680_39947.fasta:43858\n",
      "Eukaryota/protein-fastas/UP000059680_39947_additional.fasta:5369\n"
     ]
    }
   ],
   "source": [
    "! grep --count '>' Eukaryota/protein-fastas/* "
   ]
  },
  {
   "cell_type": "code",
   "execution_count": 18,
   "metadata": {},
   "outputs": [
    {
     "name": "stdout",
     "output_type": "stream",
     "text": [
      "1242257\n"
     ]
    }
   ],
   "source": [
    "! grep  '>' Eukaryota/protein-fastas/* | wc -l"
   ]
  },
  {
   "cell_type": "code",
   "execution_count": 27,
   "metadata": {},
   "outputs": [],
   "source": []
  },
  {
   "cell_type": "code",
   "execution_count": 22,
   "metadata": {},
   "outputs": [
    {
     "data": {
      "text/plain": [
       "'1,242,257 sequences --> 771,600,605,896 comparisons'"
      ]
     },
     "execution_count": 22,
     "metadata": {},
     "output_type": "execute_result"
    }
   ],
   "source": [
    "n = 1242257\n",
    "n_comparisons = int((n * (n - 1))/2)\n",
    "f'{n:,} sequences --> {n_comparisons:,} comparisons'"
   ]
  },
  {
   "cell_type": "markdown",
   "metadata": {},
   "source": [
    "6 milliseconds per comparison"
   ]
  },
  {
   "cell_type": "code",
   "execution_count": null,
   "metadata": {},
   "outputs": [],
   "source": [
    "n_alphabets = 8"
   ]
  },
  {
   "cell_type": "code",
   "execution_count": 28,
   "metadata": {},
   "outputs": [],
   "source": [
    "n_seconds_per_comparison = 0.0006"
   ]
  },
  {
   "cell_type": "code",
   "execution_count": 29,
   "metadata": {},
   "outputs": [
    {
     "data": {
      "text/plain": [
       "128600.10098266667"
      ]
     },
     "execution_count": 29,
     "metadata": {},
     "output_type": "execute_result"
    }
   ],
   "source": [
    "(n_comparisons * n_seconds_per_comparison)/60/60"
   ]
  },
  {
   "cell_type": "code",
   "execution_count": 25,
   "metadata": {},
   "outputs": [],
   "source": [
    "ksize_min = 3\n",
    "ksize_max = 45"
   ]
  },
  {
   "cell_type": "code",
   "execution_count": 26,
   "metadata": {},
   "outputs": [
    {
     "data": {
      "text/plain": [
       "43"
      ]
     },
     "execution_count": 26,
     "metadata": {},
     "output_type": "execute_result"
    }
   ],
   "source": [
    "n_ksizes = ksize_max - ksize_min + 1\n",
    "n_ksizes"
   ]
  },
  {
   "cell_type": "code",
   "execution_count": null,
   "metadata": {},
   "outputs": [],
   "source": [
    "n_ksizes * n_alphabets * n_comparisons * 6e-6"
   ]
  },
  {
   "cell_type": "code",
   "execution_count": 31,
   "metadata": {},
   "outputs": [
    {
     "name": "stdout",
     "output_type": "stream",
     "text": [
      "Eukaryota/protein-fastas/UP000005640_9606.fasta:20874\n",
      "Eukaryota/protein-fastas/UP000005640_9606_additional.fasta:75041\n"
     ]
    }
   ],
   "source": [
    "human_id = 'UP000005640'\n",
    "! grep --count '>' Eukaryota/protein-fastas/$human_id* "
   ]
  },
  {
   "cell_type": "code",
   "execution_count": 32,
   "metadata": {},
   "outputs": [
    {
     "name": "stdout",
     "output_type": "stream",
     "text": [
      "95915\n"
     ]
    }
   ],
   "source": [
    "! grep '>' Eukaryota/protein-fastas/$human_id* | wc -l"
   ]
  },
  {
   "cell_type": "code",
   "execution_count": 61,
   "metadata": {},
   "outputs": [
    {
     "data": {
      "text/plain": [
       "'95,915'"
      ]
     },
     "execution_count": 61,
     "metadata": {},
     "output_type": "execute_result"
    }
   ],
   "source": [
    "n_human_seqs = 95915\n",
    "f'{n_human_seqs:,}'"
   ]
  },
  {
   "cell_type": "code",
   "execution_count": 62,
   "metadata": {},
   "outputs": [
    {
     "data": {
      "text/plain": [
       "1146342"
      ]
     },
     "execution_count": 62,
     "metadata": {},
     "output_type": "execute_result"
    }
   ],
   "source": [
    "n_not_human_seqs = n - n_human_seqs\n",
    "n_not_human_seqs"
   ]
  },
  {
   "cell_type": "code",
   "execution_count": 35,
   "metadata": {},
   "outputs": [
    {
     "data": {
      "text/plain": [
       "109951392930"
      ]
     },
     "execution_count": 35,
     "metadata": {},
     "output_type": "execute_result"
    }
   ],
   "source": [
    "n_human_seqs * n_not_human_seqs"
   ]
  },
  {
   "cell_type": "code",
   "execution_count": 60,
   "metadata": {},
   "outputs": [
    {
     "data": {
      "text/plain": [
       "'109,951,392,930'"
      ]
     },
     "execution_count": 60,
     "metadata": {},
     "output_type": "execute_result"
    }
   ],
   "source": [
    "f'{n_human_seqs * n_not_human_seqs:,}'"
   ]
  },
  {
   "cell_type": "code",
   "execution_count": 36,
   "metadata": {},
   "outputs": [
    {
     "data": {
      "text/plain": [
       "65970835.757999994"
      ]
     },
     "execution_count": 36,
     "metadata": {},
     "output_type": "execute_result"
    }
   ],
   "source": [
    "(n_human_seqs * n_not_human_seqs) * n_seconds_per_comparison"
   ]
  },
  {
   "cell_type": "code",
   "execution_count": 37,
   "metadata": {},
   "outputs": [
    {
     "data": {
      "text/plain": [
       "18325.232154999998"
      ]
     },
     "execution_count": 37,
     "metadata": {},
     "output_type": "execute_result"
    }
   ],
   "source": [
    "(n_human_seqs * n_not_human_seqs) * n_seconds_per_comparison /60/60"
   ]
  },
  {
   "cell_type": "code",
   "execution_count": 38,
   "metadata": {},
   "outputs": [
    {
     "data": {
      "text/plain": [
       "152.7102679583333"
      ]
     },
     "execution_count": 38,
     "metadata": {},
     "output_type": "execute_result"
    }
   ],
   "source": [
    "(n_human_seqs * n_not_human_seqs) * n_seconds_per_comparison /60/60/120"
   ]
  },
  {
   "cell_type": "code",
   "execution_count": 39,
   "metadata": {},
   "outputs": [
    {
     "data": {
      "text/plain": [
       "6.362927831597221"
      ]
     },
     "execution_count": 39,
     "metadata": {},
     "output_type": "execute_result"
    }
   ],
   "source": [
    "(n_human_seqs * n_not_human_seqs) * n_seconds_per_comparison /60/60/120/24"
   ]
  },
  {
   "cell_type": "code",
   "execution_count": 42,
   "metadata": {},
   "outputs": [
    {
     "data": {
      "text/plain": [
       "3.1814639157986107"
      ]
     },
     "execution_count": 42,
     "metadata": {},
     "output_type": "execute_result"
    }
   ],
   "source": [
    "(n_human_seqs * n_not_human_seqs) * n_seconds_per_comparison/2/60/60/120/24"
   ]
  },
  {
   "cell_type": "code",
   "execution_count": 43,
   "metadata": {},
   "outputs": [
    {
     "data": {
      "text/plain": [
       "57.54899999999999"
      ]
     },
     "execution_count": 43,
     "metadata": {},
     "output_type": "execute_result"
    }
   ],
   "source": [
    "n_human_seqs * n_seconds_per_comparison"
   ]
  },
  {
   "cell_type": "code",
   "execution_count": 44,
   "metadata": {},
   "outputs": [
    {
     "data": {
      "text/plain": [
       "687.8051999999999"
      ]
     },
     "execution_count": 44,
     "metadata": {},
     "output_type": "execute_result"
    }
   ],
   "source": [
    "n_not_human_seqs * n_seconds_per_comparison"
   ]
  },
  {
   "cell_type": "code",
   "execution_count": 45,
   "metadata": {},
   "outputs": [
    {
     "data": {
      "text/plain": [
       "11.463419999999998"
      ]
     },
     "execution_count": 45,
     "metadata": {},
     "output_type": "execute_result"
    }
   ],
   "source": [
    "n_not_human_seqs * n_seconds_per_comparison / 60"
   ]
  },
  {
   "cell_type": "markdown",
   "metadata": {},
   "source": [
    "## Make separate folders for human and non-human"
   ]
  },
  {
   "cell_type": "code",
   "execution_count": 46,
   "metadata": {},
   "outputs": [],
   "source": [
    "%%bash\n",
    "\n",
    "HUMAN=UP000005640\n",
    "\n",
    "for DIR in $(ls -F | grep '/'); do\n",
    "    cd $DIR\n",
    "#     rm -rf protein-fastas\n",
    "    mkdir human-protein-fastas\n",
    "    mkdir not-human-protein-fastas\n",
    "    # xargs ftw!!\n",
    "    ls -1 *.fasta | grep -v DNA | grep $HUMAN | xargs -I{} ln -s $PWD/{} human-protein-fastas/{}\n",
    "    ls -1 *.fasta | grep -v DNA | grep -v $HUMAN | xargs -I{} ln -s $PWD/{} not-human-protein-fastas/{}\n",
    "    cd ..\n",
    "done"
   ]
  },
  {
   "cell_type": "code",
   "execution_count": 48,
   "metadata": {},
   "outputs": [
    {
     "name": "stdout",
     "output_type": "stream",
     "text": [
      "total 15484342\n",
      "drwxr-xr-x 2 olga       4096 Dec 26 19:44 \u001b[0m\u001b[01;34mhuman-protein-fastas\u001b[0m/\n",
      "drwxr-xr-x 2 olga       8192 Dec 26 19:44 \u001b[01;34mnot-human-protein-fastas\u001b[0m/\n",
      "drwxr-xr-x 2 olga       8192 Dec 25 19:08 \u001b[01;34mprotein-fastas\u001b[0m/\n",
      "-rw-r--r-- 1 olga   13705795 Apr 11  2019 UP000000437_7955_additional.fasta\n",
      "-rw-r--r-- 1 olga   43123842 Apr 13  2019 UP000000437_7955_DNA.fasta\n",
      "-rw-r--r-- 1 olga       2634 Apr 13  2019 UP000000437_7955_DNA.miss\n",
      "-rw-r--r-- 1 olga   16760669 Apr 11  2019 UP000000437_7955.fasta\n",
      "-rw-r--r-- 1 olga  405525201 May  6  2019 UP000000437_7955_gcoord.xml\n",
      "-rw-r--r-- 1 olga    2598262 Apr 11  2019 UP000000437_7955.gene2acc\n",
      "ls: write error\n"
     ]
    }
   ],
   "source": [
    "ll Eukaryota/| head"
   ]
  },
  {
   "cell_type": "code",
   "execution_count": 49,
   "metadata": {},
   "outputs": [
    {
     "name": "stdout",
     "output_type": "stream",
     "text": [
      "total 1\n",
      "lrwxrwxrwx 1 olga 104 Dec 26 19:44 \u001b[0m\u001b[01;36mUP000005640_9606_additional.fasta\u001b[0m -> /mnt/data_sm/olga/kmer-hashing/quest-for-orthologs/data/2019/Eukaryota/UP000005640_9606_additional.fasta\n",
      "lrwxrwxrwx 1 olga  93 Dec 26 19:44 \u001b[01;36mUP000005640_9606.fasta\u001b[0m -> /mnt/data_sm/olga/kmer-hashing/quest-for-orthologs/data/2019/Eukaryota/UP000005640_9606.fasta\n"
     ]
    }
   ],
   "source": [
    "ll Eukaryota/human-protein-fastas | head"
   ]
  },
  {
   "cell_type": "code",
   "execution_count": 52,
   "metadata": {},
   "outputs": [
    {
     "name": "stdout",
     "output_type": "stream",
     "text": [
      "2\n"
     ]
    }
   ],
   "source": [
    "ls -1 Eukaryota/human-protein-fastas | wc -l"
   ]
  },
  {
   "cell_type": "code",
   "execution_count": 50,
   "metadata": {},
   "outputs": [
    {
     "name": "stdout",
     "output_type": "stream",
     "text": [
      "total 41\n",
      "lrwxrwxrwx 1 olga 104 Dec 26 19:44 \u001b[0m\u001b[01;36mUP000000437_7955_additional.fasta\u001b[0m -> /mnt/data_sm/olga/kmer-hashing/quest-for-orthologs/data/2019/Eukaryota/UP000000437_7955_additional.fasta\n",
      "lrwxrwxrwx 1 olga  93 Dec 26 19:44 \u001b[01;36mUP000000437_7955.fasta\u001b[0m -> /mnt/data_sm/olga/kmer-hashing/quest-for-orthologs/data/2019/Eukaryota/UP000000437_7955.fasta\n",
      "lrwxrwxrwx 1 olga 104 Dec 26 19:44 \u001b[01;36mUP000000539_9031_additional.fasta\u001b[0m -> /mnt/data_sm/olga/kmer-hashing/quest-for-orthologs/data/2019/Eukaryota/UP000000539_9031_additional.fasta\n",
      "lrwxrwxrwx 1 olga  93 Dec 26 19:44 \u001b[01;36mUP000000539_9031.fasta\u001b[0m -> /mnt/data_sm/olga/kmer-hashing/quest-for-orthologs/data/2019/Eukaryota/UP000000539_9031.fasta\n",
      "lrwxrwxrwx 1 olga  93 Dec 26 19:44 \u001b[01;36mUP000000542_5664.fasta\u001b[0m -> /mnt/data_sm/olga/kmer-hashing/quest-for-orthologs/data/2019/Eukaryota/UP000000542_5664.fasta\n",
      "lrwxrwxrwx 1 olga 106 Dec 26 19:44 \u001b[01;36mUP000000559_237561_additional.fasta\u001b[0m -> /mnt/data_sm/olga/kmer-hashing/quest-for-orthologs/data/2019/Eukaryota/UP000000559_237561_additional.fasta\n",
      "lrwxrwxrwx 1 olga  95 Dec 26 19:44 \u001b[01;36mUP000000559_237561.fasta\u001b[0m -> /mnt/data_sm/olga/kmer-hashing/quest-for-orthologs/data/2019/Eukaryota/UP000000559_237561.fasta\n",
      "lrwxrwxrwx 1 olga 106 Dec 26 19:44 \u001b[01;36mUP000000561_237631_additional.fasta\u001b[0m -> /mnt/data_sm/olga/kmer-hashing/quest-for-orthologs/data/2019/Eukaryota/UP000000561_237631_additional.fasta\n",
      "lrwxrwxrwx 1 olga  95 Dec 26 19:44 \u001b[01;36mUP000000561_237631.fasta\u001b[0m -> /mnt/data_sm/olga/kmer-hashing/quest-for-orthologs/data/2019/Eukaryota/UP000000561_237631.fasta\n",
      "ls: write error\n"
     ]
    }
   ],
   "source": [
    "ll Eukaryota/not-human-protein-fastas | head"
   ]
  },
  {
   "cell_type": "code",
   "execution_count": 51,
   "metadata": {},
   "outputs": [
    {
     "name": "stdout",
     "output_type": "stream",
     "text": [
      "82\n"
     ]
    }
   ],
   "source": [
    "ls -1 Eukaryota/not-human-protein-fastas | wc -l"
   ]
  },
  {
   "cell_type": "code",
   "execution_count": 53,
   "metadata": {},
   "outputs": [
    {
     "name": "stdout",
     "output_type": "stream",
     "text": [
      "84\n"
     ]
    }
   ],
   "source": [
    "ls -1 Eukaryota/protein-fastas | wc -l"
   ]
  },
  {
   "cell_type": "markdown",
   "metadata": {},
   "source": [
    "## Concatenate human sequences into one file"
   ]
  },
  {
   "cell_type": "code",
   "execution_count": 54,
   "metadata": {},
   "outputs": [],
   "source": [
    "mkdir Eukaryota/human-protein-fastas-concatenated/"
   ]
  },
  {
   "cell_type": "code",
   "execution_count": 55,
   "metadata": {},
   "outputs": [],
   "source": [
    "cat Eukaryota/human-protein-fastas/* > Eukaryota/human-protein-fastas-concatenated/$human_id\\.fasta"
   ]
  },
  {
   "cell_type": "code",
   "execution_count": 57,
   "metadata": {},
   "outputs": [
    {
     "name": "stdout",
     "output_type": "stream",
     "text": [
      "total 49472\n",
      "-rw-r--r-- 1 olga 50656898 Dec 26 19:49 UP000005640.fasta\n"
     ]
    }
   ],
   "source": [
    "ll $PWD/Eukaryota/human-protein-fastas-concatenated/"
   ]
  },
  {
   "cell_type": "code",
   "execution_count": 59,
   "metadata": {},
   "outputs": [
    {
     "name": "stdout",
     "output_type": "stream",
     "text": [
      "/mnt/data_sm/olga/kmer-hashing/quest-for-orthologs/data/2019/Eukaryota/human-protein-fastas-concatenated/UP000005640.fasta\n"
     ]
    }
   ],
   "source": [
    "!echo $PWD/Eukaryota/human-protein-fastas-concatenated/UP000005640.fasta"
   ]
  },
  {
   "cell_type": "code",
   "execution_count": null,
   "metadata": {},
   "outputs": [],
   "source": []
  }
 ],
 "metadata": {
  "kernelspec": {
   "display_name": "Python 3",
   "language": "python",
   "name": "python3"
  },
  "language_info": {
   "codemirror_mode": {
    "name": "ipython",
    "version": 3
   },
   "file_extension": ".py",
   "mimetype": "text/x-python",
   "name": "python",
   "nbconvert_exporter": "python",
   "pygments_lexer": "ipython3",
   "version": "3.6.7"
  }
 },
 "nbformat": 4,
 "nbformat_minor": 4
}
