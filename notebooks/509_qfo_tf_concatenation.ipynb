{
 "cells": [
  {
   "cell_type": "code",
   "execution_count": 2,
   "metadata": {},
   "outputs": [
    {
     "name": "stdout",
     "output_type": "stream",
     "text": [
      "pd.__version__: 0.25.3\n",
      "vaex.__file__: /home/olga/miniconda3/envs/khtools--encodings-compare-cli--py37/lib/python3.7/site-packages/vaex/__init__.py\n",
      "vaex.__version__: 1.0.0-beta.6\n"
     ]
    }
   ],
   "source": [
    "%load_ext autoreload\n",
    "%autoreload 2\n",
    "\n",
    "from collections import defaultdict\n",
    "import glob\n",
    "import time\n",
    "\n",
    "import pandas as pd\n",
    "from pyarrow.lib import ArrowIOError\n",
    "from tqdm import tqdm\n",
    "import vaex\n",
    "\n",
    "print(f\"pd.__version__: {pd.__version__}\")\n",
    "print(f\"vaex.__file__: {vaex.__file__}\")\n",
    "print(f\"vaex.__version__: {vaex.__version__}\")"
   ]
  },
  {
   "cell_type": "markdown",
   "metadata": {},
   "source": [
    "# Check disk-mounted storage"
   ]
  },
  {
   "cell_type": "code",
   "execution_count": 3,
   "metadata": {},
   "outputs": [
    {
     "name": "stdout",
     "output_type": "stream",
     "text": [
      "/mnt/data_sm/olga/kmer-hashing/quest-for-orthologs/analysis/2019/transcription-factors/intermediates\n"
     ]
    }
   ],
   "source": [
    "cd  ~/data_sm/kmer-hashing/quest-for-orthologs/analysis/2019/transcription-factors/intermediates"
   ]
  },
  {
   "cell_type": "code",
   "execution_count": 4,
   "metadata": {},
   "outputs": [
    {
     "name": "stdout",
     "output_type": "stream",
     "text": [
      "26847\n"
     ]
    }
   ],
   "source": [
    "ls -1 | wc -l"
   ]
  },
  {
   "cell_type": "markdown",
   "metadata": {},
   "source": [
    "# Read orthologous TF info"
   ]
  },
  {
   "cell_type": "code",
   "execution_count": 5,
   "metadata": {},
   "outputs": [
    {
     "name": "stdout",
     "output_type": "stream",
     "text": [
      "(59232, 21)\n"
     ]
    },
    {
     "data": {
      "text/html": [
       "<div>\n",
       "<style scoped>\n",
       "    .dataframe tbody tr th:only-of-type {\n",
       "        vertical-align: middle;\n",
       "    }\n",
       "\n",
       "    .dataframe tbody tr th {\n",
       "        vertical-align: top;\n",
       "    }\n",
       "\n",
       "    .dataframe thead th {\n",
       "        text-align: right;\n",
       "    }\n",
       "</style>\n",
       "<table border=\"1\" class=\"dataframe\">\n",
       "  <thead>\n",
       "    <tr style=\"text-align: right;\">\n",
       "      <th></th>\n",
       "      <th>dn_ds</th>\n",
       "      <th>method_link_type</th>\n",
       "      <th>source__id</th>\n",
       "      <th>source__perc_id</th>\n",
       "      <th>source__perc_pos</th>\n",
       "      <th>source__protein_id</th>\n",
       "      <th>source__species</th>\n",
       "      <th>source__taxon_id</th>\n",
       "      <th>target__id</th>\n",
       "      <th>target__perc_id</th>\n",
       "      <th>...</th>\n",
       "      <th>target__protein_id</th>\n",
       "      <th>target__species</th>\n",
       "      <th>target__taxon_id</th>\n",
       "      <th>taxonomy_level</th>\n",
       "      <th>type</th>\n",
       "      <th>target__uniprot_id</th>\n",
       "      <th>target__id_type</th>\n",
       "      <th>target__db_id</th>\n",
       "      <th>target__species_id</th>\n",
       "      <th>target__taxa_id</th>\n",
       "    </tr>\n",
       "  </thead>\n",
       "  <tbody>\n",
       "    <tr>\n",
       "      <th>0</th>\n",
       "      <td>NaN</td>\n",
       "      <td>ENSEMBL_PARALOGUES</td>\n",
       "      <td>ENSG00000267179</td>\n",
       "      <td>24.8792</td>\n",
       "      <td>37.1981</td>\n",
       "      <td>ENSP00000467286</td>\n",
       "      <td>homo_sapiens</td>\n",
       "      <td>9606</td>\n",
       "      <td>ENSG00000175787</td>\n",
       "      <td>17.0813</td>\n",
       "      <td>...</td>\n",
       "      <td>ENSP00000378792</td>\n",
       "      <td>homo_sapiens</td>\n",
       "      <td>9606</td>\n",
       "      <td>Bilateria</td>\n",
       "      <td>other_paralog</td>\n",
       "      <td>Q14929</td>\n",
       "      <td>Ensembl_PRO</td>\n",
       "      <td>ENSP00000378792</td>\n",
       "      <td>UP000005640</td>\n",
       "      <td>UP000005640</td>\n",
       "    </tr>\n",
       "    <tr>\n",
       "      <th>1</th>\n",
       "      <td>0.37910</td>\n",
       "      <td>ENSEMBL_PARALOGUES</td>\n",
       "      <td>ENSG00000181666</td>\n",
       "      <td>45.6753</td>\n",
       "      <td>57.5114</td>\n",
       "      <td>ENSP00000315505</td>\n",
       "      <td>homo_sapiens</td>\n",
       "      <td>9606</td>\n",
       "      <td>ENSG00000175787</td>\n",
       "      <td>49.9171</td>\n",
       "      <td>...</td>\n",
       "      <td>ENSP00000378792</td>\n",
       "      <td>homo_sapiens</td>\n",
       "      <td>9606</td>\n",
       "      <td>Bilateria</td>\n",
       "      <td>other_paralog</td>\n",
       "      <td>Q14929</td>\n",
       "      <td>Ensembl_PRO</td>\n",
       "      <td>ENSP00000378792</td>\n",
       "      <td>UP000005640</td>\n",
       "      <td>UP000005640</td>\n",
       "    </tr>\n",
       "    <tr>\n",
       "      <th>2</th>\n",
       "      <td>0.43907</td>\n",
       "      <td>ENSEMBL_PARALOGUES</td>\n",
       "      <td>ENSG00000164256</td>\n",
       "      <td>26.1745</td>\n",
       "      <td>34.0045</td>\n",
       "      <td>ENSP00000296682</td>\n",
       "      <td>homo_sapiens</td>\n",
       "      <td>9606</td>\n",
       "      <td>ENSG00000175787</td>\n",
       "      <td>38.8060</td>\n",
       "      <td>...</td>\n",
       "      <td>ENSP00000378792</td>\n",
       "      <td>homo_sapiens</td>\n",
       "      <td>9606</td>\n",
       "      <td>Bilateria</td>\n",
       "      <td>other_paralog</td>\n",
       "      <td>Q14929</td>\n",
       "      <td>Ensembl_PRO</td>\n",
       "      <td>ENSP00000378792</td>\n",
       "      <td>UP000005640</td>\n",
       "      <td>UP000005640</td>\n",
       "    </tr>\n",
       "    <tr>\n",
       "      <th>3</th>\n",
       "      <td>NaN</td>\n",
       "      <td>ENSEMBL_PARALOGUES</td>\n",
       "      <td>ENSG00000136866</td>\n",
       "      <td>30.5426</td>\n",
       "      <td>41.7054</td>\n",
       "      <td>ENSP00000452552</td>\n",
       "      <td>homo_sapiens</td>\n",
       "      <td>9606</td>\n",
       "      <td>ENSG00000175787</td>\n",
       "      <td>32.6700</td>\n",
       "      <td>...</td>\n",
       "      <td>ENSP00000378792</td>\n",
       "      <td>homo_sapiens</td>\n",
       "      <td>9606</td>\n",
       "      <td>Bilateria</td>\n",
       "      <td>other_paralog</td>\n",
       "      <td>Q14929</td>\n",
       "      <td>Ensembl_PRO</td>\n",
       "      <td>ENSP00000378792</td>\n",
       "      <td>UP000005640</td>\n",
       "      <td>UP000005640</td>\n",
       "    </tr>\n",
       "    <tr>\n",
       "      <th>4</th>\n",
       "      <td>NaN</td>\n",
       "      <td>ENSEMBL_PARALOGUES</td>\n",
       "      <td>ENSG00000187815</td>\n",
       "      <td>29.6578</td>\n",
       "      <td>41.4449</td>\n",
       "      <td>ENSP00000361791</td>\n",
       "      <td>homo_sapiens</td>\n",
       "      <td>9606</td>\n",
       "      <td>ENSG00000175787</td>\n",
       "      <td>25.8706</td>\n",
       "      <td>...</td>\n",
       "      <td>ENSP00000378792</td>\n",
       "      <td>homo_sapiens</td>\n",
       "      <td>9606</td>\n",
       "      <td>Bilateria</td>\n",
       "      <td>other_paralog</td>\n",
       "      <td>Q14929</td>\n",
       "      <td>Ensembl_PRO</td>\n",
       "      <td>ENSP00000378792</td>\n",
       "      <td>UP000005640</td>\n",
       "      <td>UP000005640</td>\n",
       "    </tr>\n",
       "  </tbody>\n",
       "</table>\n",
       "<p>5 rows × 21 columns</p>\n",
       "</div>"
      ],
      "text/plain": [
       "     dn_ds    method_link_type       source__id  source__perc_id  \\\n",
       "0      NaN  ENSEMBL_PARALOGUES  ENSG00000267179          24.8792   \n",
       "1  0.37910  ENSEMBL_PARALOGUES  ENSG00000181666          45.6753   \n",
       "2  0.43907  ENSEMBL_PARALOGUES  ENSG00000164256          26.1745   \n",
       "3      NaN  ENSEMBL_PARALOGUES  ENSG00000136866          30.5426   \n",
       "4      NaN  ENSEMBL_PARALOGUES  ENSG00000187815          29.6578   \n",
       "\n",
       "   source__perc_pos source__protein_id source__species  source__taxon_id  \\\n",
       "0           37.1981    ENSP00000467286    homo_sapiens              9606   \n",
       "1           57.5114    ENSP00000315505    homo_sapiens              9606   \n",
       "2           34.0045    ENSP00000296682    homo_sapiens              9606   \n",
       "3           41.7054    ENSP00000452552    homo_sapiens              9606   \n",
       "4           41.4449    ENSP00000361791    homo_sapiens              9606   \n",
       "\n",
       "        target__id  target__perc_id  ...  target__protein_id target__species  \\\n",
       "0  ENSG00000175787          17.0813  ...     ENSP00000378792    homo_sapiens   \n",
       "1  ENSG00000175787          49.9171  ...     ENSP00000378792    homo_sapiens   \n",
       "2  ENSG00000175787          38.8060  ...     ENSP00000378792    homo_sapiens   \n",
       "3  ENSG00000175787          32.6700  ...     ENSP00000378792    homo_sapiens   \n",
       "4  ENSG00000175787          25.8706  ...     ENSP00000378792    homo_sapiens   \n",
       "\n",
       "  target__taxon_id  taxonomy_level           type target__uniprot_id  \\\n",
       "0             9606       Bilateria  other_paralog             Q14929   \n",
       "1             9606       Bilateria  other_paralog             Q14929   \n",
       "2             9606       Bilateria  other_paralog             Q14929   \n",
       "3             9606       Bilateria  other_paralog             Q14929   \n",
       "4             9606       Bilateria  other_paralog             Q14929   \n",
       "\n",
       "  target__id_type    target__db_id target__species_id target__taxa_id  \n",
       "0     Ensembl_PRO  ENSP00000378792        UP000005640     UP000005640  \n",
       "1     Ensembl_PRO  ENSP00000378792        UP000005640     UP000005640  \n",
       "2     Ensembl_PRO  ENSP00000378792        UP000005640     UP000005640  \n",
       "3     Ensembl_PRO  ENSP00000378792        UP000005640     UP000005640  \n",
       "4     Ensembl_PRO  ENSP00000378792        UP000005640     UP000005640  \n",
       "\n",
       "[5 rows x 21 columns]"
      ]
     },
     "execution_count": 5,
     "metadata": {},
     "output_type": "execute_result"
    }
   ],
   "source": [
    "data_folder = '/home/olga/data_sm/kmer-hashing/quest-for-orthologs/data/2019'\n",
    "tfs = pd.read_parquet(f'{data_folder}/opisthokont_not_human_transcription_factors_ensembl_compara_merged_uniprot.parquet')\n",
    "print(tfs.shape)\n",
    "tfs.head()"
   ]
  },
  {
   "cell_type": "markdown",
   "metadata": {},
   "source": [
    "# Read parquet intermediates from local"
   ]
  },
  {
   "cell_type": "markdown",
   "metadata": {},
   "source": [
    "## TODO: fix typo in \"transcripton\""
   ]
  },
  {
   "cell_type": "code",
   "execution_count": 6,
   "metadata": {},
   "outputs": [],
   "source": [
    "scratch_folder = '/home/olga/scratch/kmer-hashing/quest-for-orthologs/analysis/2019/transcripton-factors/intermediates'"
   ]
  },
  {
   "cell_type": "code",
   "execution_count": 7,
   "metadata": {},
   "outputs": [],
   "source": [
    "arrow_folder = '/home/olga/scratch/kmer-hashing/quest-for-orthologs/analysis/2019/transcription-factors/intermediates-vaex-arrow'\n",
    "! mkdir -p $arrow_folder"
   ]
  },
  {
   "cell_type": "code",
   "execution_count": 8,
   "metadata": {},
   "outputs": [
    {
     "name": "stdout",
     "output_type": "stream",
     "text": [
      "/home/olga/scratch/kmer-hashing/quest-for-orthologs/analysis/2019/transcripton-factors/intermediates\n"
     ]
    }
   ],
   "source": [
    "cd $scratch_folder"
   ]
  },
  {
   "cell_type": "code",
   "execution_count": 9,
   "metadata": {},
   "outputs": [
    {
     "data": {
      "text/plain": [
       "'/home/olga/scratch/kmer-hashing/quest-for-orthologs/analysis/2019/transcripton-factors/intermediates'"
      ]
     },
     "execution_count": 9,
     "metadata": {},
     "output_type": "execute_result"
    }
   ],
   "source": [
    "pwd"
   ]
  },
  {
   "cell_type": "code",
   "execution_count": 10,
   "metadata": {},
   "outputs": [
    {
     "name": "stdout",
     "output_type": "stream",
     "text": [
      "17635\n"
     ]
    }
   ],
   "source": [
    "ls -1 | wc -l"
   ]
  },
  {
   "cell_type": "code",
   "execution_count": 11,
   "metadata": {},
   "outputs": [
    {
     "name": "stdout",
     "output_type": "stream",
     "text": [
      "total 20G\n",
      "drwxr-xr-x 2 olga czb  1.1M Jan 10 07:46 \u001b[0m\u001b[01;34m.\u001b[0m/\n",
      "drwxr-xr-x 4 olga czb  4.0K Jan 10 15:44 \u001b[01;34m..\u001b[0m/\n",
      "-rw-r--r-- 1 olga czb     0 Jan 10 07:35 khtools_compare-kmers.log\n",
      "-rw-r--r-- 1 olga czb  1.3M Jan 10 07:43 sp__A0JN51__ELF1_BOVIN.parquet\n",
      "-rw-r--r-- 1 olga czb  1.5M Jan 10 07:45 sp__A0JNB1__ZN227_BOVIN.parquet\n",
      "-rw-r--r-- 1 olga czb  1.4M Jan 10 07:43 sp__A0JPA0__CNNM4_XENTR.parquet\n",
      "-rw-r--r-- 1 olga czb  1.2M Jan 10 07:39 sp__A0JPK3__ZFP57_RAT.parquet\n",
      "-rw-r--r-- 1 olga czb  1.4M Jan 10 07:39 sp__A0JPL0__ZN382_RAT.parquet\n",
      "-rw-r--r-- 1 olga czb  1.2M Jan 10 07:39 sp__A0JPN1__HLX_RAT.parquet\n",
      "ls: write error\n"
     ]
    }
   ],
   "source": [
    "ls -lha | head"
   ]
  },
  {
   "cell_type": "markdown",
   "metadata": {},
   "source": [
    "# Do just a subset for now --Read parquet files"
   ]
  },
  {
   "cell_type": "code",
   "execution_count": 12,
   "metadata": {},
   "outputs": [
    {
     "name": "stderr",
     "output_type": "stream",
     "text": [
      "999it [07:57,  1.61it/s]"
     ]
    },
    {
     "name": "stdout",
     "output_type": "stream",
     "text": [
      "(1, 1000)\n",
      "(1977656000, 5)\n",
      "CPU times: user 8min 51s, sys: 9min 23s, total: 18min 15s\n",
      "Wall time: 10min 35s\n"
     ]
    },
    {
     "data": {
      "text/html": [
       "<div>\n",
       "<style scoped>\n",
       "    .dataframe tbody tr th:only-of-type {\n",
       "        vertical-align: middle;\n",
       "    }\n",
       "\n",
       "    .dataframe tbody tr th {\n",
       "        vertical-align: top;\n",
       "    }\n",
       "\n",
       "    .dataframe thead th {\n",
       "        text-align: right;\n",
       "    }\n",
       "</style>\n",
       "<table border=\"1\" class=\"dataframe\">\n",
       "  <thead>\n",
       "    <tr style=\"text-align: right;\">\n",
       "      <th></th>\n",
       "      <th>id1</th>\n",
       "      <th>id2</th>\n",
       "      <th>ksize</th>\n",
       "      <th>jaccard</th>\n",
       "      <th>molecule</th>\n",
       "    </tr>\n",
       "  </thead>\n",
       "  <tbody>\n",
       "    <tr>\n",
       "      <th>0</th>\n",
       "      <td>tr|A0A2I2Y780|A0A2I2Y780_GORGO Zinc finger pro...</td>\n",
       "      <td>tr|A0A087WUV0|A0A087WUV0_HUMAN Uncharacterized...</td>\n",
       "      <td>3</td>\n",
       "      <td>0.149701</td>\n",
       "      <td>protein</td>\n",
       "    </tr>\n",
       "    <tr>\n",
       "      <th>1</th>\n",
       "      <td>tr|A0A2I2Y780|A0A2I2Y780_GORGO Zinc finger pro...</td>\n",
       "      <td>tr|A0A087WUV0|A0A087WUV0_HUMAN Uncharacterized...</td>\n",
       "      <td>4</td>\n",
       "      <td>0.071038</td>\n",
       "      <td>protein</td>\n",
       "    </tr>\n",
       "    <tr>\n",
       "      <th>2</th>\n",
       "      <td>tr|A0A2I2Y780|A0A2I2Y780_GORGO Zinc finger pro...</td>\n",
       "      <td>tr|A0A087WUV0|A0A087WUV0_HUMAN Uncharacterized...</td>\n",
       "      <td>5</td>\n",
       "      <td>0.051680</td>\n",
       "      <td>protein</td>\n",
       "    </tr>\n",
       "    <tr>\n",
       "      <th>3</th>\n",
       "      <td>tr|A0A2I2Y780|A0A2I2Y780_GORGO Zinc finger pro...</td>\n",
       "      <td>tr|A0A087WUV0|A0A087WUV0_HUMAN Uncharacterized...</td>\n",
       "      <td>6</td>\n",
       "      <td>0.046683</td>\n",
       "      <td>protein</td>\n",
       "    </tr>\n",
       "    <tr>\n",
       "      <th>4</th>\n",
       "      <td>tr|A0A2I2Y780|A0A2I2Y780_GORGO Zinc finger pro...</td>\n",
       "      <td>tr|A0A087WUV0|A0A087WUV0_HUMAN Uncharacterized...</td>\n",
       "      <td>7</td>\n",
       "      <td>0.037825</td>\n",
       "      <td>protein</td>\n",
       "    </tr>\n",
       "  </tbody>\n",
       "</table>\n",
       "</div>"
      ],
      "text/plain": [
       "                                                 id1  \\\n",
       "0  tr|A0A2I2Y780|A0A2I2Y780_GORGO Zinc finger pro...   \n",
       "1  tr|A0A2I2Y780|A0A2I2Y780_GORGO Zinc finger pro...   \n",
       "2  tr|A0A2I2Y780|A0A2I2Y780_GORGO Zinc finger pro...   \n",
       "3  tr|A0A2I2Y780|A0A2I2Y780_GORGO Zinc finger pro...   \n",
       "4  tr|A0A2I2Y780|A0A2I2Y780_GORGO Zinc finger pro...   \n",
       "\n",
       "                                                 id2  ksize   jaccard molecule  \n",
       "0  tr|A0A087WUV0|A0A087WUV0_HUMAN Uncharacterized...      3  0.149701  protein  \n",
       "1  tr|A0A087WUV0|A0A087WUV0_HUMAN Uncharacterized...      4  0.071038  protein  \n",
       "2  tr|A0A087WUV0|A0A087WUV0_HUMAN Uncharacterized...      5  0.051680  protein  \n",
       "3  tr|A0A087WUV0|A0A087WUV0_HUMAN Uncharacterized...      6  0.046683  protein  \n",
       "4  tr|A0A087WUV0|A0A087WUV0_HUMAN Uncharacterized...      7  0.037825  protein  "
      ]
     },
     "execution_count": 12,
     "metadata": {},
     "output_type": "execute_result"
    }
   ],
   "source": [
    "%%time\n",
    "\n",
    "\n",
    "def extract_protein_id(x):\n",
    "    return x.split('|')[1]\n",
    "\n",
    "\n",
    "ts = defaultdict(dict)\n",
    "dfs = []\n",
    "for i, parquet in zip(range(1000), tqdm(glob.iglob('*.parquet'))):\n",
    "    prefix = parquet.split('.parquet')[0]\n",
    "#     print(prefix)\n",
    "    try:\n",
    "        t0 = time.time()\n",
    "        df = pd.read_parquet(parquet)\n",
    "        t1 = time.time()\n",
    "    except ArrowIOError:\n",
    "        print(f'Could not read: {parquet}')\n",
    "    ts[prefix]['pandas__read_parquet'] = t1-t0\n",
    "#     print(ts[prefix])\n",
    "    \n",
    "#     t2 = time.time()\n",
    "#     df['protein_id1'] = df.id1.map(extract_protein_id)\n",
    "#     df['protein_id2'] = df.id2.map(extract_protein_id)\n",
    "#     t3 = time.time()\n",
    "#     ts[prefix]['extract_protein_id'] = t3-t2\n",
    "    \n",
    "#     # Merge with OMA output\n",
    "#     t4 = time.time()\n",
    "#     df_oma = df.merge(data_folder, how='outer', on=['protein_id1', 'protein_id2'])\n",
    "#     t5 = time.time()\n",
    "#     ts[prefix]['pandas__merge'] = t5-t4\n",
    "# #     print(df_oma.shape)\n",
    "#     df_oma.head()\n",
    "\n",
    "\n",
    "    dfs.append(df)\n",
    "#     break\n",
    "    \n",
    "times = pd.DataFrame(ts)\n",
    "print(times.shape)\n",
    "# print(f\"times.median(): {times.median()}\")\n",
    "# print(f\"times.mean(): {times.mean()}\")\n",
    "# print(f\"times.std(): {times.std()}\")\n",
    "kmer_similarity = pd.concat(dfs)\n",
    "print(kmer_similarity.shape)\n",
    "kmer_similarity.head()"
   ]
  },
  {
   "cell_type": "code",
   "execution_count": 13,
   "metadata": {},
   "outputs": [
    {
     "data": {
      "text/plain": [
       "'/home/olga/scratch/kmer-hashing/quest-for-orthologs/analysis/2019/transcripton-factors/intermediates'"
      ]
     },
     "execution_count": 13,
     "metadata": {},
     "output_type": "execute_result"
    }
   ],
   "source": [
    "pwd"
   ]
  },
  {
   "cell_type": "code",
   "execution_count": 14,
   "metadata": {},
   "outputs": [],
   "source": [
    "tf_folder = '/home/olga/scratch/kmer-hashing/quest-for-orthologs/analysis/2019/transcripton-factors'"
   ]
  },
  {
   "cell_type": "code",
   "execution_count": 15,
   "metadata": {},
   "outputs": [
    {
     "name": "stdout",
     "output_type": "stream",
     "text": [
      "CPU times: user 12min 31s, sys: 6min 59s, total: 19min 31s\n",
      "Wall time: 18min 52s\n"
     ]
    }
   ],
   "source": [
    "%time kmer_similarity.to_parquet(f'{tf_folder}/kmer_similarity.parquet', index=False)"
   ]
  },
  {
   "cell_type": "markdown",
   "metadata": {},
   "source": [
    "# Convert to Arrow"
   ]
  },
  {
   "cell_type": "code",
   "execution_count": 16,
   "metadata": {},
   "outputs": [
    {
     "name": "stdout",
     "output_type": "stream",
     "text": [
      "(1977656000, 6)\n",
      "CPU times: user 8h 19min 47s, sys: 1min 28s, total: 8h 21min 16s\n",
      "Wall time: 8h 20min 52s\n"
     ]
    },
    {
     "data": {
      "text/html": [
       "<table>\n",
       "<thead>\n",
       "<tr><th>#                            </th><th>id1                                                </th><th>id2                                                </th><th style=\"text-align: right;\">  ksize</th><th style=\"text-align: right;\">  jaccard</th><th>molecule  </th><th style=\"text-align: right;\">  index</th></tr>\n",
       "</thead>\n",
       "<tbody>\n",
       "<tr><td><i style='opacity: 0.6'>0</i></td><td>'tr|A0A2I2Y780|A0A2I2Y780_GORGO Zinc finger prot...</td><td>'tr|A0A087WUV0|A0A087WUV0_HUMAN Uncharacterized ...</td><td style=\"text-align: right;\">      3</td><td style=\"text-align: right;\">0.149701 </td><td>protein   </td><td style=\"text-align: right;\">      0</td></tr>\n",
       "<tr><td><i style='opacity: 0.6'>1</i></td><td>'tr|A0A2I2Y780|A0A2I2Y780_GORGO Zinc finger prot...</td><td>'tr|A0A087WUV0|A0A087WUV0_HUMAN Uncharacterized ...</td><td style=\"text-align: right;\">      4</td><td style=\"text-align: right;\">0.0710383</td><td>protein   </td><td style=\"text-align: right;\">      1</td></tr>\n",
       "<tr><td><i style='opacity: 0.6'>2</i></td><td>'tr|A0A2I2Y780|A0A2I2Y780_GORGO Zinc finger prot...</td><td>'tr|A0A087WUV0|A0A087WUV0_HUMAN Uncharacterized ...</td><td style=\"text-align: right;\">      5</td><td style=\"text-align: right;\">0.0516796</td><td>protein   </td><td style=\"text-align: right;\">      2</td></tr>\n",
       "<tr><td><i style='opacity: 0.6'>3</i></td><td>'tr|A0A2I2Y780|A0A2I2Y780_GORGO Zinc finger prot...</td><td>'tr|A0A087WUV0|A0A087WUV0_HUMAN Uncharacterized ...</td><td style=\"text-align: right;\">      6</td><td style=\"text-align: right;\">0.046683 </td><td>protein   </td><td style=\"text-align: right;\">      3</td></tr>\n",
       "<tr><td><i style='opacity: 0.6'>4</i></td><td>'tr|A0A2I2Y780|A0A2I2Y780_GORGO Zinc finger prot...</td><td>'tr|A0A087WUV0|A0A087WUV0_HUMAN Uncharacterized ...</td><td style=\"text-align: right;\">      7</td><td style=\"text-align: right;\">0.0378251</td><td>protein   </td><td style=\"text-align: right;\">      4</td></tr>\n",
       "<tr><td><i style='opacity: 0.6'>5</i></td><td>'tr|A0A2I2Y780|A0A2I2Y780_GORGO Zinc finger prot...</td><td>'tr|A0A087WUV0|A0A087WUV0_HUMAN Uncharacterized ...</td><td style=\"text-align: right;\">      8</td><td style=\"text-align: right;\">0.0322581</td><td>protein   </td><td style=\"text-align: right;\">      5</td></tr>\n",
       "<tr><td><i style='opacity: 0.6'>6</i></td><td>'tr|A0A2I2Y780|A0A2I2Y780_GORGO Zinc finger prot...</td><td>'tr|A0A087WUV0|A0A087WUV0_HUMAN Uncharacterized ...</td><td style=\"text-align: right;\">      9</td><td style=\"text-align: right;\">0.0293454</td><td>protein   </td><td style=\"text-align: right;\">      6</td></tr>\n",
       "<tr><td><i style='opacity: 0.6'>7</i></td><td>'tr|A0A2I2Y780|A0A2I2Y780_GORGO Zinc finger prot...</td><td>'tr|A0A087WUV0|A0A087WUV0_HUMAN Uncharacterized ...</td><td style=\"text-align: right;\">     10</td><td style=\"text-align: right;\">0.0244444</td><td>protein   </td><td style=\"text-align: right;\">      7</td></tr>\n",
       "<tr><td><i style='opacity: 0.6'>8</i></td><td>'tr|A0A2I2Y780|A0A2I2Y780_GORGO Zinc finger prot...</td><td>'tr|A0A087WUV0|A0A087WUV0_HUMAN Uncharacterized ...</td><td style=\"text-align: right;\">     11</td><td style=\"text-align: right;\">0.0197802</td><td>protein   </td><td style=\"text-align: right;\">      8</td></tr>\n",
       "<tr><td><i style='opacity: 0.6'>9</i></td><td>'tr|A0A2I2Y780|A0A2I2Y780_GORGO Zinc finger prot...</td><td>'tr|A0A087WUV0|A0A087WUV0_HUMAN Uncharacterized ...</td><td style=\"text-align: right;\">     12</td><td style=\"text-align: right;\">0.0152505</td><td>protein   </td><td style=\"text-align: right;\">      9</td></tr>\n",
       "</tbody>\n",
       "</table>"
      ],
      "text/plain": [
       "  #  id1                                                  id2                                                    ksize    jaccard  molecule      index\n",
       "  0  'tr|A0A2I2Y780|A0A2I2Y780_GORGO Zinc finger prot...  'tr|A0A087WUV0|A0A087WUV0_HUMAN Uncharacterized ...        3  0.149701   protein           0\n",
       "  1  'tr|A0A2I2Y780|A0A2I2Y780_GORGO Zinc finger prot...  'tr|A0A087WUV0|A0A087WUV0_HUMAN Uncharacterized ...        4  0.0710383  protein           1\n",
       "  2  'tr|A0A2I2Y780|A0A2I2Y780_GORGO Zinc finger prot...  'tr|A0A087WUV0|A0A087WUV0_HUMAN Uncharacterized ...        5  0.0516796  protein           2\n",
       "  3  'tr|A0A2I2Y780|A0A2I2Y780_GORGO Zinc finger prot...  'tr|A0A087WUV0|A0A087WUV0_HUMAN Uncharacterized ...        6  0.046683   protein           3\n",
       "  4  'tr|A0A2I2Y780|A0A2I2Y780_GORGO Zinc finger prot...  'tr|A0A087WUV0|A0A087WUV0_HUMAN Uncharacterized ...        7  0.0378251  protein           4\n",
       "  5  'tr|A0A2I2Y780|A0A2I2Y780_GORGO Zinc finger prot...  'tr|A0A087WUV0|A0A087WUV0_HUMAN Uncharacterized ...        8  0.0322581  protein           5\n",
       "  6  'tr|A0A2I2Y780|A0A2I2Y780_GORGO Zinc finger prot...  'tr|A0A087WUV0|A0A087WUV0_HUMAN Uncharacterized ...        9  0.0293454  protein           6\n",
       "  7  'tr|A0A2I2Y780|A0A2I2Y780_GORGO Zinc finger prot...  'tr|A0A087WUV0|A0A087WUV0_HUMAN Uncharacterized ...       10  0.0244444  protein           7\n",
       "  8  'tr|A0A2I2Y780|A0A2I2Y780_GORGO Zinc finger prot...  'tr|A0A087WUV0|A0A087WUV0_HUMAN Uncharacterized ...       11  0.0197802  protein           8\n",
       "  9  'tr|A0A2I2Y780|A0A2I2Y780_GORGO Zinc finger prot...  'tr|A0A087WUV0|A0A087WUV0_HUMAN Uncharacterized ...       12  0.0152505  protein           9"
      ]
     },
     "execution_count": 16,
     "metadata": {},
     "output_type": "execute_result"
    }
   ],
   "source": [
    "%%time\n",
    "import vaex\n",
    "\n",
    "kmer_similarity_vaex = vaex.from_pandas(kmer_similarity)\n",
    "print(kmer_similarity_vaex.shape)\n",
    "kmer_similarity_vaex.head()"
   ]
  },
  {
   "cell_type": "code",
   "execution_count": 17,
   "metadata": {},
   "outputs": [
    {
     "data": {
      "text/html": [
       "<table>\n",
       "<thead>\n",
       "<tr><th>#                                        </th><th>id1                                                </th><th>id2                                                </th><th>ksize  </th><th>jaccard             </th><th>molecule  </th><th>index  </th></tr>\n",
       "</thead>\n",
       "<tbody>\n",
       "<tr><td><i style='opacity: 0.6'>0</i>            </td><td>'tr|A0A2I2Y780|A0A2I2Y780_GORGO Zinc finger prot...</td><td>'tr|A0A087WUV0|A0A087WUV0_HUMAN Uncharacterized ...</td><td>3      </td><td>0.1497005988023952  </td><td>protein   </td><td>0      </td></tr>\n",
       "<tr><td><i style='opacity: 0.6'>1</i>            </td><td>'tr|A0A2I2Y780|A0A2I2Y780_GORGO Zinc finger prot...</td><td>'tr|A0A087WUV0|A0A087WUV0_HUMAN Uncharacterized ...</td><td>4      </td><td>0.07103825136612021 </td><td>protein   </td><td>1      </td></tr>\n",
       "<tr><td><i style='opacity: 0.6'>2</i>            </td><td>'tr|A0A2I2Y780|A0A2I2Y780_GORGO Zinc finger prot...</td><td>'tr|A0A087WUV0|A0A087WUV0_HUMAN Uncharacterized ...</td><td>5      </td><td>0.05167958656330749 </td><td>protein   </td><td>2      </td></tr>\n",
       "<tr><td><i style='opacity: 0.6'>3</i>            </td><td>'tr|A0A2I2Y780|A0A2I2Y780_GORGO Zinc finger prot...</td><td>'tr|A0A087WUV0|A0A087WUV0_HUMAN Uncharacterized ...</td><td>6      </td><td>0.04668304668304668 </td><td>protein   </td><td>3      </td></tr>\n",
       "<tr><td><i style='opacity: 0.6'>4</i>            </td><td>'tr|A0A2I2Y780|A0A2I2Y780_GORGO Zinc finger prot...</td><td>'tr|A0A087WUV0|A0A087WUV0_HUMAN Uncharacterized ...</td><td>7      </td><td>0.037825059101654845</td><td>protein   </td><td>4      </td></tr>\n",
       "<tr><td>...                                      </td><td>...                                                </td><td>...                                                </td><td>...    </td><td>...                 </td><td>...       </td><td>...    </td></tr>\n",
       "<tr><td><i style='opacity: 0.6'>1,977,655,995</i></td><td>'sp|Q6P8Z1|MYCB_MOUSE Protein B-Myc OS=Mus muscu...</td><td>'tr|K7ELQ4|K7ELQ4_HUMAN Pro-FMRFamide-related ne...</td><td>41     </td><td>0.0                 </td><td>hsdm17    </td><td>339    </td></tr>\n",
       "<tr><td><i style='opacity: 0.6'>1,977,655,996</i></td><td>'sp|Q6P8Z1|MYCB_MOUSE Protein B-Myc OS=Mus muscu...</td><td>'tr|K7ELQ4|K7ELQ4_HUMAN Pro-FMRFamide-related ne...</td><td>42     </td><td>0.0                 </td><td>hsdm17    </td><td>340    </td></tr>\n",
       "<tr><td><i style='opacity: 0.6'>1,977,655,997</i></td><td>'sp|Q6P8Z1|MYCB_MOUSE Protein B-Myc OS=Mus muscu...</td><td>'tr|K7ELQ4|K7ELQ4_HUMAN Pro-FMRFamide-related ne...</td><td>43     </td><td>0.0                 </td><td>hsdm17    </td><td>341    </td></tr>\n",
       "<tr><td><i style='opacity: 0.6'>1,977,655,998</i></td><td>'sp|Q6P8Z1|MYCB_MOUSE Protein B-Myc OS=Mus muscu...</td><td>'tr|K7ELQ4|K7ELQ4_HUMAN Pro-FMRFamide-related ne...</td><td>44     </td><td>0.0                 </td><td>hsdm17    </td><td>342    </td></tr>\n",
       "<tr><td><i style='opacity: 0.6'>1,977,655,999</i></td><td>'sp|Q6P8Z1|MYCB_MOUSE Protein B-Myc OS=Mus muscu...</td><td>'tr|K7ELQ4|K7ELQ4_HUMAN Pro-FMRFamide-related ne...</td><td>45     </td><td>0.0                 </td><td>hsdm17    </td><td>343    </td></tr>\n",
       "</tbody>\n",
       "</table>"
      ],
      "text/plain": [
       "#              id1                                                  id2                                                  ksize    jaccard               molecule    index\n",
       "0              'tr|A0A2I2Y780|A0A2I2Y780_GORGO Zinc finger prot...  'tr|A0A087WUV0|A0A087WUV0_HUMAN Uncharacterized ...  3        0.1497005988023952    protein     0\n",
       "1              'tr|A0A2I2Y780|A0A2I2Y780_GORGO Zinc finger prot...  'tr|A0A087WUV0|A0A087WUV0_HUMAN Uncharacterized ...  4        0.07103825136612021   protein     1\n",
       "2              'tr|A0A2I2Y780|A0A2I2Y780_GORGO Zinc finger prot...  'tr|A0A087WUV0|A0A087WUV0_HUMAN Uncharacterized ...  5        0.05167958656330749   protein     2\n",
       "3              'tr|A0A2I2Y780|A0A2I2Y780_GORGO Zinc finger prot...  'tr|A0A087WUV0|A0A087WUV0_HUMAN Uncharacterized ...  6        0.04668304668304668   protein     3\n",
       "4              'tr|A0A2I2Y780|A0A2I2Y780_GORGO Zinc finger prot...  'tr|A0A087WUV0|A0A087WUV0_HUMAN Uncharacterized ...  7        0.037825059101654845  protein     4\n",
       "...            ...                                                  ...                                                  ...      ...                   ...         ...\n",
       "1,977,655,995  'sp|Q6P8Z1|MYCB_MOUSE Protein B-Myc OS=Mus muscu...  'tr|K7ELQ4|K7ELQ4_HUMAN Pro-FMRFamide-related ne...  41       0.0                   hsdm17      339\n",
       "1,977,655,996  'sp|Q6P8Z1|MYCB_MOUSE Protein B-Myc OS=Mus muscu...  'tr|K7ELQ4|K7ELQ4_HUMAN Pro-FMRFamide-related ne...  42       0.0                   hsdm17      340\n",
       "1,977,655,997  'sp|Q6P8Z1|MYCB_MOUSE Protein B-Myc OS=Mus muscu...  'tr|K7ELQ4|K7ELQ4_HUMAN Pro-FMRFamide-related ne...  43       0.0                   hsdm17      341\n",
       "1,977,655,998  'sp|Q6P8Z1|MYCB_MOUSE Protein B-Myc OS=Mus muscu...  'tr|K7ELQ4|K7ELQ4_HUMAN Pro-FMRFamide-related ne...  44       0.0                   hsdm17      342\n",
       "1,977,655,999  'sp|Q6P8Z1|MYCB_MOUSE Protein B-Myc OS=Mus muscu...  'tr|K7ELQ4|K7ELQ4_HUMAN Pro-FMRFamide-related ne...  45       0.0                   hsdm17      343"
      ]
     },
     "execution_count": 17,
     "metadata": {},
     "output_type": "execute_result"
    }
   ],
   "source": [
    "kmer_similarity_vaex"
   ]
  },
  {
   "cell_type": "markdown",
   "metadata": {},
   "source": [
    "## Write vaex files"
   ]
  },
  {
   "cell_type": "code",
   "execution_count": null,
   "metadata": {},
   "outputs": [],
   "source": [
    "%%time\n",
    "kmer_similarity_vaex.export_hdf5(f\"{tf_folder}/kmer_similarity.hdf5\")"
   ]
  },
  {
   "cell_type": "code",
   "execution_count": null,
   "metadata": {},
   "outputs": [],
   "source": [
    "%%time\n",
    "kmer_similarity_vaex.export_arrow(f\"{tf_folder}/kmer_similarity.arrow\")"
   ]
  },
  {
   "cell_type": "markdown",
   "metadata": {},
   "source": [
    "# Read parquet files"
   ]
  },
  {
   "cell_type": "code",
   "execution_count": null,
   "metadata": {},
   "outputs": [],
   "source": [
    "%%time\n",
    "\n",
    "\n",
    "def extract_protein_id(x):\n",
    "    return x.split('|')[1]\n",
    "\n",
    "\n",
    "ts = defaultdict(dict)\n",
    "dfs = []\n",
    "for parquet in tqdm(glob.iglob('*.parquet')):\n",
    "    prefix = parquet.split('.parquet')[0]\n",
    "#     print(prefix)\n",
    "    try:\n",
    "        t0 = time.time()\n",
    "        df = pd.read_parquet(parquet)\n",
    "        t1 = time.time()\n",
    "    except ArrowIOError:\n",
    "        print(f'Could not read: {parquet}')\n",
    "    ts[prefix]['pandas__read_parquet'] = t1-t0\n",
    "#     print(ts[prefix])\n",
    "    \n",
    "#     t2 = time.time()\n",
    "#     df['protein_id1'] = df.id1.map(extract_protein_id)\n",
    "#     df['protein_id2'] = df.id2.map(extract_protein_id)\n",
    "#     t3 = time.time()\n",
    "#     ts[prefix]['extract_protein_id'] = t3-t2\n",
    "    \n",
    "#     # Merge with OMA output\n",
    "#     t4 = time.time()\n",
    "#     df_oma = df.merge(data_folder, how='outer', on=['protein_id1', 'protein_id2'])\n",
    "#     t5 = time.time()\n",
    "#     ts[prefix]['pandas__merge'] = t5-t4\n",
    "# #     print(df_oma.shape)\n",
    "#     df_oma.head()\n",
    "\n",
    "\n",
    "    dfs.append(df)\n",
    "#     break\n",
    "    \n",
    "times = pd.DataFrame(ts)\n",
    "print(times.shape)\n",
    "print(f\"times.median(): {times.median()}\")\n",
    "print(f\"times.mean(): {times.mean()}\")\n",
    "print(f\"times.std(): {times.std()}\")\n",
    "kmer_similarity = pd.concat(dfs)\n",
    "print(kmer_similarity.shape)\n",
    "kmer_similarity.head()"
   ]
  },
  {
   "cell_type": "markdown",
   "metadata": {},
   "source": [
    "## stop here"
   ]
  },
  {
   "cell_type": "code",
   "execution_count": null,
   "metadata": {},
   "outputs": [],
   "source": [
    "assert False"
   ]
  },
  {
   "cell_type": "markdown",
   "metadata": {},
   "source": [
    "# Playing around with stuf"
   ]
  },
  {
   "cell_type": "code",
   "execution_count": null,
   "metadata": {},
   "outputs": [],
   "source": []
  },
  {
   "cell_type": "code",
   "execution_count": null,
   "metadata": {},
   "outputs": [],
   "source": [
    "    t2 = time.time()\n",
    "    df['protein_id1'] = df.id1.map(extract_protein_id)\n",
    "    df['protein_id2'] = df.id2.map(extract_protein_id)\n",
    "    t3 = time.time()\n",
    "    ts[prefix]['extract_protein_id'] = t3-t2"
   ]
  },
  {
   "cell_type": "code",
   "execution_count": null,
   "metadata": {},
   "outputs": [],
   "source": [
    "df.head()"
   ]
  },
  {
   "cell_type": "code",
   "execution_count": null,
   "metadata": {},
   "outputs": [],
   "source": [
    "df.shape"
   ]
  },
  {
   "cell_type": "code",
   "execution_count": null,
   "metadata": {},
   "outputs": [],
   "source": [
    "df_merged = df.merge(tfs, left_on='protein_id1', right_on='uniprot_id')\n",
    "print(df_merged.shape)"
   ]
  },
  {
   "cell_type": "code",
   "execution_count": null,
   "metadata": {},
   "outputs": [],
   "source": [
    "df_merged.head()"
   ]
  },
  {
   "cell_type": "code",
   "execution_count": null,
   "metadata": {},
   "outputs": [],
   "source": [
    "df_merged.tail()"
   ]
  },
  {
   "cell_type": "code",
   "execution_count": null,
   "metadata": {},
   "outputs": [],
   "source": [
    "df.merge()"
   ]
  },
  {
   "cell_type": "markdown",
   "metadata": {},
   "source": [
    "# Convert to arrow"
   ]
  },
  {
   "cell_type": "code",
   "execution_count": null,
   "metadata": {},
   "outputs": [],
   "source": [
    "%%time\n",
    "\n",
    "\n",
    "def extract_protein_id(x):\n",
    "    return x.split('|')[1]\n",
    "\n",
    "\n",
    "ts = defaultdict(dict)\n",
    "dfs = []\n",
    "for parquet in glob.iglob('*.parquet'):\n",
    "    prefix = parquet.split('.parquet')[0]\n",
    "    print(prefix)\n",
    "    try:\n",
    "        t0 = time.time()\n",
    "        df = pd.read_parquet(parquet)\n",
    "        t1 = time.time()\n",
    "    except ArrowIOError:\n",
    "        print(f'Could not read: {parquet}')\n",
    "    ts[prefix]['pandas__read_parquet'] = t1-t0\n",
    "    print(ts[prefix])\n",
    "    \n",
    "#     t2 = time.time()\n",
    "#     df['protein_id1'] = df.id1.map(extract_protein_id)\n",
    "#     df['protein_id2'] = df.id2.map(extract_protein_id)\n",
    "#     t3 = time.time()\n",
    "#     ts[prefix]['extract_protein_id'] = t3-t2\n",
    "    \n",
    "#     # Merge with OMA output\n",
    "#     t4 = time.time()\n",
    "#     df_oma = df.merge(oma, how='outer', on=['protein_id1', 'protein_id2'])\n",
    "#     t5 = time.time()\n",
    "#     ts[prefix]['pandas__merge'] = t5-t4\n",
    "# #     print(df_oma.shape)\n",
    "# #     df_oma.head()\n",
    "\n",
    "    t6 = time.time()\n",
    "    df_vx = vaex.from_pandas(df)\n",
    "    t7 = time.time()\n",
    "    ts[prefix]['vaex__from_pandas'] = t7 - t6\n",
    "    print(ts[prefix])\n",
    "    \n",
    "    arrow = f'{arrow_folder}/{prefix}.arrow'\n",
    "\n",
    "    t8 = time.time()\n",
    "    df_vx.export_arrow(arrow, progress=True)\n",
    "    t9 = time.time()\n",
    "    ts[prefix]['vaex__export_arrow'] = t9 - t8\n",
    "    print(ts[prefix])\n",
    "#     del df\n",
    "#     del df_vx\n",
    "#     dfs.append(df)\n",
    "    break\n",
    "    \n",
    "times = pd.DataFrame(ts)\n",
    "print(times.shape)\n",
    "print(f\"times.median(): {times.median()}\")\n",
    "print(f\"times.mean(): {times.mean()}\")\n",
    "print(f\"times.std(): {times.std()}\")\n",
    "# kmer_similarity = pd.concat(dfs)\n",
    "# print(kmer_similarity.shape)\n",
    "# kmer_similarity.head()"
   ]
  },
  {
   "cell_type": "code",
   "execution_count": null,
   "metadata": {},
   "outputs": [],
   "source": [
    "df_vx.head()"
   ]
  },
  {
   "cell_type": "code",
   "execution_count": null,
   "metadata": {},
   "outputs": [],
   "source": [
    "prefix"
   ]
  },
  {
   "cell_type": "markdown",
   "metadata": {},
   "source": [
    "## Try exporting to different formats"
   ]
  },
  {
   "cell_type": "code",
   "execution_count": null,
   "metadata": {},
   "outputs": [],
   "source": [
    "hdf5 = f'/home/olga/scratch/{prefix}.hdf5'\n",
    "%time df_vx.export_hdf5(hdf5)"
   ]
  },
  {
   "cell_type": "code",
   "execution_count": null,
   "metadata": {},
   "outputs": [],
   "source": [
    "! ls -lha $hdf5"
   ]
  },
  {
   "cell_type": "code",
   "execution_count": null,
   "metadata": {},
   "outputs": [],
   "source": [
    "%time from_hdf5 = vaex.open(hdf5)\n",
    "from_hdf5.head()"
   ]
  },
  {
   "cell_type": "code",
   "execution_count": null,
   "metadata": {},
   "outputs": [],
   "source": [
    "arrow = f'/home/olga/scratch/{prefix}.arrow'\n",
    "%time df_vx.export_arrow(arrow)\n",
    "\n",
    "! ls -lha $arrow"
   ]
  },
  {
   "cell_type": "code",
   "execution_count": null,
   "metadata": {},
   "outputs": [],
   "source": []
  },
  {
   "cell_type": "code",
   "execution_count": null,
   "metadata": {},
   "outputs": [],
   "source": [
    "%time from_arrow = vaex.open(arrow)\n",
    "from_arrow.head()"
   ]
  },
  {
   "cell_type": "code",
   "execution_count": null,
   "metadata": {},
   "outputs": [],
   "source": [
    "500 * 2000 / 60 / 60"
   ]
  },
  {
   "cell_type": "markdown",
   "metadata": {},
   "source": [
    "277 hours???"
   ]
  },
  {
   "cell_type": "code",
   "execution_count": null,
   "metadata": {},
   "outputs": [],
   "source": [
    "ts"
   ]
  },
  {
   "cell_type": "code",
   "execution_count": null,
   "metadata": {},
   "outputs": [],
   "source": [
    "df.shape"
   ]
  },
  {
   "cell_type": "code",
   "execution_count": null,
   "metadata": {},
   "outputs": [],
   "source": [
    "len(dfs)"
   ]
  },
  {
   "cell_type": "code",
   "execution_count": null,
   "metadata": {},
   "outputs": [],
   "source": [
    "# kmer_similarity = pd.concat(dfs)"
   ]
  },
  {
   "cell_type": "code",
   "execution_count": null,
   "metadata": {},
   "outputs": [],
   "source": [
    "print(kmer_similarity.shape)\n",
    "kmer_similarity.head()"
   ]
  },
  {
   "cell_type": "code",
   "execution_count": null,
   "metadata": {},
   "outputs": [],
   "source": [
    "f'{len(kmer_similarity.index):,}'"
   ]
  },
  {
   "cell_type": "markdown",
   "metadata": {},
   "source": [
    "# Convert to vaex for speed"
   ]
  },
  {
   "cell_type": "code",
   "execution_count": null,
   "metadata": {},
   "outputs": [],
   "source": [
    "import vaex as vx"
   ]
  },
  {
   "cell_type": "code",
   "execution_count": null,
   "metadata": {},
   "outputs": [],
   "source": [
    "parquet"
   ]
  },
  {
   "cell_type": "code",
   "execution_count": null,
   "metadata": {},
   "outputs": [],
   "source": [
    "vaex.from_arrow_table(parquet)"
   ]
  },
  {
   "cell_type": "markdown",
   "metadata": {},
   "source": [
    "# Clean data"
   ]
  },
  {
   "cell_type": "markdown",
   "metadata": {},
   "source": [
    "## Extract protein ids from full name"
   ]
  },
  {
   "cell_type": "markdown",
   "metadata": {},
   "source": [
    "### Get unique ids as making a map on unique ids is faster"
   ]
  },
  {
   "cell_type": "code",
   "execution_count": null,
   "metadata": {},
   "outputs": [],
   "source": [
    "%%time\n",
    "%time id1 = kmer_similarity.id1.unique()\n",
    "%time id2 = kmer_similarity.id2.unique()\n"
   ]
  },
  {
   "cell_type": "code",
   "execution_count": null,
   "metadata": {},
   "outputs": [],
   "source": [
    "all_ids = set(id1) + set(id2)\n",
    "len(all_ids)"
   ]
  },
  {
   "cell_type": "code",
   "execution_count": null,
   "metadata": {},
   "outputs": [],
   "source": [
    "%%time\n",
    "\n",
    "\n",
    "id1_proteins = {x: extract_protein_id(x) for x in id1}\n",
    "id2_proteins = {x: extract_protein_id(x) for x in id2}\n",
    "\n",
    "kmer_similarity['protein_id1'] = kmer_similarity.id1.map(extract_protein_id)\n",
    "kmer_similarity['protein_id2'] = kmer_similarity.id2.map(extract_protein_id)\n",
    "# kmer_similarity.head()"
   ]
  },
  {
   "cell_type": "markdown",
   "metadata": {},
   "source": [
    "## How many of different proteins are there"
   ]
  },
  {
   "cell_type": "code",
   "execution_count": null,
   "metadata": {},
   "outputs": [],
   "source": [
    "kmer_similarity.protein_id1.nunique()"
   ]
  },
  {
   "cell_type": "code",
   "execution_count": null,
   "metadata": {},
   "outputs": [],
   "source": [
    "kmer_similarity.protein_id2.nunique()"
   ]
  },
  {
   "cell_type": "markdown",
   "metadata": {},
   "source": [
    "## Check where jaccard is greater than 0"
   ]
  },
  {
   "cell_type": "code",
   "execution_count": null,
   "metadata": {},
   "outputs": [],
   "source": [
    "(kmer_similarity.jaccard > 0).sum()"
   ]
  },
  {
   "cell_type": "code",
   "execution_count": null,
   "metadata": {},
   "outputs": [],
   "source": [
    "kmer_similarity.query('jaccard > 0.8')"
   ]
  },
  {
   "cell_type": "code",
   "execution_count": null,
   "metadata": {},
   "outputs": [],
   "source": [
    "(kmer_similarity.jaccard > 0.8).sum()"
   ]
  },
  {
   "cell_type": "raw",
   "metadata": {},
   "source": []
  }
 ],
 "metadata": {
  "kernelspec": {
   "display_name": "Python [conda env:khtools--encodings-compare-cli--py37]",
   "language": "python",
   "name": "conda-env-khtools--encodings-compare-cli--py37-py"
  },
  "language_info": {
   "codemirror_mode": {
    "name": "ipython",
    "version": 3
   },
   "file_extension": ".py",
   "mimetype": "text/x-python",
   "name": "python",
   "nbconvert_exporter": "python",
   "pygments_lexer": "ipython3",
   "version": "3.7.6"
  }
 },
 "nbformat": 4,
 "nbformat_minor": 4
}
