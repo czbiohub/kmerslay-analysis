{
 "cells": [
  {
   "cell_type": "code",
   "execution_count": 1,
   "metadata": {},
   "outputs": [],
   "source": [
    "import pandas as pd\n",
    "import numpy as np\n",
    "import seaborn as sns"
   ]
  },
  {
   "cell_type": "code",
   "execution_count": 33,
   "metadata": {},
   "outputs": [],
   "source": [
    "alphabet_sizes = np.arange(2, 21).astype(float)\n",
    "alphabet_sizes\n",
    "\n",
    "read_length = 50\n",
    "ksize = 10\n",
    "alphabet_size = 2"
   ]
  },
  {
   "cell_type": "markdown",
   "metadata": {},
   "source": [
    "This assumes that k-mers are [iid](https://en.wikipedia.org/wiki/Independent_and_identically_distributed_random_variables)\n",
    "\n",
    "$$\n",
    "\\begin{equation}\n",
    "\\left( \\frac{1}{\\left| \\Sigma \\right|^k \\right)^{L - k + 1}\n",
    "\\end{equation}\n",
    "$$"
   ]
  },
  {
   "cell_type": "code",
   "execution_count": 34,
   "metadata": {},
   "outputs": [
    {
     "data": {
      "text/plain": [
       "3.7818280418450374e-124"
      ]
     },
     "execution_count": 34,
     "metadata": {},
     "output_type": "execute_result"
    }
   ],
   "source": [
    "def probability_random_kmers_from_read_iid(read_length, ksize, alphabet_size):\n",
    "    prob = (1/(alphabet_size ** ksize)) ** (read_length - ksize + 1)\n",
    "    return prob\n",
    "\n",
    "probability_random_kmers_from_read_iid(read_length, ksize, alphabet_size)"
   ]
  },
  {
   "cell_type": "code",
   "execution_count": 35,
   "metadata": {},
   "outputs": [
    {
     "data": {
      "text/plain": [
       "array([4.48415509e-044, 1.97033159e-069, 2.01076468e-087, 2.23007452e-101,\n",
       "       8.83527242e-113, 2.02247070e-122, 9.01658068e-131, 3.88220657e-138,\n",
       "       1.00000000e-144, 1.09509889e-150, 3.96187318e-156, 3.90982454e-161,\n",
       "       9.06907226e-166, 4.39398627e-170, 4.04317461e-174, 6.53665135e-178,\n",
       "       1.74084164e-181, 7.23571517e-185, 4.48415509e-188])"
      ]
     },
     "execution_count": 35,
     "metadata": {},
     "output_type": "execute_result"
    }
   ],
   "source": [
    "probability_random_kmers_from_read(50, 3, alphabet_sizes)"
   ]
  },
  {
   "cell_type": "markdown",
   "metadata": {},
   "source": [
    "Given the first k-mer can guess the second one with probability \\(\\frac{1}{|\\Sigma|}\\)\n",
    "\n",
    "\n",
    "$$\n",
    "\\begin{equation}\n",
    "\\frac{1}{\\left| \\Sigma \\right|^k * \\left( \\frac{1}{\\left| \\Sigma \\right| \\right)^{L - k + 1}\n",
    "\\end{equation}\n",
    "$$"
   ]
  },
  {
   "cell_type": "code",
   "execution_count": 36,
   "metadata": {},
   "outputs": [
    {
     "data": {
      "text/plain": [
       "8.881784197001252e-16"
      ]
     },
     "execution_count": 36,
     "metadata": {},
     "output_type": "execute_result"
    }
   ],
   "source": [
    "def probability_random_kmers_from_read_non_iid_v1(read_length, ksize, alphabet_size):\n",
    "#     first_term = 1/(alphabet_size ** ksize)\n",
    "    prob = 1/(alphabet_size ** ksize) * 1/(alphabet_size**(read_length - ksize))\n",
    "    return prob\n",
    "\n",
    "probability_random_kmers_from_read_non_iid_v1(read_length, ksize, alphabet_size)"
   ]
  },
  {
   "cell_type": "code",
   "execution_count": 37,
   "metadata": {},
   "outputs": [
    {
     "data": {
      "text/plain": [
       "0.01953125"
      ]
     },
     "execution_count": 37,
     "metadata": {},
     "output_type": "execute_result"
    }
   ],
   "source": [
    "def probability_random_kmers_from_read_non_iid_v2(read_length, ksize, alphabet_size):\n",
    "    prob = (read_length - ksize) / (alphabet_size ** (ksize + 1))\n",
    "    return prob\n",
    "\n",
    "probability_random_kmers_from_read_non_iid_v2(read_length, ksize, alphabet_size)"
   ]
  },
  {
   "cell_type": "code",
   "execution_count": 43,
   "metadata": {},
   "outputs": [
    {
     "data": {
      "text/plain": [
       "8.881784197001252e-16"
      ]
     },
     "execution_count": 43,
     "metadata": {},
     "output_type": "execute_result"
    }
   ],
   "source": [
    "def probability_random_kmers_from_read_non_iid_v3(read_length, ksize, alphabet_size):\n",
    "#     first_term = 1/(alphabet_size ** ksize)\n",
    "    prob = 1/(alphabet_size**(read_length))\n",
    "    return prob\n",
    "\n",
    "probability_random_kmers_from_read_non_iid_v3(read_length, ksize, alphabet_size)"
   ]
  },
  {
   "cell_type": "code",
   "execution_count": 44,
   "metadata": {},
   "outputs": [
    {
     "data": {
      "text/plain": [
       "0.25"
      ]
     },
     "execution_count": 44,
     "metadata": {},
     "output_type": "execute_result"
    }
   ],
   "source": [
    "probability_random_kmers_from_read_non_iid_v3(2, ksize, alphabet_size)"
   ]
  },
  {
   "cell_type": "code",
   "execution_count": null,
   "metadata": {},
   "outputs": [],
   "source": []
  }
 ],
 "metadata": {
  "kernelspec": {
   "display_name": "Python [conda env:parquet]",
   "language": "python",
   "name": "conda-env-parquet-py"
  },
  "language_info": {
   "codemirror_mode": {
    "name": "ipython",
    "version": 3
   },
   "file_extension": ".py",
   "mimetype": "text/x-python",
   "name": "python",
   "nbconvert_exporter": "python",
   "pygments_lexer": "ipython3",
   "version": "3.7.3"
  }
 },
 "nbformat": 4,
 "nbformat_minor": 4
}
