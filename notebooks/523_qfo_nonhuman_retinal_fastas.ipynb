{
 "cells": [
  {
   "cell_type": "code",
   "execution_count": null,
   "metadata": {},
   "outputs": [],
   "source": [
    "from glob import iglob\n",
    "import os\n",
    "\n",
    "import pandas as pd\n",
    "import screed\n",
    "import seaborn as sns\n",
    "from tqdm import tqdm"
   ]
  },
  {
   "cell_type": "markdown",
   "metadata": {},
   "source": [
    "# Change to Quest for Orthologs 2019 data directory"
   ]
  },
  {
   "cell_type": "code",
   "execution_count": 2,
   "metadata": {},
   "outputs": [
    {
     "name": "stdout",
     "output_type": "stream",
     "text": [
      "/mnt/data_sm/olga/kmer-hashing/quest-for-orthologs/data/2019\n"
     ]
    }
   ],
   "source": [
    "cd ~/data_sm/kmer-hashing/quest-for-orthologs/data/2019/"
   ]
  },
  {
   "cell_type": "code",
   "execution_count": 3,
   "metadata": {},
   "outputs": [
    {
     "name": "stdout",
     "output_type": "stream",
     "text": [
      "total 2.7G\n",
      "drwxr-xr-x 5 olga root 4.0K Jan 15 18:10 \u001b[0m\u001b[01;34m.\u001b[0m/\n",
      "drwxr-xr-x 3 olga root 4.0K Dec 25 17:48 \u001b[01;34m..\u001b[0m/\n",
      "drwxr-xr-x 5 olga czb  4.0K Dec 26 19:44 \u001b[01;34mArchaea\u001b[0m/\n",
      "drwxr-xr-x 5 olga czb   16K Dec 26 19:44 \u001b[01;34mBacteria\u001b[0m/\n",
      "drwxr-xr-x 9 olga czb   32K Jan 10 15:35 \u001b[01;34mEukaryota\u001b[0m/\n",
      "-rw-r--r-- 1 olga czb  754K Jan 10 07:50 human_transcription_factors_with_uniprot_ids.csv\n",
      "-rw-r--r-- 1 olga czb   68K Jan 10 07:50 \u001b[01;31mhuman_transcription_factors_with_uniprot_ids.csv.gz\u001b[0m\n",
      "-rw-r--r-- 1 olga czb  133K Jan 10 07:50 human_transcription_factors_with_uniprot_ids.parquet\n",
      "-rw-r--r-- 1 olga czb   76K Jan 15 10:57 human_visual_transduction_with_uniprot_ids.csv\n",
      "-rw-r--r-- 1 olga czb   19K Jan 15 10:57 \u001b[01;31mhuman_visual_transduction_with_uniprot_ids.csv.gz\u001b[0m\n",
      "-rw-r--r-- 1 olga czb   28K Jan 15 10:57 human_visual_transduction_with_uniprot_ids.parquet\n",
      "-rw-r--r-- 1 olga czb   64M Jan 10 07:43 opisthokont_not_human_transcription_factors_ensembl_compara.csv\n",
      "-rw-r--r-- 1 olga czb  1.8M Jan 10 08:02 \u001b[01;31mopisthokont_not_human_transcription_factors_ensembl_compara_merged_uniprot.csv.gz\u001b[0m\u001b[K\n",
      "-rw-r--r-- 1 olga czb  2.2M Jan 10 08:02 opisthokont_not_human_transcription_factors_ensembl_compara_merged_uniprot.parquet\n",
      "-rw-r--r-- 1 olga czb   12M Jan 10 07:43 opisthokont_not_human_transcription_factors_ensembl_compara.parquet\n",
      "-rw-r--r-- 1 olga czb  3.4M Jan 15 18:10 opisthokont_not_human_visual_system_ensembl_compara.csv\n",
      "-rw-r--r-- 1 olga czb  431K Jan 15 18:10 opisthokont_not_human_visual_system_ensembl_compara.parquet\n",
      "-rw-r--r-- 1 olga czb   661 Jan  8 17:33 qfo_human_vs_opisthokont_tfs.sh\n",
      "-rw-r--r-- 1 olga czb  2.6G Dec 25 18:46 \u001b[01;31mQfO_release_2019_04.tar.gz\u001b[0m\n",
      "-rw-r--r-- 1 olga czb   18K May 10  2019 README\n",
      "-rw-r--r-- 1 olga czb   12K Jan  8 07:47 species_metadata.csv\n"
     ]
    }
   ],
   "source": [
    "ls -lha"
   ]
  },
  {
   "cell_type": "markdown",
   "metadata": {},
   "source": [
    "# Download orthology and transcription factor data"
   ]
  },
  {
   "cell_type": "markdown",
   "metadata": {},
   "source": [
    "## Read orthologous transcription factors "
   ]
  },
  {
   "cell_type": "code",
   "execution_count": 4,
   "metadata": {},
   "outputs": [
    {
     "name": "stdout",
     "output_type": "stream",
     "text": [
      "(17828, 16)\n"
     ]
    },
    {
     "data": {
      "text/html": [
       "<div>\n",
       "<style scoped>\n",
       "    .dataframe tbody tr th:only-of-type {\n",
       "        vertical-align: middle;\n",
       "    }\n",
       "\n",
       "    .dataframe tbody tr th {\n",
       "        vertical-align: top;\n",
       "    }\n",
       "\n",
       "    .dataframe thead th {\n",
       "        text-align: right;\n",
       "    }\n",
       "</style>\n",
       "<table border=\"1\" class=\"dataframe\">\n",
       "  <thead>\n",
       "    <tr style=\"text-align: right;\">\n",
       "      <th></th>\n",
       "      <th>dn_ds</th>\n",
       "      <th>method_link_type</th>\n",
       "      <th>source__id</th>\n",
       "      <th>source__perc_id</th>\n",
       "      <th>source__perc_pos</th>\n",
       "      <th>source__protein_id</th>\n",
       "      <th>source__species</th>\n",
       "      <th>source__taxon_id</th>\n",
       "      <th>target__id</th>\n",
       "      <th>target__perc_id</th>\n",
       "      <th>target__perc_pos</th>\n",
       "      <th>target__protein_id</th>\n",
       "      <th>target__species</th>\n",
       "      <th>target__taxon_id</th>\n",
       "      <th>taxonomy_level</th>\n",
       "      <th>type</th>\n",
       "    </tr>\n",
       "  </thead>\n",
       "  <tbody>\n",
       "    <tr>\n",
       "      <th>0</th>\n",
       "      <td>NaN</td>\n",
       "      <td>ENSEMBL_PARALOGUES</td>\n",
       "      <td>ENSG00000198515</td>\n",
       "      <td>50.5929</td>\n",
       "      <td>62.8458</td>\n",
       "      <td>ENSP00000384264</td>\n",
       "      <td>homo_sapiens</td>\n",
       "      <td>9606</td>\n",
       "      <td>ENSG00000183862</td>\n",
       "      <td>57.8313</td>\n",
       "      <td>71.8373</td>\n",
       "      <td>ENSP00000328478</td>\n",
       "      <td>homo_sapiens</td>\n",
       "      <td>9606</td>\n",
       "      <td>Bilateria</td>\n",
       "      <td>other_paralog</td>\n",
       "    </tr>\n",
       "    <tr>\n",
       "      <th>1</th>\n",
       "      <td>NaN</td>\n",
       "      <td>ENSEMBL_PARALOGUES</td>\n",
       "      <td>ENSG00000198515</td>\n",
       "      <td>18.1818</td>\n",
       "      <td>35.9684</td>\n",
       "      <td>ENSP00000384264</td>\n",
       "      <td>homo_sapiens</td>\n",
       "      <td>9606</td>\n",
       "      <td>ENSG00000055118</td>\n",
       "      <td>11.9068</td>\n",
       "      <td>23.5548</td>\n",
       "      <td>ENSP00000262186</td>\n",
       "      <td>homo_sapiens</td>\n",
       "      <td>9606</td>\n",
       "      <td>Bilateria</td>\n",
       "      <td>other_paralog</td>\n",
       "    </tr>\n",
       "    <tr>\n",
       "      <th>2</th>\n",
       "      <td>NaN</td>\n",
       "      <td>ENSEMBL_PARALOGUES</td>\n",
       "      <td>ENSG00000198515</td>\n",
       "      <td>17.3913</td>\n",
       "      <td>35.1779</td>\n",
       "      <td>ENSP00000384264</td>\n",
       "      <td>homo_sapiens</td>\n",
       "      <td>9606</td>\n",
       "      <td>ENSG00000143630</td>\n",
       "      <td>17.0543</td>\n",
       "      <td>34.4961</td>\n",
       "      <td>ENSP00000357342</td>\n",
       "      <td>homo_sapiens</td>\n",
       "      <td>9606</td>\n",
       "      <td>Bilateria</td>\n",
       "      <td>other_paralog</td>\n",
       "    </tr>\n",
       "    <tr>\n",
       "      <th>3</th>\n",
       "      <td>NaN</td>\n",
       "      <td>ENSEMBL_PARALOGUES</td>\n",
       "      <td>ENSG00000198515</td>\n",
       "      <td>55.0725</td>\n",
       "      <td>67.0619</td>\n",
       "      <td>ENSP00000384264</td>\n",
       "      <td>homo_sapiens</td>\n",
       "      <td>9606</td>\n",
       "      <td>ENSG00000144191</td>\n",
       "      <td>60.2305</td>\n",
       "      <td>73.3429</td>\n",
       "      <td>ENSP00000272602</td>\n",
       "      <td>homo_sapiens</td>\n",
       "      <td>9606</td>\n",
       "      <td>Bilateria</td>\n",
       "      <td>other_paralog</td>\n",
       "    </tr>\n",
       "    <tr>\n",
       "      <th>4</th>\n",
       "      <td>NaN</td>\n",
       "      <td>ENSEMBL_PARALOGUES</td>\n",
       "      <td>ENSG00000198515</td>\n",
       "      <td>24.7694</td>\n",
       "      <td>40.8432</td>\n",
       "      <td>ENSP00000384264</td>\n",
       "      <td>homo_sapiens</td>\n",
       "      <td>9606</td>\n",
       "      <td>ENSG00000170289</td>\n",
       "      <td>23.2386</td>\n",
       "      <td>38.3189</td>\n",
       "      <td>ENSP00000316605</td>\n",
       "      <td>homo_sapiens</td>\n",
       "      <td>9606</td>\n",
       "      <td>Bilateria</td>\n",
       "      <td>other_paralog</td>\n",
       "    </tr>\n",
       "  </tbody>\n",
       "</table>\n",
       "</div>"
      ],
      "text/plain": [
       "   dn_ds    method_link_type       source__id  source__perc_id  \\\n",
       "0    NaN  ENSEMBL_PARALOGUES  ENSG00000198515          50.5929   \n",
       "1    NaN  ENSEMBL_PARALOGUES  ENSG00000198515          18.1818   \n",
       "2    NaN  ENSEMBL_PARALOGUES  ENSG00000198515          17.3913   \n",
       "3    NaN  ENSEMBL_PARALOGUES  ENSG00000198515          55.0725   \n",
       "4    NaN  ENSEMBL_PARALOGUES  ENSG00000198515          24.7694   \n",
       "\n",
       "   source__perc_pos source__protein_id source__species  source__taxon_id  \\\n",
       "0           62.8458    ENSP00000384264    homo_sapiens              9606   \n",
       "1           35.9684    ENSP00000384264    homo_sapiens              9606   \n",
       "2           35.1779    ENSP00000384264    homo_sapiens              9606   \n",
       "3           67.0619    ENSP00000384264    homo_sapiens              9606   \n",
       "4           40.8432    ENSP00000384264    homo_sapiens              9606   \n",
       "\n",
       "        target__id  target__perc_id  target__perc_pos target__protein_id  \\\n",
       "0  ENSG00000183862          57.8313           71.8373    ENSP00000328478   \n",
       "1  ENSG00000055118          11.9068           23.5548    ENSP00000262186   \n",
       "2  ENSG00000143630          17.0543           34.4961    ENSP00000357342   \n",
       "3  ENSG00000144191          60.2305           73.3429    ENSP00000272602   \n",
       "4  ENSG00000170289          23.2386           38.3189    ENSP00000316605   \n",
       "\n",
       "  target__species  target__taxon_id taxonomy_level           type  \n",
       "0    homo_sapiens              9606      Bilateria  other_paralog  \n",
       "1    homo_sapiens              9606      Bilateria  other_paralog  \n",
       "2    homo_sapiens              9606      Bilateria  other_paralog  \n",
       "3    homo_sapiens              9606      Bilateria  other_paralog  \n",
       "4    homo_sapiens              9606      Bilateria  other_paralog  "
      ]
     },
     "execution_count": 4,
     "metadata": {},
     "output_type": "execute_result"
    }
   ],
   "source": [
    "visual = pd.read_csv('opisthokont_not_human_visual_system_ensembl_compara.csv')\n",
    "print(visual.shape)\n",
    "visual.head()"
   ]
  },
  {
   "cell_type": "markdown",
   "metadata": {},
   "source": [
    "# Go to Quest for Orthologs fastas"
   ]
  },
  {
   "cell_type": "markdown",
   "metadata": {},
   "source": [
    "## Read species metadata"
   ]
  },
  {
   "cell_type": "code",
   "execution_count": 5,
   "metadata": {},
   "outputs": [
    {
     "name": "stdout",
     "output_type": "stream",
     "text": [
      "(78, 10)\n"
     ]
    },
    {
     "data": {
      "text/html": [
       "<div>\n",
       "<style scoped>\n",
       "    .dataframe tbody tr th:only-of-type {\n",
       "        vertical-align: middle;\n",
       "    }\n",
       "\n",
       "    .dataframe tbody tr th {\n",
       "        vertical-align: top;\n",
       "    }\n",
       "\n",
       "    .dataframe thead th {\n",
       "        text-align: right;\n",
       "    }\n",
       "</style>\n",
       "<table border=\"1\" class=\"dataframe\">\n",
       "  <thead>\n",
       "    <tr style=\"text-align: right;\">\n",
       "      <th></th>\n",
       "      <th>proteome_id</th>\n",
       "      <th>tax_id</th>\n",
       "      <th>oscode</th>\n",
       "      <th>n_main_fasta_canonical</th>\n",
       "      <th>n_additional_fasta_isoforms</th>\n",
       "      <th>n_gene2acc</th>\n",
       "      <th>species_name</th>\n",
       "      <th>divergence_from_human_mya</th>\n",
       "      <th>scientific_name</th>\n",
       "      <th>common_name_or_strain</th>\n",
       "    </tr>\n",
       "  </thead>\n",
       "  <tbody>\n",
       "    <tr>\n",
       "      <th>0</th>\n",
       "      <td>UP000007062</td>\n",
       "      <td>7165</td>\n",
       "      <td>ANOGA</td>\n",
       "      <td>12553</td>\n",
       "      <td>971</td>\n",
       "      <td>13619</td>\n",
       "      <td>Anopheles gambiae (African malaria mosquito)</td>\n",
       "      <td>797.0</td>\n",
       "      <td>Anopheles gambiae</td>\n",
       "      <td>African malaria mosquito</td>\n",
       "    </tr>\n",
       "    <tr>\n",
       "      <th>1</th>\n",
       "      <td>UP000000798</td>\n",
       "      <td>224324</td>\n",
       "      <td>AQUAE</td>\n",
       "      <td>1553</td>\n",
       "      <td>0</td>\n",
       "      <td>1557</td>\n",
       "      <td>Aquifex aeolicus (strain VF5)</td>\n",
       "      <td>4290.0</td>\n",
       "      <td>Aquifex aeolicus</td>\n",
       "      <td>strain VF5</td>\n",
       "    </tr>\n",
       "    <tr>\n",
       "      <th>2</th>\n",
       "      <td>UP000006548</td>\n",
       "      <td>3702</td>\n",
       "      <td>ARATH</td>\n",
       "      <td>27475</td>\n",
       "      <td>14123</td>\n",
       "      <td>41920</td>\n",
       "      <td>Arabidopsis thaliana (Mouse-ear cress)</td>\n",
       "      <td>1496.0</td>\n",
       "      <td>Arabidopsis thaliana</td>\n",
       "      <td>Mouse-ear cress</td>\n",
       "    </tr>\n",
       "    <tr>\n",
       "      <th>3</th>\n",
       "      <td>UP000001570</td>\n",
       "      <td>224308</td>\n",
       "      <td>BACSU</td>\n",
       "      <td>4260</td>\n",
       "      <td>7</td>\n",
       "      <td>4268</td>\n",
       "      <td>Bacillus subtilis (strain 168)</td>\n",
       "      <td>4290.0</td>\n",
       "      <td>Bacillus subtilis</td>\n",
       "      <td>strain 168</td>\n",
       "    </tr>\n",
       "    <tr>\n",
       "      <th>4</th>\n",
       "      <td>UP000001414</td>\n",
       "      <td>226186</td>\n",
       "      <td>BACTN</td>\n",
       "      <td>4782</td>\n",
       "      <td>0</td>\n",
       "      <td>4823</td>\n",
       "      <td>Bacteroides thetaiotaomicron (strain ATCC 2914...</td>\n",
       "      <td>4290.0</td>\n",
       "      <td>Bacteroides thetaiotaomicron</td>\n",
       "      <td>strain ATCC 29148 / DSM 2079 / NCTC 10582 / E5...</td>\n",
       "    </tr>\n",
       "  </tbody>\n",
       "</table>\n",
       "</div>"
      ],
      "text/plain": [
       "   proteome_id  tax_id oscode  n_main_fasta_canonical  \\\n",
       "0  UP000007062    7165  ANOGA                   12553   \n",
       "1  UP000000798  224324  AQUAE                    1553   \n",
       "2  UP000006548    3702  ARATH                   27475   \n",
       "3  UP000001570  224308  BACSU                    4260   \n",
       "4  UP000001414  226186  BACTN                    4782   \n",
       "\n",
       "   n_additional_fasta_isoforms  n_gene2acc  \\\n",
       "0                          971       13619   \n",
       "1                            0        1557   \n",
       "2                        14123       41920   \n",
       "3                            7        4268   \n",
       "4                            0        4823   \n",
       "\n",
       "                                        species_name  \\\n",
       "0       Anopheles gambiae (African malaria mosquito)   \n",
       "1                      Aquifex aeolicus (strain VF5)   \n",
       "2             Arabidopsis thaliana (Mouse-ear cress)   \n",
       "3                     Bacillus subtilis (strain 168)   \n",
       "4  Bacteroides thetaiotaomicron (strain ATCC 2914...   \n",
       "\n",
       "   divergence_from_human_mya               scientific_name  \\\n",
       "0                      797.0             Anopheles gambiae   \n",
       "1                     4290.0              Aquifex aeolicus   \n",
       "2                     1496.0          Arabidopsis thaliana   \n",
       "3                     4290.0             Bacillus subtilis   \n",
       "4                     4290.0  Bacteroides thetaiotaomicron   \n",
       "\n",
       "                               common_name_or_strain  \n",
       "0                           African malaria mosquito  \n",
       "1                                         strain VF5  \n",
       "2                                    Mouse-ear cress  \n",
       "3                                         strain 168  \n",
       "4  strain ATCC 29148 / DSM 2079 / NCTC 10582 / E5...  "
      ]
     },
     "execution_count": 5,
     "metadata": {},
     "output_type": "execute_result"
    }
   ],
   "source": [
    "species_metadata = pd.read_csv(\"species_metadata.csv\")\n",
    "print(species_metadata.shape)\n",
    "species_metadata.head()"
   ]
  },
  {
   "cell_type": "markdown",
   "metadata": {},
   "source": [
    "### Subset to opisthokonts"
   ]
  },
  {
   "cell_type": "code",
   "execution_count": 6,
   "metadata": {},
   "outputs": [
    {
     "name": "stdout",
     "output_type": "stream",
     "text": [
      "(35, 10)\n"
     ]
    },
    {
     "data": {
      "text/html": [
       "<div>\n",
       "<style scoped>\n",
       "    .dataframe tbody tr th:only-of-type {\n",
       "        vertical-align: middle;\n",
       "    }\n",
       "\n",
       "    .dataframe tbody tr th {\n",
       "        vertical-align: top;\n",
       "    }\n",
       "\n",
       "    .dataframe thead th {\n",
       "        text-align: right;\n",
       "    }\n",
       "</style>\n",
       "<table border=\"1\" class=\"dataframe\">\n",
       "  <thead>\n",
       "    <tr style=\"text-align: right;\">\n",
       "      <th></th>\n",
       "      <th>proteome_id</th>\n",
       "      <th>tax_id</th>\n",
       "      <th>oscode</th>\n",
       "      <th>n_main_fasta_canonical</th>\n",
       "      <th>n_additional_fasta_isoforms</th>\n",
       "      <th>n_gene2acc</th>\n",
       "      <th>species_name</th>\n",
       "      <th>divergence_from_human_mya</th>\n",
       "      <th>scientific_name</th>\n",
       "      <th>common_name_or_strain</th>\n",
       "    </tr>\n",
       "  </thead>\n",
       "  <tbody>\n",
       "    <tr>\n",
       "      <th>0</th>\n",
       "      <td>UP000007062</td>\n",
       "      <td>7165</td>\n",
       "      <td>ANOGA</td>\n",
       "      <td>12553</td>\n",
       "      <td>971</td>\n",
       "      <td>13619</td>\n",
       "      <td>Anopheles gambiae (African malaria mosquito)</td>\n",
       "      <td>797.0</td>\n",
       "      <td>Anopheles gambiae</td>\n",
       "      <td>African malaria mosquito</td>\n",
       "    </tr>\n",
       "    <tr>\n",
       "      <th>5</th>\n",
       "      <td>UP000007241</td>\n",
       "      <td>684364</td>\n",
       "      <td>BATDJ</td>\n",
       "      <td>8610</td>\n",
       "      <td>0</td>\n",
       "      <td>8685</td>\n",
       "      <td>Batrachochytrium dendrobatidis (strain JAM81 /...</td>\n",
       "      <td>1105.0</td>\n",
       "      <td>Batrachochytrium dendrobatidis</td>\n",
       "      <td>strain JAM81 / FGSC 10211</td>\n",
       "    </tr>\n",
       "    <tr>\n",
       "      <th>6</th>\n",
       "      <td>UP000009136</td>\n",
       "      <td>9913</td>\n",
       "      <td>BOVIN</td>\n",
       "      <td>23774</td>\n",
       "      <td>14534</td>\n",
       "      <td>38438</td>\n",
       "      <td>Bos taurus (Bovine)</td>\n",
       "      <td>96.0</td>\n",
       "      <td>Bos taurus</td>\n",
       "      <td>Bovine</td>\n",
       "    </tr>\n",
       "    <tr>\n",
       "      <th>8</th>\n",
       "      <td>UP000001554</td>\n",
       "      <td>7739</td>\n",
       "      <td>BRAFL</td>\n",
       "      <td>28542</td>\n",
       "      <td>2</td>\n",
       "      <td>28608</td>\n",
       "      <td>Branchiostoma floridae (Florida lancelet) (Amp...</td>\n",
       "      <td>684.0</td>\n",
       "      <td>Branchiostoma floridae</td>\n",
       "      <td>Florida lancelet</td>\n",
       "    </tr>\n",
       "    <tr>\n",
       "      <th>9</th>\n",
       "      <td>UP000001940</td>\n",
       "      <td>6239</td>\n",
       "      <td>CAEEL</td>\n",
       "      <td>19986</td>\n",
       "      <td>8309</td>\n",
       "      <td>28507</td>\n",
       "      <td>Caenorhabditis elegans</td>\n",
       "      <td>797.0</td>\n",
       "      <td>Caenorhabditis elegans</td>\n",
       "      <td>NaN</td>\n",
       "    </tr>\n",
       "  </tbody>\n",
       "</table>\n",
       "</div>"
      ],
      "text/plain": [
       "   proteome_id  tax_id oscode  n_main_fasta_canonical  \\\n",
       "0  UP000007062    7165  ANOGA                   12553   \n",
       "5  UP000007241  684364  BATDJ                    8610   \n",
       "6  UP000009136    9913  BOVIN                   23774   \n",
       "8  UP000001554    7739  BRAFL                   28542   \n",
       "9  UP000001940    6239  CAEEL                   19986   \n",
       "\n",
       "   n_additional_fasta_isoforms  n_gene2acc  \\\n",
       "0                          971       13619   \n",
       "5                            0        8685   \n",
       "6                        14534       38438   \n",
       "8                            2       28608   \n",
       "9                         8309       28507   \n",
       "\n",
       "                                        species_name  \\\n",
       "0       Anopheles gambiae (African malaria mosquito)   \n",
       "5  Batrachochytrium dendrobatidis (strain JAM81 /...   \n",
       "6                                Bos taurus (Bovine)   \n",
       "8  Branchiostoma floridae (Florida lancelet) (Amp...   \n",
       "9                             Caenorhabditis elegans   \n",
       "\n",
       "   divergence_from_human_mya                 scientific_name  \\\n",
       "0                      797.0               Anopheles gambiae   \n",
       "5                     1105.0  Batrachochytrium dendrobatidis   \n",
       "6                       96.0                      Bos taurus   \n",
       "8                      684.0          Branchiostoma floridae   \n",
       "9                      797.0          Caenorhabditis elegans   \n",
       "\n",
       "       common_name_or_strain  \n",
       "0   African malaria mosquito  \n",
       "5  strain JAM81 / FGSC 10211  \n",
       "6                     Bovine  \n",
       "8           Florida lancelet  \n",
       "9                        NaN  "
      ]
     },
     "execution_count": 6,
     "metadata": {},
     "output_type": "execute_result"
    }
   ],
   "source": [
    "# Estimated opisthokonta divergence time from http://timetree.org/\n",
    "t = 1105\n",
    "opisthokonts = species_metadata.query('divergence_from_human_mya <= @t')\n",
    "print(opisthokonts.shape)\n",
    "opisthokonts.head()"
   ]
  },
  {
   "cell_type": "code",
   "execution_count": 7,
   "metadata": {},
   "outputs": [
    {
     "data": {
      "text/html": [
       "<div>\n",
       "<style scoped>\n",
       "    .dataframe tbody tr th:only-of-type {\n",
       "        vertical-align: middle;\n",
       "    }\n",
       "\n",
       "    .dataframe tbody tr th {\n",
       "        vertical-align: top;\n",
       "    }\n",
       "\n",
       "    .dataframe thead th {\n",
       "        text-align: right;\n",
       "    }\n",
       "</style>\n",
       "<table border=\"1\" class=\"dataframe\">\n",
       "  <thead>\n",
       "    <tr style=\"text-align: right;\">\n",
       "      <th></th>\n",
       "      <th>proteome_id</th>\n",
       "      <th>tax_id</th>\n",
       "      <th>oscode</th>\n",
       "      <th>n_main_fasta_canonical</th>\n",
       "      <th>n_additional_fasta_isoforms</th>\n",
       "      <th>n_gene2acc</th>\n",
       "      <th>species_name</th>\n",
       "      <th>divergence_from_human_mya</th>\n",
       "      <th>scientific_name</th>\n",
       "      <th>common_name_or_strain</th>\n",
       "    </tr>\n",
       "  </thead>\n",
       "  <tbody>\n",
       "    <tr>\n",
       "      <th>32</th>\n",
       "      <td>UP000005640</td>\n",
       "      <td>9606</td>\n",
       "      <td>HUMAN</td>\n",
       "      <td>21146</td>\n",
       "      <td>74769</td>\n",
       "      <td>96332</td>\n",
       "      <td>Homo sapiens (Human)</td>\n",
       "      <td>0.0</td>\n",
       "      <td>Homo sapiens</td>\n",
       "      <td>Human</td>\n",
       "    </tr>\n",
       "  </tbody>\n",
       "</table>\n",
       "</div>"
      ],
      "text/plain": [
       "    proteome_id  tax_id oscode  n_main_fasta_canonical  \\\n",
       "32  UP000005640    9606  HUMAN                   21146   \n",
       "\n",
       "    n_additional_fasta_isoforms  n_gene2acc          species_name  \\\n",
       "32                        74769       96332  Homo sapiens (Human)   \n",
       "\n",
       "    divergence_from_human_mya scientific_name common_name_or_strain  \n",
       "32                        0.0    Homo sapiens                 Human  "
      ]
     },
     "execution_count": 7,
     "metadata": {},
     "output_type": "execute_result"
    }
   ],
   "source": [
    "opisthokonts.query('scientific_name == \"Homo sapiens\"')"
   ]
  },
  {
   "cell_type": "markdown",
   "metadata": {},
   "source": [
    "## Read Gene Accession file\n",
    "\n",
    "```\n",
    "Gene mapping files (*.gene2acc)\n",
    "===============================\n",
    "\n",
    "Column 1 is a unique gene symbol that is chosen with the following order of\n",
    "preference from the annotation found in:\n",
    "1) Model Organism Database (MOD)\n",
    "2) Ensembl or Ensembl Genomes database\n",
    "3) UniProt Ordered Locus Name (OLN)\n",
    "4) UniProt Open Reading Frame (ORF)\n",
    "5) UniProt Gene Name\n",
    "A dash symbol ('-') is used when the gene encoding a protein is unknown.\n",
    "\n",
    "Column 2 is the UniProtKB accession or isoform identifier for the given gene\n",
    "symbol. This column may have redundancy when two or more genes have identical\n",
    "translations.\n",
    "\n",
    "Column 3 is the gene symbol of the canonical accession used to represent the\n",
    "respective gene group and the first row of the sequence is the canonical one.\n",
    "```"
   ]
  },
  {
   "cell_type": "code",
   "execution_count": 10,
   "metadata": {},
   "outputs": [
    {
     "name": "stdout",
     "output_type": "stream",
     "text": [
      "(96332, 3)\n"
     ]
    },
    {
     "data": {
      "text/html": [
       "<div>\n",
       "<style scoped>\n",
       "    .dataframe tbody tr th:only-of-type {\n",
       "        vertical-align: middle;\n",
       "    }\n",
       "\n",
       "    .dataframe tbody tr th {\n",
       "        vertical-align: top;\n",
       "    }\n",
       "\n",
       "    .dataframe thead th {\n",
       "        text-align: right;\n",
       "    }\n",
       "</style>\n",
       "<table border=\"1\" class=\"dataframe\">\n",
       "  <thead>\n",
       "    <tr style=\"text-align: right;\">\n",
       "      <th></th>\n",
       "      <th>maybe_ensembl_id</th>\n",
       "      <th>uniprot_id</th>\n",
       "      <th>canonical_accession</th>\n",
       "    </tr>\n",
       "  </thead>\n",
       "  <tbody>\n",
       "    <tr>\n",
       "      <th>0</th>\n",
       "      <td>NaN</td>\n",
       "      <td>A0A075B7B6</td>\n",
       "      <td>NaN</td>\n",
       "    </tr>\n",
       "    <tr>\n",
       "      <th>1</th>\n",
       "      <td>NaN</td>\n",
       "      <td>A0A075B714</td>\n",
       "      <td>NaN</td>\n",
       "    </tr>\n",
       "    <tr>\n",
       "      <th>2</th>\n",
       "      <td>NaN</td>\n",
       "      <td>A0A075B713</td>\n",
       "      <td>NaN</td>\n",
       "    </tr>\n",
       "    <tr>\n",
       "      <th>3</th>\n",
       "      <td>NaN</td>\n",
       "      <td>A0A075B712</td>\n",
       "      <td>NaN</td>\n",
       "    </tr>\n",
       "    <tr>\n",
       "      <th>4</th>\n",
       "      <td>NaN</td>\n",
       "      <td>A0A075B711</td>\n",
       "      <td>NaN</td>\n",
       "    </tr>\n",
       "  </tbody>\n",
       "</table>\n",
       "</div>"
      ],
      "text/plain": [
       "  maybe_ensembl_id  uniprot_id canonical_accession\n",
       "0              NaN  A0A075B7B6                 NaN\n",
       "1              NaN  A0A075B714                 NaN\n",
       "2              NaN  A0A075B713                 NaN\n",
       "3              NaN  A0A075B712                 NaN\n",
       "4              NaN  A0A075B711                 NaN"
      ]
     },
     "execution_count": 10,
     "metadata": {},
     "output_type": "execute_result"
    }
   ],
   "source": [
    "\n",
    "def read_gene2acc(gene2acc, names=['maybe_ensembl_id', 'uniprot_id', 'canonical_accession']):\n",
    "    df = pd.read_csv(gene2acc, sep='\\t', header=None, na_values='-', names=names)\n",
    "    return df\n",
    "\n",
    "gene2acc = read_gene2acc('Eukaryota/UP000005640_9606.gene2acc')\n",
    "# gene2acc = pd.read_csv('Eukaryota/UP000005640_9606.gene2acc', sep='\\t', header=None, na_values='-', names=columns)\n",
    "print(gene2acc.shape)\n",
    "gene2acc.head()"
   ]
  },
  {
   "cell_type": "code",
   "execution_count": 11,
   "metadata": {},
   "outputs": [
    {
     "data": {
      "text/html": [
       "<div>\n",
       "<style scoped>\n",
       "    .dataframe tbody tr th:only-of-type {\n",
       "        vertical-align: middle;\n",
       "    }\n",
       "\n",
       "    .dataframe tbody tr th {\n",
       "        vertical-align: top;\n",
       "    }\n",
       "\n",
       "    .dataframe thead th {\n",
       "        text-align: right;\n",
       "    }\n",
       "</style>\n",
       "<table border=\"1\" class=\"dataframe\">\n",
       "  <thead>\n",
       "    <tr style=\"text-align: right;\">\n",
       "      <th></th>\n",
       "      <th>maybe_ensembl_id</th>\n",
       "      <th>uniprot_id</th>\n",
       "      <th>canonical_accession</th>\n",
       "    </tr>\n",
       "  </thead>\n",
       "  <tbody>\n",
       "    <tr>\n",
       "      <th>600</th>\n",
       "      <td>ACOT7L</td>\n",
       "      <td>Q6ZUV0</td>\n",
       "      <td>ACOT7L</td>\n",
       "    </tr>\n",
       "    <tr>\n",
       "      <th>601</th>\n",
       "      <td>BARGIN</td>\n",
       "      <td>Q6ZT62</td>\n",
       "      <td>BARGIN</td>\n",
       "    </tr>\n",
       "    <tr>\n",
       "      <th>602</th>\n",
       "      <td>BARGIN</td>\n",
       "      <td>Q6ZT62-2</td>\n",
       "      <td>BARGIN</td>\n",
       "    </tr>\n",
       "    <tr>\n",
       "      <th>603</th>\n",
       "      <td>BCE1</td>\n",
       "      <td>O60756</td>\n",
       "      <td>BCE1</td>\n",
       "    </tr>\n",
       "    <tr>\n",
       "      <th>604</th>\n",
       "      <td>C1orf140</td>\n",
       "      <td>Q5VVS0</td>\n",
       "      <td>C1orf140</td>\n",
       "    </tr>\n",
       "    <tr>\n",
       "      <th>...</th>\n",
       "      <td>...</td>\n",
       "      <td>...</td>\n",
       "      <td>...</td>\n",
       "    </tr>\n",
       "    <tr>\n",
       "      <th>96327</th>\n",
       "      <td>UNQ6190/PRO20217</td>\n",
       "      <td>Q6UXQ8</td>\n",
       "      <td>UNQ6190/PRO20217</td>\n",
       "    </tr>\n",
       "    <tr>\n",
       "      <th>96328</th>\n",
       "      <td>UNQ6493/PRO21345</td>\n",
       "      <td>Q6UXR8</td>\n",
       "      <td>UNQ6493/PRO21345</td>\n",
       "    </tr>\n",
       "    <tr>\n",
       "      <th>96329</th>\n",
       "      <td>UNQ6494/PRO21346</td>\n",
       "      <td>Q6UXR6</td>\n",
       "      <td>UNQ6494/PRO21346</td>\n",
       "    </tr>\n",
       "    <tr>\n",
       "      <th>96330</th>\n",
       "      <td>UNQ9165/PRO28630</td>\n",
       "      <td>Q6UXU0</td>\n",
       "      <td>UNQ9165/PRO28630</td>\n",
       "    </tr>\n",
       "    <tr>\n",
       "      <th>96331</th>\n",
       "      <td>UNQ9370/PRO34162</td>\n",
       "      <td>Q6UXP9</td>\n",
       "      <td>UNQ9370/PRO34162</td>\n",
       "    </tr>\n",
       "  </tbody>\n",
       "</table>\n",
       "<p>95732 rows × 3 columns</p>\n",
       "</div>"
      ],
      "text/plain": [
       "       maybe_ensembl_id uniprot_id canonical_accession\n",
       "600              ACOT7L     Q6ZUV0              ACOT7L\n",
       "601              BARGIN     Q6ZT62              BARGIN\n",
       "602              BARGIN   Q6ZT62-2              BARGIN\n",
       "603                BCE1     O60756                BCE1\n",
       "604            C1orf140     Q5VVS0            C1orf140\n",
       "...                 ...        ...                 ...\n",
       "96327  UNQ6190/PRO20217     Q6UXQ8    UNQ6190/PRO20217\n",
       "96328  UNQ6493/PRO21345     Q6UXR8    UNQ6493/PRO21345\n",
       "96329  UNQ6494/PRO21346     Q6UXR6    UNQ6494/PRO21346\n",
       "96330  UNQ9165/PRO28630     Q6UXU0    UNQ9165/PRO28630\n",
       "96331  UNQ9370/PRO34162     Q6UXP9    UNQ9370/PRO34162\n",
       "\n",
       "[95732 rows x 3 columns]"
      ]
     },
     "execution_count": 11,
     "metadata": {},
     "output_type": "execute_result"
    }
   ],
   "source": [
    "gene2acc.dropna()"
   ]
  },
  {
   "cell_type": "markdown",
   "metadata": {},
   "source": [
    "## Read ID mapping file\n",
    "\n",
    "```\n",
    "Database mapping files (*.idmapping)\n",
    "====================================\n",
    "\n",
    "These files contain mappings from UniProtKB to other databases for each\n",
    "reference proteome.\n",
    "The format consists of three tab-separated columns:\n",
    "\n",
    "1. UniProtKB accession\n",
    "2. ID_type:\n",
    "   Database name as shown in UniProtKB cross-references and supported by the ID\n",
    "   mapping tool on the UniProt web site (http://www.uniprot.org/mapping)\n",
    "3. ID:\n",
    "   Identifier in the cross-referenced database.\n",
    "\n",
    "```"
   ]
  },
  {
   "cell_type": "code",
   "execution_count": 12,
   "metadata": {},
   "outputs": [
    {
     "data": {
      "text/html": [
       "<div>\n",
       "<style scoped>\n",
       "    .dataframe tbody tr th:only-of-type {\n",
       "        vertical-align: middle;\n",
       "    }\n",
       "\n",
       "    .dataframe tbody tr th {\n",
       "        vertical-align: top;\n",
       "    }\n",
       "\n",
       "    .dataframe thead th {\n",
       "        text-align: right;\n",
       "    }\n",
       "</style>\n",
       "<table border=\"1\" class=\"dataframe\">\n",
       "  <thead>\n",
       "    <tr style=\"text-align: right;\">\n",
       "      <th></th>\n",
       "      <th>proteome_id</th>\n",
       "      <th>tax_id</th>\n",
       "      <th>oscode</th>\n",
       "      <th>n_main_fasta_canonical</th>\n",
       "      <th>n_additional_fasta_isoforms</th>\n",
       "      <th>n_gene2acc</th>\n",
       "      <th>species_name</th>\n",
       "      <th>divergence_from_human_mya</th>\n",
       "      <th>scientific_name</th>\n",
       "      <th>common_name_or_strain</th>\n",
       "    </tr>\n",
       "  </thead>\n",
       "  <tbody>\n",
       "    <tr>\n",
       "      <th>0</th>\n",
       "      <td>UP000007062</td>\n",
       "      <td>7165</td>\n",
       "      <td>ANOGA</td>\n",
       "      <td>12553</td>\n",
       "      <td>971</td>\n",
       "      <td>13619</td>\n",
       "      <td>Anopheles gambiae (African malaria mosquito)</td>\n",
       "      <td>797.0</td>\n",
       "      <td>Anopheles gambiae</td>\n",
       "      <td>African malaria mosquito</td>\n",
       "    </tr>\n",
       "    <tr>\n",
       "      <th>5</th>\n",
       "      <td>UP000007241</td>\n",
       "      <td>684364</td>\n",
       "      <td>BATDJ</td>\n",
       "      <td>8610</td>\n",
       "      <td>0</td>\n",
       "      <td>8685</td>\n",
       "      <td>Batrachochytrium dendrobatidis (strain JAM81 /...</td>\n",
       "      <td>1105.0</td>\n",
       "      <td>Batrachochytrium dendrobatidis</td>\n",
       "      <td>strain JAM81 / FGSC 10211</td>\n",
       "    </tr>\n",
       "    <tr>\n",
       "      <th>6</th>\n",
       "      <td>UP000009136</td>\n",
       "      <td>9913</td>\n",
       "      <td>BOVIN</td>\n",
       "      <td>23774</td>\n",
       "      <td>14534</td>\n",
       "      <td>38438</td>\n",
       "      <td>Bos taurus (Bovine)</td>\n",
       "      <td>96.0</td>\n",
       "      <td>Bos taurus</td>\n",
       "      <td>Bovine</td>\n",
       "    </tr>\n",
       "    <tr>\n",
       "      <th>8</th>\n",
       "      <td>UP000001554</td>\n",
       "      <td>7739</td>\n",
       "      <td>BRAFL</td>\n",
       "      <td>28542</td>\n",
       "      <td>2</td>\n",
       "      <td>28608</td>\n",
       "      <td>Branchiostoma floridae (Florida lancelet) (Amp...</td>\n",
       "      <td>684.0</td>\n",
       "      <td>Branchiostoma floridae</td>\n",
       "      <td>Florida lancelet</td>\n",
       "    </tr>\n",
       "    <tr>\n",
       "      <th>9</th>\n",
       "      <td>UP000001940</td>\n",
       "      <td>6239</td>\n",
       "      <td>CAEEL</td>\n",
       "      <td>19986</td>\n",
       "      <td>8309</td>\n",
       "      <td>28507</td>\n",
       "      <td>Caenorhabditis elegans</td>\n",
       "      <td>797.0</td>\n",
       "      <td>Caenorhabditis elegans</td>\n",
       "      <td>NaN</td>\n",
       "    </tr>\n",
       "  </tbody>\n",
       "</table>\n",
       "</div>"
      ],
      "text/plain": [
       "   proteome_id  tax_id oscode  n_main_fasta_canonical  \\\n",
       "0  UP000007062    7165  ANOGA                   12553   \n",
       "5  UP000007241  684364  BATDJ                    8610   \n",
       "6  UP000009136    9913  BOVIN                   23774   \n",
       "8  UP000001554    7739  BRAFL                   28542   \n",
       "9  UP000001940    6239  CAEEL                   19986   \n",
       "\n",
       "   n_additional_fasta_isoforms  n_gene2acc  \\\n",
       "0                          971       13619   \n",
       "5                            0        8685   \n",
       "6                        14534       38438   \n",
       "8                            2       28608   \n",
       "9                         8309       28507   \n",
       "\n",
       "                                        species_name  \\\n",
       "0       Anopheles gambiae (African malaria mosquito)   \n",
       "5  Batrachochytrium dendrobatidis (strain JAM81 /...   \n",
       "6                                Bos taurus (Bovine)   \n",
       "8  Branchiostoma floridae (Florida lancelet) (Amp...   \n",
       "9                             Caenorhabditis elegans   \n",
       "\n",
       "   divergence_from_human_mya                 scientific_name  \\\n",
       "0                      797.0               Anopheles gambiae   \n",
       "5                     1105.0  Batrachochytrium dendrobatidis   \n",
       "6                       96.0                      Bos taurus   \n",
       "8                      684.0          Branchiostoma floridae   \n",
       "9                      797.0          Caenorhabditis elegans   \n",
       "\n",
       "       common_name_or_strain  \n",
       "0   African malaria mosquito  \n",
       "5  strain JAM81 / FGSC 10211  \n",
       "6                     Bovine  \n",
       "8           Florida lancelet  \n",
       "9                        NaN  "
      ]
     },
     "execution_count": 12,
     "metadata": {},
     "output_type": "execute_result"
    }
   ],
   "source": [
    "opisthokonts.head()"
   ]
  },
  {
   "cell_type": "code",
   "execution_count": 13,
   "metadata": {},
   "outputs": [
    {
     "data": {
      "text/html": [
       "<div>\n",
       "<style scoped>\n",
       "    .dataframe tbody tr th:only-of-type {\n",
       "        vertical-align: middle;\n",
       "    }\n",
       "\n",
       "    .dataframe tbody tr th {\n",
       "        vertical-align: top;\n",
       "    }\n",
       "\n",
       "    .dataframe thead th {\n",
       "        text-align: right;\n",
       "    }\n",
       "</style>\n",
       "<table border=\"1\" class=\"dataframe\">\n",
       "  <thead>\n",
       "    <tr style=\"text-align: right;\">\n",
       "      <th></th>\n",
       "      <th>proteome_id</th>\n",
       "      <th>tax_id</th>\n",
       "      <th>oscode</th>\n",
       "      <th>n_main_fasta_canonical</th>\n",
       "      <th>n_additional_fasta_isoforms</th>\n",
       "      <th>n_gene2acc</th>\n",
       "      <th>species_name</th>\n",
       "      <th>divergence_from_human_mya</th>\n",
       "      <th>scientific_name</th>\n",
       "      <th>common_name_or_strain</th>\n",
       "    </tr>\n",
       "  </thead>\n",
       "  <tbody>\n",
       "    <tr>\n",
       "      <th>17</th>\n",
       "      <td>UP000000437</td>\n",
       "      <td>7955</td>\n",
       "      <td>DANRE</td>\n",
       "      <td>25939</td>\n",
       "      <td>21219</td>\n",
       "      <td>47517</td>\n",
       "      <td>Danio rerio (Zebrafish) (Brachydanio rerio)</td>\n",
       "      <td>435.0</td>\n",
       "      <td>Danio rerio</td>\n",
       "      <td>Zebrafish</td>\n",
       "    </tr>\n",
       "  </tbody>\n",
       "</table>\n",
       "</div>"
      ],
      "text/plain": [
       "    proteome_id  tax_id oscode  n_main_fasta_canonical  \\\n",
       "17  UP000000437    7955  DANRE                   25939   \n",
       "\n",
       "    n_additional_fasta_isoforms  n_gene2acc  \\\n",
       "17                        21219       47517   \n",
       "\n",
       "                                   species_name  divergence_from_human_mya  \\\n",
       "17  Danio rerio (Zebrafish) (Brachydanio rerio)                      435.0   \n",
       "\n",
       "   scientific_name common_name_or_strain  \n",
       "17     Danio rerio             Zebrafish  "
      ]
     },
     "execution_count": 13,
     "metadata": {},
     "output_type": "execute_result"
    }
   ],
   "source": [
    "opisthokonts.query('proteome_id == \"UP000000437\"')"
   ]
  },
  {
   "cell_type": "markdown",
   "metadata": {},
   "source": [
    "# Get ID Mapping for uniprot ids from ENSMBL"
   ]
  },
  {
   "cell_type": "code",
   "execution_count": 14,
   "metadata": {},
   "outputs": [
    {
     "name": "stderr",
     "output_type": "stream",
     "text": [
      "  2%|▏         | 1/48 [00:00<00:40,  1.15it/s]"
     ]
    },
    {
     "name": "stdout",
     "output_type": "stream",
     "text": [
      "(1036083, 5)\n"
     ]
    },
    {
     "name": "stderr",
     "output_type": "stream",
     "text": [
      "  8%|▊         | 4/48 [00:01<00:24,  1.83it/s]"
     ]
    },
    {
     "name": "stdout",
     "output_type": "stream",
     "text": [
      "(555421, 5)\n",
      "(149092, 5)\n"
     ]
    },
    {
     "name": "stderr",
     "output_type": "stream",
     "text": [
      " 10%|█         | 5/48 [00:01<00:18,  2.31it/s]"
     ]
    },
    {
     "name": "stdout",
     "output_type": "stream",
     "text": [
      "(141961, 5)\n"
     ]
    },
    {
     "name": "stderr",
     "output_type": "stream",
     "text": [
      " 12%|█▎        | 6/48 [00:02<00:27,  1.53it/s]"
     ]
    },
    {
     "name": "stdout",
     "output_type": "stream",
     "text": [
      "(1631036, 5)\n"
     ]
    },
    {
     "name": "stderr",
     "output_type": "stream",
     "text": [
      " 17%|█▋        | 8/48 [00:03<00:22,  1.80it/s]"
     ]
    },
    {
     "name": "stdout",
     "output_type": "stream",
     "text": [
      "(809657, 5)\n"
     ]
    },
    {
     "name": "stderr",
     "output_type": "stream",
     "text": [
      " 19%|█▉        | 9/48 [00:03<00:20,  1.86it/s]"
     ]
    },
    {
     "name": "stdout",
     "output_type": "stream",
     "text": [
      "(575653, 5)\n"
     ]
    },
    {
     "name": "stderr",
     "output_type": "stream",
     "text": [
      " 23%|██▎       | 11/48 [00:04<00:13,  2.75it/s]"
     ]
    },
    {
     "name": "stdout",
     "output_type": "stream",
     "text": [
      "(295804, 5)\n",
      "(124774, 5)\n"
     ]
    },
    {
     "name": "stderr",
     "output_type": "stream",
     "text": [
      " 27%|██▋       | 13/48 [00:04<00:10,  3.29it/s]"
     ]
    },
    {
     "name": "stdout",
     "output_type": "stream",
     "text": [
      "(277055, 5)\n",
      "(181143, 5)\n"
     ]
    },
    {
     "name": "stderr",
     "output_type": "stream",
     "text": [
      " 33%|███▎      | 16/48 [00:05<00:08,  3.57it/s]"
     ]
    },
    {
     "name": "stdout",
     "output_type": "stream",
     "text": [
      "(839553, 5)\n"
     ]
    },
    {
     "name": "stderr",
     "output_type": "stream",
     "text": [
      " 40%|███▉      | 19/48 [00:06<00:07,  4.12it/s]"
     ]
    },
    {
     "name": "stdout",
     "output_type": "stream",
     "text": [
      "(565651, 5)\n"
     ]
    },
    {
     "name": "stderr",
     "output_type": "stream",
     "text": [
      " 42%|████▏     | 20/48 [00:06<00:09,  3.06it/s]"
     ]
    },
    {
     "name": "stdout",
     "output_type": "stream",
     "text": [
      "(549426, 5)\n"
     ]
    },
    {
     "name": "stderr",
     "output_type": "stream",
     "text": [
      " 44%|████▍     | 21/48 [00:07<00:09,  2.78it/s]"
     ]
    },
    {
     "name": "stdout",
     "output_type": "stream",
     "text": [
      "(518273, 5)\n"
     ]
    },
    {
     "name": "stderr",
     "output_type": "stream",
     "text": [
      " 46%|████▌     | 22/48 [00:07<00:08,  3.17it/s]"
     ]
    },
    {
     "name": "stdout",
     "output_type": "stream",
     "text": [
      "(205999, 5)\n"
     ]
    },
    {
     "name": "stderr",
     "output_type": "stream",
     "text": [
      " 50%|█████     | 24/48 [00:07<00:07,  3.28it/s]"
     ]
    },
    {
     "name": "stdout",
     "output_type": "stream",
     "text": [
      "(765068, 5)\n",
      "(146229, 5)\n"
     ]
    },
    {
     "name": "stderr",
     "output_type": "stream",
     "text": [
      " 54%|█████▍    | 26/48 [00:08<00:06,  3.51it/s]"
     ]
    },
    {
     "name": "stdout",
     "output_type": "stream",
     "text": [
      "(594466, 5)\n"
     ]
    },
    {
     "name": "stderr",
     "output_type": "stream",
     "text": [
      " 56%|█████▋    | 27/48 [00:09<00:09,  2.18it/s]"
     ]
    },
    {
     "name": "stdout",
     "output_type": "stream",
     "text": [
      "(1143307, 5)\n"
     ]
    },
    {
     "name": "stderr",
     "output_type": "stream",
     "text": [
      " 58%|█████▊    | 28/48 [00:09<00:08,  2.30it/s]"
     ]
    },
    {
     "name": "stdout",
     "output_type": "stream",
     "text": [
      "(424236, 5)\n"
     ]
    },
    {
     "name": "stderr",
     "output_type": "stream",
     "text": [
      " 62%|██████▎   | 30/48 [00:09<00:05,  3.20it/s]"
     ]
    },
    {
     "name": "stdout",
     "output_type": "stream",
     "text": [
      "(268306, 5)\n",
      "(149870, 5)\n"
     ]
    },
    {
     "name": "stderr",
     "output_type": "stream",
     "text": [
      " 65%|██████▍   | 31/48 [00:10<00:06,  2.44it/s]"
     ]
    },
    {
     "name": "stdout",
     "output_type": "stream",
     "text": [
      "(873723, 5)\n"
     ]
    },
    {
     "name": "stderr",
     "output_type": "stream",
     "text": [
      " 67%|██████▋   | 32/48 [00:10<00:05,  2.88it/s]"
     ]
    },
    {
     "name": "stdout",
     "output_type": "stream",
     "text": [
      "(214092, 5)\n"
     ]
    },
    {
     "name": "stderr",
     "output_type": "stream",
     "text": [
      " 71%|███████   | 34/48 [00:12<00:06,  2.04it/s]"
     ]
    },
    {
     "name": "stdout",
     "output_type": "stream",
     "text": [
      "(2668934, 5)\n"
     ]
    },
    {
     "name": "stderr",
     "output_type": "stream",
     "text": [
      " 81%|████████▏ | 39/48 [00:12<00:02,  3.26it/s]"
     ]
    },
    {
     "name": "stdout",
     "output_type": "stream",
     "text": [
      "(340838, 5)\n",
      "(151313, 5)\n"
     ]
    },
    {
     "name": "stderr",
     "output_type": "stream",
     "text": [
      " 83%|████████▎ | 40/48 [00:13<00:02,  3.26it/s]"
     ]
    },
    {
     "name": "stdout",
     "output_type": "stream",
     "text": [
      "(315939, 5)\n"
     ]
    },
    {
     "name": "stderr",
     "output_type": "stream",
     "text": [
      " 88%|████████▊ | 42/48 [00:13<00:01,  3.46it/s]"
     ]
    },
    {
     "name": "stdout",
     "output_type": "stream",
     "text": [
      "(637633, 5)\n"
     ]
    },
    {
     "name": "stderr",
     "output_type": "stream",
     "text": [
      " 90%|████████▉ | 43/48 [00:14<00:01,  3.48it/s]"
     ]
    },
    {
     "name": "stdout",
     "output_type": "stream",
     "text": [
      "(281658, 5)\n"
     ]
    },
    {
     "name": "stderr",
     "output_type": "stream",
     "text": [
      " 92%|█████████▏| 44/48 [00:14<00:01,  3.46it/s]"
     ]
    },
    {
     "name": "stdout",
     "output_type": "stream",
     "text": [
      "(307893, 5)\n"
     ]
    },
    {
     "name": "stderr",
     "output_type": "stream",
     "text": [
      " 94%|█████████▍| 45/48 [00:14<00:01,  2.60it/s]"
     ]
    },
    {
     "name": "stdout",
     "output_type": "stream",
     "text": [
      "(773011, 5)\n"
     ]
    },
    {
     "name": "stderr",
     "output_type": "stream",
     "text": [
      " 96%|█████████▌| 46/48 [00:15<00:00,  2.47it/s]"
     ]
    },
    {
     "name": "stdout",
     "output_type": "stream",
     "text": [
      "(561122, 5)\n"
     ]
    },
    {
     "name": "stderr",
     "output_type": "stream",
     "text": [
      "100%|██████████| 48/48 [00:15<00:00,  3.03it/s]"
     ]
    },
    {
     "name": "stdout",
     "output_type": "stream",
     "text": [
      "(390075, 5)\n"
     ]
    },
    {
     "name": "stderr",
     "output_type": "stream",
     "text": [
      "\n"
     ]
    },
    {
     "name": "stdout",
     "output_type": "stream",
     "text": [
      "(19464294, 5)\n"
     ]
    },
    {
     "data": {
      "text/html": [
       "<div>\n",
       "<style scoped>\n",
       "    .dataframe tbody tr th:only-of-type {\n",
       "        vertical-align: middle;\n",
       "    }\n",
       "\n",
       "    .dataframe tbody tr th {\n",
       "        vertical-align: top;\n",
       "    }\n",
       "\n",
       "    .dataframe thead th {\n",
       "        text-align: right;\n",
       "    }\n",
       "</style>\n",
       "<table border=\"1\" class=\"dataframe\">\n",
       "  <thead>\n",
       "    <tr style=\"text-align: right;\">\n",
       "      <th></th>\n",
       "      <th>uniprot_id</th>\n",
       "      <th>id_type</th>\n",
       "      <th>db_id</th>\n",
       "      <th>species_id</th>\n",
       "      <th>taxa_id</th>\n",
       "    </tr>\n",
       "  </thead>\n",
       "  <tbody>\n",
       "    <tr>\n",
       "      <th>0</th>\n",
       "      <td>Q5PRD0</td>\n",
       "      <td>UniProtKB-ID</td>\n",
       "      <td>143BA_DANRE</td>\n",
       "      <td>UP000000437</td>\n",
       "      <td>UP000000437</td>\n",
       "    </tr>\n",
       "    <tr>\n",
       "      <th>1</th>\n",
       "      <td>Q5PRD0</td>\n",
       "      <td>Gene_Name</td>\n",
       "      <td>ywhaba</td>\n",
       "      <td>UP000000437</td>\n",
       "      <td>UP000000437</td>\n",
       "    </tr>\n",
       "    <tr>\n",
       "      <th>2</th>\n",
       "      <td>Q5PRD0</td>\n",
       "      <td>Gene_Synonym</td>\n",
       "      <td>ywhab1</td>\n",
       "      <td>UP000000437</td>\n",
       "      <td>UP000000437</td>\n",
       "    </tr>\n",
       "    <tr>\n",
       "      <th>3</th>\n",
       "      <td>Q5PRD0</td>\n",
       "      <td>Gene_ORFName</td>\n",
       "      <td>wu:fb80c08</td>\n",
       "      <td>UP000000437</td>\n",
       "      <td>UP000000437</td>\n",
       "    </tr>\n",
       "    <tr>\n",
       "      <th>4</th>\n",
       "      <td>Q5PRD0</td>\n",
       "      <td>GI</td>\n",
       "      <td>82592598</td>\n",
       "      <td>UP000000437</td>\n",
       "      <td>UP000000437</td>\n",
       "    </tr>\n",
       "  </tbody>\n",
       "</table>\n",
       "</div>"
      ],
      "text/plain": [
       "  uniprot_id       id_type        db_id   species_id      taxa_id\n",
       "0     Q5PRD0  UniProtKB-ID  143BA_DANRE  UP000000437  UP000000437\n",
       "1     Q5PRD0     Gene_Name       ywhaba  UP000000437  UP000000437\n",
       "2     Q5PRD0  Gene_Synonym       ywhab1  UP000000437  UP000000437\n",
       "3     Q5PRD0  Gene_ORFName   wu:fb80c08  UP000000437  UP000000437\n",
       "4     Q5PRD0            GI     82592598  UP000000437  UP000000437"
      ]
     },
     "execution_count": 14,
     "metadata": {},
     "output_type": "execute_result"
    }
   ],
   "source": [
    "dfs = []\n",
    "\n",
    "for filename in tqdm(sorted(iglob(\"Eukaryota/*.idmapping\"))):\n",
    "#     print(filename)\n",
    "    basename = os.path.basename(filename)\n",
    "    prefix = basename.split('.')[0]\n",
    "    species_id, taxa_id = prefix.split(\"_\")\n",
    "#     print(f\"{species_id=} {taxa_id=}\")\n",
    "    \n",
    "    if species_id in opisthokonts.proteome_id.values:\n",
    "\n",
    "        df = pd.read_csv(filename, sep='\\t', header=None, names=['uniprot_id', 'id_type', 'db_id'])\n",
    "        df['species_id'] = species_id\n",
    "        df['taxa_id'] = species_id\n",
    "\n",
    "        # Use only Ensembl data\n",
    "#         df = df.query('id_type == \"Ensembl\"')\n",
    "        print(df.shape)\n",
    "        dfs.append(df)\n",
    "    \n",
    "id_mapping = pd.concat(dfs, ignore_index=True)\n",
    "print(id_mapping.shape)\n",
    "id_mapping.head()"
   ]
  },
  {
   "cell_type": "markdown",
   "metadata": {},
   "source": [
    "# Merge id mapping with ensembl compara tfs"
   ]
  },
  {
   "cell_type": "code",
   "execution_count": 15,
   "metadata": {},
   "outputs": [
    {
     "data": {
      "text/html": [
       "<div>\n",
       "<style scoped>\n",
       "    .dataframe tbody tr th:only-of-type {\n",
       "        vertical-align: middle;\n",
       "    }\n",
       "\n",
       "    .dataframe tbody tr th {\n",
       "        vertical-align: top;\n",
       "    }\n",
       "\n",
       "    .dataframe thead th {\n",
       "        text-align: right;\n",
       "    }\n",
       "</style>\n",
       "<table border=\"1\" class=\"dataframe\">\n",
       "  <thead>\n",
       "    <tr style=\"text-align: right;\">\n",
       "      <th></th>\n",
       "      <th>target__uniprot_id</th>\n",
       "      <th>target__id_type</th>\n",
       "      <th>target__db_id</th>\n",
       "      <th>target__species_id</th>\n",
       "      <th>target__taxa_id</th>\n",
       "    </tr>\n",
       "  </thead>\n",
       "  <tbody>\n",
       "    <tr>\n",
       "      <th>0</th>\n",
       "      <td>Q5PRD0</td>\n",
       "      <td>UniProtKB-ID</td>\n",
       "      <td>143BA_DANRE</td>\n",
       "      <td>UP000000437</td>\n",
       "      <td>UP000000437</td>\n",
       "    </tr>\n",
       "    <tr>\n",
       "      <th>1</th>\n",
       "      <td>Q5PRD0</td>\n",
       "      <td>Gene_Name</td>\n",
       "      <td>ywhaba</td>\n",
       "      <td>UP000000437</td>\n",
       "      <td>UP000000437</td>\n",
       "    </tr>\n",
       "    <tr>\n",
       "      <th>2</th>\n",
       "      <td>Q5PRD0</td>\n",
       "      <td>Gene_Synonym</td>\n",
       "      <td>ywhab1</td>\n",
       "      <td>UP000000437</td>\n",
       "      <td>UP000000437</td>\n",
       "    </tr>\n",
       "    <tr>\n",
       "      <th>3</th>\n",
       "      <td>Q5PRD0</td>\n",
       "      <td>Gene_ORFName</td>\n",
       "      <td>wu:fb80c08</td>\n",
       "      <td>UP000000437</td>\n",
       "      <td>UP000000437</td>\n",
       "    </tr>\n",
       "    <tr>\n",
       "      <th>4</th>\n",
       "      <td>Q5PRD0</td>\n",
       "      <td>GI</td>\n",
       "      <td>82592598</td>\n",
       "      <td>UP000000437</td>\n",
       "      <td>UP000000437</td>\n",
       "    </tr>\n",
       "  </tbody>\n",
       "</table>\n",
       "</div>"
      ],
      "text/plain": [
       "  target__uniprot_id target__id_type target__db_id target__species_id  \\\n",
       "0             Q5PRD0    UniProtKB-ID   143BA_DANRE        UP000000437   \n",
       "1             Q5PRD0       Gene_Name        ywhaba        UP000000437   \n",
       "2             Q5PRD0    Gene_Synonym        ywhab1        UP000000437   \n",
       "3             Q5PRD0    Gene_ORFName    wu:fb80c08        UP000000437   \n",
       "4             Q5PRD0              GI      82592598        UP000000437   \n",
       "\n",
       "  target__taxa_id  \n",
       "0     UP000000437  \n",
       "1     UP000000437  \n",
       "2     UP000000437  \n",
       "3     UP000000437  \n",
       "4     UP000000437  "
      ]
     },
     "execution_count": 15,
     "metadata": {},
     "output_type": "execute_result"
    }
   ],
   "source": [
    "id_mapping_for_merging = id_mapping.copy()\n",
    "id_mapping_for_merging.columns = \"target__\" + id_mapping_for_merging.columns\n",
    "id_mapping_for_merging.head()"
   ]
  },
  {
   "cell_type": "code",
   "execution_count": 17,
   "metadata": {},
   "outputs": [
    {
     "data": {
      "text/plain": [
       "(17828, 16)"
      ]
     },
     "execution_count": 17,
     "metadata": {},
     "output_type": "execute_result"
    }
   ],
   "source": [
    "visual.shape"
   ]
  },
  {
   "cell_type": "code",
   "execution_count": 42,
   "metadata": {},
   "outputs": [
    {
     "name": "stdout",
     "output_type": "stream",
     "text": [
      "(1303, 21)\n",
      "CPU times: user 12 s, sys: 712 ms, total: 12.7 s\n",
      "Wall time: 12.7 s\n"
     ]
    },
    {
     "data": {
      "text/html": [
       "<div>\n",
       "<style scoped>\n",
       "    .dataframe tbody tr th:only-of-type {\n",
       "        vertical-align: middle;\n",
       "    }\n",
       "\n",
       "    .dataframe tbody tr th {\n",
       "        vertical-align: top;\n",
       "    }\n",
       "\n",
       "    .dataframe thead th {\n",
       "        text-align: right;\n",
       "    }\n",
       "</style>\n",
       "<table border=\"1\" class=\"dataframe\">\n",
       "  <thead>\n",
       "    <tr style=\"text-align: right;\">\n",
       "      <th></th>\n",
       "      <th>dn_ds</th>\n",
       "      <th>method_link_type</th>\n",
       "      <th>source__id</th>\n",
       "      <th>source__perc_id</th>\n",
       "      <th>source__perc_pos</th>\n",
       "      <th>source__protein_id</th>\n",
       "      <th>source__species</th>\n",
       "      <th>source__taxon_id</th>\n",
       "      <th>target__id</th>\n",
       "      <th>target__perc_id</th>\n",
       "      <th>...</th>\n",
       "      <th>target__protein_id</th>\n",
       "      <th>target__species</th>\n",
       "      <th>target__taxon_id</th>\n",
       "      <th>taxonomy_level</th>\n",
       "      <th>type</th>\n",
       "      <th>target__uniprot_id</th>\n",
       "      <th>target__id_type</th>\n",
       "      <th>target__db_id</th>\n",
       "      <th>target__species_id</th>\n",
       "      <th>target__taxa_id</th>\n",
       "    </tr>\n",
       "  </thead>\n",
       "  <tbody>\n",
       "    <tr>\n",
       "      <th>1298</th>\n",
       "      <td>NaN</td>\n",
       "      <td>ENSEMBL_ORTHOLOGUES</td>\n",
       "      <td>ENSG00000095464</td>\n",
       "      <td>82.4009</td>\n",
       "      <td>91.3753</td>\n",
       "      <td>ENSP00000360502</td>\n",
       "      <td>homo_sapiens</td>\n",
       "      <td>9606</td>\n",
       "      <td>ENSGALG00000006626</td>\n",
       "      <td>82.0186</td>\n",
       "      <td>...</td>\n",
       "      <td>ENSGALP00000010688</td>\n",
       "      <td>gallus_gallus</td>\n",
       "      <td>9031</td>\n",
       "      <td>Euteleostomi</td>\n",
       "      <td>ortholog_one2one</td>\n",
       "      <td>F1P429</td>\n",
       "      <td>Ensembl_PRO</td>\n",
       "      <td>ENSGALP00000010688</td>\n",
       "      <td>UP000000539</td>\n",
       "      <td>UP000000539</td>\n",
       "    </tr>\n",
       "    <tr>\n",
       "      <th>1299</th>\n",
       "      <td>NaN</td>\n",
       "      <td>ENSEMBL_ORTHOLOGUES</td>\n",
       "      <td>ENSG00000095464</td>\n",
       "      <td>76.5734</td>\n",
       "      <td>87.8788</td>\n",
       "      <td>ENSP00000360502</td>\n",
       "      <td>homo_sapiens</td>\n",
       "      <td>9606</td>\n",
       "      <td>ENSXETG00000017515</td>\n",
       "      <td>75.6912</td>\n",
       "      <td>...</td>\n",
       "      <td>ENSXETP00000046201</td>\n",
       "      <td>xenopus_tropicalis</td>\n",
       "      <td>8364</td>\n",
       "      <td>Gnathostomata</td>\n",
       "      <td>ortholog_one2one</td>\n",
       "      <td>Q28GF9</td>\n",
       "      <td>Ensembl_PRO</td>\n",
       "      <td>ENSXETP00000046201</td>\n",
       "      <td>UP000008143</td>\n",
       "      <td>UP000008143</td>\n",
       "    </tr>\n",
       "    <tr>\n",
       "      <th>1300</th>\n",
       "      <td>NaN</td>\n",
       "      <td>ENSEMBL_ORTHOLOGUES</td>\n",
       "      <td>ENSG00000095464</td>\n",
       "      <td>76.2238</td>\n",
       "      <td>86.4802</td>\n",
       "      <td>ENSP00000360502</td>\n",
       "      <td>homo_sapiens</td>\n",
       "      <td>9606</td>\n",
       "      <td>ENSLOCG00000005849</td>\n",
       "      <td>76.2238</td>\n",
       "      <td>...</td>\n",
       "      <td>ENSLOCP00000007066</td>\n",
       "      <td>lepisosteus_oculatus</td>\n",
       "      <td>7918</td>\n",
       "      <td>Gnathostomata</td>\n",
       "      <td>ortholog_one2one</td>\n",
       "      <td>W5MFA7</td>\n",
       "      <td>Ensembl_PRO</td>\n",
       "      <td>ENSLOCP00000007066</td>\n",
       "      <td>UP000018468</td>\n",
       "      <td>UP000018468</td>\n",
       "    </tr>\n",
       "    <tr>\n",
       "      <th>1301</th>\n",
       "      <td>NaN</td>\n",
       "      <td>ENSEMBL_ORTHOLOGUES</td>\n",
       "      <td>ENSG00000095464</td>\n",
       "      <td>69.1142</td>\n",
       "      <td>81.9347</td>\n",
       "      <td>ENSP00000360502</td>\n",
       "      <td>homo_sapiens</td>\n",
       "      <td>9606</td>\n",
       "      <td>ENSDARG00000100397</td>\n",
       "      <td>69.6009</td>\n",
       "      <td>...</td>\n",
       "      <td>ENSDARP00000138871</td>\n",
       "      <td>danio_rerio</td>\n",
       "      <td>7955</td>\n",
       "      <td>Gnathostomata</td>\n",
       "      <td>ortholog_one2one</td>\n",
       "      <td>A0A0R4IUY2</td>\n",
       "      <td>Ensembl_PRO</td>\n",
       "      <td>ENSDARP00000138871</td>\n",
       "      <td>UP000000437</td>\n",
       "      <td>UP000000437</td>\n",
       "    </tr>\n",
       "    <tr>\n",
       "      <th>1302</th>\n",
       "      <td>NaN</td>\n",
       "      <td>ENSEMBL_ORTHOLOGUES</td>\n",
       "      <td>ENSG00000095464</td>\n",
       "      <td>67.4825</td>\n",
       "      <td>80.5361</td>\n",
       "      <td>ENSP00000360502</td>\n",
       "      <td>homo_sapiens</td>\n",
       "      <td>9606</td>\n",
       "      <td>ENSORLG00000005135</td>\n",
       "      <td>67.8781</td>\n",
       "      <td>...</td>\n",
       "      <td>ENSORLP00000006480</td>\n",
       "      <td>oryzias_latipes</td>\n",
       "      <td>8090</td>\n",
       "      <td>Gnathostomata</td>\n",
       "      <td>ortholog_one2one</td>\n",
       "      <td>H2LKC9</td>\n",
       "      <td>Ensembl_PRO</td>\n",
       "      <td>ENSORLP00000006480</td>\n",
       "      <td>UP000001038</td>\n",
       "      <td>UP000001038</td>\n",
       "    </tr>\n",
       "  </tbody>\n",
       "</table>\n",
       "<p>5 rows × 21 columns</p>\n",
       "</div>"
      ],
      "text/plain": [
       "      dn_ds     method_link_type       source__id  source__perc_id  \\\n",
       "1298    NaN  ENSEMBL_ORTHOLOGUES  ENSG00000095464          82.4009   \n",
       "1299    NaN  ENSEMBL_ORTHOLOGUES  ENSG00000095464          76.5734   \n",
       "1300    NaN  ENSEMBL_ORTHOLOGUES  ENSG00000095464          76.2238   \n",
       "1301    NaN  ENSEMBL_ORTHOLOGUES  ENSG00000095464          69.1142   \n",
       "1302    NaN  ENSEMBL_ORTHOLOGUES  ENSG00000095464          67.4825   \n",
       "\n",
       "      source__perc_pos source__protein_id source__species  source__taxon_id  \\\n",
       "1298           91.3753    ENSP00000360502    homo_sapiens              9606   \n",
       "1299           87.8788    ENSP00000360502    homo_sapiens              9606   \n",
       "1300           86.4802    ENSP00000360502    homo_sapiens              9606   \n",
       "1301           81.9347    ENSP00000360502    homo_sapiens              9606   \n",
       "1302           80.5361    ENSP00000360502    homo_sapiens              9606   \n",
       "\n",
       "              target__id  target__perc_id  ...  target__protein_id  \\\n",
       "1298  ENSGALG00000006626          82.0186  ...  ENSGALP00000010688   \n",
       "1299  ENSXETG00000017515          75.6912  ...  ENSXETP00000046201   \n",
       "1300  ENSLOCG00000005849          76.2238  ...  ENSLOCP00000007066   \n",
       "1301  ENSDARG00000100397          69.6009  ...  ENSDARP00000138871   \n",
       "1302  ENSORLG00000005135          67.8781  ...  ENSORLP00000006480   \n",
       "\n",
       "           target__species target__taxon_id  taxonomy_level              type  \\\n",
       "1298         gallus_gallus             9031    Euteleostomi  ortholog_one2one   \n",
       "1299    xenopus_tropicalis             8364   Gnathostomata  ortholog_one2one   \n",
       "1300  lepisosteus_oculatus             7918   Gnathostomata  ortholog_one2one   \n",
       "1301           danio_rerio             7955   Gnathostomata  ortholog_one2one   \n",
       "1302       oryzias_latipes             8090   Gnathostomata  ortholog_one2one   \n",
       "\n",
       "     target__uniprot_id target__id_type       target__db_id  \\\n",
       "1298             F1P429     Ensembl_PRO  ENSGALP00000010688   \n",
       "1299             Q28GF9     Ensembl_PRO  ENSXETP00000046201   \n",
       "1300             W5MFA7     Ensembl_PRO  ENSLOCP00000007066   \n",
       "1301         A0A0R4IUY2     Ensembl_PRO  ENSDARP00000138871   \n",
       "1302             H2LKC9     Ensembl_PRO  ENSORLP00000006480   \n",
       "\n",
       "     target__species_id target__taxa_id  \n",
       "1298        UP000000539     UP000000539  \n",
       "1299        UP000008143     UP000008143  \n",
       "1300        UP000018468     UP000018468  \n",
       "1301        UP000000437     UP000000437  \n",
       "1302        UP000001038     UP000001038  \n",
       "\n",
       "[5 rows x 21 columns]"
      ]
     },
     "execution_count": 42,
     "metadata": {},
     "output_type": "execute_result"
    }
   ],
   "source": [
    "%%time\n",
    "\n",
    "visual_uniprot_merge_proteins = visual.merge(id_mapping_for_merging, left_on='target__protein_id', right_on='target__db_id')\n",
    "print(visual_uniprot_merge_proteins.shape)\n",
    "visual_uniprot_merge_proteins.tail()"
   ]
  },
  {
   "cell_type": "code",
   "execution_count": 44,
   "metadata": {},
   "outputs": [
    {
     "data": {
      "text/plain": [
       "ortholog_one2one          552\n",
       "other_paralog             365\n",
       "ortholog_one2many         218\n",
       "ortholog_many2many         95\n",
       "within_species_paralog     63\n",
       "alt_allele                 10\n",
       "Name: type, dtype: int64"
      ]
     },
     "execution_count": 44,
     "metadata": {},
     "output_type": "execute_result"
    }
   ],
   "source": [
    "visual_uniprot_merge_proteins.type.value_counts()"
   ]
  },
  {
   "cell_type": "code",
   "execution_count": 41,
   "metadata": {},
   "outputs": [
    {
     "name": "stdout",
     "output_type": "stream",
     "text": [
      "(4322, 21)\n",
      "CPU times: user 12.1 s, sys: 780 ms, total: 12.9 s\n",
      "Wall time: 12.8 s\n"
     ]
    },
    {
     "data": {
      "text/html": [
       "<div>\n",
       "<style scoped>\n",
       "    .dataframe tbody tr th:only-of-type {\n",
       "        vertical-align: middle;\n",
       "    }\n",
       "\n",
       "    .dataframe tbody tr th {\n",
       "        vertical-align: top;\n",
       "    }\n",
       "\n",
       "    .dataframe thead th {\n",
       "        text-align: right;\n",
       "    }\n",
       "</style>\n",
       "<table border=\"1\" class=\"dataframe\">\n",
       "  <thead>\n",
       "    <tr style=\"text-align: right;\">\n",
       "      <th></th>\n",
       "      <th>dn_ds</th>\n",
       "      <th>method_link_type</th>\n",
       "      <th>source__id</th>\n",
       "      <th>source__perc_id</th>\n",
       "      <th>source__perc_pos</th>\n",
       "      <th>source__protein_id</th>\n",
       "      <th>source__species</th>\n",
       "      <th>source__taxon_id</th>\n",
       "      <th>target__id</th>\n",
       "      <th>target__perc_id</th>\n",
       "      <th>...</th>\n",
       "      <th>target__protein_id</th>\n",
       "      <th>target__species</th>\n",
       "      <th>target__taxon_id</th>\n",
       "      <th>taxonomy_level</th>\n",
       "      <th>type</th>\n",
       "      <th>target__uniprot_id</th>\n",
       "      <th>target__id_type</th>\n",
       "      <th>target__db_id</th>\n",
       "      <th>target__species_id</th>\n",
       "      <th>target__taxa_id</th>\n",
       "    </tr>\n",
       "  </thead>\n",
       "  <tbody>\n",
       "    <tr>\n",
       "      <th>4317</th>\n",
       "      <td>NaN</td>\n",
       "      <td>ENSEMBL_ORTHOLOGUES</td>\n",
       "      <td>ENSG00000095464</td>\n",
       "      <td>82.4009</td>\n",
       "      <td>91.3753</td>\n",
       "      <td>ENSP00000360502</td>\n",
       "      <td>homo_sapiens</td>\n",
       "      <td>9606</td>\n",
       "      <td>ENSGALG00000006626</td>\n",
       "      <td>82.0186</td>\n",
       "      <td>...</td>\n",
       "      <td>ENSGALP00000010688</td>\n",
       "      <td>gallus_gallus</td>\n",
       "      <td>9031</td>\n",
       "      <td>Euteleostomi</td>\n",
       "      <td>ortholog_one2one</td>\n",
       "      <td>F1P429</td>\n",
       "      <td>Ensembl</td>\n",
       "      <td>ENSGALG00000006626</td>\n",
       "      <td>UP000000539</td>\n",
       "      <td>UP000000539</td>\n",
       "    </tr>\n",
       "    <tr>\n",
       "      <th>4318</th>\n",
       "      <td>NaN</td>\n",
       "      <td>ENSEMBL_ORTHOLOGUES</td>\n",
       "      <td>ENSG00000095464</td>\n",
       "      <td>76.5734</td>\n",
       "      <td>87.8788</td>\n",
       "      <td>ENSP00000360502</td>\n",
       "      <td>homo_sapiens</td>\n",
       "      <td>9606</td>\n",
       "      <td>ENSXETG00000017515</td>\n",
       "      <td>75.6912</td>\n",
       "      <td>...</td>\n",
       "      <td>ENSXETP00000046201</td>\n",
       "      <td>xenopus_tropicalis</td>\n",
       "      <td>8364</td>\n",
       "      <td>Gnathostomata</td>\n",
       "      <td>ortholog_one2one</td>\n",
       "      <td>F7B9P1</td>\n",
       "      <td>Ensembl</td>\n",
       "      <td>ENSXETG00000017515</td>\n",
       "      <td>UP000008143</td>\n",
       "      <td>UP000008143</td>\n",
       "    </tr>\n",
       "    <tr>\n",
       "      <th>4319</th>\n",
       "      <td>NaN</td>\n",
       "      <td>ENSEMBL_ORTHOLOGUES</td>\n",
       "      <td>ENSG00000095464</td>\n",
       "      <td>76.2238</td>\n",
       "      <td>86.4802</td>\n",
       "      <td>ENSP00000360502</td>\n",
       "      <td>homo_sapiens</td>\n",
       "      <td>9606</td>\n",
       "      <td>ENSLOCG00000005849</td>\n",
       "      <td>76.2238</td>\n",
       "      <td>...</td>\n",
       "      <td>ENSLOCP00000007066</td>\n",
       "      <td>lepisosteus_oculatus</td>\n",
       "      <td>7918</td>\n",
       "      <td>Gnathostomata</td>\n",
       "      <td>ortholog_one2one</td>\n",
       "      <td>W5MFA7</td>\n",
       "      <td>Ensembl</td>\n",
       "      <td>ENSLOCG00000005849</td>\n",
       "      <td>UP000018468</td>\n",
       "      <td>UP000018468</td>\n",
       "    </tr>\n",
       "    <tr>\n",
       "      <th>4320</th>\n",
       "      <td>NaN</td>\n",
       "      <td>ENSEMBL_ORTHOLOGUES</td>\n",
       "      <td>ENSG00000095464</td>\n",
       "      <td>69.1142</td>\n",
       "      <td>81.9347</td>\n",
       "      <td>ENSP00000360502</td>\n",
       "      <td>homo_sapiens</td>\n",
       "      <td>9606</td>\n",
       "      <td>ENSDARG00000100397</td>\n",
       "      <td>69.6009</td>\n",
       "      <td>...</td>\n",
       "      <td>ENSDARP00000138871</td>\n",
       "      <td>danio_rerio</td>\n",
       "      <td>7955</td>\n",
       "      <td>Gnathostomata</td>\n",
       "      <td>ortholog_one2one</td>\n",
       "      <td>A0A0R4IUY2</td>\n",
       "      <td>Ensembl</td>\n",
       "      <td>ENSDARG00000100397</td>\n",
       "      <td>UP000000437</td>\n",
       "      <td>UP000000437</td>\n",
       "    </tr>\n",
       "    <tr>\n",
       "      <th>4321</th>\n",
       "      <td>NaN</td>\n",
       "      <td>ENSEMBL_ORTHOLOGUES</td>\n",
       "      <td>ENSG00000095464</td>\n",
       "      <td>67.4825</td>\n",
       "      <td>80.5361</td>\n",
       "      <td>ENSP00000360502</td>\n",
       "      <td>homo_sapiens</td>\n",
       "      <td>9606</td>\n",
       "      <td>ENSORLG00000005135</td>\n",
       "      <td>67.8781</td>\n",
       "      <td>...</td>\n",
       "      <td>ENSORLP00000006480</td>\n",
       "      <td>oryzias_latipes</td>\n",
       "      <td>8090</td>\n",
       "      <td>Gnathostomata</td>\n",
       "      <td>ortholog_one2one</td>\n",
       "      <td>H2LKC9</td>\n",
       "      <td>Ensembl</td>\n",
       "      <td>ENSORLG00000005135</td>\n",
       "      <td>UP000001038</td>\n",
       "      <td>UP000001038</td>\n",
       "    </tr>\n",
       "  </tbody>\n",
       "</table>\n",
       "<p>5 rows × 21 columns</p>\n",
       "</div>"
      ],
      "text/plain": [
       "      dn_ds     method_link_type       source__id  source__perc_id  \\\n",
       "4317    NaN  ENSEMBL_ORTHOLOGUES  ENSG00000095464          82.4009   \n",
       "4318    NaN  ENSEMBL_ORTHOLOGUES  ENSG00000095464          76.5734   \n",
       "4319    NaN  ENSEMBL_ORTHOLOGUES  ENSG00000095464          76.2238   \n",
       "4320    NaN  ENSEMBL_ORTHOLOGUES  ENSG00000095464          69.1142   \n",
       "4321    NaN  ENSEMBL_ORTHOLOGUES  ENSG00000095464          67.4825   \n",
       "\n",
       "      source__perc_pos source__protein_id source__species  source__taxon_id  \\\n",
       "4317           91.3753    ENSP00000360502    homo_sapiens              9606   \n",
       "4318           87.8788    ENSP00000360502    homo_sapiens              9606   \n",
       "4319           86.4802    ENSP00000360502    homo_sapiens              9606   \n",
       "4320           81.9347    ENSP00000360502    homo_sapiens              9606   \n",
       "4321           80.5361    ENSP00000360502    homo_sapiens              9606   \n",
       "\n",
       "              target__id  target__perc_id  ...  target__protein_id  \\\n",
       "4317  ENSGALG00000006626          82.0186  ...  ENSGALP00000010688   \n",
       "4318  ENSXETG00000017515          75.6912  ...  ENSXETP00000046201   \n",
       "4319  ENSLOCG00000005849          76.2238  ...  ENSLOCP00000007066   \n",
       "4320  ENSDARG00000100397          69.6009  ...  ENSDARP00000138871   \n",
       "4321  ENSORLG00000005135          67.8781  ...  ENSORLP00000006480   \n",
       "\n",
       "           target__species target__taxon_id  taxonomy_level              type  \\\n",
       "4317         gallus_gallus             9031    Euteleostomi  ortholog_one2one   \n",
       "4318    xenopus_tropicalis             8364   Gnathostomata  ortholog_one2one   \n",
       "4319  lepisosteus_oculatus             7918   Gnathostomata  ortholog_one2one   \n",
       "4320           danio_rerio             7955   Gnathostomata  ortholog_one2one   \n",
       "4321       oryzias_latipes             8090   Gnathostomata  ortholog_one2one   \n",
       "\n",
       "     target__uniprot_id target__id_type       target__db_id  \\\n",
       "4317             F1P429         Ensembl  ENSGALG00000006626   \n",
       "4318             F7B9P1         Ensembl  ENSXETG00000017515   \n",
       "4319             W5MFA7         Ensembl  ENSLOCG00000005849   \n",
       "4320         A0A0R4IUY2         Ensembl  ENSDARG00000100397   \n",
       "4321             H2LKC9         Ensembl  ENSORLG00000005135   \n",
       "\n",
       "     target__species_id target__taxa_id  \n",
       "4317        UP000000539     UP000000539  \n",
       "4318        UP000008143     UP000008143  \n",
       "4319        UP000018468     UP000018468  \n",
       "4320        UP000000437     UP000000437  \n",
       "4321        UP000001038     UP000001038  \n",
       "\n",
       "[5 rows x 21 columns]"
      ]
     },
     "execution_count": 41,
     "metadata": {},
     "output_type": "execute_result"
    }
   ],
   "source": [
    "%%time\n",
    "\n",
    "visual_uniprot_merge_genes = visual.merge(id_mapping_for_merging, left_on='target__id', right_on='target__db_id')\n",
    "print(visual_uniprot_merge_genes.shape)\n",
    "visual_uniprot_merge_genes.tail()"
   ]
  },
  {
   "cell_type": "code",
   "execution_count": 45,
   "metadata": {},
   "outputs": [
    {
     "data": {
      "text/plain": [
       "other_paralog             2391\n",
       "ortholog_one2one           976\n",
       "ortholog_one2many          337\n",
       "ortholog_many2many         326\n",
       "within_species_paralog     258\n",
       "alt_allele                  34\n",
       "Name: type, dtype: int64"
      ]
     },
     "execution_count": 45,
     "metadata": {},
     "output_type": "execute_result"
    }
   ],
   "source": [
    "visual_uniprot_merge_genes.type.value_counts()"
   ]
  },
  {
   "cell_type": "markdown",
   "metadata": {},
   "source": [
    "## Read in QfO human uniprot ids"
   ]
  },
  {
   "cell_type": "code",
   "execution_count": 22,
   "metadata": {},
   "outputs": [
    {
     "name": "stdout",
     "output_type": "stream",
     "text": [
      "(2668934, 3)\n"
     ]
    },
    {
     "data": {
      "text/html": [
       "<div>\n",
       "<style scoped>\n",
       "    .dataframe tbody tr th:only-of-type {\n",
       "        vertical-align: middle;\n",
       "    }\n",
       "\n",
       "    .dataframe tbody tr th {\n",
       "        vertical-align: top;\n",
       "    }\n",
       "\n",
       "    .dataframe thead th {\n",
       "        text-align: right;\n",
       "    }\n",
       "</style>\n",
       "<table border=\"1\" class=\"dataframe\">\n",
       "  <thead>\n",
       "    <tr style=\"text-align: right;\">\n",
       "      <th></th>\n",
       "      <th>source__uniprot_id</th>\n",
       "      <th>source__id_type</th>\n",
       "      <th>source__db_id</th>\n",
       "    </tr>\n",
       "  </thead>\n",
       "  <tbody>\n",
       "    <tr>\n",
       "      <th>0</th>\n",
       "      <td>P62258-2</td>\n",
       "      <td>UniParc</td>\n",
       "      <td>UPI00001E6021</td>\n",
       "    </tr>\n",
       "    <tr>\n",
       "      <th>1</th>\n",
       "      <td>P62258-2</td>\n",
       "      <td>Ensembl_TRS</td>\n",
       "      <td>ENST00000571732</td>\n",
       "    </tr>\n",
       "    <tr>\n",
       "      <th>2</th>\n",
       "      <td>P62258-2</td>\n",
       "      <td>Ensembl_PRO</td>\n",
       "      <td>ENSP00000461762</td>\n",
       "    </tr>\n",
       "    <tr>\n",
       "      <th>3</th>\n",
       "      <td>P62258-2</td>\n",
       "      <td>Ensembl_TRS</td>\n",
       "      <td>ENST00000616643</td>\n",
       "    </tr>\n",
       "    <tr>\n",
       "      <th>4</th>\n",
       "      <td>P62258-2</td>\n",
       "      <td>Ensembl_PRO</td>\n",
       "      <td>ENSP00000481059</td>\n",
       "    </tr>\n",
       "  </tbody>\n",
       "</table>\n",
       "</div>"
      ],
      "text/plain": [
       "  source__uniprot_id source__id_type    source__db_id\n",
       "0           P62258-2         UniParc    UPI00001E6021\n",
       "1           P62258-2     Ensembl_TRS  ENST00000571732\n",
       "2           P62258-2     Ensembl_PRO  ENSP00000461762\n",
       "3           P62258-2     Ensembl_TRS  ENST00000616643\n",
       "4           P62258-2     Ensembl_PRO  ENSP00000481059"
      ]
     },
     "execution_count": 22,
     "metadata": {},
     "output_type": "execute_result"
    }
   ],
   "source": [
    "human_id_mapping = pd.read_csv('Eukaryota/UP000005640_9606.idmapping', sep='\\t', header=None, names=['uniprot_id', 'id_type', 'db_id'])\n",
    "human_id_mapping.columns = 'source__' + human_id_mapping.columns\n",
    "print(human_id_mapping.shape)\n",
    "human_id_mapping.head()"
   ]
  },
  {
   "cell_type": "code",
   "execution_count": 76,
   "metadata": {},
   "outputs": [
    {
     "data": {
      "text/html": [
       "<div>\n",
       "<style scoped>\n",
       "    .dataframe tbody tr th:only-of-type {\n",
       "        vertical-align: middle;\n",
       "    }\n",
       "\n",
       "    .dataframe tbody tr th {\n",
       "        vertical-align: top;\n",
       "    }\n",
       "\n",
       "    .dataframe thead th {\n",
       "        text-align: right;\n",
       "    }\n",
       "</style>\n",
       "<table border=\"1\" class=\"dataframe\">\n",
       "  <thead>\n",
       "    <tr style=\"text-align: right;\">\n",
       "      <th></th>\n",
       "      <th>dn_ds</th>\n",
       "      <th>method_link_type</th>\n",
       "      <th>source__id</th>\n",
       "      <th>source__perc_id</th>\n",
       "      <th>source__perc_pos</th>\n",
       "      <th>source__protein_id</th>\n",
       "      <th>source__species</th>\n",
       "      <th>source__taxon_id</th>\n",
       "      <th>target__id</th>\n",
       "      <th>target__perc_id</th>\n",
       "      <th>...</th>\n",
       "      <th>target__protein_id</th>\n",
       "      <th>target__species</th>\n",
       "      <th>target__taxon_id</th>\n",
       "      <th>taxonomy_level</th>\n",
       "      <th>type</th>\n",
       "      <th>target__uniprot_id</th>\n",
       "      <th>target__id_type</th>\n",
       "      <th>target__db_id</th>\n",
       "      <th>target__species_id</th>\n",
       "      <th>target__taxa_id</th>\n",
       "    </tr>\n",
       "  </thead>\n",
       "  <tbody>\n",
       "    <tr>\n",
       "      <th>0</th>\n",
       "      <td>NaN</td>\n",
       "      <td>ENSEMBL_PARALOGUES</td>\n",
       "      <td>ENSG00000198515</td>\n",
       "      <td>50.5929</td>\n",
       "      <td>62.8458</td>\n",
       "      <td>ENSP00000384264</td>\n",
       "      <td>homo_sapiens</td>\n",
       "      <td>9606</td>\n",
       "      <td>ENSG00000183862</td>\n",
       "      <td>57.8313</td>\n",
       "      <td>...</td>\n",
       "      <td>ENSP00000328478</td>\n",
       "      <td>homo_sapiens</td>\n",
       "      <td>9606</td>\n",
       "      <td>Bilateria</td>\n",
       "      <td>other_paralog</td>\n",
       "      <td>Q16280</td>\n",
       "      <td>Ensembl_PRO</td>\n",
       "      <td>ENSP00000328478</td>\n",
       "      <td>UP000005640</td>\n",
       "      <td>UP000005640</td>\n",
       "    </tr>\n",
       "    <tr>\n",
       "      <th>1</th>\n",
       "      <td>NaN</td>\n",
       "      <td>ENSEMBL_PARALOGUES</td>\n",
       "      <td>ENSG00000170289</td>\n",
       "      <td>22.2497</td>\n",
       "      <td>37.5773</td>\n",
       "      <td>ENSP00000316605</td>\n",
       "      <td>homo_sapiens</td>\n",
       "      <td>9606</td>\n",
       "      <td>ENSG00000183862</td>\n",
       "      <td>27.1084</td>\n",
       "      <td>...</td>\n",
       "      <td>ENSP00000328478</td>\n",
       "      <td>homo_sapiens</td>\n",
       "      <td>9606</td>\n",
       "      <td>Bilateria</td>\n",
       "      <td>other_paralog</td>\n",
       "      <td>Q16280</td>\n",
       "      <td>Ensembl_PRO</td>\n",
       "      <td>ENSP00000328478</td>\n",
       "      <td>UP000005640</td>\n",
       "      <td>UP000005640</td>\n",
       "    </tr>\n",
       "    <tr>\n",
       "      <th>2</th>\n",
       "      <td>NaN</td>\n",
       "      <td>ENSEMBL_PARALOGUES</td>\n",
       "      <td>ENSG00000070729</td>\n",
       "      <td>14.9480</td>\n",
       "      <td>26.0592</td>\n",
       "      <td>ENSP00000251102</td>\n",
       "      <td>homo_sapiens</td>\n",
       "      <td>9606</td>\n",
       "      <td>ENSG00000183862</td>\n",
       "      <td>28.1627</td>\n",
       "      <td>...</td>\n",
       "      <td>ENSP00000328478</td>\n",
       "      <td>homo_sapiens</td>\n",
       "      <td>9606</td>\n",
       "      <td>Bilateria</td>\n",
       "      <td>other_paralog</td>\n",
       "      <td>Q16280</td>\n",
       "      <td>Ensembl_PRO</td>\n",
       "      <td>ENSP00000328478</td>\n",
       "      <td>UP000005640</td>\n",
       "      <td>UP000005640</td>\n",
       "    </tr>\n",
       "    <tr>\n",
       "      <th>3</th>\n",
       "      <td>NaN</td>\n",
       "      <td>ENSEMBL_PARALOGUES</td>\n",
       "      <td>ENSG00000198515</td>\n",
       "      <td>50.5929</td>\n",
       "      <td>62.8458</td>\n",
       "      <td>ENSP00000384264</td>\n",
       "      <td>homo_sapiens</td>\n",
       "      <td>9606</td>\n",
       "      <td>ENSG00000183862</td>\n",
       "      <td>57.8313</td>\n",
       "      <td>...</td>\n",
       "      <td>ENSP00000328478</td>\n",
       "      <td>homo_sapiens</td>\n",
       "      <td>9606</td>\n",
       "      <td>Bilateria</td>\n",
       "      <td>other_paralog</td>\n",
       "      <td>Q16280</td>\n",
       "      <td>Ensembl_PRO</td>\n",
       "      <td>ENSP00000328478</td>\n",
       "      <td>UP000005640</td>\n",
       "      <td>UP000005640</td>\n",
       "    </tr>\n",
       "    <tr>\n",
       "      <th>4</th>\n",
       "      <td>NaN</td>\n",
       "      <td>ENSEMBL_PARALOGUES</td>\n",
       "      <td>ENSG00000144191</td>\n",
       "      <td>59.2219</td>\n",
       "      <td>72.6225</td>\n",
       "      <td>ENSP00000272602</td>\n",
       "      <td>homo_sapiens</td>\n",
       "      <td>9606</td>\n",
       "      <td>ENSG00000183862</td>\n",
       "      <td>61.8976</td>\n",
       "      <td>...</td>\n",
       "      <td>ENSP00000328478</td>\n",
       "      <td>homo_sapiens</td>\n",
       "      <td>9606</td>\n",
       "      <td>Bilateria</td>\n",
       "      <td>other_paralog</td>\n",
       "      <td>Q16280</td>\n",
       "      <td>Ensembl_PRO</td>\n",
       "      <td>ENSP00000328478</td>\n",
       "      <td>UP000005640</td>\n",
       "      <td>UP000005640</td>\n",
       "    </tr>\n",
       "  </tbody>\n",
       "</table>\n",
       "<p>5 rows × 21 columns</p>\n",
       "</div>"
      ],
      "text/plain": [
       "   dn_ds    method_link_type       source__id  source__perc_id  \\\n",
       "0    NaN  ENSEMBL_PARALOGUES  ENSG00000198515          50.5929   \n",
       "1    NaN  ENSEMBL_PARALOGUES  ENSG00000170289          22.2497   \n",
       "2    NaN  ENSEMBL_PARALOGUES  ENSG00000070729          14.9480   \n",
       "3    NaN  ENSEMBL_PARALOGUES  ENSG00000198515          50.5929   \n",
       "4    NaN  ENSEMBL_PARALOGUES  ENSG00000144191          59.2219   \n",
       "\n",
       "   source__perc_pos source__protein_id source__species  source__taxon_id  \\\n",
       "0           62.8458    ENSP00000384264    homo_sapiens              9606   \n",
       "1           37.5773    ENSP00000316605    homo_sapiens              9606   \n",
       "2           26.0592    ENSP00000251102    homo_sapiens              9606   \n",
       "3           62.8458    ENSP00000384264    homo_sapiens              9606   \n",
       "4           72.6225    ENSP00000272602    homo_sapiens              9606   \n",
       "\n",
       "        target__id  target__perc_id  ...  target__protein_id target__species  \\\n",
       "0  ENSG00000183862          57.8313  ...     ENSP00000328478    homo_sapiens   \n",
       "1  ENSG00000183862          27.1084  ...     ENSP00000328478    homo_sapiens   \n",
       "2  ENSG00000183862          28.1627  ...     ENSP00000328478    homo_sapiens   \n",
       "3  ENSG00000183862          57.8313  ...     ENSP00000328478    homo_sapiens   \n",
       "4  ENSG00000183862          61.8976  ...     ENSP00000328478    homo_sapiens   \n",
       "\n",
       "  target__taxon_id  taxonomy_level           type target__uniprot_id  \\\n",
       "0             9606       Bilateria  other_paralog             Q16280   \n",
       "1             9606       Bilateria  other_paralog             Q16280   \n",
       "2             9606       Bilateria  other_paralog             Q16280   \n",
       "3             9606       Bilateria  other_paralog             Q16280   \n",
       "4             9606       Bilateria  other_paralog             Q16280   \n",
       "\n",
       "  target__id_type    target__db_id target__species_id target__taxa_id  \n",
       "0     Ensembl_PRO  ENSP00000328478        UP000005640     UP000005640  \n",
       "1     Ensembl_PRO  ENSP00000328478        UP000005640     UP000005640  \n",
       "2     Ensembl_PRO  ENSP00000328478        UP000005640     UP000005640  \n",
       "3     Ensembl_PRO  ENSP00000328478        UP000005640     UP000005640  \n",
       "4     Ensembl_PRO  ENSP00000328478        UP000005640     UP000005640  \n",
       "\n",
       "[5 rows x 21 columns]"
      ]
     },
     "execution_count": 76,
     "metadata": {},
     "output_type": "execute_result"
    }
   ],
   "source": [
    "visual_uniprot_merge_proteins.head()"
   ]
  },
  {
   "cell_type": "code",
   "execution_count": 77,
   "metadata": {},
   "outputs": [
    {
     "data": {
      "text/html": [
       "<div>\n",
       "<style scoped>\n",
       "    .dataframe tbody tr th:only-of-type {\n",
       "        vertical-align: middle;\n",
       "    }\n",
       "\n",
       "    .dataframe tbody tr th {\n",
       "        vertical-align: top;\n",
       "    }\n",
       "\n",
       "    .dataframe thead th {\n",
       "        text-align: right;\n",
       "    }\n",
       "</style>\n",
       "<table border=\"1\" class=\"dataframe\">\n",
       "  <thead>\n",
       "    <tr style=\"text-align: right;\">\n",
       "      <th></th>\n",
       "      <th>source__uniprot_id</th>\n",
       "      <th>source__id_type</th>\n",
       "      <th>source__db_id</th>\n",
       "    </tr>\n",
       "  </thead>\n",
       "  <tbody>\n",
       "    <tr>\n",
       "      <th>0</th>\n",
       "      <td>P62258-2</td>\n",
       "      <td>UniParc</td>\n",
       "      <td>UPI00001E6021</td>\n",
       "    </tr>\n",
       "    <tr>\n",
       "      <th>1</th>\n",
       "      <td>P62258-2</td>\n",
       "      <td>Ensembl_TRS</td>\n",
       "      <td>ENST00000571732</td>\n",
       "    </tr>\n",
       "    <tr>\n",
       "      <th>2</th>\n",
       "      <td>P62258-2</td>\n",
       "      <td>Ensembl_PRO</td>\n",
       "      <td>ENSP00000461762</td>\n",
       "    </tr>\n",
       "    <tr>\n",
       "      <th>3</th>\n",
       "      <td>P62258-2</td>\n",
       "      <td>Ensembl_TRS</td>\n",
       "      <td>ENST00000616643</td>\n",
       "    </tr>\n",
       "    <tr>\n",
       "      <th>4</th>\n",
       "      <td>P62258-2</td>\n",
       "      <td>Ensembl_PRO</td>\n",
       "      <td>ENSP00000481059</td>\n",
       "    </tr>\n",
       "  </tbody>\n",
       "</table>\n",
       "</div>"
      ],
      "text/plain": [
       "  source__uniprot_id source__id_type    source__db_id\n",
       "0           P62258-2         UniParc    UPI00001E6021\n",
       "1           P62258-2     Ensembl_TRS  ENST00000571732\n",
       "2           P62258-2     Ensembl_PRO  ENSP00000461762\n",
       "3           P62258-2     Ensembl_TRS  ENST00000616643\n",
       "4           P62258-2     Ensembl_PRO  ENSP00000481059"
      ]
     },
     "execution_count": 77,
     "metadata": {},
     "output_type": "execute_result"
    }
   ],
   "source": [
    "human_id_mapping.head()"
   ]
  },
  {
   "cell_type": "markdown",
   "metadata": {},
   "source": [
    "## Merge  with human id mapping"
   ]
  },
  {
   "cell_type": "code",
   "execution_count": 78,
   "metadata": {},
   "outputs": [
    {
     "name": "stdout",
     "output_type": "stream",
     "text": [
      "(2670214, 24)\n",
      "CPU times: user 2.31 s, sys: 416 ms, total: 2.72 s\n",
      "Wall time: 2.72 s\n"
     ]
    },
    {
     "data": {
      "text/html": [
       "<div>\n",
       "<style scoped>\n",
       "    .dataframe tbody tr th:only-of-type {\n",
       "        vertical-align: middle;\n",
       "    }\n",
       "\n",
       "    .dataframe tbody tr th {\n",
       "        vertical-align: top;\n",
       "    }\n",
       "\n",
       "    .dataframe thead th {\n",
       "        text-align: right;\n",
       "    }\n",
       "</style>\n",
       "<table border=\"1\" class=\"dataframe\">\n",
       "  <thead>\n",
       "    <tr style=\"text-align: right;\">\n",
       "      <th></th>\n",
       "      <th>dn_ds</th>\n",
       "      <th>method_link_type</th>\n",
       "      <th>human__id</th>\n",
       "      <th>human__perc_id</th>\n",
       "      <th>human__perc_pos</th>\n",
       "      <th>human__protein_id</th>\n",
       "      <th>human__species</th>\n",
       "      <th>human__taxon_id</th>\n",
       "      <th>target__id</th>\n",
       "      <th>target__perc_id</th>\n",
       "      <th>...</th>\n",
       "      <th>taxonomy_level</th>\n",
       "      <th>type</th>\n",
       "      <th>target__uniprot_id</th>\n",
       "      <th>target__id_type</th>\n",
       "      <th>target__db_id</th>\n",
       "      <th>target__species_id</th>\n",
       "      <th>target__taxa_id</th>\n",
       "      <th>human__uniprot_id</th>\n",
       "      <th>human__id_type</th>\n",
       "      <th>human__db_id</th>\n",
       "    </tr>\n",
       "  </thead>\n",
       "  <tbody>\n",
       "    <tr>\n",
       "      <th>27</th>\n",
       "      <td>0.35714</td>\n",
       "      <td>ENSEMBL_ORTHOLOGUES</td>\n",
       "      <td>ENSG00000198515</td>\n",
       "      <td>95.2569</td>\n",
       "      <td>95.5204</td>\n",
       "      <td>ENSP00000384264</td>\n",
       "      <td>homo_sapiens</td>\n",
       "      <td>9606.0</td>\n",
       "      <td>ENSGGOG00000013840</td>\n",
       "      <td>99.3132</td>\n",
       "      <td>...</td>\n",
       "      <td>Homininae</td>\n",
       "      <td>ortholog_one2one</td>\n",
       "      <td>G3RDA4</td>\n",
       "      <td>Ensembl_PRO</td>\n",
       "      <td>ENSGGOP00000013502</td>\n",
       "      <td>UP000001519</td>\n",
       "      <td>UP000001519</td>\n",
       "      <td>P29973-2</td>\n",
       "      <td>Ensembl_PRO</td>\n",
       "      <td>ENSP00000384264</td>\n",
       "    </tr>\n",
       "    <tr>\n",
       "      <th>28</th>\n",
       "      <td>0.35714</td>\n",
       "      <td>ENSEMBL_ORTHOLOGUES</td>\n",
       "      <td>ENSG00000198515</td>\n",
       "      <td>95.2569</td>\n",
       "      <td>95.5204</td>\n",
       "      <td>ENSP00000384264</td>\n",
       "      <td>homo_sapiens</td>\n",
       "      <td>9606.0</td>\n",
       "      <td>ENSGGOG00000013840</td>\n",
       "      <td>99.3132</td>\n",
       "      <td>...</td>\n",
       "      <td>Homininae</td>\n",
       "      <td>ortholog_one2one</td>\n",
       "      <td>G3RDA4</td>\n",
       "      <td>Ensembl_PRO</td>\n",
       "      <td>ENSGGOP00000013502</td>\n",
       "      <td>UP000001519</td>\n",
       "      <td>UP000001519</td>\n",
       "      <td>P29973-2</td>\n",
       "      <td>Ensembl_PRO</td>\n",
       "      <td>ENSP00000384264</td>\n",
       "    </tr>\n",
       "    <tr>\n",
       "      <th>29</th>\n",
       "      <td>0.35714</td>\n",
       "      <td>ENSEMBL_ORTHOLOGUES</td>\n",
       "      <td>ENSG00000198515</td>\n",
       "      <td>95.2569</td>\n",
       "      <td>95.5204</td>\n",
       "      <td>ENSP00000384264</td>\n",
       "      <td>homo_sapiens</td>\n",
       "      <td>9606.0</td>\n",
       "      <td>ENSGGOG00000013840</td>\n",
       "      <td>99.3132</td>\n",
       "      <td>...</td>\n",
       "      <td>Homininae</td>\n",
       "      <td>ortholog_one2one</td>\n",
       "      <td>G3RDA4</td>\n",
       "      <td>Ensembl_PRO</td>\n",
       "      <td>ENSGGOP00000013502</td>\n",
       "      <td>UP000001519</td>\n",
       "      <td>UP000001519</td>\n",
       "      <td>P29973-2</td>\n",
       "      <td>Ensembl_PRO</td>\n",
       "      <td>ENSP00000384264</td>\n",
       "    </tr>\n",
       "    <tr>\n",
       "      <th>36</th>\n",
       "      <td>0.09675</td>\n",
       "      <td>ENSEMBL_ORTHOLOGUES</td>\n",
       "      <td>ENSG00000198515</td>\n",
       "      <td>81.1594</td>\n",
       "      <td>85.6390</td>\n",
       "      <td>ENSP00000384264</td>\n",
       "      <td>homo_sapiens</td>\n",
       "      <td>9606.0</td>\n",
       "      <td>ENSMUSG00000067220</td>\n",
       "      <td>90.0585</td>\n",
       "      <td>...</td>\n",
       "      <td>Euarchontoglires</td>\n",
       "      <td>ortholog_one2one</td>\n",
       "      <td>P29974</td>\n",
       "      <td>Ensembl_PRO</td>\n",
       "      <td>ENSMUSP00000084464</td>\n",
       "      <td>UP000000589</td>\n",
       "      <td>UP000000589</td>\n",
       "      <td>P29973-2</td>\n",
       "      <td>Ensembl_PRO</td>\n",
       "      <td>ENSP00000384264</td>\n",
       "    </tr>\n",
       "    <tr>\n",
       "      <th>37</th>\n",
       "      <td>0.09675</td>\n",
       "      <td>ENSEMBL_ORTHOLOGUES</td>\n",
       "      <td>ENSG00000198515</td>\n",
       "      <td>81.1594</td>\n",
       "      <td>85.6390</td>\n",
       "      <td>ENSP00000384264</td>\n",
       "      <td>homo_sapiens</td>\n",
       "      <td>9606.0</td>\n",
       "      <td>ENSMUSG00000067220</td>\n",
       "      <td>90.0585</td>\n",
       "      <td>...</td>\n",
       "      <td>Euarchontoglires</td>\n",
       "      <td>ortholog_one2one</td>\n",
       "      <td>P29974</td>\n",
       "      <td>Ensembl_PRO</td>\n",
       "      <td>ENSMUSP00000084464</td>\n",
       "      <td>UP000000589</td>\n",
       "      <td>UP000000589</td>\n",
       "      <td>P29973-2</td>\n",
       "      <td>Ensembl_PRO</td>\n",
       "      <td>ENSP00000384264</td>\n",
       "    </tr>\n",
       "  </tbody>\n",
       "</table>\n",
       "<p>5 rows × 24 columns</p>\n",
       "</div>"
      ],
      "text/plain": [
       "      dn_ds     method_link_type        human__id  human__perc_id  \\\n",
       "27  0.35714  ENSEMBL_ORTHOLOGUES  ENSG00000198515         95.2569   \n",
       "28  0.35714  ENSEMBL_ORTHOLOGUES  ENSG00000198515         95.2569   \n",
       "29  0.35714  ENSEMBL_ORTHOLOGUES  ENSG00000198515         95.2569   \n",
       "36  0.09675  ENSEMBL_ORTHOLOGUES  ENSG00000198515         81.1594   \n",
       "37  0.09675  ENSEMBL_ORTHOLOGUES  ENSG00000198515         81.1594   \n",
       "\n",
       "    human__perc_pos human__protein_id human__species  human__taxon_id  \\\n",
       "27          95.5204   ENSP00000384264   homo_sapiens           9606.0   \n",
       "28          95.5204   ENSP00000384264   homo_sapiens           9606.0   \n",
       "29          95.5204   ENSP00000384264   homo_sapiens           9606.0   \n",
       "36          85.6390   ENSP00000384264   homo_sapiens           9606.0   \n",
       "37          85.6390   ENSP00000384264   homo_sapiens           9606.0   \n",
       "\n",
       "            target__id  target__perc_id  ...    taxonomy_level  \\\n",
       "27  ENSGGOG00000013840          99.3132  ...         Homininae   \n",
       "28  ENSGGOG00000013840          99.3132  ...         Homininae   \n",
       "29  ENSGGOG00000013840          99.3132  ...         Homininae   \n",
       "36  ENSMUSG00000067220          90.0585  ...  Euarchontoglires   \n",
       "37  ENSMUSG00000067220          90.0585  ...  Euarchontoglires   \n",
       "\n",
       "                type target__uniprot_id  target__id_type       target__db_id  \\\n",
       "27  ortholog_one2one             G3RDA4      Ensembl_PRO  ENSGGOP00000013502   \n",
       "28  ortholog_one2one             G3RDA4      Ensembl_PRO  ENSGGOP00000013502   \n",
       "29  ortholog_one2one             G3RDA4      Ensembl_PRO  ENSGGOP00000013502   \n",
       "36  ortholog_one2one             P29974      Ensembl_PRO  ENSMUSP00000084464   \n",
       "37  ortholog_one2one             P29974      Ensembl_PRO  ENSMUSP00000084464   \n",
       "\n",
       "   target__species_id target__taxa_id human__uniprot_id human__id_type  \\\n",
       "27        UP000001519     UP000001519          P29973-2    Ensembl_PRO   \n",
       "28        UP000001519     UP000001519          P29973-2    Ensembl_PRO   \n",
       "29        UP000001519     UP000001519          P29973-2    Ensembl_PRO   \n",
       "36        UP000000589     UP000000589          P29973-2    Ensembl_PRO   \n",
       "37        UP000000589     UP000000589          P29973-2    Ensembl_PRO   \n",
       "\n",
       "       human__db_id  \n",
       "27  ENSP00000384264  \n",
       "28  ENSP00000384264  \n",
       "29  ENSP00000384264  \n",
       "36  ENSP00000384264  \n",
       "37  ENSP00000384264  \n",
       "\n",
       "[5 rows x 24 columns]"
      ]
     },
     "execution_count": 78,
     "metadata": {},
     "output_type": "execute_result"
    }
   ],
   "source": [
    "%%time \n",
    "visual_uniprot_merge_proteins_with_human = visual_uniprot_merge_proteins.merge(\n",
    "    human_id_mapping, left_on='source__protein_id', right_on='source__db_id', how='outer')\n",
    "visual_uniprot_merge_proteins_with_human.columns = visual_uniprot_merge_proteins_with_human.columns.str.replace(\"source__\", 'human__')\n",
    "print(visual_uniprot_merge_proteins_with_human.shape)\n",
    "visual_uniprot_merge_proteins_with_human.query('type == \"ortholog_one2one\"').head()"
   ]
  },
  {
   "cell_type": "markdown",
   "metadata": {},
   "source": [
    "## Spot check known orthologs\n",
    "\n",
    "```\n",
    "tr|W5NNY8|W5NNY8_LEPOC Rhodopsin OS=Lepisosteu...\tsp|P08100|OPSD_HUMAN Rhodopsin OS=Homo sapiens...\n",
    "```"
   ]
  },
  {
   "cell_type": "code",
   "execution_count": 83,
   "metadata": {},
   "outputs": [],
   "source": [
    "# Lepisosteus oculatus (Spotted gar)\n",
    "spotted_gar_rhodopsin = 'W5NNY8'\n",
    "\n",
    "human_rhodopsin = 'P08100'"
   ]
  },
  {
   "cell_type": "code",
   "execution_count": 88,
   "metadata": {},
   "outputs": [
    {
     "data": {
      "text/html": [
       "<div>\n",
       "<style scoped>\n",
       "    .dataframe tbody tr th:only-of-type {\n",
       "        vertical-align: middle;\n",
       "    }\n",
       "\n",
       "    .dataframe tbody tr th {\n",
       "        vertical-align: top;\n",
       "    }\n",
       "\n",
       "    .dataframe thead th {\n",
       "        text-align: right;\n",
       "    }\n",
       "</style>\n",
       "<table border=\"1\" class=\"dataframe\">\n",
       "  <thead>\n",
       "    <tr style=\"text-align: right;\">\n",
       "      <th></th>\n",
       "      <th>source__uniprot_id</th>\n",
       "      <th>source__id_type</th>\n",
       "      <th>source__db_id</th>\n",
       "    </tr>\n",
       "  </thead>\n",
       "  <tbody>\n",
       "    <tr>\n",
       "      <th>1572356</th>\n",
       "      <td>P08100</td>\n",
       "      <td>Ensembl_PRO</td>\n",
       "      <td>ENSP00000296271</td>\n",
       "    </tr>\n",
       "  </tbody>\n",
       "</table>\n",
       "</div>"
      ],
      "text/plain": [
       "        source__uniprot_id source__id_type    source__db_id\n",
       "1572356             P08100     Ensembl_PRO  ENSP00000296271"
      ]
     },
     "execution_count": 88,
     "metadata": {},
     "output_type": "execute_result"
    }
   ],
   "source": [
    "human_id_mapping.query('source__uniprot_id == @human_rhodopsin & source__id_type == \"Ensembl_PRO\"')"
   ]
  },
  {
   "cell_type": "code",
   "execution_count": 85,
   "metadata": {},
   "outputs": [
    {
     "data": {
      "text/html": [
       "<div>\n",
       "<style scoped>\n",
       "    .dataframe tbody tr th:only-of-type {\n",
       "        vertical-align: middle;\n",
       "    }\n",
       "\n",
       "    .dataframe tbody tr th {\n",
       "        vertical-align: top;\n",
       "    }\n",
       "\n",
       "    .dataframe thead th {\n",
       "        text-align: right;\n",
       "    }\n",
       "</style>\n",
       "<table border=\"1\" class=\"dataframe\">\n",
       "  <thead>\n",
       "    <tr style=\"text-align: right;\">\n",
       "      <th></th>\n",
       "      <th>uniprot_id</th>\n",
       "      <th>id_type</th>\n",
       "      <th>db_id</th>\n",
       "      <th>species_id</th>\n",
       "      <th>taxa_id</th>\n",
       "    </tr>\n",
       "  </thead>\n",
       "  <tbody>\n",
       "    <tr>\n",
       "      <th>0</th>\n",
       "      <td>Q5PRD0</td>\n",
       "      <td>UniProtKB-ID</td>\n",
       "      <td>143BA_DANRE</td>\n",
       "      <td>UP000000437</td>\n",
       "      <td>UP000000437</td>\n",
       "    </tr>\n",
       "    <tr>\n",
       "      <th>1</th>\n",
       "      <td>Q5PRD0</td>\n",
       "      <td>Gene_Name</td>\n",
       "      <td>ywhaba</td>\n",
       "      <td>UP000000437</td>\n",
       "      <td>UP000000437</td>\n",
       "    </tr>\n",
       "    <tr>\n",
       "      <th>2</th>\n",
       "      <td>Q5PRD0</td>\n",
       "      <td>Gene_Synonym</td>\n",
       "      <td>ywhab1</td>\n",
       "      <td>UP000000437</td>\n",
       "      <td>UP000000437</td>\n",
       "    </tr>\n",
       "    <tr>\n",
       "      <th>3</th>\n",
       "      <td>Q5PRD0</td>\n",
       "      <td>Gene_ORFName</td>\n",
       "      <td>wu:fb80c08</td>\n",
       "      <td>UP000000437</td>\n",
       "      <td>UP000000437</td>\n",
       "    </tr>\n",
       "    <tr>\n",
       "      <th>4</th>\n",
       "      <td>Q5PRD0</td>\n",
       "      <td>GI</td>\n",
       "      <td>82592598</td>\n",
       "      <td>UP000000437</td>\n",
       "      <td>UP000000437</td>\n",
       "    </tr>\n",
       "  </tbody>\n",
       "</table>\n",
       "</div>"
      ],
      "text/plain": [
       "  uniprot_id       id_type        db_id   species_id      taxa_id\n",
       "0     Q5PRD0  UniProtKB-ID  143BA_DANRE  UP000000437  UP000000437\n",
       "1     Q5PRD0     Gene_Name       ywhaba  UP000000437  UP000000437\n",
       "2     Q5PRD0  Gene_Synonym       ywhab1  UP000000437  UP000000437\n",
       "3     Q5PRD0  Gene_ORFName   wu:fb80c08  UP000000437  UP000000437\n",
       "4     Q5PRD0            GI     82592598  UP000000437  UP000000437"
      ]
     },
     "execution_count": 85,
     "metadata": {},
     "output_type": "execute_result"
    }
   ],
   "source": [
    "id_mapping.head()"
   ]
  },
  {
   "cell_type": "code",
   "execution_count": 86,
   "metadata": {},
   "outputs": [
    {
     "data": {
      "text/html": [
       "<div>\n",
       "<style scoped>\n",
       "    .dataframe tbody tr th:only-of-type {\n",
       "        vertical-align: middle;\n",
       "    }\n",
       "\n",
       "    .dataframe tbody tr th {\n",
       "        vertical-align: top;\n",
       "    }\n",
       "\n",
       "    .dataframe thead th {\n",
       "        text-align: right;\n",
       "    }\n",
       "</style>\n",
       "<table border=\"1\" class=\"dataframe\">\n",
       "  <thead>\n",
       "    <tr style=\"text-align: right;\">\n",
       "      <th></th>\n",
       "      <th>uniprot_id</th>\n",
       "      <th>id_type</th>\n",
       "      <th>db_id</th>\n",
       "      <th>species_id</th>\n",
       "      <th>taxa_id</th>\n",
       "    </tr>\n",
       "  </thead>\n",
       "  <tbody>\n",
       "    <tr>\n",
       "      <th>19284098</th>\n",
       "      <td>W5NNY8</td>\n",
       "      <td>UniProtKB-ID</td>\n",
       "      <td>W5NNY8_LEPOC</td>\n",
       "      <td>UP000018468</td>\n",
       "      <td>UP000018468</td>\n",
       "    </tr>\n",
       "    <tr>\n",
       "      <th>19284099</th>\n",
       "      <td>W5NNY8</td>\n",
       "      <td>GI</td>\n",
       "      <td>573885637</td>\n",
       "      <td>UP000018468</td>\n",
       "      <td>UP000018468</td>\n",
       "    </tr>\n",
       "    <tr>\n",
       "      <th>19284100</th>\n",
       "      <td>W5NNY8</td>\n",
       "      <td>UniRef100</td>\n",
       "      <td>UniRef100_W5NNY8</td>\n",
       "      <td>UP000018468</td>\n",
       "      <td>UP000018468</td>\n",
       "    </tr>\n",
       "    <tr>\n",
       "      <th>19284101</th>\n",
       "      <td>W5NNY8</td>\n",
       "      <td>UniRef90</td>\n",
       "      <td>UniRef90_W5NNY8</td>\n",
       "      <td>UP000018468</td>\n",
       "      <td>UP000018468</td>\n",
       "    </tr>\n",
       "    <tr>\n",
       "      <th>19284102</th>\n",
       "      <td>W5NNY8</td>\n",
       "      <td>UniRef50</td>\n",
       "      <td>UniRef50_P35359</td>\n",
       "      <td>UP000018468</td>\n",
       "      <td>UP000018468</td>\n",
       "    </tr>\n",
       "    <tr>\n",
       "      <th>19284103</th>\n",
       "      <td>W5NNY8</td>\n",
       "      <td>UniParc</td>\n",
       "      <td>UPI0003CD90EB</td>\n",
       "      <td>UP000018468</td>\n",
       "      <td>UP000018468</td>\n",
       "    </tr>\n",
       "    <tr>\n",
       "      <th>19284104</th>\n",
       "      <td>W5NNY8</td>\n",
       "      <td>EMBL</td>\n",
       "      <td>AHAT01020702</td>\n",
       "      <td>UP000018468</td>\n",
       "      <td>UP000018468</td>\n",
       "    </tr>\n",
       "    <tr>\n",
       "      <th>19284105</th>\n",
       "      <td>W5NNY8</td>\n",
       "      <td>EMBL-CDS</td>\n",
       "      <td>-</td>\n",
       "      <td>UP000018468</td>\n",
       "      <td>UP000018468</td>\n",
       "    </tr>\n",
       "    <tr>\n",
       "      <th>19284106</th>\n",
       "      <td>W5NNY8</td>\n",
       "      <td>NCBI_TaxID</td>\n",
       "      <td>7918</td>\n",
       "      <td>UP000018468</td>\n",
       "      <td>UP000018468</td>\n",
       "    </tr>\n",
       "    <tr>\n",
       "      <th>19284107</th>\n",
       "      <td>W5NNY8</td>\n",
       "      <td>RefSeq</td>\n",
       "      <td>XP_006630688.1</td>\n",
       "      <td>UP000018468</td>\n",
       "      <td>UP000018468</td>\n",
       "    </tr>\n",
       "    <tr>\n",
       "      <th>19284108</th>\n",
       "      <td>W5NNY8</td>\n",
       "      <td>RefSeq_NT</td>\n",
       "      <td>XM_006630625.2</td>\n",
       "      <td>UP000018468</td>\n",
       "      <td>UP000018468</td>\n",
       "    </tr>\n",
       "    <tr>\n",
       "      <th>19284109</th>\n",
       "      <td>W5NNY8</td>\n",
       "      <td>STRING</td>\n",
       "      <td>7918.ENSLOCP00000022347</td>\n",
       "      <td>UP000018468</td>\n",
       "      <td>UP000018468</td>\n",
       "    </tr>\n",
       "    <tr>\n",
       "      <th>19284110</th>\n",
       "      <td>W5NNY8</td>\n",
       "      <td>Ensembl</td>\n",
       "      <td>ENSLOCG00000018246</td>\n",
       "      <td>UP000018468</td>\n",
       "      <td>UP000018468</td>\n",
       "    </tr>\n",
       "    <tr>\n",
       "      <th>19284111</th>\n",
       "      <td>W5NNY8</td>\n",
       "      <td>Ensembl_TRS</td>\n",
       "      <td>ENSLOCT00000022388</td>\n",
       "      <td>UP000018468</td>\n",
       "      <td>UP000018468</td>\n",
       "    </tr>\n",
       "    <tr>\n",
       "      <th>19284112</th>\n",
       "      <td>W5NNY8</td>\n",
       "      <td>Ensembl_PRO</td>\n",
       "      <td>ENSLOCP00000022347</td>\n",
       "      <td>UP000018468</td>\n",
       "      <td>UP000018468</td>\n",
       "    </tr>\n",
       "    <tr>\n",
       "      <th>19284113</th>\n",
       "      <td>W5NNY8</td>\n",
       "      <td>GeneID</td>\n",
       "      <td>102698275</td>\n",
       "      <td>UP000018468</td>\n",
       "      <td>UP000018468</td>\n",
       "    </tr>\n",
       "    <tr>\n",
       "      <th>19284114</th>\n",
       "      <td>W5NNY8</td>\n",
       "      <td>GeneTree</td>\n",
       "      <td>ENSGT00950000182625</td>\n",
       "      <td>UP000018468</td>\n",
       "      <td>UP000018468</td>\n",
       "    </tr>\n",
       "    <tr>\n",
       "      <th>19284115</th>\n",
       "      <td>W5NNY8</td>\n",
       "      <td>OMA</td>\n",
       "      <td>CGKNPFE</td>\n",
       "      <td>UP000018468</td>\n",
       "      <td>UP000018468</td>\n",
       "    </tr>\n",
       "    <tr>\n",
       "      <th>19284116</th>\n",
       "      <td>W5NNY8</td>\n",
       "      <td>OrthoDB</td>\n",
       "      <td>940057at2759</td>\n",
       "      <td>UP000018468</td>\n",
       "      <td>UP000018468</td>\n",
       "    </tr>\n",
       "    <tr>\n",
       "      <th>19284117</th>\n",
       "      <td>W5NNY8</td>\n",
       "      <td>CRC64</td>\n",
       "      <td>7B5FFE3D4E535634</td>\n",
       "      <td>UP000018468</td>\n",
       "      <td>UP000018468</td>\n",
       "    </tr>\n",
       "  </tbody>\n",
       "</table>\n",
       "</div>"
      ],
      "text/plain": [
       "         uniprot_id       id_type                    db_id   species_id  \\\n",
       "19284098     W5NNY8  UniProtKB-ID             W5NNY8_LEPOC  UP000018468   \n",
       "19284099     W5NNY8            GI                573885637  UP000018468   \n",
       "19284100     W5NNY8     UniRef100         UniRef100_W5NNY8  UP000018468   \n",
       "19284101     W5NNY8      UniRef90          UniRef90_W5NNY8  UP000018468   \n",
       "19284102     W5NNY8      UniRef50          UniRef50_P35359  UP000018468   \n",
       "19284103     W5NNY8       UniParc            UPI0003CD90EB  UP000018468   \n",
       "19284104     W5NNY8          EMBL             AHAT01020702  UP000018468   \n",
       "19284105     W5NNY8      EMBL-CDS                        -  UP000018468   \n",
       "19284106     W5NNY8    NCBI_TaxID                     7918  UP000018468   \n",
       "19284107     W5NNY8        RefSeq           XP_006630688.1  UP000018468   \n",
       "19284108     W5NNY8     RefSeq_NT           XM_006630625.2  UP000018468   \n",
       "19284109     W5NNY8        STRING  7918.ENSLOCP00000022347  UP000018468   \n",
       "19284110     W5NNY8       Ensembl       ENSLOCG00000018246  UP000018468   \n",
       "19284111     W5NNY8   Ensembl_TRS       ENSLOCT00000022388  UP000018468   \n",
       "19284112     W5NNY8   Ensembl_PRO       ENSLOCP00000022347  UP000018468   \n",
       "19284113     W5NNY8        GeneID                102698275  UP000018468   \n",
       "19284114     W5NNY8      GeneTree      ENSGT00950000182625  UP000018468   \n",
       "19284115     W5NNY8           OMA                  CGKNPFE  UP000018468   \n",
       "19284116     W5NNY8       OrthoDB             940057at2759  UP000018468   \n",
       "19284117     W5NNY8         CRC64         7B5FFE3D4E535634  UP000018468   \n",
       "\n",
       "              taxa_id  \n",
       "19284098  UP000018468  \n",
       "19284099  UP000018468  \n",
       "19284100  UP000018468  \n",
       "19284101  UP000018468  \n",
       "19284102  UP000018468  \n",
       "19284103  UP000018468  \n",
       "19284104  UP000018468  \n",
       "19284105  UP000018468  \n",
       "19284106  UP000018468  \n",
       "19284107  UP000018468  \n",
       "19284108  UP000018468  \n",
       "19284109  UP000018468  \n",
       "19284110  UP000018468  \n",
       "19284111  UP000018468  \n",
       "19284112  UP000018468  \n",
       "19284113  UP000018468  \n",
       "19284114  UP000018468  \n",
       "19284115  UP000018468  \n",
       "19284116  UP000018468  \n",
       "19284117  UP000018468  "
      ]
     },
     "execution_count": 86,
     "metadata": {},
     "output_type": "execute_result"
    }
   ],
   "source": [
    "id_mapping.query('uniprot_id == @spotted_gar_rhodopsin')"
   ]
  },
  {
   "cell_type": "code",
   "execution_count": 91,
   "metadata": {},
   "outputs": [
    {
     "data": {
      "text/html": [
       "<div>\n",
       "<style scoped>\n",
       "    .dataframe tbody tr th:only-of-type {\n",
       "        vertical-align: middle;\n",
       "    }\n",
       "\n",
       "    .dataframe tbody tr th {\n",
       "        vertical-align: top;\n",
       "    }\n",
       "\n",
       "    .dataframe thead th {\n",
       "        text-align: right;\n",
       "    }\n",
       "</style>\n",
       "<table border=\"1\" class=\"dataframe\">\n",
       "  <thead>\n",
       "    <tr style=\"text-align: right;\">\n",
       "      <th></th>\n",
       "      <th>dn_ds</th>\n",
       "      <th>method_link_type</th>\n",
       "      <th>source__id</th>\n",
       "      <th>source__perc_id</th>\n",
       "      <th>source__perc_pos</th>\n",
       "      <th>source__protein_id</th>\n",
       "      <th>source__species</th>\n",
       "      <th>source__taxon_id</th>\n",
       "      <th>target__id</th>\n",
       "      <th>target__perc_id</th>\n",
       "      <th>target__perc_pos</th>\n",
       "      <th>target__protein_id</th>\n",
       "      <th>target__species</th>\n",
       "      <th>target__taxon_id</th>\n",
       "      <th>taxonomy_level</th>\n",
       "      <th>type</th>\n",
       "    </tr>\n",
       "  </thead>\n",
       "  <tbody>\n",
       "    <tr>\n",
       "      <th>10276</th>\n",
       "      <td>NaN</td>\n",
       "      <td>ENSEMBL_ORTHOLOGUES</td>\n",
       "      <td>ENSG00000163914</td>\n",
       "      <td>79.5977</td>\n",
       "      <td>91.954</td>\n",
       "      <td>ENSP00000296271</td>\n",
       "      <td>homo_sapiens</td>\n",
       "      <td>9606</td>\n",
       "      <td>ENSLOCG00000018246</td>\n",
       "      <td>78.2486</td>\n",
       "      <td>90.3955</td>\n",
       "      <td>ENSLOCP00000022347</td>\n",
       "      <td>lepisosteus_oculatus</td>\n",
       "      <td>7918</td>\n",
       "      <td>Gnathostomata</td>\n",
       "      <td>ortholog_one2many</td>\n",
       "    </tr>\n",
       "  </tbody>\n",
       "</table>\n",
       "</div>"
      ],
      "text/plain": [
       "       dn_ds     method_link_type       source__id  source__perc_id  \\\n",
       "10276    NaN  ENSEMBL_ORTHOLOGUES  ENSG00000163914          79.5977   \n",
       "\n",
       "       source__perc_pos source__protein_id source__species  source__taxon_id  \\\n",
       "10276            91.954    ENSP00000296271    homo_sapiens              9606   \n",
       "\n",
       "               target__id  target__perc_id  target__perc_pos  \\\n",
       "10276  ENSLOCG00000018246          78.2486           90.3955   \n",
       "\n",
       "       target__protein_id       target__species  target__taxon_id  \\\n",
       "10276  ENSLOCP00000022347  lepisosteus_oculatus              7918   \n",
       "\n",
       "      taxonomy_level               type  \n",
       "10276  Gnathostomata  ortholog_one2many  "
      ]
     },
     "execution_count": 91,
     "metadata": {},
     "output_type": "execute_result"
    }
   ],
   "source": [
    "visual.query('source__protein_id == \"ENSP00000296271\" & target__protein_id == \"ENSLOCP00000022347\"')"
   ]
  },
  {
   "cell_type": "code",
   "execution_count": 94,
   "metadata": {},
   "outputs": [
    {
     "data": {
      "text/html": [
       "<div>\n",
       "<style scoped>\n",
       "    .dataframe tbody tr th:only-of-type {\n",
       "        vertical-align: middle;\n",
       "    }\n",
       "\n",
       "    .dataframe tbody tr th {\n",
       "        vertical-align: top;\n",
       "    }\n",
       "\n",
       "    .dataframe thead th {\n",
       "        text-align: right;\n",
       "    }\n",
       "</style>\n",
       "<table border=\"1\" class=\"dataframe\">\n",
       "  <thead>\n",
       "    <tr style=\"text-align: right;\">\n",
       "      <th></th>\n",
       "      <th>dn_ds</th>\n",
       "      <th>method_link_type</th>\n",
       "      <th>human__id</th>\n",
       "      <th>human__perc_id</th>\n",
       "      <th>human__perc_pos</th>\n",
       "      <th>human__protein_id</th>\n",
       "      <th>human__species</th>\n",
       "      <th>human__taxon_id</th>\n",
       "      <th>target__id</th>\n",
       "      <th>target__perc_id</th>\n",
       "      <th>...</th>\n",
       "      <th>taxonomy_level</th>\n",
       "      <th>type</th>\n",
       "      <th>target__uniprot_id</th>\n",
       "      <th>target__id_type</th>\n",
       "      <th>target__db_id</th>\n",
       "      <th>target__species_id</th>\n",
       "      <th>target__taxa_id</th>\n",
       "      <th>human__uniprot_id</th>\n",
       "      <th>human__id_type</th>\n",
       "      <th>human__db_id</th>\n",
       "    </tr>\n",
       "  </thead>\n",
       "  <tbody>\n",
       "    <tr>\n",
       "      <th>1234</th>\n",
       "      <td>NaN</td>\n",
       "      <td>ENSEMBL_ORTHOLOGUES</td>\n",
       "      <td>ENSG00000163914</td>\n",
       "      <td>79.5977</td>\n",
       "      <td>91.954</td>\n",
       "      <td>ENSP00000296271</td>\n",
       "      <td>homo_sapiens</td>\n",
       "      <td>9606.0</td>\n",
       "      <td>ENSLOCG00000018246</td>\n",
       "      <td>78.2486</td>\n",
       "      <td>...</td>\n",
       "      <td>Gnathostomata</td>\n",
       "      <td>ortholog_one2many</td>\n",
       "      <td>W5NNY8</td>\n",
       "      <td>Ensembl_PRO</td>\n",
       "      <td>ENSLOCP00000022347</td>\n",
       "      <td>UP000018468</td>\n",
       "      <td>UP000018468</td>\n",
       "      <td>P08100</td>\n",
       "      <td>Ensembl_PRO</td>\n",
       "      <td>ENSP00000296271</td>\n",
       "    </tr>\n",
       "  </tbody>\n",
       "</table>\n",
       "<p>1 rows × 24 columns</p>\n",
       "</div>"
      ],
      "text/plain": [
       "      dn_ds     method_link_type        human__id  human__perc_id  \\\n",
       "1234    NaN  ENSEMBL_ORTHOLOGUES  ENSG00000163914         79.5977   \n",
       "\n",
       "      human__perc_pos human__protein_id human__species  human__taxon_id  \\\n",
       "1234           91.954   ENSP00000296271   homo_sapiens           9606.0   \n",
       "\n",
       "              target__id  target__perc_id  ...  taxonomy_level  \\\n",
       "1234  ENSLOCG00000018246          78.2486  ...   Gnathostomata   \n",
       "\n",
       "                   type target__uniprot_id  target__id_type  \\\n",
       "1234  ortholog_one2many             W5NNY8      Ensembl_PRO   \n",
       "\n",
       "           target__db_id target__species_id target__taxa_id human__uniprot_id  \\\n",
       "1234  ENSLOCP00000022347        UP000018468     UP000018468            P08100   \n",
       "\n",
       "     human__id_type     human__db_id  \n",
       "1234    Ensembl_PRO  ENSP00000296271  \n",
       "\n",
       "[1 rows x 24 columns]"
      ]
     },
     "execution_count": 94,
     "metadata": {},
     "output_type": "execute_result"
    }
   ],
   "source": [
    "visual_uniprot_merge_proteins_with_human.query('human__protein_id == \"ENSP00000296271\" & target__protein_id == \"ENSLOCP00000022347\"')"
   ]
  },
  {
   "cell_type": "code",
   "execution_count": 80,
   "metadata": {},
   "outputs": [
    {
     "data": {
      "text/plain": [
       "ortholog_one2one          552\n",
       "other_paralog             365\n",
       "ortholog_one2many         218\n",
       "ortholog_many2many         95\n",
       "within_species_paralog     63\n",
       "alt_allele                 10\n",
       "Name: type, dtype: int64"
      ]
     },
     "execution_count": 80,
     "metadata": {},
     "output_type": "execute_result"
    }
   ],
   "source": [
    "visual_uniprot_merge_proteins_with_human.type.value_counts()"
   ]
  },
  {
   "cell_type": "markdown",
   "metadata": {},
   "source": [
    "## Write merged TFs to disk"
   ]
  },
  {
   "cell_type": "code",
   "execution_count": 81,
   "metadata": {},
   "outputs": [
    {
     "data": {
      "text/plain": [
       "'/mnt/data_sm/olga/kmer-hashing/quest-for-orthologs/data/2019'"
      ]
     },
     "execution_count": 81,
     "metadata": {},
     "output_type": "execute_result"
    }
   ],
   "source": [
    "pwd"
   ]
  },
  {
   "cell_type": "code",
   "execution_count": 82,
   "metadata": {},
   "outputs": [
    {
     "name": "stdout",
     "output_type": "stream",
     "text": [
      "CPU times: user 27.7 s, sys: 306 ms, total: 28 s\n",
      "Wall time: 28.2 s\n",
      "CPU times: user 2.35 s, sys: 184 ms, total: 2.53 s\n",
      "Wall time: 2.59 s\n"
     ]
    }
   ],
   "source": [
    "%time visual_uniprot_merge_proteins_with_human.to_csv('opisthokont_not_human_visual_transduction_ensembl_compara_merged_uniprot.csv.gz', index=False)\n",
    "%time visual_uniprot_merge_proteins_with_human.to_parquet('opisthokont_not_human_visual_transduction_ensembl_compara_merged_uniprot.parquet', index=False)"
   ]
  },
  {
   "cell_type": "markdown",
   "metadata": {},
   "source": [
    "## Make set variable for quick membership evalution"
   ]
  },
  {
   "cell_type": "code",
   "execution_count": 51,
   "metadata": {},
   "outputs": [],
   "source": [
    "visual_orthologs = set(visual_uniprot_merge_proteins_with_human.target__uniprot_id)"
   ]
  },
  {
   "cell_type": "markdown",
   "metadata": {},
   "source": [
    "### Prove that the set `tf_orthologs` is faster"
   ]
  },
  {
   "cell_type": "code",
   "execution_count": 52,
   "metadata": {},
   "outputs": [
    {
     "name": "stdout",
     "output_type": "stream",
     "text": [
      "26.8 ns ± 0.103 ns per loop (mean ± std. dev. of 7 runs, 10000000 loops each)\n"
     ]
    }
   ],
   "source": [
    "%timeit 'Q7Z761' in visual_orthologs"
   ]
  },
  {
   "cell_type": "code",
   "execution_count": 53,
   "metadata": {},
   "outputs": [
    {
     "name": "stdout",
     "output_type": "stream",
     "text": [
      "7.43 µs ± 57.4 ns per loop (mean ± std. dev. of 7 runs, 100000 loops each)\n"
     ]
    }
   ],
   "source": [
    "%timeit 'Q7Z761' in visual_uniprot_merge_proteins_with_human.target__uniprot_id"
   ]
  },
  {
   "cell_type": "markdown",
   "metadata": {},
   "source": [
    "#### Yep, sets are 3 orders of magnitude faster!"
   ]
  },
  {
   "cell_type": "markdown",
   "metadata": {},
   "source": [
    "# Read non-human proteins and subset if they are an ortholog of a TF"
   ]
  },
  {
   "cell_type": "markdown",
   "metadata": {},
   "source": [
    "## Make outdir"
   ]
  },
  {
   "cell_type": "code",
   "execution_count": 54,
   "metadata": {},
   "outputs": [],
   "source": [
    "# ls Eukaryota/"
   ]
  },
  {
   "cell_type": "code",
   "execution_count": 55,
   "metadata": {},
   "outputs": [
    {
     "name": "stdout",
     "output_type": "stream",
     "text": [
      "mkdir: cannot create directory ‘Eukaryota/not-human-visual-transduction-fastas/’: File exists\n"
     ]
    }
   ],
   "source": [
    "not_human_outdir = 'Eukaryota/not-human-visual-transduction-fastas/'\n",
    "! mkdir $not_human_outdir\n"
   ]
  },
  {
   "cell_type": "markdown",
   "metadata": {},
   "source": [
    "## How much compute is this?"
   ]
  },
  {
   "cell_type": "markdown",
   "metadata": {},
   "source": [
    "Number of human transcription factor proteins in the quest for orthologs database\n"
   ]
  },
  {
   "cell_type": "code",
   "execution_count": 56,
   "metadata": {},
   "outputs": [
    {
     "data": {
      "text/plain": [
       "95907"
      ]
     },
     "execution_count": 56,
     "metadata": {},
     "output_type": "execute_result"
    }
   ],
   "source": [
    "visual_uniprot_merge_proteins_with_human.human__uniprot_id.nunique()"
   ]
  },
  {
   "cell_type": "code",
   "execution_count": 57,
   "metadata": {},
   "outputs": [],
   "source": [
    "n_human_qfo = 93"
   ]
  },
  {
   "cell_type": "code",
   "execution_count": 58,
   "metadata": {},
   "outputs": [
    {
     "data": {
      "text/html": [
       "<div>\n",
       "<style scoped>\n",
       "    .dataframe tbody tr th:only-of-type {\n",
       "        vertical-align: middle;\n",
       "    }\n",
       "\n",
       "    .dataframe tbody tr th {\n",
       "        vertical-align: top;\n",
       "    }\n",
       "\n",
       "    .dataframe thead th {\n",
       "        text-align: right;\n",
       "    }\n",
       "</style>\n",
       "<table border=\"1\" class=\"dataframe\">\n",
       "  <thead>\n",
       "    <tr style=\"text-align: right;\">\n",
       "      <th></th>\n",
       "      <th>dn_ds</th>\n",
       "      <th>method_link_type</th>\n",
       "      <th>human__id</th>\n",
       "      <th>human__perc_id</th>\n",
       "      <th>human__perc_pos</th>\n",
       "      <th>human__protein_id</th>\n",
       "      <th>human__species</th>\n",
       "      <th>human__taxon_id</th>\n",
       "      <th>target__id</th>\n",
       "      <th>target__perc_id</th>\n",
       "      <th>...</th>\n",
       "      <th>taxonomy_level</th>\n",
       "      <th>type</th>\n",
       "      <th>target__uniprot_id</th>\n",
       "      <th>target__id_type</th>\n",
       "      <th>target__db_id</th>\n",
       "      <th>target__species_id</th>\n",
       "      <th>target__taxa_id</th>\n",
       "      <th>human__uniprot_id</th>\n",
       "      <th>human__id_type</th>\n",
       "      <th>human__db_id</th>\n",
       "    </tr>\n",
       "  </thead>\n",
       "  <tbody>\n",
       "    <tr>\n",
       "      <th>0</th>\n",
       "      <td>NaN</td>\n",
       "      <td>ENSEMBL_PARALOGUES</td>\n",
       "      <td>ENSG00000198515</td>\n",
       "      <td>50.5929</td>\n",
       "      <td>62.8458</td>\n",
       "      <td>ENSP00000384264</td>\n",
       "      <td>homo_sapiens</td>\n",
       "      <td>9606.0</td>\n",
       "      <td>ENSG00000183862</td>\n",
       "      <td>57.8313</td>\n",
       "      <td>...</td>\n",
       "      <td>Bilateria</td>\n",
       "      <td>other_paralog</td>\n",
       "      <td>Q16280</td>\n",
       "      <td>Ensembl_PRO</td>\n",
       "      <td>ENSP00000328478</td>\n",
       "      <td>UP000005640</td>\n",
       "      <td>UP000005640</td>\n",
       "      <td>Q16280</td>\n",
       "      <td>Ensembl_PRO</td>\n",
       "      <td>ENSP00000328478</td>\n",
       "    </tr>\n",
       "    <tr>\n",
       "      <th>1</th>\n",
       "      <td>NaN</td>\n",
       "      <td>ENSEMBL_PARALOGUES</td>\n",
       "      <td>ENSG00000170289</td>\n",
       "      <td>22.2497</td>\n",
       "      <td>37.5773</td>\n",
       "      <td>ENSP00000316605</td>\n",
       "      <td>homo_sapiens</td>\n",
       "      <td>9606.0</td>\n",
       "      <td>ENSG00000183862</td>\n",
       "      <td>27.1084</td>\n",
       "      <td>...</td>\n",
       "      <td>Bilateria</td>\n",
       "      <td>other_paralog</td>\n",
       "      <td>Q16280</td>\n",
       "      <td>Ensembl_PRO</td>\n",
       "      <td>ENSP00000328478</td>\n",
       "      <td>UP000005640</td>\n",
       "      <td>UP000005640</td>\n",
       "      <td>Q16280</td>\n",
       "      <td>Ensembl_PRO</td>\n",
       "      <td>ENSP00000328478</td>\n",
       "    </tr>\n",
       "    <tr>\n",
       "      <th>2</th>\n",
       "      <td>NaN</td>\n",
       "      <td>ENSEMBL_PARALOGUES</td>\n",
       "      <td>ENSG00000070729</td>\n",
       "      <td>14.9480</td>\n",
       "      <td>26.0592</td>\n",
       "      <td>ENSP00000251102</td>\n",
       "      <td>homo_sapiens</td>\n",
       "      <td>9606.0</td>\n",
       "      <td>ENSG00000183862</td>\n",
       "      <td>28.1627</td>\n",
       "      <td>...</td>\n",
       "      <td>Bilateria</td>\n",
       "      <td>other_paralog</td>\n",
       "      <td>Q16280</td>\n",
       "      <td>Ensembl_PRO</td>\n",
       "      <td>ENSP00000328478</td>\n",
       "      <td>UP000005640</td>\n",
       "      <td>UP000005640</td>\n",
       "      <td>Q16280</td>\n",
       "      <td>Ensembl_PRO</td>\n",
       "      <td>ENSP00000328478</td>\n",
       "    </tr>\n",
       "    <tr>\n",
       "      <th>3</th>\n",
       "      <td>NaN</td>\n",
       "      <td>ENSEMBL_PARALOGUES</td>\n",
       "      <td>ENSG00000198515</td>\n",
       "      <td>50.5929</td>\n",
       "      <td>62.8458</td>\n",
       "      <td>ENSP00000384264</td>\n",
       "      <td>homo_sapiens</td>\n",
       "      <td>9606.0</td>\n",
       "      <td>ENSG00000183862</td>\n",
       "      <td>57.8313</td>\n",
       "      <td>...</td>\n",
       "      <td>Bilateria</td>\n",
       "      <td>other_paralog</td>\n",
       "      <td>Q16280</td>\n",
       "      <td>Ensembl_PRO</td>\n",
       "      <td>ENSP00000328478</td>\n",
       "      <td>UP000005640</td>\n",
       "      <td>UP000005640</td>\n",
       "      <td>Q16280</td>\n",
       "      <td>Ensembl_PRO</td>\n",
       "      <td>ENSP00000328478</td>\n",
       "    </tr>\n",
       "    <tr>\n",
       "      <th>4</th>\n",
       "      <td>NaN</td>\n",
       "      <td>ENSEMBL_PARALOGUES</td>\n",
       "      <td>ENSG00000144191</td>\n",
       "      <td>59.2219</td>\n",
       "      <td>72.6225</td>\n",
       "      <td>ENSP00000272602</td>\n",
       "      <td>homo_sapiens</td>\n",
       "      <td>9606.0</td>\n",
       "      <td>ENSG00000183862</td>\n",
       "      <td>61.8976</td>\n",
       "      <td>...</td>\n",
       "      <td>Bilateria</td>\n",
       "      <td>other_paralog</td>\n",
       "      <td>Q16280</td>\n",
       "      <td>Ensembl_PRO</td>\n",
       "      <td>ENSP00000328478</td>\n",
       "      <td>UP000005640</td>\n",
       "      <td>UP000005640</td>\n",
       "      <td>Q16280</td>\n",
       "      <td>Ensembl_PRO</td>\n",
       "      <td>ENSP00000328478</td>\n",
       "    </tr>\n",
       "  </tbody>\n",
       "</table>\n",
       "<p>5 rows × 24 columns</p>\n",
       "</div>"
      ],
      "text/plain": [
       "   dn_ds    method_link_type        human__id  human__perc_id  \\\n",
       "0    NaN  ENSEMBL_PARALOGUES  ENSG00000198515         50.5929   \n",
       "1    NaN  ENSEMBL_PARALOGUES  ENSG00000170289         22.2497   \n",
       "2    NaN  ENSEMBL_PARALOGUES  ENSG00000070729         14.9480   \n",
       "3    NaN  ENSEMBL_PARALOGUES  ENSG00000198515         50.5929   \n",
       "4    NaN  ENSEMBL_PARALOGUES  ENSG00000144191         59.2219   \n",
       "\n",
       "   human__perc_pos human__protein_id human__species  human__taxon_id  \\\n",
       "0          62.8458   ENSP00000384264   homo_sapiens           9606.0   \n",
       "1          37.5773   ENSP00000316605   homo_sapiens           9606.0   \n",
       "2          26.0592   ENSP00000251102   homo_sapiens           9606.0   \n",
       "3          62.8458   ENSP00000384264   homo_sapiens           9606.0   \n",
       "4          72.6225   ENSP00000272602   homo_sapiens           9606.0   \n",
       "\n",
       "        target__id  target__perc_id  ...  taxonomy_level           type  \\\n",
       "0  ENSG00000183862          57.8313  ...       Bilateria  other_paralog   \n",
       "1  ENSG00000183862          27.1084  ...       Bilateria  other_paralog   \n",
       "2  ENSG00000183862          28.1627  ...       Bilateria  other_paralog   \n",
       "3  ENSG00000183862          57.8313  ...       Bilateria  other_paralog   \n",
       "4  ENSG00000183862          61.8976  ...       Bilateria  other_paralog   \n",
       "\n",
       "  target__uniprot_id  target__id_type    target__db_id target__species_id  \\\n",
       "0             Q16280      Ensembl_PRO  ENSP00000328478        UP000005640   \n",
       "1             Q16280      Ensembl_PRO  ENSP00000328478        UP000005640   \n",
       "2             Q16280      Ensembl_PRO  ENSP00000328478        UP000005640   \n",
       "3             Q16280      Ensembl_PRO  ENSP00000328478        UP000005640   \n",
       "4             Q16280      Ensembl_PRO  ENSP00000328478        UP000005640   \n",
       "\n",
       "  target__taxa_id human__uniprot_id human__id_type     human__db_id  \n",
       "0     UP000005640            Q16280    Ensembl_PRO  ENSP00000328478  \n",
       "1     UP000005640            Q16280    Ensembl_PRO  ENSP00000328478  \n",
       "2     UP000005640            Q16280    Ensembl_PRO  ENSP00000328478  \n",
       "3     UP000005640            Q16280    Ensembl_PRO  ENSP00000328478  \n",
       "4     UP000005640            Q16280    Ensembl_PRO  ENSP00000328478  \n",
       "\n",
       "[5 rows x 24 columns]"
      ]
     },
     "execution_count": 58,
     "metadata": {},
     "output_type": "execute_result"
    }
   ],
   "source": [
    "visual_uniprot_merge_proteins_with_human.head()"
   ]
  },
  {
   "cell_type": "code",
   "execution_count": 59,
   "metadata": {},
   "outputs": [
    {
     "data": {
      "text/plain": [
       "ortholog_one2one          552\n",
       "other_paralog             365\n",
       "ortholog_one2many         218\n",
       "ortholog_many2many         95\n",
       "within_species_paralog     63\n",
       "alt_allele                 10\n",
       "Name: type, dtype: int64"
      ]
     },
     "execution_count": 59,
     "metadata": {},
     "output_type": "execute_result"
    }
   ],
   "source": [
    "visual_uniprot_merge_proteins_with_human.type.value_counts()"
   ]
  },
  {
   "cell_type": "code",
   "execution_count": 64,
   "metadata": {},
   "outputs": [
    {
     "data": {
      "text/plain": [
       "344"
      ]
     },
     "execution_count": 64,
     "metadata": {},
     "output_type": "execute_result"
    }
   ],
   "source": [
    "visual_uniprot_merge_proteins_with_human.query('target__species != \"homo_sapiens\"').target__uniprot_id.nunique()"
   ]
  },
  {
   "cell_type": "code",
   "execution_count": 65,
   "metadata": {},
   "outputs": [],
   "source": [
    "n_not_human_qfo = 344"
   ]
  },
  {
   "cell_type": "code",
   "execution_count": 66,
   "metadata": {},
   "outputs": [
    {
     "data": {
      "text/plain": [
       "0.005332"
      ]
     },
     "execution_count": 66,
     "metadata": {},
     "output_type": "execute_result"
    }
   ],
   "source": [
    "n_human_qfo * n_not_human_qfo * 0.0006 / 60 / 60"
   ]
  },
  {
   "cell_type": "markdown",
   "metadata": {},
   "source": [
    "\n",
    "### Whoa so this should take less than an hour?"
   ]
  },
  {
   "cell_type": "markdown",
   "metadata": {},
   "source": [
    "## Read in protein fastas with screed"
   ]
  },
  {
   "cell_type": "code",
   "execution_count": 68,
   "metadata": {},
   "outputs": [
    {
     "name": "stdout",
     "output_type": "stream",
     "text": [
      "Eukaryota/not-human-protein-fastas/UP000000437_7955_additional.fasta\n",
      "\tlen(tf_records): 2\n",
      "Eukaryota/not-human-protein-fastas/UP000008143_8364.fasta\n",
      "\tlen(tf_records): 7\n",
      "Eukaryota/not-human-protein-fastas/UP000001038_8090.fasta\n",
      "\tlen(tf_records): 35\n",
      "Eukaryota/not-human-protein-fastas/UP000002280_13616.fasta\n",
      "\tlen(tf_records): 21\n",
      "Eukaryota/not-human-protein-fastas/UP000000539_9031_additional.fasta\n",
      "\tlen(tf_records): 1\n",
      "Eukaryota/not-human-protein-fastas/UP000000803_7227_additional.fasta\n",
      "\tlen(tf_records): 4\n",
      "Eukaryota/not-human-protein-fastas/UP000018468_7918.fasta\n",
      "\tlen(tf_records): 26\n",
      "Eukaryota/not-human-protein-fastas/UP000002254_9615.fasta\n",
      "\tlen(tf_records): 22\n",
      "Eukaryota/not-human-protein-fastas/UP000001940_6239.fasta\n",
      "\tlen(tf_records): 1\n",
      "Eukaryota/not-human-protein-fastas/UP000000437_7955.fasta\n",
      "\tlen(tf_records): 38\n",
      "Eukaryota/not-human-protein-fastas/UP000002311_559292.fasta\n",
      "\tlen(tf_records): 1\n",
      "Eukaryota/not-human-protein-fastas/UP000000589_10090.fasta\n",
      "\tlen(tf_records): 23\n",
      "Eukaryota/not-human-protein-fastas/UP000002254_9615_additional.fasta\n",
      "\tlen(tf_records): 2\n",
      "Eukaryota/not-human-protein-fastas/UP000000803_7227.fasta\n",
      "\tlen(tf_records): 12\n",
      "Eukaryota/not-human-protein-fastas/UP000001519_9595_additional.fasta\n",
      "\tlen(tf_records): 1\n",
      "Eukaryota/not-human-protein-fastas/UP000002494_10116.fasta\n",
      "\tlen(tf_records): 21\n",
      "Eukaryota/not-human-protein-fastas/UP000001519_9595.fasta\n",
      "\tlen(tf_records): 28\n",
      "Eukaryota/not-human-protein-fastas/UP000008144_7719_additional.fasta\n",
      "\tlen(tf_records): 1\n",
      "Eukaryota/not-human-protein-fastas/UP000002280_13616_additional.fasta\n",
      "\tlen(tf_records): 1\n",
      "Eukaryota/not-human-protein-fastas/UP000000539_9031.fasta\n",
      "\tlen(tf_records): 19\n",
      "Eukaryota/not-human-protein-fastas/UP000000589_10090_additional.fasta\n",
      "\tlen(tf_records): 3\n",
      "Eukaryota/not-human-protein-fastas/UP000009136_9913.fasta\n",
      "\tlen(tf_records): 25\n",
      "Eukaryota/not-human-protein-fastas/UP000002277_9598.fasta\n",
      "\tlen(tf_records): 28\n",
      "Eukaryota/not-human-protein-fastas/UP000008144_7719.fasta\n",
      "\tlen(tf_records): 13\n",
      "Eukaryota/not-human-protein-fastas/UP000002494_10116_additional.fasta\n",
      "\tlen(tf_records): 6\n",
      "Eukaryota/not-human-protein-fastas/UP000002277_9598_additional.fasta\n",
      "\tlen(tf_records): 1\n",
      "Eukaryota/not-human-protein-fastas/UP000009136_9913_additional.fasta\n",
      "\tlen(tf_records): 2\n"
     ]
    }
   ],
   "source": [
    "\n",
    "\n",
    "for filename in iglob('Eukaryota/not-human-protein-fastas/*.fasta'):\n",
    "    tf_records = []\n",
    "\n",
    "    basename = os.path.basename(filename)\n",
    "    with screed.open(filename) as records:\n",
    "        for record in records:\n",
    "            name = record['name']\n",
    "            record_id = name.split()[0]\n",
    "            uniprot_id = record_id.split('|')[1]\n",
    "            if uniprot_id in visual_orthologs:\n",
    "                tf_records.append(record)\n",
    "                \n",
    "    if len(tf_records) > 0:\n",
    "        print(filename)\n",
    "        print(f\"\\tlen(tf_records): {len(tf_records)}\")\n",
    "        with open(f'{not_human_outdir}/{basename}', 'w') as f:\n",
    "            for record in tf_records:\n",
    "                f.write(\">{name}\\n{sequence}\\n\".format(**record))\n"
   ]
  },
  {
   "cell_type": "markdown",
   "metadata": {},
   "source": [
    "# Script to run"
   ]
  },
  {
   "cell_type": "code",
   "execution_count": 69,
   "metadata": {},
   "outputs": [
    {
     "name": "stdout",
     "output_type": "stream",
     "text": [
      "total 32\n",
      "-rw-r--r-- 1 olga 30517 Jan 15 10:58 human_visual_transduction_proteins.fasta\n"
     ]
    }
   ],
   "source": [
    "ll /mnt/data_sm/olga/kmer-hashing/quest-for-orthologs/data/2019/Eukaryota/human-visual-transduction-fastas/"
   ]
  },
  {
   "cell_type": "code",
   "execution_count": 70,
   "metadata": {},
   "outputs": [
    {
     "name": "stdout",
     "output_type": "stream",
     "text": [
      "total 238\n",
      "-rw-r--r-- 1 olga   778 Jan 15 18:25 UP000000437_7955_additional.fasta\n",
      "-rw-r--r-- 1 olga 18778 Jan 15 18:25 UP000000437_7955.fasta\n",
      "-rw-r--r-- 1 olga   442 Jan 15 18:25 UP000000539_9031_additional.fasta\n",
      "-rw-r--r-- 1 olga  9789 Jan 15 18:25 UP000000539_9031.fasta\n",
      "-rw-r--r-- 1 olga  2463 Jan 15 18:25 UP000000589_10090_additional.fasta\n",
      "-rw-r--r-- 1 olga 11751 Jan 15 18:25 UP000000589_10090.fasta\n",
      "-rw-r--r-- 1 olga  2391 Jan 15 18:25 UP000000803_7227_additional.fasta\n",
      "-rw-r--r-- 1 olga  5988 Jan 15 18:25 UP000000803_7227.fasta\n",
      "-rw-r--r-- 1 olga 18152 Jan 15 18:25 UP000001038_8090.fasta\n"
     ]
    }
   ],
   "source": [
    "ll /mnt/data_sm/olga/kmer-hashing/quest-for-orthologs/data/2019/Eukaryota/not-human-visual-transduction-fastas/ | head"
   ]
  },
  {
   "cell_type": "code",
   "execution_count": 64,
   "metadata": {},
   "outputs": [
    {
     "name": "stdout",
     "output_type": "stream",
     "text": [
      "Writing qfo_human_vs_opisthokont_tfs.sh\n"
     ]
    }
   ],
   "source": [
    "%%file qfo_human_vs_opisthokont_tfs.sh\n",
    "#!/bin/bash\n",
    "OUTDIR=$HOME/data_sm/kmer-hashing/quest-for-orthologs/analysis/2019/visual-transduction/\n",
    "mkdir -p $OUTDIR/intermediates\n",
    "cd $OUTDIR/intermediates\n",
    "\n",
    "PARQUET=$OUTDIR/qfo-eukaryota-visual-transduction-protein.parquet\n",
    "\n",
    "EUKARYOTA=/mnt/data_sm/olga/kmer-hashing/quest-for-orthologs/data/2019/Eukaryota\n",
    "HUMAN=$EUKARYOTA/human-visual-transduction-fastas/human_visual_transduction_proteins.fasta\n",
    "NOT_HUMAN=$EUKARYOTA/not-human-visual-transduction-fastas/\n",
    "\n",
    "conda activate khtools--encodings--compare-cli\n",
    "\n",
    "\n",
    "time khtools compare-kmers \\\n",
    "    --processes 120 \\\n",
    "    --ksize-min 3 \\\n",
    "    --ksize-max 45 \\\n",
    "    --parquet $PARQUET \\\n",
    "    --intermediate-parquet \\\n",
    "    --fastas2 $HUMAN \\\n",
    "    $NOT_HUMAN/* | tee khtools_compare-kmers.log"
   ]
  },
  {
   "cell_type": "code",
   "execution_count": null,
   "metadata": {},
   "outputs": [],
   "source": []
  },
  {
   "cell_type": "code",
   "execution_count": 65,
   "metadata": {},
   "outputs": [
    {
     "data": {
      "text/plain": [
       "'/mnt/data_sm/olga/kmer-hashing/quest-for-orthologs/data/2019'"
      ]
     },
     "execution_count": 65,
     "metadata": {},
     "output_type": "execute_result"
    }
   ],
   "source": [
    "pwd"
   ]
  },
  {
   "cell_type": "markdown",
   "metadata": {},
   "source": [
    "## Time estimation\n",
    "\n",
    "taking ~1000 seconds per non-human sequence"
   ]
  },
  {
   "cell_type": "code",
   "execution_count": 70,
   "metadata": {},
   "outputs": [
    {
     "data": {
      "text/plain": [
       "48947"
      ]
     },
     "execution_count": 70,
     "metadata": {},
     "output_type": "execute_result"
    }
   ],
   "source": [
    "n_not_human_qfo_tfs"
   ]
  },
  {
   "cell_type": "code",
   "execution_count": 69,
   "metadata": {},
   "outputs": [
    {
     "data": {
      "text/plain": [
       "4.720968364197531"
      ]
     },
     "execution_count": 69,
     "metadata": {},
     "output_type": "execute_result"
    }
   ],
   "source": [
    "n_not_human_qfo_tfs * 1000 / 120 / 60 / 60 / 24"
   ]
  },
  {
   "cell_type": "markdown",
   "metadata": {},
   "source": [
    "Okay, so this will take ~4.7 days to compute running on `lrrr`"
   ]
  },
  {
   "cell_type": "code",
   "execution_count": null,
   "metadata": {},
   "outputs": [],
   "source": []
  }
 ],
 "metadata": {
  "kernelspec": {
   "display_name": "Python [conda env:khtools--compare-kmers--encodings]",
   "language": "python",
   "name": "conda-env-khtools--compare-kmers--encodings-py"
  },
  "language_info": {
   "codemirror_mode": {
    "name": "ipython",
    "version": 3
   },
   "file_extension": ".py",
   "mimetype": "text/x-python",
   "name": "python",
   "nbconvert_exporter": "python",
   "pygments_lexer": "ipython3",
   "version": "3.8.0"
  }
 },
 "nbformat": 4,
 "nbformat_minor": 4
}
