{
 "cells": [
  {
   "cell_type": "code",
   "execution_count": 1,
   "metadata": {},
   "outputs": [
    {
     "name": "stderr",
     "output_type": "stream",
     "text": [
      "Loading required package: BiocGenerics\n",
      "Loading required package: parallel\n",
      "\n",
      "Attaching package: ‘BiocGenerics’\n",
      "\n",
      "The following objects are masked from ‘package:parallel’:\n",
      "\n",
      "    clusterApply, clusterApplyLB, clusterCall, clusterEvalQ,\n",
      "    clusterExport, clusterMap, parApply, parCapply, parLapply,\n",
      "    parLapplyLB, parRapply, parSapply, parSapplyLB\n",
      "\n",
      "The following objects are masked from ‘package:stats’:\n",
      "\n",
      "    IQR, mad, sd, var, xtabs\n",
      "\n",
      "The following objects are masked from ‘package:base’:\n",
      "\n",
      "    anyDuplicated, append, as.data.frame, basename, cbind, colnames,\n",
      "    dirname, do.call, duplicated, eval, evalq, Filter, Find, get, grep,\n",
      "    grepl, intersect, is.unsorted, lapply, Map, mapply, match, mget,\n",
      "    order, paste, pmax, pmax.int, pmin, pmin.int, Position, rank,\n",
      "    rbind, Reduce, rownames, sapply, setdiff, sort, table, tapply,\n",
      "    union, unique, unsplit, which, which.max, which.min\n",
      "\n",
      "Loading required package: S4Vectors\n",
      "Loading required package: stats4\n",
      "\n",
      "Attaching package: ‘S4Vectors’\n",
      "\n",
      "The following object is masked from ‘package:base’:\n",
      "\n",
      "    expand.grid\n",
      "\n",
      "Loading required package: IRanges\n",
      "Loading required package: XVector\n",
      "\n",
      "Attaching package: ‘Biostrings’\n",
      "\n",
      "The following object is masked from ‘package:base’:\n",
      "\n",
      "    strsplit\n",
      "\n"
     ]
    }
   ],
   "source": [
    "library(polyester)\n",
    "library(Biostrings)"
   ]
  },
  {
   "cell_type": "code",
   "execution_count": 14,
   "metadata": {},
   "outputs": [],
   "source": [
    "setwd(\"/Users/tessa/dib-lab/kmerslay-analysis/simulate_reads\")"
   ]
  },
  {
   "cell_type": "code",
   "execution_count": 15,
   "metadata": {},
   "outputs": [],
   "source": [
    "data_dir=\"/Users/tessa/dib-lab/kmerslay-analysis/QfO_release_2019_04/Eukaryota\"\n",
    "genome_fasta=file.path(data_dir, \"UP000005640_9606_DNA.fasta\")\n",
    "addl_fasta=file.path(data_dir, \"UP000005640_9606_additional.fasta\")\n",
    "gene_fasta=file.path(data_dir, \"UP000005640_9606.fasta\")"
   ]
  },
  {
   "cell_type": "code",
   "execution_count": 16,
   "metadata": {},
   "outputs": [],
   "source": [
    "fasta = readDNAStringSet(genome_fasta)"
   ]
  },
  {
   "cell_type": "code",
   "execution_count": 7,
   "metadata": {},
   "outputs": [],
   "source": [
    "small_fasta = fasta[1:20]\n",
    "writeXStringSet(small_fasta, 'test_small.fa')"
   ]
  },
  {
   "cell_type": "code",
   "execution_count": null,
   "metadata": {},
   "outputs": [],
   "source": [
    "# let's sim at 20x coverage, uniform:\n",
    "# ~20x coverage ----> reads per transcript = transcriptlength/readlength * 20\n",
    "readspertx = round(20 * width(small_fasta) / 100)"
   ]
  },
  {
   "cell_type": "code",
   "execution_count": null,
   "metadata": {},
   "outputs": [],
   "source": [
    "# build some fold changes\n",
    "fold_changes = matrix(c(4,4,rep(1,18),1,1,4,4,rep(1,16)), nrow=20)\n",
    "head(fold_changes)"
   ]
  },
  {
   "cell_type": "code",
   "execution_count": null,
   "metadata": {},
   "outputs": [],
   "source": [
    "# test 20 transcripts\n",
    "simulate_experiment('test_small.fa', reads_per_transcript=readspertx,\n",
    "                    num_reps=c(10,10), fold_changes=fold_changes, outdir=simulate_experiment_countmat('chr22_small.fa', readmat=countmat, \n",
    "    outdir='timecourse_reads') )"
   ]
  },
  {
   "cell_type": "markdown",
   "metadata": {},
   "source": [
    "### Sim with full QfO dataset"
   ]
  },
  {
   "cell_type": "code",
   "execution_count": 30,
   "metadata": {},
   "outputs": [],
   "source": [
    "# lets sim using the full dataset\n",
    "readspertx_QfO = round(20 * width(fasta) / 100)"
   ]
  },
  {
   "cell_type": "code",
   "execution_count": 31,
   "metadata": {},
   "outputs": [
    {
     "data": {
      "text/plain": [
       "  A DNAStringSet instance of length 20917\n",
       "         width seq                                          names               \n",
       "    [1]    462 ATGGGGGCGCCGCTGCTCTCT...GATCCTGTGCTTTACTCTGA tr|A0A024R161|ENS...\n",
       "    [2]    195 ATGTCCAGCCACGAAGGTGGC...AGAAATCTGGCAAAAAATAA tr|A0A024R1R8|ENS...\n",
       "    [3]    546 ATGATGAAGTTCAAGCCCAAC...TGCCATCTAGTGTAAGATAG sp|A0A024RBG1|ENS...\n",
       "    [4]    390 ATGGAGACAGTGGTCACAACT...TCTACATCTGCAGTGCTAGA tr|A0A075B6H5|ENS...\n",
       "    [5]    348 ATGGAAGCCCCAGCTCAGCTT...AGCAGGATTATAACTTACCT tr|A0A075B6H7|ENS...\n",
       "    ...    ... ...\n",
       "[20913]    291 ATGCAGGGGCAAAAGGTGCTC...GCTCCAGAGAGTGTGAATGA tr|V9GZ69|ENSP000...\n",
       "[20914]    975 ATGGCCCTGCTGGCTCTGGCC...GGTACTGCAGTGGCAACTAA sp|W5XKT8|ENSP000...\n",
       "[20915]    342 ATGGAGAGTAAATATAAGGAG...TTTCTGGGAATGCATGTTGA sp|W6CW81|AHI87498\n",
       "[20916]    801 ATGGTGTGTCTGAAGCTCCCT...CAACAGGACTCTTGAGCTGA tr|X5D2U9|ENSP000...\n",
       "[20917]    384 ATGGGCAGGAAAGAGCATGAA...TGGTCTTGTGGCGCTCCTAG tr|X6R8D5|ENSP000..."
      ]
     },
     "metadata": {},
     "output_type": "display_data"
    }
   ],
   "source": [
    "fasta"
   ]
  },
  {
   "cell_type": "code",
   "execution_count": 45,
   "metadata": {},
   "outputs": [],
   "source": [
    "#count matrix seems easier than fold changes for this.\n",
    "\n",
    "# full QfO count matrix\n",
    "num_timepoints = 2\n",
    "countmat = matrix(readspertx_QfO, nrow=length(fasta), ncol=num_timepoints)\n",
    "#Y = scale(r, X)\n",
    "# all the same rn. Could add variability like so:\n",
    "\n",
    "# add spikes in expression at certain timepoints to certain transcripts:\n",
    "#up_early = c(1,2) # transcripts #1 and #2\n",
    "#up_late = c(3,4) # transcripts # 3 and #4\n",
    "#countmat[up_early, 1] = 3*countmat[up_early, 1]\n",
    "#countmat[up_early, 2] = round(1.5*countmat[up_early, 2])\n",
    "#countmat[up_late, 4] = 6*countmat[up_late, 4]\n",
    "#countmat[up_late, 5] = round(1.2*countmat[up_late, 5])\n"
   ]
  },
  {
   "cell_type": "code",
   "execution_count": 46,
   "metadata": {},
   "outputs": [
    {
     "data": {
      "text/html": [
       "<table>\n",
       "<tbody>\n",
       "\t<tr><td> 92</td><td> 92</td></tr>\n",
       "\t<tr><td> 39</td><td> 39</td></tr>\n",
       "\t<tr><td>109</td><td>109</td></tr>\n",
       "\t<tr><td> 78</td><td> 78</td></tr>\n",
       "\t<tr><td> 70</td><td> 70</td></tr>\n",
       "\t<tr><td> 71</td><td> 71</td></tr>\n",
       "</tbody>\n",
       "</table>\n"
      ],
      "text/latex": [
       "\\begin{tabular}{ll}\n",
       "\t  92 &  92\\\\\n",
       "\t  39 &  39\\\\\n",
       "\t 109 & 109\\\\\n",
       "\t  78 &  78\\\\\n",
       "\t  70 &  70\\\\\n",
       "\t  71 &  71\\\\\n",
       "\\end{tabular}\n"
      ],
      "text/markdown": [
       "\n",
       "|  92 |  92 |\n",
       "|  39 |  39 |\n",
       "| 109 | 109 |\n",
       "|  78 |  78 |\n",
       "|  70 |  70 |\n",
       "|  71 |  71 |\n",
       "\n"
      ],
      "text/plain": [
       "     [,1] [,2]\n",
       "[1,]  92   92 \n",
       "[2,]  39   39 \n",
       "[3,] 109  109 \n",
       "[4,]  78   78 \n",
       "[5,]  70   70 \n",
       "[6,]  71   71 "
      ]
     },
     "metadata": {},
     "output_type": "display_data"
    }
   ],
   "source": [
    "head(countmat)"
   ]
  },
  {
   "cell_type": "code",
   "execution_count": 51,
   "metadata": {},
   "outputs": [],
   "source": [
    "simulate_experiment_countmat(genome_fasta, readmat=countmat, outdir=\"QfO_full\") "
   ]
  },
  {
   "cell_type": "code",
   "execution_count": null,
   "metadata": {},
   "outputs": [],
   "source": [
    "# let's do some full human genome data"
   ]
  },
  {
   "cell_type": "code",
   "execution_count": 49,
   "metadata": {},
   "outputs": [
    {
     "data": {
      "text/html": [
       "'/Users/tessa/dib-lab/kmerslay-analysis/simulate_reads'"
      ],
      "text/latex": [
       "'/Users/tessa/dib-lab/kmerslay-analysis/simulate\\_reads'"
      ],
      "text/markdown": [
       "'/Users/tessa/dib-lab/kmerslay-analysis/simulate_reads'"
      ],
      "text/plain": [
       "[1] \"/Users/tessa/dib-lab/kmerslay-analysis/simulate_reads\""
      ]
     },
     "metadata": {},
     "output_type": "display_data"
    }
   ],
   "source": []
  },
  {
   "cell_type": "code",
   "execution_count": null,
   "metadata": {},
   "outputs": [],
   "source": []
  },
  {
   "cell_type": "code",
   "execution_count": null,
   "metadata": {},
   "outputs": [],
   "source": []
  },
  {
   "cell_type": "code",
   "execution_count": null,
   "metadata": {},
   "outputs": [],
   "source": []
  },
  {
   "cell_type": "code",
   "execution_count": null,
   "metadata": {},
   "outputs": [],
   "source": []
  },
  {
   "cell_type": "markdown",
   "metadata": {},
   "source": [
    "Changing other parameters and adding bias\n",
    "The following parameters can be provided to simulate_experiment and simulate_experiment_countmat:\n",
    "\n",
    "- **readlen**: Read length (default 100)\n",
    "- paired: Whether the reads should be paired-end (default TRUE)\n",
    "- distr: Distribution from which to draw the fragment lengths. Default is 'normal', mean=250 and sd=25. Other options are 'empirical' and 'custom'. 'empirical' means fragment lengths are drawn from a length distribution we estimated from real data, and 'custom' requires you to provide a logspline density object from which you'd like to draw the fragment lengths.\n",
    "- **fraglen**: The mean fragment length, if using a normal distribution (default 250)\n",
    "- fragsd: Standard devation of fragment lengths, if using a normal distribution (default 25)\n",
    "- **error_model**: How should sequencing errors be simulated? The default is that sequencing errors are uniformly distributed across samples, reads, and nucleotides, at an error rate of 0.5%. Other options are 'illumina4', 'illumina5', and 'custom', where the Illumina error models were estimated from a real data set and ship with GemSIM (McElroy, Luciani, and Thomas 2012), and 'custom' allows you to use GemSIM to estimate an error model from your data set. See ?add_platform_error and/or the GemSIM paper for details. Code we used to modify GemSIM's Illumina error models for Polyester are available at our GitHub repository.\n",
    "- **error_rate**: In the uniform error model, probability that the sequencer records the wrong nucleotide at any given base (default 0.005).\n",
    "- **bias**: Positional bias model to use when fragmenting transcripts. By default, all fragments from a transcript are equally likely ('none'). Other choices are 'rnaf' and 'cdnaf', which mimic positional bias arising from different fragmentation protocols. See ?generate_fragments and our manuscript (Frazee et al, 2014) for details.\n",
    "- **gc_bias**: sample-specific GC bias models to be used to change expression values after read numbers are assigned. We modeled transcript expression as a function of GC content for 7 biological replicates in a real data set, and shift expression values accordingly. See ?add_gc_bias for details. Ignored in simulate_experiment_countmat.\n",
    "- frag_GC_bias: A sample-specific GC content bias on the fragment level instead of the transcript level. See ?simulate_experiment\n",
    "- strand_specific: Whether the experiment should be strand-specific or not, default is FALSE so an unstranded experiment.\n",
    "- meanmodel: Set to TRUE to estimate reads_per_transcript as a data-driven function of transcript length. Ignored in simulate_experiment_countmat.\n",
    "- lib_sizes: multiplicative library size factor for each replicate in the experiment. Ignored in simulate_experiment_countmat."
   ]
  },
  {
   "cell_type": "markdown",
   "metadata": {},
   "source": [
    "# Using real data to guide simulation\n",
    "We also provide a function simulate_experiment_empirical that takes a real transcript expression matrix (in FPKM or RPKM units) and corresponding annotation to simulate an experiment with abundances and differential expression fold changes similar to those given in the expression matrix. This function is compatible with the Ballgown package, or you can simply provide a transcript-by-replicate expression matrix generated with your favorite abundance estimation software."
   ]
  },
  {
   "cell_type": "code",
   "execution_count": null,
   "metadata": {},
   "outputs": [],
   "source": []
  }
 ],
 "metadata": {
  "kernelspec": {
   "display_name": "R",
   "language": "R",
   "name": "ir"
  },
  "language_info": {
   "codemirror_mode": "r",
   "file_extension": ".r",
   "mimetype": "text/x-r-source",
   "name": "R",
   "pygments_lexer": "r",
   "version": "3.6.1"
  }
 },
 "nbformat": 4,
 "nbformat_minor": 4
}
